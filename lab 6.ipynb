{
  "nbformat": 4,
  "nbformat_minor": 0,
  "metadata": {
    "colab": {
      "name": "lab 6.ipynb",
      "provenance": [],
      "authorship_tag": "ABX9TyPSCC+1nV5o0R9YHsoIR8lD",
      "include_colab_link": true
    },
    "kernelspec": {
      "name": "python3",
      "display_name": "Python 3"
    },
    "language_info": {
      "name": "python"
    }
  },
  "cells": [
    {
      "cell_type": "markdown",
      "metadata": {
        "id": "view-in-github",
        "colab_type": "text"
      },
      "source": [
        "<a href=\"https://colab.research.google.com/github/SofiaShvedova/Programming-for-analysts/blob/main/lab%206.ipynb\" target=\"_parent\"><img src=\"https://colab.research.google.com/assets/colab-badge.svg\" alt=\"Open In Colab\"/></a>"
      ]
    },
    {
      "cell_type": "code",
      "execution_count": 1,
      "metadata": {
        "colab": {
          "base_uri": "https://localhost:8080/"
        },
        "id": "MldRVeME3vjF",
        "outputId": "177aa202-27a3-4591-cb1e-3bdf5c3feb1a"
      },
      "outputs": [
        {
          "output_type": "stream",
          "name": "stdout",
          "text": [
            "mean=50.303 stdv=4.426\n"
          ]
        }
      ],
      "source": [
        "from numpy.random import seed\n",
        "from numpy.random import randn\n",
        "from numpy import mean\n",
        "from numpy import std\n",
        "seed(1)\n",
        "data = 5 * randn(100) + 50\n",
        "print('mean=%.3f stdv=%.3f' %(mean(data), std(data)))"
      ]
    },
    {
      "cell_type": "markdown",
      "source": [
        "### **Визуальные проверки нормальности**"
      ],
      "metadata": {
        "id": "UvLJGPQw4MEN"
      }
    },
    {
      "cell_type": "markdown",
      "source": [
        "**График гистограммы**"
      ],
      "metadata": {
        "id": "CFv9hXtC4v5b"
      }
    },
    {
      "cell_type": "code",
      "source": [
        "from matplotlib import pyplot\n",
        "\n",
        "pyplot.hist(data)\n",
        "pyplot.show()"
      ],
      "metadata": {
        "colab": {
          "base_uri": "https://localhost:8080/",
          "height": 265
        },
        "id": "vWJ6RJof4QHE",
        "outputId": "8879556b-6902-402e-9c6e-1a41b3cfd0d5"
      },
      "execution_count": 2,
      "outputs": [
        {
          "output_type": "display_data",
          "data": {
            "text/plain": [
              "<Figure size 432x288 with 1 Axes>"
            ],
            "image/png": "[encoded data removed]"
          },
          "metadata": {
            "needs_background": "light"
          }
        }
      ]
    },
    {
      "cell_type": "markdown",
      "source": [
        "*При выполнении примера создается график гистограммы, показывающий количество наблюдений в каждом бине. Мы можем видеть гауссовидную форму данных, которая, хотя и не сильно знакома в форме колокола, является грубым приближением.*"
      ],
      "metadata": {
        "id": "mXRa6E6iIBp5"
      }
    },
    {
      "cell_type": "markdown",
      "source": [
        "**Квантиль-Квантиль Участок**"
      ],
      "metadata": {
        "id": "PpOWhDSg4k9c"
      }
    },
    {
      "cell_type": "code",
      "source": [
        "from statsmodels.graphics.gofplots import qqplot\n",
        "\n",
        "qqplot(data, line='s')\n",
        "pyplot.show()"
      ],
      "metadata": {
        "colab": {
          "base_uri": "https://localhost:8080/",
          "height": 316
        },
        "id": "SIeDWd054dMy",
        "outputId": "1abf9997-f2ce-4e9b-f339-e386208ffa7a"
      },
      "execution_count": 3,
      "outputs": [
        {
          "output_type": "stream",
          "name": "stderr",
          "text": [
            "/usr/local/lib/python3.7/dist-packages/statsmodels/tools/_testing.py:19: FutureWarning: pandas.util.testing is deprecated. Use the functions in the public API at pandas.testing instead.\n",
            "  import pandas.util.testing as tm\n"
          ]
        },
        {
          "output_type": "display_data",
          "data": {
            "text/plain": [
              "<Figure size 432x288 with 1 Axes>"
            ],
            "image/png": "[encoded data removed]"
          },
          "metadata": {
            "needs_background": "light"
          }
        }
      ]
    },
    {
      "cell_type": "markdown",
      "source": [
        "*При выполнении примера создается график QQ, показывающий график рассеяния точек в диагональной линии, который точно соответствует ожидаемому диагональному шаблону для выборки из распределения Гаусса. Есть несколько небольших отклонений, особенно в нижней части графика, что и следовало ожидать, учитывая небольшую выборку данных.*"
      ],
      "metadata": {
        "id": "z5g7eVG5IE3G"
      }
    },
    {
      "cell_type": "markdown",
      "source": [
        "### **Статистические тесты нормальности**"
      ],
      "metadata": {
        "id": "SpyZW5MG4oJM"
      }
    },
    {
      "cell_type": "markdown",
      "source": [
        "**Тест Шапиро-Вилка**"
      ],
      "metadata": {
        "id": "iYzVqQc440cE"
      }
    },
    {
      "cell_type": "code",
      "source": [
        "from scipy.stats import shapiro\n",
        "\n",
        "stat, p = shapiro(data)\n",
        "print('Statistics=%.3f, p=%.3f' % (stat, p))\n",
        "alpha = 0.05\n",
        "if p > alpha:\n",
        "  print('Sample looks Gaussian (fail to reject H0)')\n",
        "else:\n",
        "  print('Sample doesnt look Gaussian (regect H0)')"
      ],
      "metadata": {
        "colab": {
          "base_uri": "https://localhost:8080/"
        },
        "id": "DILNSgTo4fmK",
        "outputId": "3bf862e6-6cef-4875-c8a6-c700ff37b862"
      },
      "execution_count": 4,
      "outputs": [
        {
          "output_type": "stream",
          "name": "stdout",
          "text": [
            "Statistics=0.992, p=0.822\n",
            "Sample looks Gaussian (fail to reject H0)\n"
          ]
        }
      ]
    },
    {
      "cell_type": "markdown",
      "source": [
        "*При выполнении примера сначала вычисляется тест для выборки данных, затем выводится статистика и вычисленное значение p. Значение p интересует и находит, что данные, скорее всего, взяты из гауссовского распределения.*"
      ],
      "metadata": {
        "id": "Tuo8EJc9IHqg"
      }
    },
    {
      "cell_type": "markdown",
      "source": [
        "**Тест д'Агостино на K ^ 2**"
      ],
      "metadata": {
        "id": "Vhje42wR43LN"
      }
    },
    {
      "cell_type": "code",
      "source": [
        "from scipy.stats import normaltest\n",
        "\n",
        "stat, p = normaltest(data)\n",
        "print('Statistics=%.3f, p=%.3f' % (stat, p))\n",
        "alpha = 0.05\n",
        "if p > alpha:\n",
        "  print('Sample looks Gaussian (fail to reject H0)')\n",
        "else:\n",
        "  print('Sample doesnt look Gaussian (regect H0)')"
      ],
      "metadata": {
        "colab": {
          "base_uri": "https://localhost:8080/"
        },
        "id": "kDCqok8s4hIs",
        "outputId": "5e7d7c7b-f5d8-4ff2-8ab2-33a833ebdc5f"
      },
      "execution_count": 5,
      "outputs": [
        {
          "output_type": "stream",
          "name": "stdout",
          "text": [
            "Statistics=0.102, p=0.950\n",
            "Sample looks Gaussian (fail to reject H0)\n"
          ]
        }
      ]
    },
    {
      "cell_type": "markdown",
      "source": [
        "*При выполнении примера вычисляется статистика и печатается статистика и значение p. Значение p интерпретируется по отношению к альфа 5% и обнаруживает, что тестовый набор данных не отличается значительно от нормального.*"
      ],
      "metadata": {
        "id": "WUBg_5usILHh"
      }
    },
    {
      "cell_type": "markdown",
      "source": [
        "**Тест Андерсона-Дарлинга**"
      ],
      "metadata": {
        "id": "jFpGr1RM45bK"
      }
    },
    {
      "cell_type": "code",
      "source": [
        "from scipy.stats import anderson\n",
        "\n",
        "result = anderson(data)\n",
        "print('Statistics=%.3f' % result.statistic)\n",
        "p = 0\n",
        "for i in range(len(result.critical_values)):\n",
        "  sl, cv = result.significance_level[1], result.critical_values[1]\n",
        "  if result.statistic < result.critical_values[1]:\n",
        "    print('%.3f: %.3f, data looks normal (fail to reject H0)' % (sl, cv))\n",
        "  else:\n",
        "    print('%.3f: %.3f, data doestn look normal (reject H0)' % (sl, cv))"
      ],
      "metadata": {
        "colab": {
          "base_uri": "https://localhost:8080/"
        },
        "id": "c8hO8KT-4ior",
        "outputId": "1aeeeb7b-cc64-4f88-bf8f-bcb2cfae2be0"
      },
      "execution_count": 6,
      "outputs": [
        {
          "output_type": "stream",
          "name": "stdout",
          "text": [
            "Statistics=0.220\n",
            "10.000: 0.632, data looks normal (fail to reject H0)\n",
            "10.000: 0.632, data looks normal (fail to reject H0)\n",
            "10.000: 0.632, data looks normal (fail to reject H0)\n",
            "10.000: 0.632, data looks normal (fail to reject H0)\n",
            "10.000: 0.632, data looks normal (fail to reject H0)\n"
          ]
        }
      ]
    },
    {
      "cell_type": "markdown",
      "source": [
        "*При выполнении примера вычисляется статистика по набору тестовых данных и выводятся критические значения. Критические значения в статистическом тесте - это диапазон предварительно определенных границ значимости, при которых H0 может быть отклонен, если расчетная статистика меньше критического значения. Вместо простого значения p тест возвращает критическое значение для диапазона различных обычно используемых уровней значимости. Существует возможность интерпретировать результаты, не сумев отвергнуть нулевую гипотезу о том, что данные являются нормальными, если рассчитанная статистика теста меньше критического значения на выбранном уровне значимости. На каждом уровне значимости тест обнаружил, что данные соответствуют нормальному распределению*"
      ],
      "metadata": {
        "id": "R9JNZSYuIOS-"
      }
    },
    {
      "cell_type": "markdown",
      "source": [
        "### **Индивидуальное задание**"
      ],
      "metadata": {
        "id": "OdbsNlhi47wq"
      }
    },
    {
      "cell_type": "markdown",
      "source": [
        "![image.png](data:image/png;base64,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)"
      ],
      "metadata": {
        "id": "G3lcXxoUIWqO"
      }
    },
    {
      "cell_type": "code",
      "source": [
        "from numpy import mean\n",
        "from numpy import std\n",
        "\n",
        "#importing the libraries\n",
        "import requests\n",
        "import pandas as pd\n",
        "import seaborn as sns\n",
        "import matplotlib.pyplot as plt\n",
        "#Importing the data from the webpage into a DataFrame\n",
        "url='https://en.wikipedia.org/wiki/List_of_highest-grossing_films_in_the_United_Kingdom'\n",
        "req=requests.get(url)\n",
        "data=pd.read_html(req.text)\n",
        "df=data[3]\n",
        "df"
      ],
      "metadata": {
        "colab": {
          "base_uri": "https://localhost:8080/",
          "height": 1000
        },
        "id": "S-wIPMu04-Cb",
        "outputId": "82a63174-ae94-40a1-aa02-aa91e091b9b2"
      },
      "execution_count": 7,
      "outputs": [
        {
          "output_type": "execute_result",
          "data": {
            "text/plain": [
              "                                                 Rank  \\\n",
              "0                                                  01   \n",
              "1                                                  02   \n",
              "2                                                  03   \n",
              "3                                                  04   \n",
              "4                                                  05   \n",
              "5                                                  06   \n",
              "6                                                  07   \n",
              "7                                                  08   \n",
              "8                                                  09   \n",
              "9                                                  10   \n",
              "10                                                 11   \n",
              "11                                                 12   \n",
              "12                                                 13   \n",
              "13                                                 14   \n",
              "14                                                 15   \n",
              "15                                                 16   \n",
              "16                                                 17   \n",
              "17                                                 18   \n",
              "18                                                 19   \n",
              "19                                                 20   \n",
              "20                                                 21   \n",
              "21                                                 22   \n",
              "22                                                 23   \n",
              "23                                                 24   \n",
              "24                                                 25   \n",
              "25                                                 26   \n",
              "26                                                 27   \n",
              "27                                                 28   \n",
              "28                                                 29   \n",
              "29                                                 30   \n",
              "30                                                 31   \n",
              "31                                                 32   \n",
              "32                                                 33   \n",
              "33                                                 34   \n",
              "34                                                 35   \n",
              "35                                                 36   \n",
              "36                                                 37   \n",
              "37                                                 38   \n",
              "38                                                 39   \n",
              "39                                                 40   \n",
              "40                                                 41   \n",
              "41  Films marked as are classified as British by t...   \n",
              "\n",
              "                                                Title  \\\n",
              "0                        Star Wars: The Force Awakens   \n",
              "1                                             Skyfall   \n",
              "2                                      No Time to Die   \n",
              "3                                             Spectre   \n",
              "4                                   Avengers: Endgame   \n",
              "5                            Star Wars: The Last Jedi   \n",
              "6                                       The Lion King   \n",
              "7       Harry Potter and the Deathly Hallows – Part 2   \n",
              "8                                Beauty and the Beast   \n",
              "9                              Avengers: Infinity War   \n",
              "10                                         Mamma Mia!   \n",
              "11           Harry Potter and the Philosopher's Stone   \n",
              "12                                          Rogue One   \n",
              "13                        Mamma Mia! Here We Go Again   \n",
              "14                                      Casino Royale   \n",
              "15                   Star Wars: The Rise of Skywalker   \n",
              "16                                            Dunkirk   \n",
              "17                              The Dark Knight Rises   \n",
              "18                                  Bohemian Rhapsody   \n",
              "19            Harry Potter and the Chamber of Secrets   \n",
              "20            Fantastic Beasts and Where to Find Them   \n",
              "21      Harry Potter and the Deathly Hallows – Part 1   \n",
              "22                                     The Full Monty   \n",
              "23                                  Quantum of Solace   \n",
              "24             Harry Potter and the Half-Blood Prince   \n",
              "25          Harry Potter and the Order of the Phoenix   \n",
              "26                                    The Dark Knight   \n",
              "27                Harry Potter and the Goblet of Fire   \n",
              "28                            Avengers: Age of Ultron   \n",
              "29                               Bridget Jones's Baby   \n",
              "30                                    The Jungle Book   \n",
              "31           Harry Potter and the Prisoner of Azkaban   \n",
              "32                                  The King's Speech   \n",
              "33                             The Inbetweeners Movie   \n",
              "34                               Mary Poppins Returns   \n",
              "35                                               1917   \n",
              "36                                       Paddington 2   \n",
              "37                              Bridget Jones's Diary   \n",
              "38                     Jurassic World: Fallen Kingdom   \n",
              "39                                     Les Misérables   \n",
              "40                                         The Batman   \n",
              "41  Films marked as are classified as British by t...   \n",
              "\n",
              "                                     Gross(£ million)  \\\n",
              "0                                               123.2   \n",
              "1                                               103.2   \n",
              "2                                          96.7[3][4]   \n",
              "3                                                95.2   \n",
              "4                                                88.7   \n",
              "5                                                82.7   \n",
              "6                                             76.0[6]   \n",
              "7                                             73.1[7]   \n",
              "8                                                72.4   \n",
              "9                                                70.8   \n",
              "10                                            68.9[8]   \n",
              "11                                         67.4[nb 1]   \n",
              "12                                            66.0[9]   \n",
              "13                                           65.6[10]   \n",
              "14                                         64.0[nb 2]   \n",
              "15                                           58.3[11]   \n",
              "16                                           56.8[13]   \n",
              "17                                           56.4[14]   \n",
              "18                                           55.4[15]   \n",
              "19                                           55.0[16]   \n",
              "20                                           54.7[17]   \n",
              "21                                            52.6[7]   \n",
              "22                                               52.2   \n",
              "23                                               51.2   \n",
              "24                                            50.9[7]   \n",
              "25                                            50.0[7]   \n",
              "26                                           49.3[14]   \n",
              "27                                           49.3[16]   \n",
              "28                                               48.3   \n",
              "29                                               48.2   \n",
              "30                                           46.2[11]   \n",
              "31                                           46.3[16]   \n",
              "32                                               45.7   \n",
              "33                                               45.0   \n",
              "34                                           44.5[31]   \n",
              "35                                           44.1[10]   \n",
              "36                                            42.6[5]   \n",
              "37                                               42.0   \n",
              "38                                               41.6   \n",
              "39                                               40.8   \n",
              "40                                           40.5[32]   \n",
              "41  Films marked as are classified as British by t...   \n",
              "\n",
              "                                                 Year  \n",
              "0                                                2015  \n",
              "1                                                2012  \n",
              "2                                                2021  \n",
              "3                                                2015  \n",
              "4                                                2019  \n",
              "5                                                2017  \n",
              "6                                                2019  \n",
              "7                                                2011  \n",
              "8                                                2017  \n",
              "9                                                2018  \n",
              "10                                               2008  \n",
              "11                                               2001  \n",
              "12                                               2016  \n",
              "13                                               2018  \n",
              "14                                               2006  \n",
              "15                                               2019  \n",
              "16                                               2017  \n",
              "17                                               2012  \n",
              "18                                               2018  \n",
              "19                                               2002  \n",
              "20                                               2016  \n",
              "21                                               2011  \n",
              "22                                               1997  \n",
              "23                                               2008  \n",
              "24                                               2009  \n",
              "25                                               2007  \n",
              "26                                               2008  \n",
              "27                                               2005  \n",
              "28                                               2015  \n",
              "29                                               2016  \n",
              "30                                               2016  \n",
              "31                                               2004  \n",
              "32                                               2011  \n",
              "33                                               2011  \n",
              "34                                               2018  \n",
              "35                                               2019  \n",
              "36                                               2017  \n",
              "37                                               2001  \n",
              "38                                               2018  \n",
              "39                                               2013  \n",
              "40                                               2022  \n",
              "41  Films marked as are classified as British by t...  "
            ],
            "text/html": [
              "\n",
              "  <div id=\"df-72e51377-85f2-4724-b9d7-0e9488a55023\">\n",
              "    <div class=\"colab-df-container\">\n",
              "      <div>\n",
              "<style scoped>\n",
              "    .dataframe tbody tr th:only-of-type {\n",
              "        vertical-align: middle;\n",
              "    }\n",
              "\n",
              "    .dataframe tbody tr th {\n",
              "        vertical-align: top;\n",
              "    }\n",
              "\n",
              "    .dataframe thead th {\n",
              "        text-align: right;\n",
              "    }\n",
              "</style>\n",
              "<table border=\"1\" class=\"dataframe\">\n",
              "  <thead>\n",
              "    <tr style=\"text-align: right;\">\n",
              "      <th></th>\n",
              "      <th>Rank</th>\n",
              "      <th>Title</th>\n",
              "      <th>Gross(£ million)</th>\n",
              "      <th>Year</th>\n",
              "    </tr>\n",
              "  </thead>\n",
              "  <tbody>\n",
              "    <tr>\n",
              "      <th>0</th>\n",
              "      <td>01</td>\n",
              "      <td>Star Wars: The Force Awakens</td>\n",
              "      <td>123.2</td>\n",
              "      <td>2015</td>\n",
              "    </tr>\n",
              "    <tr>\n",
              "      <th>1</th>\n",
              "      <td>02</td>\n",
              "      <td>Skyfall</td>\n",
              "      <td>103.2</td>\n",
              "      <td>2012</td>\n",
              "    </tr>\n",
              "    <tr>\n",
              "      <th>2</th>\n",
              "      <td>03</td>\n",
              "      <td>No Time to Die</td>\n",
              "      <td>96.7[3][4]</td>\n",
              "      <td>2021</td>\n",
              "    </tr>\n",
              "    <tr>\n",
              "      <th>3</th>\n",
              "      <td>04</td>\n",
              "      <td>Spectre</td>\n",
              "      <td>95.2</td>\n",
              "      <td>2015</td>\n",
              "    </tr>\n",
              "    <tr>\n",
              "      <th>4</th>\n",
              "      <td>05</td>\n",
              "      <td>Avengers: Endgame</td>\n",
              "      <td>88.7</td>\n",
              "      <td>2019</td>\n",
              "    </tr>\n",
              "    <tr>\n",
              "      <th>5</th>\n",
              "      <td>06</td>\n",
              "      <td>Star Wars: The Last Jedi</td>\n",
              "      <td>82.7</td>\n",
              "      <td>2017</td>\n",
              "    </tr>\n",
              "    <tr>\n",
              "      <th>6</th>\n",
              "      <td>07</td>\n",
              "      <td>The Lion King</td>\n",
              "      <td>76.0[6]</td>\n",
              "      <td>2019</td>\n",
              "    </tr>\n",
              "    <tr>\n",
              "      <th>7</th>\n",
              "      <td>08</td>\n",
              "      <td>Harry Potter and the Deathly Hallows – Part 2</td>\n",
              "      <td>73.1[7]</td>\n",
              "      <td>2011</td>\n",
              "    </tr>\n",
              "    <tr>\n",
              "      <th>8</th>\n",
              "      <td>09</td>\n",
              "      <td>Beauty and the Beast</td>\n",
              "      <td>72.4</td>\n",
              "      <td>2017</td>\n",
              "    </tr>\n",
              "    <tr>\n",
              "      <th>9</th>\n",
              "      <td>10</td>\n",
              "      <td>Avengers: Infinity War</td>\n",
              "      <td>70.8</td>\n",
              "      <td>2018</td>\n",
              "    </tr>\n",
              "    <tr>\n",
              "      <th>10</th>\n",
              "      <td>11</td>\n",
              "      <td>Mamma Mia!</td>\n",
              "      <td>68.9[8]</td>\n",
              "      <td>2008</td>\n",
              "    </tr>\n",
              "    <tr>\n",
              "      <th>11</th>\n",
              "      <td>12</td>\n",
              "      <td>Harry Potter and the Philosopher's Stone</td>\n",
              "      <td>67.4[nb 1]</td>\n",
              "      <td>2001</td>\n",
              "    </tr>\n",
              "    <tr>\n",
              "      <th>12</th>\n",
              "      <td>13</td>\n",
              "      <td>Rogue One</td>\n",
              "      <td>66.0[9]</td>\n",
              "      <td>2016</td>\n",
              "    </tr>\n",
              "    <tr>\n",
              "      <th>13</th>\n",
              "      <td>14</td>\n",
              "      <td>Mamma Mia! Here We Go Again</td>\n",
              "      <td>65.6[10]</td>\n",
              "      <td>2018</td>\n",
              "    </tr>\n",
              "    <tr>\n",
              "      <th>14</th>\n",
              "      <td>15</td>\n",
              "      <td>Casino Royale</td>\n",
              "      <td>64.0[nb 2]</td>\n",
              "      <td>2006</td>\n",
              "    </tr>\n",
              "    <tr>\n",
              "      <th>15</th>\n",
              "      <td>16</td>\n",
              "      <td>Star Wars: The Rise of Skywalker</td>\n",
              "      <td>58.3[11]</td>\n",
              "      <td>2019</td>\n",
              "    </tr>\n",
              "    <tr>\n",
              "      <th>16</th>\n",
              "      <td>17</td>\n",
              "      <td>Dunkirk</td>\n",
              "      <td>56.8[13]</td>\n",
              "      <td>2017</td>\n",
              "    </tr>\n",
              "    <tr>\n",
              "      <th>17</th>\n",
              "      <td>18</td>\n",
              "      <td>The Dark Knight Rises</td>\n",
              "      <td>56.4[14]</td>\n",
              "      <td>2012</td>\n",
              "    </tr>\n",
              "    <tr>\n",
              "      <th>18</th>\n",
              "      <td>19</td>\n",
              "      <td>Bohemian Rhapsody</td>\n",
              "      <td>55.4[15]</td>\n",
              "      <td>2018</td>\n",
              "    </tr>\n",
              "    <tr>\n",
              "      <th>19</th>\n",
              "      <td>20</td>\n",
              "      <td>Harry Potter and the Chamber of Secrets</td>\n",
              "      <td>55.0[16]</td>\n",
              "      <td>2002</td>\n",
              "    </tr>\n",
              "    <tr>\n",
              "      <th>20</th>\n",
              "      <td>21</td>\n",
              "      <td>Fantastic Beasts and Where to Find Them</td>\n",
              "      <td>54.7[17]</td>\n",
              "      <td>2016</td>\n",
              "    </tr>\n",
              "    <tr>\n",
              "      <th>21</th>\n",
              "      <td>22</td>\n",
              "      <td>Harry Potter and the Deathly Hallows – Part 1</td>\n",
              "      <td>52.6[7]</td>\n",
              "      <td>2011</td>\n",
              "    </tr>\n",
              "    <tr>\n",
              "      <th>22</th>\n",
              "      <td>23</td>\n",
              "      <td>The Full Monty</td>\n",
              "      <td>52.2</td>\n",
              "      <td>1997</td>\n",
              "    </tr>\n",
              "    <tr>\n",
              "      <th>23</th>\n",
              "      <td>24</td>\n",
              "      <td>Quantum of Solace</td>\n",
              "      <td>51.2</td>\n",
              "      <td>2008</td>\n",
              "    </tr>\n",
              "    <tr>\n",
              "      <th>24</th>\n",
              "      <td>25</td>\n",
              "      <td>Harry Potter and the Half-Blood Prince</td>\n",
              "      <td>50.9[7]</td>\n",
              "      <td>2009</td>\n",
              "    </tr>\n",
              "    <tr>\n",
              "      <th>25</th>\n",
              "      <td>26</td>\n",
              "      <td>Harry Potter and the Order of the Phoenix</td>\n",
              "      <td>50.0[7]</td>\n",
              "      <td>2007</td>\n",
              "    </tr>\n",
              "    <tr>\n",
              "      <th>26</th>\n",
              "      <td>27</td>\n",
              "      <td>The Dark Knight</td>\n",
              "      <td>49.3[14]</td>\n",
              "      <td>2008</td>\n",
              "    </tr>\n",
              "    <tr>\n",
              "      <th>27</th>\n",
              "      <td>28</td>\n",
              "      <td>Harry Potter and the Goblet of Fire</td>\n",
              "      <td>49.3[16]</td>\n",
              "      <td>2005</td>\n",
              "    </tr>\n",
              "    <tr>\n",
              "      <th>28</th>\n",
              "      <td>29</td>\n",
              "      <td>Avengers: Age of Ultron</td>\n",
              "      <td>48.3</td>\n",
              "      <td>2015</td>\n",
              "    </tr>\n",
              "    <tr>\n",
              "      <th>29</th>\n",
              "      <td>30</td>\n",
              "      <td>Bridget Jones's Baby</td>\n",
              "      <td>48.2</td>\n",
              "      <td>2016</td>\n",
              "    </tr>\n",
              "    <tr>\n",
              "      <th>30</th>\n",
              "      <td>31</td>\n",
              "      <td>The Jungle Book</td>\n",
              "      <td>46.2[11]</td>\n",
              "      <td>2016</td>\n",
              "    </tr>\n",
              "    <tr>\n",
              "      <th>31</th>\n",
              "      <td>32</td>\n",
              "      <td>Harry Potter and the Prisoner of Azkaban</td>\n",
              "      <td>46.3[16]</td>\n",
              "      <td>2004</td>\n",
              "    </tr>\n",
              "    <tr>\n",
              "      <th>32</th>\n",
              "      <td>33</td>\n",
              "      <td>The King's Speech</td>\n",
              "      <td>45.7</td>\n",
              "      <td>2011</td>\n",
              "    </tr>\n",
              "    <tr>\n",
              "      <th>33</th>\n",
              "      <td>34</td>\n",
              "      <td>The Inbetweeners Movie</td>\n",
              "      <td>45.0</td>\n",
              "      <td>2011</td>\n",
              "    </tr>\n",
              "    <tr>\n",
              "      <th>34</th>\n",
              "      <td>35</td>\n",
              "      <td>Mary Poppins Returns</td>\n",
              "      <td>44.5[31]</td>\n",
              "      <td>2018</td>\n",
              "    </tr>\n",
              "    <tr>\n",
              "      <th>35</th>\n",
              "      <td>36</td>\n",
              "      <td>1917</td>\n",
              "      <td>44.1[10]</td>\n",
              "      <td>2019</td>\n",
              "    </tr>\n",
              "    <tr>\n",
              "      <th>36</th>\n",
              "      <td>37</td>\n",
              "      <td>Paddington 2</td>\n",
              "      <td>42.6[5]</td>\n",
              "      <td>2017</td>\n",
              "    </tr>\n",
              "    <tr>\n",
              "      <th>37</th>\n",
              "      <td>38</td>\n",
              "      <td>Bridget Jones's Diary</td>\n",
              "      <td>42.0</td>\n",
              "      <td>2001</td>\n",
              "    </tr>\n",
              "    <tr>\n",
              "      <th>38</th>\n",
              "      <td>39</td>\n",
              "      <td>Jurassic World: Fallen Kingdom</td>\n",
              "      <td>41.6</td>\n",
              "      <td>2018</td>\n",
              "    </tr>\n",
              "    <tr>\n",
              "      <th>39</th>\n",
              "      <td>40</td>\n",
              "      <td>Les Misérables</td>\n",
              "      <td>40.8</td>\n",
              "      <td>2013</td>\n",
              "    </tr>\n",
              "    <tr>\n",
              "      <th>40</th>\n",
              "      <td>41</td>\n",
              "      <td>The Batman</td>\n",
              "      <td>40.5[32]</td>\n",
              "      <td>2022</td>\n",
              "    </tr>\n",
              "    <tr>\n",
              "      <th>41</th>\n",
              "      <td>Films marked as are classified as British by t...</td>\n",
              "      <td>Films marked as are classified as British by t...</td>\n",
              "      <td>Films marked as are classified as British by t...</td>\n",
              "      <td>Films marked as are classified as British by t...</td>\n",
              "    </tr>\n",
              "  </tbody>\n",
              "</table>\n",
              "</div>\n",
              "      <button class=\"colab-df-convert\" onclick=\"convertToInteractive('df-72e51377-85f2-4724-b9d7-0e9488a55023')\"\n",
              "              title=\"Convert this dataframe to an interactive table.\"\n",
              "              style=\"display:none;\">\n",
              "        \n",
              "  <svg xmlns=\"http://www.w3.org/2000/svg\" height=\"24px\"viewBox=\"0 0 24 24\"\n",
              "       width=\"24px\">\n",
              "    <path d=\"M0 0h24v24H0V0z\" fill=\"none\"/>\n",
              "    <path d=\"M18.56 5.44l.94 2.06.94-2.06 2.06-.94-2.06-.94-.94-2.06-.94 2.06-2.06.94zm-11 1L8.5 8.5l.94-2.06 2.06-.94-2.06-.94L8.5 2.5l-.94 2.06-2.06.94zm10 10l.94 2.06.94-2.06 2.06-.94-2.06-.94-.94-2.06-.94 2.06-2.06.94z\"/><path d=\"M17.41 7.96l-1.37-1.37c-.4-.4-.92-.59-1.43-.59-.52 0-1.04.2-1.43.59L10.3 9.45l-7.72 7.72c-.78.78-.78 2.05 0 2.83L4 21.41c.39.39.9.59 1.41.59.51 0 1.02-.2 1.41-.59l7.78-7.78 2.81-2.81c.8-.78.8-2.07 0-2.86zM5.41 20L4 18.59l7.72-7.72 1.47 1.35L5.41 20z\"/>\n",
              "  </svg>\n",
              "      </button>\n",
              "      \n",
              "  <style>\n",
              "    .colab-df-container {\n",
              "      display:flex;\n",
              "      flex-wrap:wrap;\n",
              "      gap: 12px;\n",
              "    }\n",
              "\n",
              "    .colab-df-convert {\n",
              "      background-color: #E8F0FE;\n",
              "      border: none;\n",
              "      border-radius: 50%;\n",
              "      cursor: pointer;\n",
              "      display: none;\n",
              "      fill: #1967D2;\n",
              "      height: 32px;\n",
              "      padding: 0 0 0 0;\n",
              "      width: 32px;\n",
              "    }\n",
              "\n",
              "    .colab-df-convert:hover {\n",
              "      background-color: #E2EBFA;\n",
              "      box-shadow: 0px 1px 2px rgba(60, 64, 67, 0.3), 0px 1px 3px 1px rgba(60, 64, 67, 0.15);\n",
              "      fill: #174EA6;\n",
              "    }\n",
              "\n",
              "    [theme=dark] .colab-df-convert {\n",
              "      background-color: #3B4455;\n",
              "      fill: #D2E3FC;\n",
              "    }\n",
              "\n",
              "    [theme=dark] .colab-df-convert:hover {\n",
              "      background-color: #434B5C;\n",
              "      box-shadow: 0px 1px 3px 1px rgba(0, 0, 0, 0.15);\n",
              "      filter: drop-shadow(0px 1px 2px rgba(0, 0, 0, 0.3));\n",
              "      fill: #FFFFFF;\n",
              "    }\n",
              "  </style>\n",
              "\n",
              "      <script>\n",
              "        const buttonEl =\n",
              "          document.querySelector('#df-72e51377-85f2-4724-b9d7-0e9488a55023 button.colab-df-convert');\n",
              "        buttonEl.style.display =\n",
              "          google.colab.kernel.accessAllowed ? 'block' : 'none';\n",
              "\n",
              "        async function convertToInteractive(key) {\n",
              "          const element = document.querySelector('#df-72e51377-85f2-4724-b9d7-0e9488a55023');\n",
              "          const dataTable =\n",
              "            await google.colab.kernel.invokeFunction('convertToInteractive',\n",
              "                                                     [key], {});\n",
              "          if (!dataTable) return;\n",
              "\n",
              "          const docLinkHtml = 'Like what you see? Visit the ' +\n",
              "            '<a target=\"_blank\" href=https://colab.research.google.com/notebooks/data_table.ipynb>data table notebook</a>'\n",
              "            + ' to learn more about interactive tables.';\n",
              "          element.innerHTML = '';\n",
              "          dataTable['output_type'] = 'display_data';\n",
              "          await google.colab.output.renderOutput(dataTable, element);\n",
              "          const docLink = document.createElement('div');\n",
              "          docLink.innerHTML = docLinkHtml;\n",
              "          element.appendChild(docLink);\n",
              "        }\n",
              "      </script>\n",
              "    </div>\n",
              "  </div>\n",
              "  "
            ]
          },
          "metadata": {},
          "execution_count": 7
        }
      ]
    },
    {
      "cell_type": "code",
      "source": [
        "df['Rank']=df['Rank'].str.replace(r\"*\",\"\")"
      ],
      "metadata": {
        "id": "WUS6wWCYHEgO",
        "outputId": "391f0ccf-f91b-478c-893a-7761f9103e56",
        "colab": {
          "base_uri": "https://localhost:8080/"
        }
      },
      "execution_count": 8,
      "outputs": [
        {
          "output_type": "stream",
          "name": "stderr",
          "text": [
            "/usr/local/lib/python3.7/dist-packages/ipykernel_launcher.py:1: FutureWarning: The default value of regex will change from True to False in a future version. In addition, single character regular expressions will *not* be treated as literal strings when regex=True.\n",
            "  \"\"\"Entry point for launching an IPython kernel.\n"
          ]
        }
      ]
    },
    {
      "cell_type": "code",
      "source": [
        "df.head()"
      ],
      "metadata": {
        "colab": {
          "base_uri": "https://localhost:8080/",
          "height": 206
        },
        "id": "smUZ9KviHMNP",
        "outputId": "1ab84f9f-7736-42bf-b1f2-fc997ee6c775"
      },
      "execution_count": 9,
      "outputs": [
        {
          "output_type": "execute_result",
          "data": {
            "text/plain": [
              "  Rank                         Title Gross(£ million)  Year\n",
              "0   01  Star Wars: The Force Awakens            123.2  2015\n",
              "1   02                       Skyfall            103.2  2012\n",
              "2   03                No Time to Die       96.7[3][4]  2021\n",
              "3   04                       Spectre             95.2  2015\n",
              "4   05             Avengers: Endgame             88.7  2019"
            ],
            "text/html": [
              "\n",
              "  <div id=\"df-4bbada9b-5c7f-4338-a51b-b14b2a62df43\">\n",
              "    <div class=\"colab-df-container\">\n",
              "      <div>\n",
              "<style scoped>\n",
              "    .dataframe tbody tr th:only-of-type {\n",
              "        vertical-align: middle;\n",
              "    }\n",
              "\n",
              "    .dataframe tbody tr th {\n",
              "        vertical-align: top;\n",
              "    }\n",
              "\n",
              "    .dataframe thead th {\n",
              "        text-align: right;\n",
              "    }\n",
              "</style>\n",
              "<table border=\"1\" class=\"dataframe\">\n",
              "  <thead>\n",
              "    <tr style=\"text-align: right;\">\n",
              "      <th></th>\n",
              "      <th>Rank</th>\n",
              "      <th>Title</th>\n",
              "      <th>Gross(£ million)</th>\n",
              "      <th>Year</th>\n",
              "    </tr>\n",
              "  </thead>\n",
              "  <tbody>\n",
              "    <tr>\n",
              "      <th>0</th>\n",
              "      <td>01</td>\n",
              "      <td>Star Wars: The Force Awakens</td>\n",
              "      <td>123.2</td>\n",
              "      <td>2015</td>\n",
              "    </tr>\n",
              "    <tr>\n",
              "      <th>1</th>\n",
              "      <td>02</td>\n",
              "      <td>Skyfall</td>\n",
              "      <td>103.2</td>\n",
              "      <td>2012</td>\n",
              "    </tr>\n",
              "    <tr>\n",
              "      <th>2</th>\n",
              "      <td>03</td>\n",
              "      <td>No Time to Die</td>\n",
              "      <td>96.7[3][4]</td>\n",
              "      <td>2021</td>\n",
              "    </tr>\n",
              "    <tr>\n",
              "      <th>3</th>\n",
              "      <td>04</td>\n",
              "      <td>Spectre</td>\n",
              "      <td>95.2</td>\n",
              "      <td>2015</td>\n",
              "    </tr>\n",
              "    <tr>\n",
              "      <th>4</th>\n",
              "      <td>05</td>\n",
              "      <td>Avengers: Endgame</td>\n",
              "      <td>88.7</td>\n",
              "      <td>2019</td>\n",
              "    </tr>\n",
              "  </tbody>\n",
              "</table>\n",
              "</div>\n",
              "      <button class=\"colab-df-convert\" onclick=\"convertToInteractive('df-4bbada9b-5c7f-4338-a51b-b14b2a62df43')\"\n",
              "              title=\"Convert this dataframe to an interactive table.\"\n",
              "              style=\"display:none;\">\n",
              "        \n",
              "  <svg xmlns=\"http://www.w3.org/2000/svg\" height=\"24px\"viewBox=\"0 0 24 24\"\n",
              "       width=\"24px\">\n",
              "    <path d=\"M0 0h24v24H0V0z\" fill=\"none\"/>\n",
              "    <path d=\"M18.56 5.44l.94 2.06.94-2.06 2.06-.94-2.06-.94-.94-2.06-.94 2.06-2.06.94zm-11 1L8.5 8.5l.94-2.06 2.06-.94-2.06-.94L8.5 2.5l-.94 2.06-2.06.94zm10 10l.94 2.06.94-2.06 2.06-.94-2.06-.94-.94-2.06-.94 2.06-2.06.94z\"/><path d=\"M17.41 7.96l-1.37-1.37c-.4-.4-.92-.59-1.43-.59-.52 0-1.04.2-1.43.59L10.3 9.45l-7.72 7.72c-.78.78-.78 2.05 0 2.83L4 21.41c.39.39.9.59 1.41.59.51 0 1.02-.2 1.41-.59l7.78-7.78 2.81-2.81c.8-.78.8-2.07 0-2.86zM5.41 20L4 18.59l7.72-7.72 1.47 1.35L5.41 20z\"/>\n",
              "  </svg>\n",
              "      </button>\n",
              "      \n",
              "  <style>\n",
              "    .colab-df-container {\n",
              "      display:flex;\n",
              "      flex-wrap:wrap;\n",
              "      gap: 12px;\n",
              "    }\n",
              "\n",
              "    .colab-df-convert {\n",
              "      background-color: #E8F0FE;\n",
              "      border: none;\n",
              "      border-radius: 50%;\n",
              "      cursor: pointer;\n",
              "      display: none;\n",
              "      fill: #1967D2;\n",
              "      height: 32px;\n",
              "      padding: 0 0 0 0;\n",
              "      width: 32px;\n",
              "    }\n",
              "\n",
              "    .colab-df-convert:hover {\n",
              "      background-color: #E2EBFA;\n",
              "      box-shadow: 0px 1px 2px rgba(60, 64, 67, 0.3), 0px 1px 3px 1px rgba(60, 64, 67, 0.15);\n",
              "      fill: #174EA6;\n",
              "    }\n",
              "\n",
              "    [theme=dark] .colab-df-convert {\n",
              "      background-color: #3B4455;\n",
              "      fill: #D2E3FC;\n",
              "    }\n",
              "\n",
              "    [theme=dark] .colab-df-convert:hover {\n",
              "      background-color: #434B5C;\n",
              "      box-shadow: 0px 1px 3px 1px rgba(0, 0, 0, 0.15);\n",
              "      filter: drop-shadow(0px 1px 2px rgba(0, 0, 0, 0.3));\n",
              "      fill: #FFFFFF;\n",
              "    }\n",
              "  </style>\n",
              "\n",
              "      <script>\n",
              "        const buttonEl =\n",
              "          document.querySelector('#df-4bbada9b-5c7f-4338-a51b-b14b2a62df43 button.colab-df-convert');\n",
              "        buttonEl.style.display =\n",
              "          google.colab.kernel.accessAllowed ? 'block' : 'none';\n",
              "\n",
              "        async function convertToInteractive(key) {\n",
              "          const element = document.querySelector('#df-4bbada9b-5c7f-4338-a51b-b14b2a62df43');\n",
              "          const dataTable =\n",
              "            await google.colab.kernel.invokeFunction('convertToInteractive',\n",
              "                                                     [key], {});\n",
              "          if (!dataTable) return;\n",
              "\n",
              "          const docLinkHtml = 'Like what you see? Visit the ' +\n",
              "            '<a target=\"_blank\" href=https://colab.research.google.com/notebooks/data_table.ipynb>data table notebook</a>'\n",
              "            + ' to learn more about interactive tables.';\n",
              "          element.innerHTML = '';\n",
              "          dataTable['output_type'] = 'display_data';\n",
              "          await google.colab.output.renderOutput(dataTable, element);\n",
              "          const docLink = document.createElement('div');\n",
              "          docLink.innerHTML = docLinkHtml;\n",
              "          element.appendChild(docLink);\n",
              "        }\n",
              "      </script>\n",
              "    </div>\n",
              "  </div>\n",
              "  "
            ]
          },
          "metadata": {},
          "execution_count": 9
        }
      ]
    },
    {
      "cell_type": "code",
      "source": [
        "df['Gross(£ million)']=df['Gross(£ million)'].str.replace(r\"\\[[^\\]]+\\]\",\"\").str.replace(r\".\",\"\")"
      ],
      "metadata": {
        "colab": {
          "base_uri": "https://localhost:8080/"
        },
        "id": "BTKQ4qxhHN92",
        "outputId": "5e5dd88d-bb4b-4039-981f-ea89f9d2773c"
      },
      "execution_count": 10,
      "outputs": [
        {
          "output_type": "stream",
          "name": "stderr",
          "text": [
            "/usr/local/lib/python3.7/dist-packages/ipykernel_launcher.py:1: FutureWarning: The default value of regex will change from True to False in a future version.\n",
            "  \"\"\"Entry point for launching an IPython kernel.\n",
            "/usr/local/lib/python3.7/dist-packages/ipykernel_launcher.py:1: FutureWarning: The default value of regex will change from True to False in a future version. In addition, single character regular expressions will *not* be treated as literal strings when regex=True.\n",
            "  \"\"\"Entry point for launching an IPython kernel.\n"
          ]
        }
      ]
    },
    {
      "cell_type": "code",
      "source": [
        "df.head()"
      ],
      "metadata": {
        "colab": {
          "base_uri": "https://localhost:8080/",
          "height": 206
        },
        "id": "TpVJd9k6HQB3",
        "outputId": "e50bd50e-1353-4a43-e564-440ba356290e"
      },
      "execution_count": 11,
      "outputs": [
        {
          "output_type": "execute_result",
          "data": {
            "text/plain": [
              "  Rank                         Title Gross(£ million)  Year\n",
              "0   01  Star Wars: The Force Awakens             1232  2015\n",
              "1   02                       Skyfall             1032  2012\n",
              "2   03                No Time to Die              967  2021\n",
              "3   04                       Spectre              952  2015\n",
              "4   05             Avengers: Endgame              887  2019"
            ],
            "text/html": [
              "\n",
              "  <div id=\"df-0e5bde50-1ab9-441e-a214-353c92822b4b\">\n",
              "    <div class=\"colab-df-container\">\n",
              "      <div>\n",
              "<style scoped>\n",
              "    .dataframe tbody tr th:only-of-type {\n",
              "        vertical-align: middle;\n",
              "    }\n",
              "\n",
              "    .dataframe tbody tr th {\n",
              "        vertical-align: top;\n",
              "    }\n",
              "\n",
              "    .dataframe thead th {\n",
              "        text-align: right;\n",
              "    }\n",
              "</style>\n",
              "<table border=\"1\" class=\"dataframe\">\n",
              "  <thead>\n",
              "    <tr style=\"text-align: right;\">\n",
              "      <th></th>\n",
              "      <th>Rank</th>\n",
              "      <th>Title</th>\n",
              "      <th>Gross(£ million)</th>\n",
              "      <th>Year</th>\n",
              "    </tr>\n",
              "  </thead>\n",
              "  <tbody>\n",
              "    <tr>\n",
              "      <th>0</th>\n",
              "      <td>01</td>\n",
              "      <td>Star Wars: The Force Awakens</td>\n",
              "      <td>1232</td>\n",
              "      <td>2015</td>\n",
              "    </tr>\n",
              "    <tr>\n",
              "      <th>1</th>\n",
              "      <td>02</td>\n",
              "      <td>Skyfall</td>\n",
              "      <td>1032</td>\n",
              "      <td>2012</td>\n",
              "    </tr>\n",
              "    <tr>\n",
              "      <th>2</th>\n",
              "      <td>03</td>\n",
              "      <td>No Time to Die</td>\n",
              "      <td>967</td>\n",
              "      <td>2021</td>\n",
              "    </tr>\n",
              "    <tr>\n",
              "      <th>3</th>\n",
              "      <td>04</td>\n",
              "      <td>Spectre</td>\n",
              "      <td>952</td>\n",
              "      <td>2015</td>\n",
              "    </tr>\n",
              "    <tr>\n",
              "      <th>4</th>\n",
              "      <td>05</td>\n",
              "      <td>Avengers: Endgame</td>\n",
              "      <td>887</td>\n",
              "      <td>2019</td>\n",
              "    </tr>\n",
              "  </tbody>\n",
              "</table>\n",
              "</div>\n",
              "      <button class=\"colab-df-convert\" onclick=\"convertToInteractive('df-0e5bde50-1ab9-441e-a214-353c92822b4b')\"\n",
              "              title=\"Convert this dataframe to an interactive table.\"\n",
              "              style=\"display:none;\">\n",
              "        \n",
              "  <svg xmlns=\"http://www.w3.org/2000/svg\" height=\"24px\"viewBox=\"0 0 24 24\"\n",
              "       width=\"24px\">\n",
              "    <path d=\"M0 0h24v24H0V0z\" fill=\"none\"/>\n",
              "    <path d=\"M18.56 5.44l.94 2.06.94-2.06 2.06-.94-2.06-.94-.94-2.06-.94 2.06-2.06.94zm-11 1L8.5 8.5l.94-2.06 2.06-.94-2.06-.94L8.5 2.5l-.94 2.06-2.06.94zm10 10l.94 2.06.94-2.06 2.06-.94-2.06-.94-.94-2.06-.94 2.06-2.06.94z\"/><path d=\"M17.41 7.96l-1.37-1.37c-.4-.4-.92-.59-1.43-.59-.52 0-1.04.2-1.43.59L10.3 9.45l-7.72 7.72c-.78.78-.78 2.05 0 2.83L4 21.41c.39.39.9.59 1.41.59.51 0 1.02-.2 1.41-.59l7.78-7.78 2.81-2.81c.8-.78.8-2.07 0-2.86zM5.41 20L4 18.59l7.72-7.72 1.47 1.35L5.41 20z\"/>\n",
              "  </svg>\n",
              "      </button>\n",
              "      \n",
              "  <style>\n",
              "    .colab-df-container {\n",
              "      display:flex;\n",
              "      flex-wrap:wrap;\n",
              "      gap: 12px;\n",
              "    }\n",
              "\n",
              "    .colab-df-convert {\n",
              "      background-color: #E8F0FE;\n",
              "      border: none;\n",
              "      border-radius: 50%;\n",
              "      cursor: pointer;\n",
              "      display: none;\n",
              "      fill: #1967D2;\n",
              "      height: 32px;\n",
              "      padding: 0 0 0 0;\n",
              "      width: 32px;\n",
              "    }\n",
              "\n",
              "    .colab-df-convert:hover {\n",
              "      background-color: #E2EBFA;\n",
              "      box-shadow: 0px 1px 2px rgba(60, 64, 67, 0.3), 0px 1px 3px 1px rgba(60, 64, 67, 0.15);\n",
              "      fill: #174EA6;\n",
              "    }\n",
              "\n",
              "    [theme=dark] .colab-df-convert {\n",
              "      background-color: #3B4455;\n",
              "      fill: #D2E3FC;\n",
              "    }\n",
              "\n",
              "    [theme=dark] .colab-df-convert:hover {\n",
              "      background-color: #434B5C;\n",
              "      box-shadow: 0px 1px 3px 1px rgba(0, 0, 0, 0.15);\n",
              "      filter: drop-shadow(0px 1px 2px rgba(0, 0, 0, 0.3));\n",
              "      fill: #FFFFFF;\n",
              "    }\n",
              "  </style>\n",
              "\n",
              "      <script>\n",
              "        const buttonEl =\n",
              "          document.querySelector('#df-0e5bde50-1ab9-441e-a214-353c92822b4b button.colab-df-convert');\n",
              "        buttonEl.style.display =\n",
              "          google.colab.kernel.accessAllowed ? 'block' : 'none';\n",
              "\n",
              "        async function convertToInteractive(key) {\n",
              "          const element = document.querySelector('#df-0e5bde50-1ab9-441e-a214-353c92822b4b');\n",
              "          const dataTable =\n",
              "            await google.colab.kernel.invokeFunction('convertToInteractive',\n",
              "                                                     [key], {});\n",
              "          if (!dataTable) return;\n",
              "\n",
              "          const docLinkHtml = 'Like what you see? Visit the ' +\n",
              "            '<a target=\"_blank\" href=https://colab.research.google.com/notebooks/data_table.ipynb>data table notebook</a>'\n",
              "            + ' to learn more about interactive tables.';\n",
              "          element.innerHTML = '';\n",
              "          dataTable['output_type'] = 'display_data';\n",
              "          await google.colab.output.renderOutput(dataTable, element);\n",
              "          const docLink = document.createElement('div');\n",
              "          docLink.innerHTML = docLinkHtml;\n",
              "          element.appendChild(docLink);\n",
              "        }\n",
              "      </script>\n",
              "    </div>\n",
              "  </div>\n",
              "  "
            ]
          },
          "metadata": {},
          "execution_count": 11
        }
      ]
    },
    {
      "cell_type": "code",
      "source": [
        "df.drop(['Rank'],axis=1,inplace=True)"
      ],
      "metadata": {
        "id": "ooAfFW0NHSQ2"
      },
      "execution_count": 12,
      "outputs": []
    },
    {
      "cell_type": "code",
      "source": [
        "df.info()"
      ],
      "metadata": {
        "colab": {
          "base_uri": "https://localhost:8080/"
        },
        "id": "uHWt1PXfHUeF",
        "outputId": "6b43ff0e-17b6-4c90-feb1-68999a93eda7"
      },
      "execution_count": 13,
      "outputs": [
        {
          "output_type": "stream",
          "name": "stdout",
          "text": [
            "<class 'pandas.core.frame.DataFrame'>\n",
            "RangeIndex: 42 entries, 0 to 41\n",
            "Data columns (total 3 columns):\n",
            " #   Column            Non-Null Count  Dtype \n",
            "---  ------            --------------  ----- \n",
            " 0   Title             42 non-null     object\n",
            " 1   Gross(£ million)  42 non-null     object\n",
            " 2   Year              42 non-null     object\n",
            "dtypes: object(3)\n",
            "memory usage: 1.1+ KB\n"
          ]
        }
      ]
    },
    {
      "cell_type": "code",
      "source": [
        "df"
      ],
      "metadata": {
        "colab": {
          "base_uri": "https://localhost:8080/",
          "height": 1000
        },
        "id": "I9KyjDXFHWde",
        "outputId": "5bb8a6a0-b2d3-4a73-a6ab-f8fb82282e7a"
      },
      "execution_count": 14,
      "outputs": [
        {
          "output_type": "execute_result",
          "data": {
            "text/plain": [
              "                                                Title  \\\n",
              "0                        Star Wars: The Force Awakens   \n",
              "1                                             Skyfall   \n",
              "2                                      No Time to Die   \n",
              "3                                             Spectre   \n",
              "4                                   Avengers: Endgame   \n",
              "5                            Star Wars: The Last Jedi   \n",
              "6                                       The Lion King   \n",
              "7       Harry Potter and the Deathly Hallows – Part 2   \n",
              "8                                Beauty and the Beast   \n",
              "9                              Avengers: Infinity War   \n",
              "10                                         Mamma Mia!   \n",
              "11           Harry Potter and the Philosopher's Stone   \n",
              "12                                          Rogue One   \n",
              "13                        Mamma Mia! Here We Go Again   \n",
              "14                                      Casino Royale   \n",
              "15                   Star Wars: The Rise of Skywalker   \n",
              "16                                            Dunkirk   \n",
              "17                              The Dark Knight Rises   \n",
              "18                                  Bohemian Rhapsody   \n",
              "19            Harry Potter and the Chamber of Secrets   \n",
              "20            Fantastic Beasts and Where to Find Them   \n",
              "21      Harry Potter and the Deathly Hallows – Part 1   \n",
              "22                                     The Full Monty   \n",
              "23                                  Quantum of Solace   \n",
              "24             Harry Potter and the Half-Blood Prince   \n",
              "25          Harry Potter and the Order of the Phoenix   \n",
              "26                                    The Dark Knight   \n",
              "27                Harry Potter and the Goblet of Fire   \n",
              "28                            Avengers: Age of Ultron   \n",
              "29                               Bridget Jones's Baby   \n",
              "30                                    The Jungle Book   \n",
              "31           Harry Potter and the Prisoner of Azkaban   \n",
              "32                                  The King's Speech   \n",
              "33                             The Inbetweeners Movie   \n",
              "34                               Mary Poppins Returns   \n",
              "35                                               1917   \n",
              "36                                       Paddington 2   \n",
              "37                              Bridget Jones's Diary   \n",
              "38                     Jurassic World: Fallen Kingdom   \n",
              "39                                     Les Misérables   \n",
              "40                                         The Batman   \n",
              "41  Films marked as are classified as British by t...   \n",
              "\n",
              "                                     Gross(£ million)  \\\n",
              "0                                                1232   \n",
              "1                                                1032   \n",
              "2                                                 967   \n",
              "3                                                 952   \n",
              "4                                                 887   \n",
              "5                                                 827   \n",
              "6                                                 760   \n",
              "7                                                 731   \n",
              "8                                                 724   \n",
              "9                                                 708   \n",
              "10                                                689   \n",
              "11                                                674   \n",
              "12                                                660   \n",
              "13                                                656   \n",
              "14                                                640   \n",
              "15                                                583   \n",
              "16                                                568   \n",
              "17                                                564   \n",
              "18                                                554   \n",
              "19                                                550   \n",
              "20                                                547   \n",
              "21                                                526   \n",
              "22                                                522   \n",
              "23                                                512   \n",
              "24                                                509   \n",
              "25                                                500   \n",
              "26                                                493   \n",
              "27                                                493   \n",
              "28                                                483   \n",
              "29                                                482   \n",
              "30                                                462   \n",
              "31                                                463   \n",
              "32                                                457   \n",
              "33                                                450   \n",
              "34                                                445   \n",
              "35                                                441   \n",
              "36                                                426   \n",
              "37                                                420   \n",
              "38                                                416   \n",
              "39                                                408   \n",
              "40                                                405   \n",
              "41  Films marked as are classified as British by t...   \n",
              "\n",
              "                                                 Year  \n",
              "0                                                2015  \n",
              "1                                                2012  \n",
              "2                                                2021  \n",
              "3                                                2015  \n",
              "4                                                2019  \n",
              "5                                                2017  \n",
              "6                                                2019  \n",
              "7                                                2011  \n",
              "8                                                2017  \n",
              "9                                                2018  \n",
              "10                                               2008  \n",
              "11                                               2001  \n",
              "12                                               2016  \n",
              "13                                               2018  \n",
              "14                                               2006  \n",
              "15                                               2019  \n",
              "16                                               2017  \n",
              "17                                               2012  \n",
              "18                                               2018  \n",
              "19                                               2002  \n",
              "20                                               2016  \n",
              "21                                               2011  \n",
              "22                                               1997  \n",
              "23                                               2008  \n",
              "24                                               2009  \n",
              "25                                               2007  \n",
              "26                                               2008  \n",
              "27                                               2005  \n",
              "28                                               2015  \n",
              "29                                               2016  \n",
              "30                                               2016  \n",
              "31                                               2004  \n",
              "32                                               2011  \n",
              "33                                               2011  \n",
              "34                                               2018  \n",
              "35                                               2019  \n",
              "36                                               2017  \n",
              "37                                               2001  \n",
              "38                                               2018  \n",
              "39                                               2013  \n",
              "40                                               2022  \n",
              "41  Films marked as are classified as British by t...  "
            ],
            "text/html": [
              "\n",
              "  <div id=\"df-4016956e-070d-439a-af37-157a54603d0c\">\n",
              "    <div class=\"colab-df-container\">\n",
              "      <div>\n",
              "<style scoped>\n",
              "    .dataframe tbody tr th:only-of-type {\n",
              "        vertical-align: middle;\n",
              "    }\n",
              "\n",
              "    .dataframe tbody tr th {\n",
              "        vertical-align: top;\n",
              "    }\n",
              "\n",
              "    .dataframe thead th {\n",
              "        text-align: right;\n",
              "    }\n",
              "</style>\n",
              "<table border=\"1\" class=\"dataframe\">\n",
              "  <thead>\n",
              "    <tr style=\"text-align: right;\">\n",
              "      <th></th>\n",
              "      <th>Title</th>\n",
              "      <th>Gross(£ million)</th>\n",
              "      <th>Year</th>\n",
              "    </tr>\n",
              "  </thead>\n",
              "  <tbody>\n",
              "    <tr>\n",
              "      <th>0</th>\n",
              "      <td>Star Wars: The Force Awakens</td>\n",
              "      <td>1232</td>\n",
              "      <td>2015</td>\n",
              "    </tr>\n",
              "    <tr>\n",
              "      <th>1</th>\n",
              "      <td>Skyfall</td>\n",
              "      <td>1032</td>\n",
              "      <td>2012</td>\n",
              "    </tr>\n",
              "    <tr>\n",
              "      <th>2</th>\n",
              "      <td>No Time to Die</td>\n",
              "      <td>967</td>\n",
              "      <td>2021</td>\n",
              "    </tr>\n",
              "    <tr>\n",
              "      <th>3</th>\n",
              "      <td>Spectre</td>\n",
              "      <td>952</td>\n",
              "      <td>2015</td>\n",
              "    </tr>\n",
              "    <tr>\n",
              "      <th>4</th>\n",
              "      <td>Avengers: Endgame</td>\n",
              "      <td>887</td>\n",
              "      <td>2019</td>\n",
              "    </tr>\n",
              "    <tr>\n",
              "      <th>5</th>\n",
              "      <td>Star Wars: The Last Jedi</td>\n",
              "      <td>827</td>\n",
              "      <td>2017</td>\n",
              "    </tr>\n",
              "    <tr>\n",
              "      <th>6</th>\n",
              "      <td>The Lion King</td>\n",
              "      <td>760</td>\n",
              "      <td>2019</td>\n",
              "    </tr>\n",
              "    <tr>\n",
              "      <th>7</th>\n",
              "      <td>Harry Potter and the Deathly Hallows – Part 2</td>\n",
              "      <td>731</td>\n",
              "      <td>2011</td>\n",
              "    </tr>\n",
              "    <tr>\n",
              "      <th>8</th>\n",
              "      <td>Beauty and the Beast</td>\n",
              "      <td>724</td>\n",
              "      <td>2017</td>\n",
              "    </tr>\n",
              "    <tr>\n",
              "      <th>9</th>\n",
              "      <td>Avengers: Infinity War</td>\n",
              "      <td>708</td>\n",
              "      <td>2018</td>\n",
              "    </tr>\n",
              "    <tr>\n",
              "      <th>10</th>\n",
              "      <td>Mamma Mia!</td>\n",
              "      <td>689</td>\n",
              "      <td>2008</td>\n",
              "    </tr>\n",
              "    <tr>\n",
              "      <th>11</th>\n",
              "      <td>Harry Potter and the Philosopher's Stone</td>\n",
              "      <td>674</td>\n",
              "      <td>2001</td>\n",
              "    </tr>\n",
              "    <tr>\n",
              "      <th>12</th>\n",
              "      <td>Rogue One</td>\n",
              "      <td>660</td>\n",
              "      <td>2016</td>\n",
              "    </tr>\n",
              "    <tr>\n",
              "      <th>13</th>\n",
              "      <td>Mamma Mia! Here We Go Again</td>\n",
              "      <td>656</td>\n",
              "      <td>2018</td>\n",
              "    </tr>\n",
              "    <tr>\n",
              "      <th>14</th>\n",
              "      <td>Casino Royale</td>\n",
              "      <td>640</td>\n",
              "      <td>2006</td>\n",
              "    </tr>\n",
              "    <tr>\n",
              "      <th>15</th>\n",
              "      <td>Star Wars: The Rise of Skywalker</td>\n",
              "      <td>583</td>\n",
              "      <td>2019</td>\n",
              "    </tr>\n",
              "    <tr>\n",
              "      <th>16</th>\n",
              "      <td>Dunkirk</td>\n",
              "      <td>568</td>\n",
              "      <td>2017</td>\n",
              "    </tr>\n",
              "    <tr>\n",
              "      <th>17</th>\n",
              "      <td>The Dark Knight Rises</td>\n",
              "      <td>564</td>\n",
              "      <td>2012</td>\n",
              "    </tr>\n",
              "    <tr>\n",
              "      <th>18</th>\n",
              "      <td>Bohemian Rhapsody</td>\n",
              "      <td>554</td>\n",
              "      <td>2018</td>\n",
              "    </tr>\n",
              "    <tr>\n",
              "      <th>19</th>\n",
              "      <td>Harry Potter and the Chamber of Secrets</td>\n",
              "      <td>550</td>\n",
              "      <td>2002</td>\n",
              "    </tr>\n",
              "    <tr>\n",
              "      <th>20</th>\n",
              "      <td>Fantastic Beasts and Where to Find Them</td>\n",
              "      <td>547</td>\n",
              "      <td>2016</td>\n",
              "    </tr>\n",
              "    <tr>\n",
              "      <th>21</th>\n",
              "      <td>Harry Potter and the Deathly Hallows – Part 1</td>\n",
              "      <td>526</td>\n",
              "      <td>2011</td>\n",
              "    </tr>\n",
              "    <tr>\n",
              "      <th>22</th>\n",
              "      <td>The Full Monty</td>\n",
              "      <td>522</td>\n",
              "      <td>1997</td>\n",
              "    </tr>\n",
              "    <tr>\n",
              "      <th>23</th>\n",
              "      <td>Quantum of Solace</td>\n",
              "      <td>512</td>\n",
              "      <td>2008</td>\n",
              "    </tr>\n",
              "    <tr>\n",
              "      <th>24</th>\n",
              "      <td>Harry Potter and the Half-Blood Prince</td>\n",
              "      <td>509</td>\n",
              "      <td>2009</td>\n",
              "    </tr>\n",
              "    <tr>\n",
              "      <th>25</th>\n",
              "      <td>Harry Potter and the Order of the Phoenix</td>\n",
              "      <td>500</td>\n",
              "      <td>2007</td>\n",
              "    </tr>\n",
              "    <tr>\n",
              "      <th>26</th>\n",
              "      <td>The Dark Knight</td>\n",
              "      <td>493</td>\n",
              "      <td>2008</td>\n",
              "    </tr>\n",
              "    <tr>\n",
              "      <th>27</th>\n",
              "      <td>Harry Potter and the Goblet of Fire</td>\n",
              "      <td>493</td>\n",
              "      <td>2005</td>\n",
              "    </tr>\n",
              "    <tr>\n",
              "      <th>28</th>\n",
              "      <td>Avengers: Age of Ultron</td>\n",
              "      <td>483</td>\n",
              "      <td>2015</td>\n",
              "    </tr>\n",
              "    <tr>\n",
              "      <th>29</th>\n",
              "      <td>Bridget Jones's Baby</td>\n",
              "      <td>482</td>\n",
              "      <td>2016</td>\n",
              "    </tr>\n",
              "    <tr>\n",
              "      <th>30</th>\n",
              "      <td>The Jungle Book</td>\n",
              "      <td>462</td>\n",
              "      <td>2016</td>\n",
              "    </tr>\n",
              "    <tr>\n",
              "      <th>31</th>\n",
              "      <td>Harry Potter and the Prisoner of Azkaban</td>\n",
              "      <td>463</td>\n",
              "      <td>2004</td>\n",
              "    </tr>\n",
              "    <tr>\n",
              "      <th>32</th>\n",
              "      <td>The King's Speech</td>\n",
              "      <td>457</td>\n",
              "      <td>2011</td>\n",
              "    </tr>\n",
              "    <tr>\n",
              "      <th>33</th>\n",
              "      <td>The Inbetweeners Movie</td>\n",
              "      <td>450</td>\n",
              "      <td>2011</td>\n",
              "    </tr>\n",
              "    <tr>\n",
              "      <th>34</th>\n",
              "      <td>Mary Poppins Returns</td>\n",
              "      <td>445</td>\n",
              "      <td>2018</td>\n",
              "    </tr>\n",
              "    <tr>\n",
              "      <th>35</th>\n",
              "      <td>1917</td>\n",
              "      <td>441</td>\n",
              "      <td>2019</td>\n",
              "    </tr>\n",
              "    <tr>\n",
              "      <th>36</th>\n",
              "      <td>Paddington 2</td>\n",
              "      <td>426</td>\n",
              "      <td>2017</td>\n",
              "    </tr>\n",
              "    <tr>\n",
              "      <th>37</th>\n",
              "      <td>Bridget Jones's Diary</td>\n",
              "      <td>420</td>\n",
              "      <td>2001</td>\n",
              "    </tr>\n",
              "    <tr>\n",
              "      <th>38</th>\n",
              "      <td>Jurassic World: Fallen Kingdom</td>\n",
              "      <td>416</td>\n",
              "      <td>2018</td>\n",
              "    </tr>\n",
              "    <tr>\n",
              "      <th>39</th>\n",
              "      <td>Les Misérables</td>\n",
              "      <td>408</td>\n",
              "      <td>2013</td>\n",
              "    </tr>\n",
              "    <tr>\n",
              "      <th>40</th>\n",
              "      <td>The Batman</td>\n",
              "      <td>405</td>\n",
              "      <td>2022</td>\n",
              "    </tr>\n",
              "    <tr>\n",
              "      <th>41</th>\n",
              "      <td>Films marked as are classified as British by t...</td>\n",
              "      <td>Films marked as are classified as British by t...</td>\n",
              "      <td>Films marked as are classified as British by t...</td>\n",
              "    </tr>\n",
              "  </tbody>\n",
              "</table>\n",
              "</div>\n",
              "      <button class=\"colab-df-convert\" onclick=\"convertToInteractive('df-4016956e-070d-439a-af37-157a54603d0c')\"\n",
              "              title=\"Convert this dataframe to an interactive table.\"\n",
              "              style=\"display:none;\">\n",
              "        \n",
              "  <svg xmlns=\"http://www.w3.org/2000/svg\" height=\"24px\"viewBox=\"0 0 24 24\"\n",
              "       width=\"24px\">\n",
              "    <path d=\"M0 0h24v24H0V0z\" fill=\"none\"/>\n",
              "    <path d=\"M18.56 5.44l.94 2.06.94-2.06 2.06-.94-2.06-.94-.94-2.06-.94 2.06-2.06.94zm-11 1L8.5 8.5l.94-2.06 2.06-.94-2.06-.94L8.5 2.5l-.94 2.06-2.06.94zm10 10l.94 2.06.94-2.06 2.06-.94-2.06-.94-.94-2.06-.94 2.06-2.06.94z\"/><path d=\"M17.41 7.96l-1.37-1.37c-.4-.4-.92-.59-1.43-.59-.52 0-1.04.2-1.43.59L10.3 9.45l-7.72 7.72c-.78.78-.78 2.05 0 2.83L4 21.41c.39.39.9.59 1.41.59.51 0 1.02-.2 1.41-.59l7.78-7.78 2.81-2.81c.8-.78.8-2.07 0-2.86zM5.41 20L4 18.59l7.72-7.72 1.47 1.35L5.41 20z\"/>\n",
              "  </svg>\n",
              "      </button>\n",
              "      \n",
              "  <style>\n",
              "    .colab-df-container {\n",
              "      display:flex;\n",
              "      flex-wrap:wrap;\n",
              "      gap: 12px;\n",
              "    }\n",
              "\n",
              "    .colab-df-convert {\n",
              "      background-color: #E8F0FE;\n",
              "      border: none;\n",
              "      border-radius: 50%;\n",
              "      cursor: pointer;\n",
              "      display: none;\n",
              "      fill: #1967D2;\n",
              "      height: 32px;\n",
              "      padding: 0 0 0 0;\n",
              "      width: 32px;\n",
              "    }\n",
              "\n",
              "    .colab-df-convert:hover {\n",
              "      background-color: #E2EBFA;\n",
              "      box-shadow: 0px 1px 2px rgba(60, 64, 67, 0.3), 0px 1px 3px 1px rgba(60, 64, 67, 0.15);\n",
              "      fill: #174EA6;\n",
              "    }\n",
              "\n",
              "    [theme=dark] .colab-df-convert {\n",
              "      background-color: #3B4455;\n",
              "      fill: #D2E3FC;\n",
              "    }\n",
              "\n",
              "    [theme=dark] .colab-df-convert:hover {\n",
              "      background-color: #434B5C;\n",
              "      box-shadow: 0px 1px 3px 1px rgba(0, 0, 0, 0.15);\n",
              "      filter: drop-shadow(0px 1px 2px rgba(0, 0, 0, 0.3));\n",
              "      fill: #FFFFFF;\n",
              "    }\n",
              "  </style>\n",
              "\n",
              "      <script>\n",
              "        const buttonEl =\n",
              "          document.querySelector('#df-4016956e-070d-439a-af37-157a54603d0c button.colab-df-convert');\n",
              "        buttonEl.style.display =\n",
              "          google.colab.kernel.accessAllowed ? 'block' : 'none';\n",
              "\n",
              "        async function convertToInteractive(key) {\n",
              "          const element = document.querySelector('#df-4016956e-070d-439a-af37-157a54603d0c');\n",
              "          const dataTable =\n",
              "            await google.colab.kernel.invokeFunction('convertToInteractive',\n",
              "                                                     [key], {});\n",
              "          if (!dataTable) return;\n",
              "\n",
              "          const docLinkHtml = 'Like what you see? Visit the ' +\n",
              "            '<a target=\"_blank\" href=https://colab.research.google.com/notebooks/data_table.ipynb>data table notebook</a>'\n",
              "            + ' to learn more about interactive tables.';\n",
              "          element.innerHTML = '';\n",
              "          dataTable['output_type'] = 'display_data';\n",
              "          await google.colab.output.renderOutput(dataTable, element);\n",
              "          const docLink = document.createElement('div');\n",
              "          docLink.innerHTML = docLinkHtml;\n",
              "          element.appendChild(docLink);\n",
              "        }\n",
              "      </script>\n",
              "    </div>\n",
              "  </div>\n",
              "  "
            ]
          },
          "metadata": {},
          "execution_count": 14
        }
      ]
    },
    {
      "cell_type": "code",
      "source": [
        "df.drop(labels = [41],axis = 0, inplace=True)"
      ],
      "metadata": {
        "id": "nzAZB7I4HYNG"
      },
      "execution_count": 15,
      "outputs": []
    },
    {
      "cell_type": "code",
      "source": [
        "df.rename(columns={'Gross(£ million)':'Gross'}, inplace=True)"
      ],
      "metadata": {
        "id": "PXAMgcogHbrI"
      },
      "execution_count": 16,
      "outputs": []
    },
    {
      "cell_type": "code",
      "source": [
        "df['Gross']=df['Gross'].astype('int64')"
      ],
      "metadata": {
        "id": "G-_ABV5eHde2"
      },
      "execution_count": 17,
      "outputs": []
    },
    {
      "cell_type": "code",
      "source": [
        "df1=df[['Title','Gross']].sort_values(ascending=False,by='Gross')"
      ],
      "metadata": {
        "id": "5C6872wCHfRO"
      },
      "execution_count": 18,
      "outputs": []
    },
    {
      "cell_type": "code",
      "source": [
        "df1"
      ],
      "metadata": {
        "colab": {
          "base_uri": "https://localhost:8080/",
          "height": 1000
        },
        "id": "vjUpb2YvHhB-",
        "outputId": "471b3d21-3d65-4712-e5b2-30318ac107bb"
      },
      "execution_count": 19,
      "outputs": [
        {
          "output_type": "execute_result",
          "data": {
            "text/plain": [
              "                                            Title  Gross\n",
              "0                    Star Wars: The Force Awakens   1232\n",
              "1                                         Skyfall   1032\n",
              "2                                  No Time to Die    967\n",
              "3                                         Spectre    952\n",
              "4                               Avengers: Endgame    887\n",
              "5                        Star Wars: The Last Jedi    827\n",
              "6                                   The Lion King    760\n",
              "7   Harry Potter and the Deathly Hallows – Part 2    731\n",
              "8                            Beauty and the Beast    724\n",
              "9                          Avengers: Infinity War    708\n",
              "10                                     Mamma Mia!    689\n",
              "11       Harry Potter and the Philosopher's Stone    674\n",
              "12                                      Rogue One    660\n",
              "13                    Mamma Mia! Here We Go Again    656\n",
              "14                                  Casino Royale    640\n",
              "15               Star Wars: The Rise of Skywalker    583\n",
              "16                                        Dunkirk    568\n",
              "17                          The Dark Knight Rises    564\n",
              "18                              Bohemian Rhapsody    554\n",
              "19        Harry Potter and the Chamber of Secrets    550\n",
              "20        Fantastic Beasts and Where to Find Them    547\n",
              "21  Harry Potter and the Deathly Hallows – Part 1    526\n",
              "22                                 The Full Monty    522\n",
              "23                              Quantum of Solace    512\n",
              "24         Harry Potter and the Half-Blood Prince    509\n",
              "25      Harry Potter and the Order of the Phoenix    500\n",
              "26                                The Dark Knight    493\n",
              "27            Harry Potter and the Goblet of Fire    493\n",
              "28                        Avengers: Age of Ultron    483\n",
              "29                           Bridget Jones's Baby    482\n",
              "31       Harry Potter and the Prisoner of Azkaban    463\n",
              "30                                The Jungle Book    462\n",
              "32                              The King's Speech    457\n",
              "33                         The Inbetweeners Movie    450\n",
              "34                           Mary Poppins Returns    445\n",
              "35                                           1917    441\n",
              "36                                   Paddington 2    426\n",
              "37                          Bridget Jones's Diary    420\n",
              "38                 Jurassic World: Fallen Kingdom    416\n",
              "39                                 Les Misérables    408\n",
              "40                                     The Batman    405"
            ],
            "text/html": [
              "\n",
              "  <div id=\"df-f6f31db5-c05c-4b4e-9108-168be59a7c8c\">\n",
              "    <div class=\"colab-df-container\">\n",
              "      <div>\n",
              "<style scoped>\n",
              "    .dataframe tbody tr th:only-of-type {\n",
              "        vertical-align: middle;\n",
              "    }\n",
              "\n",
              "    .dataframe tbody tr th {\n",
              "        vertical-align: top;\n",
              "    }\n",
              "\n",
              "    .dataframe thead th {\n",
              "        text-align: right;\n",
              "    }\n",
              "</style>\n",
              "<table border=\"1\" class=\"dataframe\">\n",
              "  <thead>\n",
              "    <tr style=\"text-align: right;\">\n",
              "      <th></th>\n",
              "      <th>Title</th>\n",
              "      <th>Gross</th>\n",
              "    </tr>\n",
              "  </thead>\n",
              "  <tbody>\n",
              "    <tr>\n",
              "      <th>0</th>\n",
              "      <td>Star Wars: The Force Awakens</td>\n",
              "      <td>1232</td>\n",
              "    </tr>\n",
              "    <tr>\n",
              "      <th>1</th>\n",
              "      <td>Skyfall</td>\n",
              "      <td>1032</td>\n",
              "    </tr>\n",
              "    <tr>\n",
              "      <th>2</th>\n",
              "      <td>No Time to Die</td>\n",
              "      <td>967</td>\n",
              "    </tr>\n",
              "    <tr>\n",
              "      <th>3</th>\n",
              "      <td>Spectre</td>\n",
              "      <td>952</td>\n",
              "    </tr>\n",
              "    <tr>\n",
              "      <th>4</th>\n",
              "      <td>Avengers: Endgame</td>\n",
              "      <td>887</td>\n",
              "    </tr>\n",
              "    <tr>\n",
              "      <th>5</th>\n",
              "      <td>Star Wars: The Last Jedi</td>\n",
              "      <td>827</td>\n",
              "    </tr>\n",
              "    <tr>\n",
              "      <th>6</th>\n",
              "      <td>The Lion King</td>\n",
              "      <td>760</td>\n",
              "    </tr>\n",
              "    <tr>\n",
              "      <th>7</th>\n",
              "      <td>Harry Potter and the Deathly Hallows – Part 2</td>\n",
              "      <td>731</td>\n",
              "    </tr>\n",
              "    <tr>\n",
              "      <th>8</th>\n",
              "      <td>Beauty and the Beast</td>\n",
              "      <td>724</td>\n",
              "    </tr>\n",
              "    <tr>\n",
              "      <th>9</th>\n",
              "      <td>Avengers: Infinity War</td>\n",
              "      <td>708</td>\n",
              "    </tr>\n",
              "    <tr>\n",
              "      <th>10</th>\n",
              "      <td>Mamma Mia!</td>\n",
              "      <td>689</td>\n",
              "    </tr>\n",
              "    <tr>\n",
              "      <th>11</th>\n",
              "      <td>Harry Potter and the Philosopher's Stone</td>\n",
              "      <td>674</td>\n",
              "    </tr>\n",
              "    <tr>\n",
              "      <th>12</th>\n",
              "      <td>Rogue One</td>\n",
              "      <td>660</td>\n",
              "    </tr>\n",
              "    <tr>\n",
              "      <th>13</th>\n",
              "      <td>Mamma Mia! Here We Go Again</td>\n",
              "      <td>656</td>\n",
              "    </tr>\n",
              "    <tr>\n",
              "      <th>14</th>\n",
              "      <td>Casino Royale</td>\n",
              "      <td>640</td>\n",
              "    </tr>\n",
              "    <tr>\n",
              "      <th>15</th>\n",
              "      <td>Star Wars: The Rise of Skywalker</td>\n",
              "      <td>583</td>\n",
              "    </tr>\n",
              "    <tr>\n",
              "      <th>16</th>\n",
              "      <td>Dunkirk</td>\n",
              "      <td>568</td>\n",
              "    </tr>\n",
              "    <tr>\n",
              "      <th>17</th>\n",
              "      <td>The Dark Knight Rises</td>\n",
              "      <td>564</td>\n",
              "    </tr>\n",
              "    <tr>\n",
              "      <th>18</th>\n",
              "      <td>Bohemian Rhapsody</td>\n",
              "      <td>554</td>\n",
              "    </tr>\n",
              "    <tr>\n",
              "      <th>19</th>\n",
              "      <td>Harry Potter and the Chamber of Secrets</td>\n",
              "      <td>550</td>\n",
              "    </tr>\n",
              "    <tr>\n",
              "      <th>20</th>\n",
              "      <td>Fantastic Beasts and Where to Find Them</td>\n",
              "      <td>547</td>\n",
              "    </tr>\n",
              "    <tr>\n",
              "      <th>21</th>\n",
              "      <td>Harry Potter and the Deathly Hallows – Part 1</td>\n",
              "      <td>526</td>\n",
              "    </tr>\n",
              "    <tr>\n",
              "      <th>22</th>\n",
              "      <td>The Full Monty</td>\n",
              "      <td>522</td>\n",
              "    </tr>\n",
              "    <tr>\n",
              "      <th>23</th>\n",
              "      <td>Quantum of Solace</td>\n",
              "      <td>512</td>\n",
              "    </tr>\n",
              "    <tr>\n",
              "      <th>24</th>\n",
              "      <td>Harry Potter and the Half-Blood Prince</td>\n",
              "      <td>509</td>\n",
              "    </tr>\n",
              "    <tr>\n",
              "      <th>25</th>\n",
              "      <td>Harry Potter and the Order of the Phoenix</td>\n",
              "      <td>500</td>\n",
              "    </tr>\n",
              "    <tr>\n",
              "      <th>26</th>\n",
              "      <td>The Dark Knight</td>\n",
              "      <td>493</td>\n",
              "    </tr>\n",
              "    <tr>\n",
              "      <th>27</th>\n",
              "      <td>Harry Potter and the Goblet of Fire</td>\n",
              "      <td>493</td>\n",
              "    </tr>\n",
              "    <tr>\n",
              "      <th>28</th>\n",
              "      <td>Avengers: Age of Ultron</td>\n",
              "      <td>483</td>\n",
              "    </tr>\n",
              "    <tr>\n",
              "      <th>29</th>\n",
              "      <td>Bridget Jones's Baby</td>\n",
              "      <td>482</td>\n",
              "    </tr>\n",
              "    <tr>\n",
              "      <th>31</th>\n",
              "      <td>Harry Potter and the Prisoner of Azkaban</td>\n",
              "      <td>463</td>\n",
              "    </tr>\n",
              "    <tr>\n",
              "      <th>30</th>\n",
              "      <td>The Jungle Book</td>\n",
              "      <td>462</td>\n",
              "    </tr>\n",
              "    <tr>\n",
              "      <th>32</th>\n",
              "      <td>The King's Speech</td>\n",
              "      <td>457</td>\n",
              "    </tr>\n",
              "    <tr>\n",
              "      <th>33</th>\n",
              "      <td>The Inbetweeners Movie</td>\n",
              "      <td>450</td>\n",
              "    </tr>\n",
              "    <tr>\n",
              "      <th>34</th>\n",
              "      <td>Mary Poppins Returns</td>\n",
              "      <td>445</td>\n",
              "    </tr>\n",
              "    <tr>\n",
              "      <th>35</th>\n",
              "      <td>1917</td>\n",
              "      <td>441</td>\n",
              "    </tr>\n",
              "    <tr>\n",
              "      <th>36</th>\n",
              "      <td>Paddington 2</td>\n",
              "      <td>426</td>\n",
              "    </tr>\n",
              "    <tr>\n",
              "      <th>37</th>\n",
              "      <td>Bridget Jones's Diary</td>\n",
              "      <td>420</td>\n",
              "    </tr>\n",
              "    <tr>\n",
              "      <th>38</th>\n",
              "      <td>Jurassic World: Fallen Kingdom</td>\n",
              "      <td>416</td>\n",
              "    </tr>\n",
              "    <tr>\n",
              "      <th>39</th>\n",
              "      <td>Les Misérables</td>\n",
              "      <td>408</td>\n",
              "    </tr>\n",
              "    <tr>\n",
              "      <th>40</th>\n",
              "      <td>The Batman</td>\n",
              "      <td>405</td>\n",
              "    </tr>\n",
              "  </tbody>\n",
              "</table>\n",
              "</div>\n",
              "      <button class=\"colab-df-convert\" onclick=\"convertToInteractive('df-f6f31db5-c05c-4b4e-9108-168be59a7c8c')\"\n",
              "              title=\"Convert this dataframe to an interactive table.\"\n",
              "              style=\"display:none;\">\n",
              "        \n",
              "  <svg xmlns=\"http://www.w3.org/2000/svg\" height=\"24px\"viewBox=\"0 0 24 24\"\n",
              "       width=\"24px\">\n",
              "    <path d=\"M0 0h24v24H0V0z\" fill=\"none\"/>\n",
              "    <path d=\"M18.56 5.44l.94 2.06.94-2.06 2.06-.94-2.06-.94-.94-2.06-.94 2.06-2.06.94zm-11 1L8.5 8.5l.94-2.06 2.06-.94-2.06-.94L8.5 2.5l-.94 2.06-2.06.94zm10 10l.94 2.06.94-2.06 2.06-.94-2.06-.94-.94-2.06-.94 2.06-2.06.94z\"/><path d=\"M17.41 7.96l-1.37-1.37c-.4-.4-.92-.59-1.43-.59-.52 0-1.04.2-1.43.59L10.3 9.45l-7.72 7.72c-.78.78-.78 2.05 0 2.83L4 21.41c.39.39.9.59 1.41.59.51 0 1.02-.2 1.41-.59l7.78-7.78 2.81-2.81c.8-.78.8-2.07 0-2.86zM5.41 20L4 18.59l7.72-7.72 1.47 1.35L5.41 20z\"/>\n",
              "  </svg>\n",
              "      </button>\n",
              "      \n",
              "  <style>\n",
              "    .colab-df-container {\n",
              "      display:flex;\n",
              "      flex-wrap:wrap;\n",
              "      gap: 12px;\n",
              "    }\n",
              "\n",
              "    .colab-df-convert {\n",
              "      background-color: #E8F0FE;\n",
              "      border: none;\n",
              "      border-radius: 50%;\n",
              "      cursor: pointer;\n",
              "      display: none;\n",
              "      fill: #1967D2;\n",
              "      height: 32px;\n",
              "      padding: 0 0 0 0;\n",
              "      width: 32px;\n",
              "    }\n",
              "\n",
              "    .colab-df-convert:hover {\n",
              "      background-color: #E2EBFA;\n",
              "      box-shadow: 0px 1px 2px rgba(60, 64, 67, 0.3), 0px 1px 3px 1px rgba(60, 64, 67, 0.15);\n",
              "      fill: #174EA6;\n",
              "    }\n",
              "\n",
              "    [theme=dark] .colab-df-convert {\n",
              "      background-color: #3B4455;\n",
              "      fill: #D2E3FC;\n",
              "    }\n",
              "\n",
              "    [theme=dark] .colab-df-convert:hover {\n",
              "      background-color: #434B5C;\n",
              "      box-shadow: 0px 1px 3px 1px rgba(0, 0, 0, 0.15);\n",
              "      filter: drop-shadow(0px 1px 2px rgba(0, 0, 0, 0.3));\n",
              "      fill: #FFFFFF;\n",
              "    }\n",
              "  </style>\n",
              "\n",
              "      <script>\n",
              "        const buttonEl =\n",
              "          document.querySelector('#df-f6f31db5-c05c-4b4e-9108-168be59a7c8c button.colab-df-convert');\n",
              "        buttonEl.style.display =\n",
              "          google.colab.kernel.accessAllowed ? 'block' : 'none';\n",
              "\n",
              "        async function convertToInteractive(key) {\n",
              "          const element = document.querySelector('#df-f6f31db5-c05c-4b4e-9108-168be59a7c8c');\n",
              "          const dataTable =\n",
              "            await google.colab.kernel.invokeFunction('convertToInteractive',\n",
              "                                                     [key], {});\n",
              "          if (!dataTable) return;\n",
              "\n",
              "          const docLinkHtml = 'Like what you see? Visit the ' +\n",
              "            '<a target=\"_blank\" href=https://colab.research.google.com/notebooks/data_table.ipynb>data table notebook</a>'\n",
              "            + ' to learn more about interactive tables.';\n",
              "          element.innerHTML = '';\n",
              "          dataTable['output_type'] = 'display_data';\n",
              "          await google.colab.output.renderOutput(dataTable, element);\n",
              "          const docLink = document.createElement('div');\n",
              "          docLink.innerHTML = docLinkHtml;\n",
              "          element.appendChild(docLink);\n",
              "        }\n",
              "      </script>\n",
              "    </div>\n",
              "  </div>\n",
              "  "
            ]
          },
          "metadata": {},
          "execution_count": 19
        }
      ]
    },
    {
      "cell_type": "code",
      "source": [
        "data = df1['Gross']\n",
        "print('mean=%.3f stdv=%.3f' %(mean(data), std(data)))"
      ],
      "metadata": {
        "colab": {
          "base_uri": "https://localhost:8080/"
        },
        "id": "eChdnHzD6j7D",
        "outputId": "420280b2-5d8c-4820-ac0b-e6f3602c568b"
      },
      "execution_count": 21,
      "outputs": [
        {
          "output_type": "stream",
          "name": "stdout",
          "text": [
            "mean=605.317 stdv=189.256\n"
          ]
        }
      ]
    },
    {
      "cell_type": "markdown",
      "source": [
        "# **Визуальные проверки нормальности**"
      ],
      "metadata": {
        "id": "GShcYiPt6TpD"
      }
    },
    {
      "cell_type": "markdown",
      "source": [
        "**График гистограммы**"
      ],
      "metadata": {
        "id": "NI0CnCrc6bJ3"
      }
    },
    {
      "cell_type": "code",
      "source": [
        "from matplotlib import pyplot\n",
        "\n",
        "pyplot.hist(data)\n",
        "pyplot.show()"
      ],
      "metadata": {
        "colab": {
          "base_uri": "https://localhost:8080/",
          "height": 265
        },
        "id": "_AZLfCmm6WvG",
        "outputId": "7abc3f01-b95d-4ce5-ac57-3cda32220fc8"
      },
      "execution_count": 22,
      "outputs": [
        {
          "output_type": "display_data",
          "data": {
            "text/plain": [
              "<Figure size 432x288 with 1 Axes>"
            ],
            "image/png": "[encoded data removed]"
          },
          "metadata": {
            "needs_background": "light"
          }
        }
      ]
    },
    {
      "cell_type": "markdown",
      "source": [
        "*При выполнении создается график гистограммы, показывающий количество фильмов (по оси ординат) по прибыли (по оси абцисс).*"
      ],
      "metadata": {
        "id": "HWkaibxZJBOT"
      }
    },
    {
      "cell_type": "markdown",
      "source": [
        "**Квантиль-Квантиль Участок**"
      ],
      "metadata": {
        "id": "I2jdiRfT6q5T"
      }
    },
    {
      "cell_type": "code",
      "source": [
        "from statsmodels.graphics.gofplots import qqplot\n",
        "\n",
        "qqplot(data, line='s')\n",
        "pyplot.show()"
      ],
      "metadata": {
        "colab": {
          "base_uri": "https://localhost:8080/",
          "height": 279
        },
        "id": "AYzIVwm-6r9D",
        "outputId": "11aef7cc-59a0-489c-a0ff-6d58b2345a64"
      },
      "execution_count": 23,
      "outputs": [
        {
          "output_type": "display_data",
          "data": {
            "text/plain": [
              "<Figure size 432x288 with 1 Axes>"
            ],
            "image/png": "[encoded data removed]"
          },
          "metadata": {
            "needs_background": "light"
          }
        }
      ]
    },
    {
      "cell_type": "markdown",
      "source": [
        "*При выполнении создается график QQ, показывающий график рассеяния точек в диагональной линии, который точно соответствует ожидаемому диагональному шаблону для выборки из распределения Гаусса. Есть несколько небольших отклонений, особенно в нижней части графика, что и следовало ожидать, учитывая небольшую выборку данных.*"
      ],
      "metadata": {
        "id": "jRUuAY7UJFgf"
      }
    },
    {
      "cell_type": "markdown",
      "source": [
        "# **Статистические тесты нормальности**"
      ],
      "metadata": {
        "id": "lHebx_nB6wVo"
      }
    },
    {
      "cell_type": "markdown",
      "source": [
        "**Тест Шапиро-Вилка**"
      ],
      "metadata": {
        "id": "7N9PSD2N64PJ"
      }
    },
    {
      "cell_type": "code",
      "source": [
        "from scipy.stats import shapiro\n",
        "\n",
        "stat, p = shapiro(data)\n",
        "print('Statistics=%.3f, p=%.3f' % (stat, p))\n",
        "alpha = 0.05\n",
        "if p > alpha:\n",
        "  print('Sample looks Gaussian (fail to reject H0)')\n",
        "else:\n",
        "  print('Sample doesnt look Gaussian (regect H0)')"
      ],
      "metadata": {
        "colab": {
          "base_uri": "https://localhost:8080/"
        },
        "id": "d-3IhltG6yb6",
        "outputId": "b8ce1bed-ca12-46b5-b59f-4fa42d0799d3"
      },
      "execution_count": null,
      "outputs": [
        {
          "output_type": "stream",
          "name": "stdout",
          "text": [
            "Statistics=0.854, p=0.000\n",
            "Sample doesnt look Gaussian (regect H0)\n"
          ]
        }
      ]
    },
    {
      "cell_type": "markdown",
      "source": [
        "*При выполнении примера сначала вычисляется тест для выборки данных, затем выводится статистика и вычисленное значение p. Значение p интересует и находит, что данные, скорее всего, взяты из гауссовского распределения.*"
      ],
      "metadata": {
        "id": "TqlAqoDzJMpy"
      }
    },
    {
      "cell_type": "markdown",
      "source": [
        "**Тест д'Агостино на K ^ 2**"
      ],
      "metadata": {
        "id": "j5R92ohL69PQ"
      }
    },
    {
      "cell_type": "code",
      "source": [
        "from scipy.stats import normaltest\n",
        "\n",
        "stat, p = normaltest(data)\n",
        "print('Statistics=%.3f, p=%.3f' % (stat, p))\n",
        "alpha = 0.05\n",
        "if p > alpha:\n",
        "  print('Sample looks Gaussian (fail to reject H0)')\n",
        "else:\n",
        "  print('Sample doesnt look Gaussian (regect H0)')"
      ],
      "metadata": {
        "colab": {
          "base_uri": "https://localhost:8080/"
        },
        "id": "Rq-cQ2bG6_Nb",
        "outputId": "0f83c9df-e2f0-4ecc-b0b0-e9b00cfddf01"
      },
      "execution_count": null,
      "outputs": [
        {
          "output_type": "stream",
          "name": "stdout",
          "text": [
            "Statistics=15.707, p=0.000\n",
            "Sample doesnt look Gaussian (regect H0)\n"
          ]
        }
      ]
    },
    {
      "cell_type": "markdown",
      "source": [
        "*При выполнении примера вычисляется статистика и печатается статистика и значение p. Значение p интерпретируется по отношению к альфа 5% и обнаруживает, что тестовый набор данных не отличается значительно от нормального.*"
      ],
      "metadata": {
        "id": "HC4MuRQWJT2h"
      }
    },
    {
      "cell_type": "markdown",
      "source": [
        "**Тест Андерсона-Дарлинга**"
      ],
      "metadata": {
        "id": "Gy7sG1Ap7B8I"
      }
    },
    {
      "cell_type": "code",
      "source": [
        "from scipy.stats import anderson\n",
        "\n",
        "result = anderson(data)\n",
        "print('Statistics=%.3f' % result.statistic)\n",
        "p = 0\n",
        "for i in range(len(result.critical_values)):\n",
        "  sl, cv = result.significance_level[1], result.critical_values[1]\n",
        "  if result.statistic < result.critical_values[1]:\n",
        "    print('%.3f: %.3f, data looks normal (fail to reject H0)' % (sl, cv))\n",
        "  else:\n",
        "    print('%.3f: %.3f, data doestn look normal (reject H0)' % (sl, cv))"
      ],
      "metadata": {
        "colab": {
          "base_uri": "https://localhost:8080/"
        },
        "id": "xFE--9Pg7EIK",
        "outputId": "962ec2a5-929a-45ff-e816-657e8e1aab3d"
      },
      "execution_count": null,
      "outputs": [
        {
          "output_type": "stream",
          "name": "stdout",
          "text": [
            "Statistics=1.907\n",
            "10.000: 0.606, data doestn look normal (reject H0)\n",
            "10.000: 0.606, data doestn look normal (reject H0)\n",
            "10.000: 0.606, data doestn look normal (reject H0)\n",
            "10.000: 0.606, data doestn look normal (reject H0)\n",
            "10.000: 0.606, data doestn look normal (reject H0)\n"
          ]
        }
      ]
    },
    {
      "cell_type": "markdown",
      "source": [
        "*При выполнении примера вычисляется статистика по набору тестовых данных и выводятся критические значения. Критические значения в статистическом тесте - это диапазон предварительно определенных границ значимости, при которых H0 может быть отклонен, если расчетная статистика меньше критического значения. Вместо простого значения p тест возвращает критическое значение для диапазона различных обычно используемых уровней значимости. Существует возможность интерпретировать результаты, не сумев отвергнуть нулевую гипотезу о том, что данные являются нормальными, если рассчитанная статистика теста меньше критического значения на выбранном уровне значимости. На каждом уровне значимости тест обнаружил, что данные соответствуют нормальному распределению*"
      ],
      "metadata": {
        "id": "eaEssbjxJW1f"
      }
    },
    {
      "cell_type": "markdown",
      "source": [
        "# **Итог**"
      ],
      "metadata": {
        "id": "wUo0I455LfJg"
      }
    },
    {
      "cell_type": "markdown",
      "source": [
        "![image.png](data:image/png;base64,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)"
      ],
      "metadata": {
        "id": "kisRW-xaiKLh"
      }
    }
  ]
}