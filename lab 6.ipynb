{
  "nbformat": 4,
  "nbformat_minor": 0,
  "metadata": {
    "colab": {
      "name": "lab 6.ipynb",
      "provenance": [],
      "authorship_tag": "ABX9TyPb7O0N+5zjIu2aGLBZ9UpP",
      "include_colab_link": true
    },
    "kernelspec": {
      "name": "python3",
      "display_name": "Python 3"
    },
    "language_info": {
      "name": "python"
    }
  },
  "cells": [
    {
      "cell_type": "markdown",
      "metadata": {
        "id": "view-in-github",
        "colab_type": "text"
      },
      "source": [
        "<a href=\"https://colab.research.google.com/github/SofiaShvedova/Programming-for-analysts/blob/main/lab%206.ipynb\" target=\"_parent\"><img src=\"https://colab.research.google.com/assets/colab-badge.svg\" alt=\"Open In Colab\"/></a>"
      ]
    },
    {
      "cell_type": "code",
      "execution_count": 35,
      "metadata": {
        "colab": {
          "base_uri": "https://localhost:8080/"
        },
        "id": "MldRVeME3vjF",
        "outputId": "5e66349c-a73f-48c5-9a21-c96c77a05a08"
      },
      "outputs": [
        {
          "output_type": "stream",
          "name": "stdout",
          "text": [
            "mean=50.303 stdv=4.426\n"
          ]
        }
      ],
      "source": [
        "from numpy.random import seed\n",
        "from numpy.random import randn\n",
        "from numpy import mean\n",
        "from numpy import std\n",
        "seed(1)\n",
        "data = 5 * randn(100) + 50\n",
        "print('mean=%.3f stdv=%.3f' %(mean(data), std(data)))"
      ]
    },
    {
      "cell_type": "markdown",
      "source": [
        "### **Визуальные проверки нормальности**"
      ],
      "metadata": {
        "id": "UvLJGPQw4MEN"
      }
    },
    {
      "cell_type": "markdown",
      "source": [
        "**График гистограммы**"
      ],
      "metadata": {
        "id": "CFv9hXtC4v5b"
      }
    },
    {
      "cell_type": "code",
      "source": [
        "from matplotlib import pyplot\n",
        "\n",
        "pyplot.hist(data)\n",
        "pyplot.show()"
      ],
      "metadata": {
        "colab": {
          "base_uri": "https://localhost:8080/",
          "height": 0
        },
        "id": "vWJ6RJof4QHE",
        "outputId": "c779a00c-9ab7-459c-a468-0e72320aaf87"
      },
      "execution_count": 36,
      "outputs": [
        {
          "output_type": "display_data",
          "data": {
            "text/plain": [
              "<Figure size 432x288 with 1 Axes>"
            ],
            "image/png": "[encoded data removed]"
          },
          "metadata": {
            "needs_background": "light"
          }
        }
      ]
    },
    {
      "cell_type": "markdown",
      "source": [
        "*При выполнении примера создается график гистограммы, показывающий количество наблюдений в каждом бине. Мы можем видеть гауссовидную форму данных, которая, хотя и не сильно знакома в форме колокола, является грубым приближением.*"
      ],
      "metadata": {
        "id": "mXRa6E6iIBp5"
      }
    },
    {
      "cell_type": "markdown",
      "source": [
        "**Квантиль-Квантиль Участок**"
      ],
      "metadata": {
        "id": "PpOWhDSg4k9c"
      }
    },
    {
      "cell_type": "code",
      "source": [
        "from statsmodels.graphics.gofplots import qqplot\n",
        "\n",
        "qqplot(data, line='s')\n",
        "pyplot.show()"
      ],
      "metadata": {
        "colab": {
          "base_uri": "https://localhost:8080/",
          "height": 316
        },
        "id": "SIeDWd054dMy",
        "outputId": "fa86eab7-30b6-40ff-a69c-d935f6a96196"
      },
      "execution_count": null,
      "outputs": [
        {
          "output_type": "stream",
          "name": "stderr",
          "text": [
            "/usr/local/lib/python3.7/dist-packages/statsmodels/tools/_testing.py:19: FutureWarning: pandas.util.testing is deprecated. Use the functions in the public API at pandas.testing instead.\n",
            "  import pandas.util.testing as tm\n"
          ]
        },
        {
          "output_type": "display_data",
          "data": {
            "text/plain": [
              "<Figure size 432x288 with 1 Axes>"
            ],
            "image/png": "[encoded data removed]"
          },
          "metadata": {
            "needs_background": "light"
          }
        }
      ]
    },
    {
      "cell_type": "markdown",
      "source": [
        "*При выполнении примера создается график QQ, показывающий график рассеяния точек в диагональной линии, который точно соответствует ожидаемому диагональному шаблону для выборки из распределения Гаусса. Есть несколько небольших отклонений, особенно в нижней части графика, что и следовало ожидать, учитывая небольшую выборку данных.*"
      ],
      "metadata": {
        "id": "z5g7eVG5IE3G"
      }
    },
    {
      "cell_type": "markdown",
      "source": [
        "### **Статистические тесты нормальности**"
      ],
      "metadata": {
        "id": "SpyZW5MG4oJM"
      }
    },
    {
      "cell_type": "markdown",
      "source": [
        "**Тест Шапиро-Вилка**"
      ],
      "metadata": {
        "id": "iYzVqQc440cE"
      }
    },
    {
      "cell_type": "code",
      "source": [
        "from scipy.stats import shapiro\n",
        "\n",
        "stat, p = shapiro(data)\n",
        "print('Statistics=%.3f, p=%.3f' % (stat, p))\n",
        "alpha = 0.05\n",
        "if p > alpha:\n",
        "  print('Sample looks Gaussian (fail to reject H0)')\n",
        "else:\n",
        "  print('Sample doesnt look Gaussian (regect H0)')"
      ],
      "metadata": {
        "colab": {
          "base_uri": "https://localhost:8080/"
        },
        "id": "DILNSgTo4fmK",
        "outputId": "5a8be44f-6026-4a28-95c5-d587c7a5dd3e"
      },
      "execution_count": null,
      "outputs": [
        {
          "output_type": "stream",
          "name": "stdout",
          "text": [
            "Statistics=0.992, p=0.822\n",
            "Sample looks Gaussian (fail to reject H0)\n"
          ]
        }
      ]
    },
    {
      "cell_type": "markdown",
      "source": [
        "*При выполнении примера сначала вычисляется тест для выборки данных, затем выводится статистика и вычисленное значение p. Значение p интересует и находит, что данные, скорее всего, взяты из гауссовского распределения.*"
      ],
      "metadata": {
        "id": "Tuo8EJc9IHqg"
      }
    },
    {
      "cell_type": "markdown",
      "source": [
        "**Тест д'Агостино на K ^ 2**"
      ],
      "metadata": {
        "id": "Vhje42wR43LN"
      }
    },
    {
      "cell_type": "code",
      "source": [
        "from scipy.stats import normaltest\n",
        "\n",
        "stat, p = normaltest(data)\n",
        "print('Statistics=%.3f, p=%.3f' % (stat, p))\n",
        "alpha = 0.05\n",
        "if p > alpha:\n",
        "  print('Sample looks Gaussian (fail to reject H0)')\n",
        "else:\n",
        "  print('Sample doesnt look Gaussian (regect H0)')"
      ],
      "metadata": {
        "colab": {
          "base_uri": "https://localhost:8080/"
        },
        "id": "kDCqok8s4hIs",
        "outputId": "5b17b37f-9824-40b6-b66b-914b7eadb649"
      },
      "execution_count": null,
      "outputs": [
        {
          "output_type": "stream",
          "name": "stdout",
          "text": [
            "Statistics=0.102, p=0.950\n",
            "Sample looks Gaussian (fail to reject H0)\n"
          ]
        }
      ]
    },
    {
      "cell_type": "markdown",
      "source": [
        "*При выполнении примера вычисляется статистика и печатается статистика и значение p. Значение p интерпретируется по отношению к альфа 5% и обнаруживает, что тестовый набор данных не отличается значительно от нормального.*"
      ],
      "metadata": {
        "id": "WUBg_5usILHh"
      }
    },
    {
      "cell_type": "markdown",
      "source": [
        "**Тест Андерсона-Дарлинга**"
      ],
      "metadata": {
        "id": "jFpGr1RM45bK"
      }
    },
    {
      "cell_type": "code",
      "source": [
        "from scipy.stats import anderson\n",
        "\n",
        "result = anderson(data)\n",
        "print('Statistics=%.3f' % result.statistic)\n",
        "p = 0\n",
        "for i in range(len(result.critical_values)):\n",
        "  sl, cv = result.significance_level[1], result.critical_values[1]\n",
        "  if result.statistic < result.critical_values[1]:\n",
        "    print('%.3f: %.3f, data looks normal (fail to reject H0)' % (sl, cv))\n",
        "  else:\n",
        "    print('%.3f: %.3f, data doestn look normal (reject H0)' % (sl, cv))"
      ],
      "metadata": {
        "colab": {
          "base_uri": "https://localhost:8080/"
        },
        "id": "c8hO8KT-4ior",
        "outputId": "5abf27ab-3b40-4982-a463-abb9135d7409"
      },
      "execution_count": null,
      "outputs": [
        {
          "output_type": "stream",
          "name": "stdout",
          "text": [
            "Statistics=0.220\n",
            "10.000: 0.632, data looks normal (fail to reject H0)\n",
            "10.000: 0.632, data looks normal (fail to reject H0)\n",
            "10.000: 0.632, data looks normal (fail to reject H0)\n",
            "10.000: 0.632, data looks normal (fail to reject H0)\n",
            "10.000: 0.632, data looks normal (fail to reject H0)\n"
          ]
        }
      ]
    },
    {
      "cell_type": "markdown",
      "source": [
        "*При выполнении примера вычисляется статистика по набору тестовых данных и выводятся критические значения. Критические значения в статистическом тесте - это диапазон предварительно определенных границ значимости, при которых H0 может быть отклонен, если расчетная статистика меньше критического значения. Вместо простого значения p тест возвращает критическое значение для диапазона различных обычно используемых уровней значимости. Существует возможность интерпретировать результаты, не сумев отвергнуть нулевую гипотезу о том, что данные являются нормальными, если рассчитанная статистика теста меньше критического значения на выбранном уровне значимости. На каждом уровне значимости тест обнаружил, что данные соответствуют нормальному распределению*"
      ],
      "metadata": {
        "id": "R9JNZSYuIOS-"
      }
    },
    {
      "cell_type": "markdown",
      "source": [
        "### **Индивидуальное задание**"
      ],
      "metadata": {
        "id": "OdbsNlhi47wq"
      }
    },
    {
      "cell_type": "markdown",
      "source": [
        "![image.png](data:image/png;base64,iVBORw0KGgoAAAANSUhEUgAAA0MAAABQCAYAAADbaq5HAAAgAElEQVR4nOydd3RU17W4vzu9SiONekW9oQYCAaIXF4rp3cbgGseOU95LHJfEJbYTx457d4xNNQYbbJrBmA6miC5RJVElUO+aPvf+/piRkLBwHMh77/fy5luLxdKde8/dZ5+9T93nXEGSJIluiJi6lromR3c/+fDhw8f/akoW3UZMqO5/WgwfPnz48OHDx/8wwvUGQ4WnGnC5xf9ueXz48OHjv5xeyQGolbL/aTF8+PDhw4cPH//DXHcw5MOHDx8+fPjw4cOHDx//zvimRn348OHDhw8fPnz48PF/Et9gyIcPHz58+PDhw4cPH/8n8Q2GfPjw4cOHDx8+fPjw8X8S32DIhw8fPnz48OHDhw8f/yfxDYZ8+PDhw4cPHz58/C9EwuV04TsLzMfNoOjuolR/mt37jlNeb8ElSnSYmCAgkylQ6YwEhifQMzOJYJ3cN6L6FyO2XGDvN19zQDmKeaOTMarl17/ZWU9J4W72HjrFFTGE3FvGMyTJH5Vc+O8T2IcPHz58+PDh478SWyXF+/Zx5PRFqpss2J1OHM3VuNLn8fCEnoT5Kf+nJfTxv5RuB0OCMZL0XInKlx/mhTXnaHWIKHrO5Jk5WTgrCln5xSZONyswxRVw1++fZE7fULQKX+f7ZrFVHmbTV1+ycu0WDp4qRzMxlemjEq8zGLJwbvMiPvhkJfuaYhg6YTJjBqYSE6lHIfOVhQ8fPnz48OHj3wPXlZ18+Oe/sXTbCSoa27A7RVD606PfFB6ZEopB22131oePn0T31qM0EBgWR3qYQFXFJWosLlRJZnIGDCVY6EuyuoJ7fr+KfSVnKW/SE7XkD9wSqUfp64PfICJVh77huwPF7P5yOWt2n6XeKpBgcSICEtBFte5qvv/gGZ77+0bOGm7l10/ez629kok261D6BkI+fPjw4cOHj38XXJdY//abrLsczMDZvyI1Jhh/gwGjv4nAkBji40LQ+TqgPm6CHxlKK9DrNQiC18DkGgx+AQT7hRM4aQy9/7qecxebuLjvc1bt/SVDxutQ+ozxBhEwxecxJCiDlMYdrNx7HugUntgFGyc/e5anXl/O3uZcfvfxI0wZkkKQRo5P+z58+PDhw4ePfycsR75iTW0Odz46gUEZ0QToVCgVChQKOTLB1/PxcfP86LqicJ3utcLPH73c86vkaKC+2YUkdrpBslFdepzT56tpkQxEZ+SSHq5HLhMAF9YWC3a35wFBrkZvUNBcdphj5y0Y43PIivVH2bHnxYm1xdpxPwgIKi16mQOL3YXYPmIQ5GgMBtReubqTIS38agiZ09qC1eHueF4QVGj1MhxWOy53R6LINQYMcgetVgdu8fob9AS5BoNBjfyGHFNAbQolygQBPYJQyWWAu9s7XaVf8OobX7H/XAvRc+5jRv8EzP+FAyG3rRWL3UW7SgS5FoNOwGax4uy4KEOlNaJVdbYYEYfNiVyt+hGdSDhtdlCpUci8z4o2Wts6l0FnBORqPQaNAkEAnE6ccoXnWbcTJwoU8qsydJVdQKbSYtSqEARP+VscbiRAkgQErpZ55/sklwtRoUD+E+TSCjas//B9ctR6AxqFgMvpRK5QIBME3E4nKBSddOXG3mrB5nJ7JROQa/UYFC7aLFflEGQqjAYtsna7/tE0uylfpx1JrkIu61x2buxtFmxO77sFAZlMiUanRSm/Xq3gxm6xI6m0qBWd7nHbabPYOtmKHK1eh+CwYHW6kTrpSidzdNKfx9b0OgGH19Y8t8pQaQ2o3FasDifuTv7frlcBEO1ttNmu/i4IStQacNhciN6Ntp66R4nLYsXudCNdk8YNIdppa+uU32sQFFoMelXXcu5Gb257G5bO8l9XFzpkDiv2a+xEJziwWJ24pU52ohOwWh2dZPPYrV6jQCZ0I7sgoNQYULi8dih1ekbpwmq143RLHj3qNR11q8vlRi6Xc1N9lG7tRo/CZcVid3bxMYNW2aVDJDlt2FGiVrTLcI09X4drfalDlG59BEDEaWnD0mHH1yYoR61R4HY4urYpnXXenpLTjigTcFjsuJD/A1+7vkxd7UZAkMlQqLXoVIrrlEe7/WlQK2Q/Yn8a9DpZ974oWrHar7lXr8Bl9fpVp3u1SlknOUScNieCWoXiX9KhFXFY2jrVK9cgKNDodZ3y6cZhsSNek/fubE+j9/iZzdne5/DYnlbmwNalzvLqyWrD6RI75V2L4LDhcF21wa5+I2Jva+tkowKCUo0GJ3aXu+OdHt9zY7XauvW9m0Vy2bBLSlQKOTeXZHdtiAK1Vouqs66vRXRicwqoVJ0HOa0c3HSaqFvvZVCvFCK1InaX7KYGQj/Mp+iR1+Xq1nYEuQqdXuvtp7hwOmUoFDIEwY2nmZVdXTi4Rg8Oqx1RqUEt72T7bjttVhsuV7sv/YiNCU7sDheujnar3b9s2Nvlbbcxpx1HRx4E5Bq9p121OXGJV9sCg1bAZndcfX93bYGls3yetkCrulm7+P+XGwiylGgo3ENxsxOXJKCKGcGtvf1QKQVAovHYct76YDdiTj8SxWJWL9pImRDHLb98jsfuSMFf2cS5HR/zyhvrON3iQAgbyrT8erZ/d5SSyy0IxhgG3P0kf5zXjzCtAkFs4OTKl3lhwV6uWF2gS2XC408yN+oE7z33JpsvtOEUlcSMepTHHxlLZrCKlqIveOvDXYhZ+SRKx1mzeCOldJJBJaOpdCNvv/g+Wy624ZR0pE18gifmxnD2kxd5Zd0ZWhwiyrjb+c3vH2JE3UfMe/ME4WlJhMorOLDrJNU2F4rI3gzLCsZ5pYhDtmG8+Oo9ZAdo+ZHjDv4hMpmM69cUbexf9gnfnq7BSjzDx+Xi52ikvtmfAOONDsR+DInmc/tY89knLNp+HlfkYGbMnsGkgQZKv/uKRQvWUtRgIHvSLGZNvoM+UTqUzgp2f/4Zm0sbaKk9x5nLMhKG38XP5w4j3k/lOWzDVc2BL5fybakV3A2cPVGOJmcKD94/hsSy93nkteMEJkZjFi5zcNdJ2iJ60y/ZH8flIk4G3smfp/tzYtdmvtlST/5TDxO7dyGL1hZy0aonrmAGjzwymZwQNc2nvuHt1z9mS0kzxI5g3s/mMaV/D/RKkaqilbzzt88ojbiFsb0NlGz4gl3nnYQPns6UO0Zze66Cwo9e5r11x2hLv58Xb7vAy/NLCepWrmJOBs7m+dtbWfnxEraUNkHMCOY+OJepA3qgV0pUF63inVeXUhJ2K5MKgqg+vJ2djfk88XAM+xYuZm3hRaz6OAqmP8zDk3MJ1bRwbv86Pv90EVvPOggfPIM7Z0xieFgl25e8x/trimjQZTLxzjv52bhkqo/tYP269Wyt78vjP4+lcPES1uy/0DVNrcJjWu5ajqxextqj9QhyO9VlF7CE9WfyvNkMS/RHLWvhfOF6ln2ygK3nFMT1702MopWKkvNYQvKZ/tAD3JpqQiMXwFXFvmUfsvyQBYMf1JSU0hwymLmPzmVwrBFl8zn2rV3Gp4u3cdYRzqBps5gxeRDGs1v5evEC1h6rQ585gRkzJzHUr4wtKxeyeNtZ7OGDmDZrBpMHGTm79WsWL1jLsTo9mRNmMHPyOJLaCtm04lMWbz+HM3wwU8YNZfCowaSY1SgEiZaLh9n23SoWryykUpHM7dNnM76PwNH1y1m+oYhqmz95857gt9MTqP/6NZ5ffApTwVTuvWcCvcP1KG/wVBip7QL7vljI/OUl+PVOJ0KvQtZ4mt2FnjxNvXMmU4elEqCoo/Dzv7P8YCt6P6gpLaU5eBB3/2Iug3sYsJzbz7rPP/XoIqyAqTNnMHmQH+e3r2bxgrUcrdWROX4GMycNwu/sdlYtWsy2s3bCCqYyc/pkBvmfZ/vqxSxYe4xaXU/GT5/B/UP8OLT9az5dvNVTFpPHMnTwKAanmNEoZUgtFzmyfTOrFq+k8IqcpNumMWvqOKKrt/D1Z0v5pqgamzGPuY//JzOSGlj9+gssOulPwdR7uGdCb8L1Cio3vMjv3zuEefIz/GFKBoG6G6sNpebzFH6znAWLtlJqC6Vg2kxmTBpBeM0OPn//fb4+VocmYzyzZk1hYn4MOpVEzeGv+XzjaVpEF43nT1Gh6sn4e+9lTIaSS4UbWb5gEVvLBGL65ZFg0qAQANcVjuw4xhVVGmNnzeJnE/rip1eDu46jaz9n3ZE6JJmd6rMXsIT0ZeLc2QxPCkCjEAAb5YfWsfTTzzml70lisA6V3E75od0crzaQNWEG00YkYTm2js+WbqXUGkLB5LEMG3ILg1OD0HYYmYuy5U/y9MrzqOKySA20cu54OaqM8dxz72h6hug8IejuOo6tW866I7WIgp3qcxewBPdhwt2zGZ4ciFYBrRcP8s3nn7JwSxlCTF96xahou1LGhTYzeVMe5L7b0gnSKRBc1RSu+JgVB5rRGqC2rIymoALueuRuhsT5YTtfyPrPF7B4WynWkAFMnjGdyYNNXNq5liUL13CkWkPGuGnMmHIHybYjbFu5gEVbS7AED2DKzOlMHhFJ7a7lfPjBao7WqEgbN5NZU8eTH2tE7b7M3i9XsPl0NY01Fyi9LBE7aCYP3D2C5EAtN7z9WLJwcf8qFn2ynNO6LFIijGjkTZzZU8hZaygDJs9ixpQRpJtaOPrFfFYcbEKth7qzZTSbBzD74bsZGh+AuuUCB75ZzoLFWymxBNN/0nSmTx5CQPku1i1dyJojVajTxjJtxmSGBVxk5+rFLN5agiW4P5OmT2fykADKd61j6cI1HKlSkzZ2GjMmD8Z08XvWLF7M1lIrIQMmMmboEEYNTiVYp0ImtXLp2A62fLWYlfsrIG4UU2aOp7/qFN9+uZxvjlbSZsjlrt/+hhmpbWx49y8sKtLSZ8LdzJvYl2g/9U0cZOWi9sgaVnx7ikank8aLp6lQpjF27j2MzQrHoLqBApFauXh4Iys+XciWEonIvFxiNFYqyy7QFtiLSfffy+09Q9B7o4kcV/ax6ostnKyqp+ZCGVfEaAZMv5+7R6YSpDjBnopw8gZXsfXj9ZxrdiO2XuFcpYz4YTO4e2JfYvx/Sv49+fxi0ykaHJ58XlakMXruPMalV7L0sXc4qAglLEhJ7bG9nGwy0zMvmUCpllOn/Zjw+CRCKw6zY8MWqjMf4Z7406z+cg3flzSjju7LpAcfYkqfaPzUMnDVcPDLT1hR2IBKD/XnztIUkM+Mh+5mWJIZbctFDm302NiZVjP5E6YxbcpQzJf38M1nC1l96ArK1DFMnT6JYeYK9q5byqLNp2k153tsbFQ0DXu+5O8ffs3hSjkpY6YzY/JQzBV7Wbd0MZtPt2LOn8j06ZMZHFDBng3LWLTmMFfkydw+bQYPDAvk5J51LFi8hZK2IPLHj2bY0FsYnBqCXi1Dai2neNdWVi1Zyf5LIrEjJjFj6lQGJQWg+zc9o+Kn+09bJaeP7mXj4r/wH3/4jJNuM5m3P8if33qGCckGVDKQ6rfwxhMv8MGqQ1ij8hg0ZjYFQVc4Xbiev7/wAdvqbDjxIyYnEVX5MQ7u38ueb5fzbVN/7nvqaR7oLXChaBuf/fWPvLe7FqtLAsFEQv8eiKeOcGDfXgor1CT1CMQYlUOk6zRHDuxj74FytMnphBuUCA1befOJF/hwZWcZKjlzwCPD1lorDknAr0dvIl2nPM8XVqBK6EGAIYKe4U7OHD3Ivr0HKFcnkBqmR9ZUhTJnOrOmT2fK4BDqjh+icO9+jrbFMHLcZO66bxJJYhMOUfzRmcebxnaEDetPUGd1gUZDU+HnvP3k/UwdN45pj77BxrIWHOI/TuanI2CIzmZQtpGq4qPUGHPI7xmNvz6M1P4FRNlPcqxUJL5/LxKC1Sikara+8RJft6Vzy+SZzP3ZL5idWsvGdx7n9x8V0mxxgVjDzjcf45W9BvJvu4PJ0+cwNamODR/9kafmF3LhyFkMQ2YwY/p0pgwNo+nEUc4J6dwybipzHpxFWttJTl6o5PjmlazZvJtNC95jZYlISFw4wqW9rP7oGX732iYutTjQxxcwcXQy1pJjHKvSkBAT4D1lT05QjJHmCg3Zt4xg4JAR5PhVU3ysBr+sfHITg3EdXMaSgxbUaiVyhYyW0ksYB89gxjSvXCc9co0aN4U5D84k3XoJa1Q+40YnYSsp6vQ+GSDHHGOguUJDZl4MSvc5tn+1hu92b2LBe6soEUOICxco37uGj555jNc3XaTFoSMqeyCZftUcL6rGmNmH9Gh/VP496N0riJaTxyiV4uifm4CytZqK6lNsXbWWzbu/Y+H7qzjjDiIuXNY1TbsIUhMHPnqCP35ZT/LIcUycdif3zhuB9uDfeerXL7D6TCM2UU9U5gB66is5cfQK+t63MWHWPfz87mxat87n2b9+SUmjFTci5Wte4Y9/2wX9xjBh2hzuHRvO+bXv8sriQ9S3OcEQRfagLPxqTlBUYyCrb0+i/fWEpfajINrB6eJS3D3yyU0MJTAuh4FZ/tScKKLGkEnfDK+t9Ssg2nGa4lI3PfJzSQzRYorJZmBPA5XHj1Hjl0XfvExi/JR4FpQF9BHp9BsWj1RSzLHWMPrlJREdk8mQiTMYGdZEydF9HLlkA0mB9dIZWuJvYfLYApLNGm7mIEZBG0nWiDFkaBTEj7qdO6ZMZWKOjsvHj9EQ2Is+aVEYVAIVa1/l6b/tQOx7O+OnzeHesRFcXP8eryw6QG2rC31UFgOz/Kk9WUSNPpM+GTGYDGGk5A8gynGG4jIXsfk5JIQGEZczkCz/Wk4W1aDP7ENGrAlDWAr5BdE4S4opc8XQNzcRXVAcWQUZGKtOUlRtJLNPHlmx/qgUnmZA0EeQnj+UeEopLmohNL83SRF+RKQPZMKMkYQ3lXJ0/2Eu2UBUWLlU0kL8qEmMKUjBrFEgIGG5fJwDe7/n0Ll67K4br4wEQySZBZn41Z2kuFpHRu8MYkwaTLG55AS3caaoFDG2LzmJoagVULv7XZ56dTfKnBGMnTSdu6am0LR1Ac/94WP2VUuEZA4g07+WU0VX0OaMZMykKUydOpXJt8biKC2mTIyhb04CWo0SpGYOzv8Dz3xRTfzQ0UycNpt7543AcHQBT//HC3x1sg6LG0BNaHoBeaEi6qTh3DZ+ClMnjyDKWkLxeYm43pkk9Eggd2AW/nWnKK7WkZaXR1YP0zWnfUpYrpynLe42Zk6bwuSpdzI7T2TP4hd5aflxGlpdIDVzaP4feWZFFT0Gj2bCtNncO3ckxqJFPPufL7DqRC0WN+gjetI/w0DN6SIua7IZecdM7nloDrm23Sx84a98cbKONpdIxfrXefbV7Th73cK4aXO4Z1wUFRs/4NVFhVS3ONFFZVKQZaL+9HGqdenkZcQSYAwjue8Aol1lnChzEpWXQ0KonoCYnvTP9Kf+9HGqtGn0So8lQGsiNjeHYEsJxWUuovtkkxCqRUkNO997ldX1PRg8bgZ3P/gId/ZsZcfHT/Pkh7upaXbchPNpCM8cxuieOlTxI7h13BSmTszFUHWa4np/snulEeOvoOqbN3j2tW3Yc0Yxbtoc7h0bzeVvP+LVRYVUNdtBH0nPAZmYGs5wolpLWu90YgONhCX3pX+0m7MnzuKMyiM7IYyguCwGZJpoOHOCam0avdNjCTSGkdy3P9Hus5w46yQqL5uEsBDisgaQ4VfH6eIadOm96Z3dA5PaO0El6IhI7cuQeDkXThynOag3uUk9iOk5iDumjSSy7RzF+w9zwSLiVlgpL2khdth4xgxMJ0SnvInIEJG6PR/y9Ou7IGMIoydP566pqbTtXMILf/yY7y83Yr+RTo2gJyK9HxnGOs4UX0adNZxxM+bx0N29cO5bwp9fWUFxdQsuQKzdxQevr6Y2agBjp93Ng4/MJtO6m0+ffYoPd16i/sJJKmQOdr35EYVkMGzsVGbcfR/Tsy1se/dJnvhgJ+cb7fx4bSNSt/dDnnl9F2LaYG8+02jbvZQXn/6YnccPUqbty/hJ05g5dThRtnOcOO8mftBtTLrrfmZmiVwsu0DF8e2sWf8dO79dzIerjmMxRhGmqOLQhgW88MTrrD9Tg8UtcnnDWzz/2hasmcMZM20O94yNoWrrfN5YtJcrDTbQR5DRL4uAplJOVKtJzk2nh9lIWFIe/aJFzp8+iyMil6zECIJ7ZNGvp4mm0hNUqZPJToslUGsiJjubYNtZTpQ5icjNIjEihLis/vQ0NVF2sgp1Ug5psWb8wpPpkx+NeP4kZx0R9MpMxBgcR0b/DPwbSjlerSU1txdZcQFovINTQRdOSt5gEhSXOHW8CXNODklRBtT/xmdU/OTBkNRQxr5dO9m+Ywd7iqtwKA34B5oJCgvCX+lZ9nSd38PmA2VUVZ/g0EkLxqAe9AjVocBG7akjnKxx4JKUGILDMeu9y226dEZNvZXBg0Yya95oknUCrRf3svTzXdhsThBU+EdFYtZ4jvAW9EGEBWhQtBVTdNbqCT8QDARHBWNQyXGf38vmg2VUVp/g0EkrBrNHBrlXhlM1DtwSqIxhhJg0HhkEPeYwf7QqPeYgExqZgICAISgSs16FKn4Md88cSq+eKSTFmtHJPfmV6UPoEZ9Eau5Y5swaQIRO+V96zLi7/AiHL7XhcEvI4wcxZeIE7rxnJCFXDvLdkld47A+LKGq0XifA7sZQGoKIjArBoJDjFxpDRJAfKoWOgLBYwv0VyLVmIqNCMWnkuE4s593VFagMEra2VlosYE6OQV17hs1LvsZmsWE7vJhXPykjdOgQcnumkZKSweApkxmRGuqZJYoZycwJ/chJTyExNgidXIbKP5weCYmk5tzKrDF5JOYVkBenRxLbIHY09zzwML9+7HneefMR+qqrObBkARsvtCEaIsi4/UHuHhKO7OwBjjaKuCQBEHCeOkRF6jjuyEuiR3Q0MSEGFHI/QmIiCPFrYef6S2Tc9XN+/9Ib/PWR4USm3c6sif3IzkghMTYYvVyOyi+MHglJpObcyszRPQkIiSHj9geZMyQc+dkDHGsUcXa87zAVqeMYP2www4bmE28AqU0i9vZ53P/wr3js+Xd44xf5aGsPsGTBRtra3BjMEUQFG1B65QoyqpBTR+HWQ1RZnajMUUSG+KMMiKVnvzziDBJim0TsbfO4/+Ff89jzb1+Tpg3n6S9444OtONJG0D8rk7SUNLIKJvOzKWm0Hl7Gqx/vpLlNRG+OIDLIgEKuISAqjsSUnuQO6UsPZQPnjpzkit2FiJuGc8c50+xPclYaKalp9LolnzixhuNFZ7E4XaA0YI6IJsSgQG4MIToiCD+1Ep0plNgwf5RyLYGRkYSatGiMQUREB2NQKjCGRBMe5IdaqcMUGkuYvxK5NpDIyFBMWgVqo5mIKM+9fiExRIQFYVRdDb9Q6AMJjY0gUC1H5R9GVFggRqOZyMT+zH7sP5iQoqR01ad8teYjFlzI58EHJzIoM5ZAzU2GASj0BMVkkhIXRkxiAomJiSREmlAr5PiFxhJuNqKSiR16S8r06m1UPnFSHSeKz2FxuFAazERGhWBUyjGGRBPRSRfhJiUKbSARkaGYdFqMQZFEhRhRyo2EREcQZFSj1JkIjQnDX6lAGxhJZIgJhcYPc2QUwUYlCr8QoiNCCTKqruZXoScgNJaIQDUKlT+hUWEE6lXoAyNI7Debx34zgTRVGV8t/IrVHy3gQp/7eWDiYLJiAtHIZQjIiBz9JB8s+YzX7s7GrL+JllNpwBwRRYhBidwvhOhws+dUzfqDbD9cRZtD2WE3cscxPntzAWdM/SnIzSI9JYWMgZOYNDyNcD81MpkSfWAEUcFGlAoNARE9iE9IIjExkcQeoRiUCjSBkUSGBKCQy3CeWck7H23BmjSU/Owsj48MmMQDU9KxHfuC1+fvoKHJBsjRBUYQHxVCQHgccfGJJCb0INigQKELJCIihACjP8GRkYQYVV10Lu9iZALa6JHMnjuG/rlpJCVlkJsaitB0gZILDThcIs6Slbzz9y1YEofQNzuL9JQ0sgZM5P7J6diKvuSN+Tuob7Kj0AcSERmMUSlHY4qkR0IKPXMH0ydOTcuFIk5dseBwu2k4f4KSJiMJPdNITUuj18i+xAsNnCw+S5vdhVJvJiI6GKNSgV+wxxc1Sh2m0BjCTCpv/kIJ0ClQG8xERIV4fdHrt3KBhoM7OFLZil1hJtJ7r/vUKj5acxFJI+KwtdJqkQhIiELTWMb2z9fS1tRyM86H3hxNRlIc4bEJxCckkpgQSYBWgdwvlJhwM0aVQNOFk5Q2GUnISCU1LY3cUX2JkzVw+vhZWu1OUOo9tmdUoTAGExUejJ9Gic4UQkyYPyqlloCICEIC9J46KyoEo0qBMTiK8GCvnkJiCPNXodQGeOxAr8UvKILIYAMqpcdPQ4P8PKFTXtl1ASHERASiUarwD40kLNCI0RxBQv5M/uPXE8nQXWDtktWs/mgB53PmcM/EoeTEmdH+WNjZP8JWxPJ3F3HKkEe/nGx6pqSQMXAiE0dkEGlSI7vhDo0CfWA4EcFGVAoNpohYElJ6kjuoD/GaVi4VneKyxY5LcnHqq/msPe9CKTqwtbViEQOIj9TSfG4Hy9ceovbcRaqOfcPyYg3p/XqRnZlKanovht85l2FBlez6+G2+PFZNi/PH87ni3UWcMvSmX06ON58TmDgigyiTGrkQxeBJ4xjQO4vUpB6EGJUoVH6ExsSRlJrNyKm30TetLwN6xeMvF7BIUYyYPY+HfvUYz735Go8ODqS1aAVLvy2lvtVO44WTlDYZiEtPJTU1jdyRfUmQN3PmxDlabA4kpZ7ACE+9oDQGExUehL9ahc4UQnSYCbVCR0C4x8a0fmbCI0MwqpT4BUcRHuSPWiHQcHgXR680Y1UEEhHpsTGjOZzIECMqhR/BUWEE+atR6UyExIQRoFahCwwnIjQAldaPwPBIgo1qlH7BRIaHEeynvlovKXSYQqKJCNSgVPkTEhlKoAg2Hx0AACAASURBVEF5UxOF/7/zk1srISiDkXdMJVgxgdv6vs1vn/6Cok0LeeHUcc4++xq/vSUGbdwoZk8/iq7UyG15IVhLd3LgXBtOESQsWGzi1T0C3pAuQR9KjwgjKpkSXWYGcWoFR2mhfH8honM0oAJBdtUpBQFBrGfH0h00GhR4WvKrsZjyuFHMnnYEXZmRW/KCsZXtpPBsG063R4a2DhlAENrjrYWrsZzC1RjsdhkVyQMYJNehkgvdzz7IjGQO7INc/V88GKq+TJXdEz8s848gMS6BVH8zY/u8wbdfnqN4/UJWHZ1C6iAtN9MPuRahPS5d6NqA473mybObi99v5lCjnExnIzWVduSApOvLXf8Zi0WVhkELp7d+w6F6M7dkBKFVeZ7UpE7miVcH4fSPIlIHsQYdShk/1LWgI2VAf0SdErtJg1zuR1RGFqkJkfgpBSJD5jFz0BL2f3WQwlMWZiYHoDUmM2nuGD7duYKlyw8yIXEYEfpGtn11nB633EWUUYMcd0fWJGcdx1d/yVoxn0eyk0k2e8IenQFDCNHpUF1Prv59ELUqlEIyk+aO7njf+MThaA2NbPu6mNhRs4k2mwmUm/HXyJD5RdMzO43ESD+UgkTI3BkMWrqPlQcLER0zAaU3Dtlr31Idez/9lCJzIiGqXVwSZJ4yUekxBQbir5Ej94siIzuVxCj/btKcSsmm1Xx/UcbwlCiMau9eM4UfyaNHkP3XjWzcsBnHfw4BP5333RJIItbaUg5/vYK99Qaypw8iQa9GjoL4aX9m6QA18WE2SjcvYdu+jZxuttFqsXTszUEQPGnJZF38w5O+0MWsBMHTsAtClzs99whd90d0+K9M6H6PAO1pdX5OSUD6BH79mz0c+d0aXn+5mTuff5GBKSHo/lWfB5As2JQGAn+Q3/a/FMRPfZHFA5TERTgo27KU7fs2cKrRSts1evPkvTu/86Tdqdry6rnrxfb8X1VAJ11e5yOFMkH4ga5RBpA24Vf8au9RHlv9Bn9rms2fXhxIaqgORUcmBbRhGQwIEpHd7J6ha2VFQKrfz6KFxzD1CEKtbusYxDlLtvPtoVr8H0klSK/2NNiaZMb/9mX6OwxEBOlRCuJ1Yvq9bxKuhqyVblnL9xckBiRFYmyfuVf4kXTrcLJf2cD6b7dg+81QCNQAIJd10xkVOl/rlA9R6uZ4UDkxI6cQ5heAQe6i6fw+ln5RiCt5AvPGpeKvFyhdto7vz4v0T4rET3NVpmSvTOs2dZKpo+wkRFsdZbvXsnJPDZqMCQxM9EOrVBA3+U8syFcQG+3m3NbP2L5vIyfq22i1WnGLYrtSQOAH9ue5LHSdNPC+U+atM+oLF7PomB/RZjWa1vZ73ZTv287hOjfRjmZqqySaAEnbi+mPRtKqSCLQqL6+OfwkJKx2JQY/ObLOEZrtvoCcHpOe5dO+CmJiJc5vW8aOvRs4UddGi8WK6P2uotBeZrL259qT8fwlEzo1h13y3nHRW+YyT1reqzJBQECGgIT0Q0PoVCd2uq40kTruFzy67yiPr3qH15qn88zzBaSHG244nLcdV9lONh+qxjAvmSCD1uM76iTG/frP5NsNhIUauZEoua75ASQRW30Z369fyfdVKlLHFJDkr0cpllO48zC1rttwNNdTJbQgIKHJmcoj4bchS+yBn6KY5isXqPIbRkKQvuMzLprgPEYVxLPwwB427b7A1DgH5y6VU+89hRdA0ESQkZtIwPldfHeoGv3crvkc++s/09emIyxMj0xuQN/tZ0wEdIl96SNqULj80SoUGCNT6ZmSRFyoBkEK4c6pg/hy3+ccPXQaiyWL2IlP83EfOVHxApd2fM6OvRspqmmhJcTaae+5t5yFzhZyjY1dvejxO0EAQaLx4DKWHtMRHqBB19jN8+1tQafnPf/9sF31tI/d1Uud5fv356d3mTUmIqJjifHT0CP8N9yz8Vt+t/oCZ2pr+PDN/tw+4FHyTDlM++2f6XNyD1vXP8VvqkMwOds3aEldD1nw0t75QQDBYMJf411lqqtG6u4BJFoLl7FFKiA/egVfyQSsnW6TmbKZ+ts/k3dyL1u/+YNXBrHj2W6TFCv5/tNXeHGjFtm5A9TZXEidjUtjQP+jyhHQ6H/8jn8VHVJJIqIEkiKYlKQwVIqLuFtOUlRqwdlf4sYDr6+HxJVdn/A39zfeIywtHDvVgr1jGcpN1aXLWGyJhPfuz4AII6rOcsvU6LQyKi9WYLHH4nTT4XyC2kxsivknyCCgMhgAZ8dsmqbT5mlBHU5uzyjUa47T1NK+6VRJyKA5TO39Fa+sWsy3d/Zhmu5bVpenMalPGAZVp8MqpGoOfPYyB/buoTH/KTq39kqDgeuHyrbLdfV903p/zStfLWbTnX2Ypt/EmktpTPhFGHqVDNyechQUas9mfa8DqMNzyIjSsLqoGUm81lBtlKz6hA2uPCYMusghjZzy7kRRaNAoZNdJ08HFkrO0uNwI8q6tqCI4gR5mJeL5CiR3p7VF6Qq7PnkVq6GRUzu2UR/Rl9EDUgjSKJAhoI+MJeDoEt5+/gqmzP70G9WHXR+v5Ww3AaPSld18+tpf+FavQgAsRSdosnW3jilSuXsBr720yRuvbqHoRBPd3orI5Z2f8rrtKxx1FdQRRtYtM7hrTBah13MBhT8pY+Yw9pO1vLr3GKcr7SD+yFa9fxbXJcrdQaTJ5cgFutGEV2/HlvDui5fxy+hH/5F92P3JOsraG6VO+av8fiGvv7QZg1oArBQdb/SEEF+LWMn3C1/npc0GPLcWcbzBiqsbEcUru1nwhp01znoq6iA0cxQz7hpDduj1e1cK/xTG3DWGT9e+yp6i01yxg/gDrQnIFTeza/I62Ev4+rONOHJGM7D8KDrlpY6f3JXlXLbYCPbMunnFUBMYk0Rgx10/NWTPxaWSczQ7PD7SuUOhCI4n1qxCLLmM5Oo8DX1Nx+M6SJV7WPLWS2wUG7hcKxGcMYLpd40lJ9yAxhyEBommI18xf9lKVp9QkTZsOANSzWiUbi6VdpKpU5ryoDhizWqkM5eRXJ1LWqJyzyLecPrTemYX22pC6DW9P6nBns8vKCJiCCj6jA/+Uo4hLZ9+w/P4fsF6Sn8wQBap3LOYN/+6DT+NDLBSXFRPW3dG5X2vvXQ18zfayLytgMvH9CgvXk2ruuIKbdYQwnL60j8hCG2XiRAV/n66f6zIH8VFeYWbwAQZim7bQAF9RAwBxcv44KVy9Kl96Te8D98v+obSjgFKp9xU7mXJWy+z01+DDLAeP0Ztm7O72o3KvUt46+Wd+Hv1dPxYLW3O7vz0CnsWv8VLGyUaL9chBWcwYtpsxuRGXLdDpvBL4rZZo1m07lV2FJ/hilXE/S+osVxV5Vxus2Jwurk6S6wmIDqJgJtO3YtUyZ4lb+Fab6F093aqgrKZ0j+NEL0KuVhDRWUbVlMo2X36kRKq6zqJoNJjrPgerSAhkwldVyYEHQk9ItAq9lJ5uR7ruWO89+Ii9l5sxOHNijxyAi9+8B8MriznSpsVfUfHw5vPqMQf5rO7fqpKjx5wevsECrXm6mdMBDVhmWlE6dWUt7TidkvoI6MxFS/n7y9fRJuUR/7Q3iQs3UCJ58imruqp2sdn77zCngCtx8ZOHKGm1XGdLRcS9rJ1LNjSRurw/gQUG1FduDk7ECv38tk7f2WL0MyVOpGg9GFMmTWGXlE3OzHxv4sbWj9Q+MWR1zMC1bpL4LBRfbSIc3YXuShoPPYFb726nH22XjzyzFS0i1awbA8/sS3q1KhodXTbPbGfYuX6ntz6SG8oVf4wpEWQaCz6grdfXc4+ay9+/swUdItXsGyPcH0ZBBOpw8YzOdOEfE8JS746TJ31X7r55l+CPCqGcLXC08FqaaZJFJGQYTL5eQYE0nUGe/8SBALShjN+UgYBOjmCWIdq70I2t7b/LkOtVkPjcY5dkjMjLQhjx5SSROulSwimIDRaDYLjFIUH65jTwx+tur3zZefMviLic7NQqFQ/fP1PQoZGq0YmNxMSrKS9vy/zy2DanJEsfnQji748TLxuNa29HiYzSNd1Zk0wkTRsKim2Y/x109u8OSiXv0xJJUDzz3XuZEbP+xb9YgOLvjxCvP5rWno9TGaQns5jrx8+qEWrliE3ByN0mdYUadgznyW2NCbNLCBVW/vTT1/qkqYCrU6DIF3m0qUmnK5IPL1mQKZBo/Le12WgFEDaiPFMT/eHsQUsfuUtVr38AkERrzOvt4ELn/2R3y1oZNAvHmZM31R6GJ0EqLo/3VAISGXYuElkBulRCCJ1mkKWbGnu7k4CUocybmIWwQYFgliHpnAJ3d6KjIC0YdwxJQ0/ytnwytPMf+4gter5PDH4es7g4vLuzdTlzeLWqkV8//5brMn7KzMyg7jB/f5dcF8uokofj1mhRAH8MHrDxoklT/PYgnoKHn6IMX3TifNzE6BSdLOyLGBKGcrYidmEGL26OLiUrc3daFgwkTJ0LBOzQzAqBMR6LQc/20ZTNzLKAlIZNm4KGSaB8o2v8swnf+JQrYq/PzH0+lW16zK7t9bRe+atVC3ey4dvryHvpZlkBeturCH5qYgN7P30M9zp45k6IB3Duq4r8IJWg0ZwcubgIWqtSYQYdR2/20sPcFyXTnroT931K6DVaZBJ5ym/1ITDKUK7/8vVqFUy5IHBCPKrOXa5QSb7xwMiwZTC4LGTyDbLufLdGzz78QscrJbz0VNjSQjUIkNAF9efO+Ym0Ct1IS+//w5/khv54DdDPDLRQHl5Mw6XCO3H9Mi9fhsYjCDvshRCQMpQxk3NIUgxjoKlr/HOutf4c3A4f5uXTePa53h8QQ19H3iQ0f0yiPeXCLzmhLv2dEwpgxkzsTfhfgoEsR7dkeVsb+w+j2LDfhYuk0i/YwoD0o1sUHZdIVOr1QhNJym+JDAzx0yQtr2kJNoqyhFEHchvYrnDfYXj1TpiApWe/Q0/GLTZOLXsTzy+oJq8+x5gdP+exPvvxKzuzvdAMCUzePR48iJNKAWR+rVH+aLbzAuYkgczenwekSYlgljP2qNfdK8nWQApQ8YwKTsYxeVNvPGnT3jxUDXy9x9nxHWrrCvs3V5H9uQRVCzbx/x315D30mx6hxtvyvdkGg0amZPSw0eosaQTYTJ0HADlKDvIcW0KqSEGbup7poKJlMFjmdI7FNUdg1j2+jtsePMlgsL/yj19lKhV0HzqOJeYSW9zMLoOk2jjckUrQlgCCWYd22qqqbK7cEp4v2kpoFQqEAQ1JrMJTUQUk+YZyW+2dTSxgjGJdLMeVZUWjeDNZ2s6kSZjp3we4oQmmeRQA7obzKdMo0EllxMYFIRC4ebU8r/w1IIr5Nx9H7cXZJJg2s0qbTf9VTw2Nuj28eTHBKAURBrWF7NqR0O37xEbD7BkuYKMMRMY0NPEd+ofO3DrpyGYkhk0eiK9w9Rc2fwWL376EgerZLzz+KifPIX078AN1joO6uubvce2CijCo4hQyBDPLONPz77Pqp2lBI2cxx35qYTo/oljn22ttNolJAQMyWkI3cwwusvPI/W5g/49TKi6sSzXmWU8/+wHrNxRinnEXO7ITyNE110l3wlBQ2BsEimpaaREBVyzufW/F0nqNLspdp0llocOZEimJ15UvHKBC1Y3bgnk3hlMQZVAeorWOyNmo76qHuu/8FAHjTmWxJRU0lJTSU1NJMzYWa9y4nIzCeYCX736NhvPNGD3njcq1u9n8bJdWKwSKblZmBW1fPfB39lxqdV74INE09FlLNnTiOWf2j/rxumSOoVIWbl4oQp3eD8GpelQd8wMqom6ZS4TMyROfPZnXljlos+oFALaT1frQE1ATA4THr2PAvVZ1r75AZvLW7H/0zWCmshRdzOxJ5xY5n3fyGQCdNe8z+3C1bmIbRe4UOUmPH8gck2nWRn3OfYc0zN43DByY/x/3D7dTlySdJ00jaQPzCdK46R4604qLFcbDWzVVDcK9Bg0HIVGezU9QYM5NonUjGz6DJ3E5DwDNSc2sn7vFaxtRaxbuo79reH06ZVGQpg/Gm+NIkn8MHRNYyY2MZnUtFRSU1NJCvfrdIR+ZwTU5lgSk9ttLYlwv+vHK2uDYklMSSer93AmFkTQVn6Ybfsu0GbvftRpO72Cj7YbGDXzAZ56chrRNZt469WVnKi3dLuK8s8hcnn3CdQ9k9Fr1F3Ku0MdzhN889k69reEkpebRmK4f0d/+4en9wtozDFddWFUdt9fFDSYYxJJTk0jNTWV1MRw/JTy7it5jZnYxBTSs3ozfEIBUdbLHN62jwuttuuM1W2c/uLvbNeNZMYDT/LktBhqv3ub11cep77zMoHkqXcs7h8/xvqfQTy/jyJdAbcP7UVcgPoHdqBKzKFnkIqGbfP5ZMd5GrxLiFJzMV8s20Ody470k6t0FWkD+hKld3Ni+24qWjvtwbTWUNMkEDtwCEpd+wqGSEuLC42Gf7zXTBNITIJX5xMHEuOo5Nj2/ZxttXXYndI/goTUHArG9iey7Rzfr/oWS6uTtP59vDLtorylk51aa6hpgpiCISh1XaMT1IExJKakk503hEmT8vCvP8133+zlcsMh1n2+nn1NwfTKSSMxwnsyJCD9wAAFNIExJCSldNhfhL/qOoEHIuf3F6PtdxtDesURqLn2OG85sVnphCgus/6d99hwvBqLd4VTbDjIshW7aWq2/gMl/jjilT2cVKWQqNN21EWejHn/d55kw+fr2dcYRG5OGkkRJrTevIvdhY1qAolO6FRnRfhf92hoTWA0CZ38NMJfdZ0jrzUExiSQnJ5F72HjKYh2UHl0B4XnW7B2WwHZOLPqU3aoBzHp3id4clo8TTve580vi6j60Y0y/xhlQjbpwRqadixg4fYy6iztvnOclSv2UG2zId107L8nvynp2eQNnsDEPgE0l2xmw54KWuxR9EwLRVG5gfc+2EBRZSuexTSRhkMr+GJXBU1CLiMKYvFrOcqeUw20dZzo4KKyqgaHLpMh/SPwj+rJ4LETmTZjBjPa/43rRw8/DZqETNJDNDTtWMjCHWXUtnXK5xd7qLJZ/6l8up0upE72Yi0vp9oZTG6/VPTqc2xa8Q376gPJyk4lKTIArXdFV7qmTweAOoCo+CRSUj02lhhh6nrUewciFw8cR9NnBIPzEjBrux/A/zjdxCloAomOTyY9qxdD7ygg2lVN8Y79nGu0dDORB86maqrqLdf9fMT/Vn5Ul3aH42qB2+3YRJAQqStcwCebyrE4JOSmLO78xTQyjCqaD25h26lKmp0uRJkSWe0BDp317BkCB3b7Dw1BtNRR0+JGFMFReoZzNheiPILhE4aiUntXCEQHTu9ysywwmxGDEzGpwelweuVz4nJJgEjDwS1sO3XFI4Nciaz2IIfKPIcOgAO7o73zLOJ0tS93uz3nqUsgujzfDJAAp8v1Q9NxubydTQm3y3ndT6PeGBItrVZvpSxibWvr4nCoE5l033jSArQIjYfYc6QZh9NNbW0DLlFG6LBZ3JFiRCN3c3HlH7ln5nQenV9EY/fxRT9dKqsVmyjhdLk69XCt2OwiktPlXZIWMBXcxd2DQmg7tIgnH7yPXz35PC889zsefOAVzoSk4laoCR45l9n5QViPLODxnz3MY8/+iWcfe5B7/rgDU04yis7HlVit2CTJW87dCCZWcGTfWVocnnKylXzN57tg4Nw5FIR5V2G8yE29mTV7CKaag5SGjWREnJ/3eFyP3q1WO5LkwOmU4Z82hV/M64f23Cre/GgHFa2OrjMk7XI5nd3VLVffN2swAbWHKA0bwfA4/45Y53bcFYfZd7YFh0sCbJR+vZzd0gDmzBmIQa8CJGw2O6Jgoueo0fRLCkarkIHFil0ScbkcXe0DcFccYf/ZFuzdpqnGPPA+Hrw9Aee++by79gS1VhcSVkrXreWY3yjuvXsARoMKELHa7V07CFIjl8obcLj1BAXpkMsFnDYbjgu7WL1pD4W7VjP/nTUUN1mxXS7iu5Ur2HKuFbvLitXmsZXOHmO12hBFFy7n1XpBatety8VV5XqeF12eWcGOuQKbHbvYyQPdDZwpq8QhGomONaOUXDjcEm6Xi/YpAalhHx+/X0jQyNvpnxJHxphf8Os7Iqje8javLD1CbVs3Pv9PIDUWsvKAkQG5ZvTe3pjkdiNKEnab17cFcNjsOC98z5pNe9m/aw3z31lDUYMF2+Vij97OtmBts2IXRW891NXvRK/ftYcg26x2RNHZUY95Fex9vpP/iF6/vao0GkvKqLS7MUbHYlZKOB1uJJcLt3g1xLlh/3w+KDQz4rZ+pMZlMPqRX3JHZA1b3nmFpUeqaXVKgJvzXz7NA3fN5Nfzj1B3/Viqn6hMK1a7BKYMRtzWj5RQPQoZWG1X7UaSQAgeyp0z8wl1FrP0Dw/zi989zXPP/p6H7n2KLZpU4v10qGVeX5I8bcnV+ROPjlwuR8cejsCCudx/WzLSoQW8v7aYqjaPj5R9s55juqHcfVcB/o4DfPjMc7y7YhVfH3ASGKREoRQAOza7hOjqNCkh2Tz23/FSkcaSc1yxutBFxRAkq2L/6nV8X1KHzduOtZSWcKnVgWAOQZArCSyY55VpIR+sLaaq1YmEjbIN6zmmG8KcuwoI8PdMoEjX+gUSjeWXaXC40JnNaJUKXF77W/vdHvbvXMOn767mWF0b1soTbFn1BZvLmrC02Drs71pfdLtcODq9Q7LasItgSh/Orf1SCDMokf3gXgH/fjOZNSgCZ/HnPPvIg/zy8Wd5/rnHeOhnL1NsiMWl6jQR80/bSxMHvz6EPi8Ls1HnmfmX3IhuEcluwyZKiIKA027HeXEP677bwz5v3o/WtmK9coKtq75kS2kjFqfN42cOV5fJJavVjuh2dtieR98ePXm+79JJT3YRt9OFU7rqR1a7A3en8A13UxnnKm24DVHEmFUIbgduyYXL1W4vEg0HFvJxoZGBI/qRnpDB7T//BeNjmtj5wat8duAKTY4br7GEoMHMnNaPCOkky579JY/+7o88++zv+fl9f2CTLIEe/gbUNzwYkrDZHR3fOvNcaqLicgM2l5ZAsxaF0kT+9JkMinJzcsWfePTBX/H4s3/iud8/xEMvH0UbHYBaH0L/O+cwPKaR7/6+iB0ltVjd4K4rZO2OWpIm3cPErHD81Cq0egMGoxGj95/B+w0mWXs+Ocnnz/2SRx/7A88++zg/v/8PbBLiiPU3XB08SzasdgnR4exUdp0RuVJ8kLONFk/fx3aWb1Z9jz17MjMGxRKol+O023Fc3Ms3m/eyb+daFry/miNVzVgqT7Jt9Uq2lNTT5rRhs7v/H3vnHR/VcS7s52zvK2lX0kq7q446IBC9mGKMbWxMM8W424nTfFO/m8S5uUmccpM47rHjEjd6M6b33psECEkgQBKo9y5t3z3fHyuqhUNsp+/Djz90ds7MO++8U8/MOwS8N9qYy9XblnsDN9qYHwzp47lrRAaxegVSXFf7Au91bXXwfR++63Y+4g8gIuJ2uwlcsT/Rhfu6uzbBT0f5JRqcPjTWOExKAb/Hh+j3cmVXdqBmCy9850nmzn6aF7Zc+KfcQfV5kf7iF7/4xc0PxbYLHN63nVWLVnKwrCOo6M4m6psryduyhPcXbKLYYSJr/Gye/clzfPXegcToZEh7itm47gjVXS7aqmvoMaaTa65k7/FKut1dNHVoyR6dS5y2gX0fLuNInYOA1kai2UdbQzm7FrzHunN+sh76H57/2gQSwxRIxAbylr7Le+tPUefyIwaUxAwfzyD/AT54ZzV5tU58AQ+S8CyGDO6HRSxh8/qjQRmqquk2pjEksop9xyvpcnfR3KEle1QOqrJP+OC9dZysc+IL+FBED2FMto/jyz5g1dFKHL4AXiGMzCGDSbMEL4wVu8vZu/h9Fu4+T7vHTyCgwTZoCAPsN7tK/WsR6b6cz6HDO1m+YDn7L7Ti9gfwdHvRRGqRaqOJCVMhlcgw2DJJ0rVz6VwBJ8s8GCXnWL9iP13p83nuZ1/lzpQIVFJoz1/GG0vzkeY+yPQhMWg+10nLAC1F21j24SLW5VXR6pASZrGRbOkmf+0CPly+nwuNnfh1ZmwJqVijYknLTsLQU0nxqROcOFVEWbOExEmP89UZw7EalUg10aRlxaNsLaMg7xinzl6mmXgmPvwV5o5L7V1NDNBYsIWPFy5m1eFymh0CBk0AiSmpd1U8QO3+BSw74iTC5KT05HGO7t/Bxh1nUd7xNP81fywpEeqb9hfLMVrlXNhUSPxTP2DWwCi0MgECrRRtW8ZHi9ZyvLIVlzwcozmJkWMyCZzexMbdJ7jUBeHx6diMMloKt7B60SJWHS6juUdArw4gNSdhuXm1XpBjtCq4uPlMML2c6GB6AIFa9i9cxhGHCbOzlPxjRzmwYyPbzykZ89SzzL8jhQhFJ2d3LO+VqwMhPIns/lmY206wdsGHLN93nsZOEZ05liHpsSgkDexfuIyjjggiXKWc7CtOlQyJ2kRSVipm1yVO7NrOrsN55B8+wIm6SCY9+RVmDI8nTN7JuZ0r+GjRWk5UdtDd00HV6f1sXrmcHZeUDJz9Xb49eyjxESYiZI2cO3WMIyeKuNRhYMDEUYRXHKOwxkPEsPuYnOzk5PrFLFl7nIoWJ9KwaKxJFnpOrWfhR8vZd76BDr8Wk9VOVPsxVi9azNrjFbQ4pIRFW0my9HBq/UI+Wr6P8w0d+LUmrPEpKCv38PHCRaw7XkV7Vzctl0+yY/UyNp0VyZz5XzyZ46ZwyypW7SqivsOHKjyGWE0pS3//f7y1vZHYMZO4IzUSVaCR4t2b2XK0iHNnLtDg1hKbnkyU5q/1nOOgdNci3njhZVaXuHA1nufk4QPs27eXHVu3sbewhpYeAaMljtTkRGKVLZScDuqtvN1A/wmjCK88RlGNm4hh9zBUW86ulctYd/wyzVd1/pocPgAAIABJREFU4eDUhoUsWL6PkoYO/BoTsXYz7cfXsHjJWo5dbsYhDSPKmojFcZqNixawbO85Gjr8aEyxDDK1sX/NEhavO05FWxddLZc5uWsNyzaeJZAxnWefHISneBsfr9xJUX0HXlUYFls/KHif3/36TbbXWxg16Q7SotQEms6yZ/MWjhWe48z5BtzaGNKTInEWrODdlacRBk1n6uBYdJ9zJBVoPcvOlQtYtOYYFW0QlpRJdmYkHflBu9lbUk9HQIs5Np40mwVrRjbx6g4uF+Zz/FQxlxoDWMfN48m540k3u7m4exULF6/h2KUmeiThRFmTiHEUsHHxApbvOUd9hx+dOZbcNCtqfRSJmalEeio4sXs7uw+fIO/wQU7Umhj/2JPMGJlEuPs0S19+ixW7i/EPnMEjUwZjajnFzk0rWfbxAS7WdRIwRGIxeijeupxl645xuaWTztYKTu9ey/KNhXj7TeVb35nP2H6xRKi6KdmznrUbN7FxzRIWrDhCS/QEnvnB04zJjEGlM5OQmUqku5L8PdvZdfgEeYcPcKI2gnGPPcXMkUlEqKW0n9vNqoWLWHvsMm3dPXRUFXBgy0pW7ChDmjWTZ5+dw8jkeCyKZs4XnODoiSLK2nVkjx9JeHU+xTVOwnLvZqjuMntXL2fdsUs0OiQYo2JJsjg5s2kJC5fv5VxdOz5NBLFxKahrD7Jm8SLWHLtEq2gkITObrKguTm5cxILlezlXF6y3sXH9sEbHkpaVhNFVS8npYB9R2gi2cfN5auYoEkzqz+WxylG2l6V/+gMvf1xMl6OBi6ePcmDfPvbu2Mq2vYVUNfeAIRp7an/6GTooLTjO0ROFlLXpyRo3kojakxTXODHm3sOkFC9FW5exZM0RLjX2IIRFEZsYg7NwM0sXLmfP2VravBoiYu1EdeazftkS1hy5RGOPQFhULIkxTgo3L2Xh8j2crW3Dq4kg1h5BR956li1Zx7FLLXR2tVFxejdrl2+kyNOP+7/xOLniBXZ+soqdZ2pp8yoxWmLQX17FK79/i801ZoZNGEu6RYvYVMK+rVs5euYsBRfqcakspCZFo73F9uTPRKImKiWdeG0XlcUnOX6ymPIGPzFjHuSJORPJjNH1uQPnLyK2U7LnYxYtXsPR8hY6ezqoLjzItlUr2FEqIWPaN/nW7FGkRGrQmpPISAzDXX+BgrwTnCospSFg5Y55TzBjdD/MajlqUyLpCVrazx1k+7Y9HDl2hAMHi3FnTOeJ+XeTYzV89hhMoiYyOYN4TTdV1+dz9IM8PnsCWTF6FBKBQHMxO9ctYcmqA5yv60DUqQlITcRFG1DJJQTqj7Bi1WHa1QacFYWcPHaAHZt2UCzkMu+ZeUzMtKBV6AmTtnCx8ARHTpyhtFVLxtgRmOoLOFvTgyHnLib2C3Bu2wqWrj1CWX03gjGS2EQLruJtLFu4nN1F1bR61UTE2ojsOsWm5UtZc6SMFr+B+PQsMqO6ObNlKQuW76aoug2/JoIYm5muU5tYvnQNR8oaaOvuou5sHkcO7GP3tm3sOHqe2g4fWlMsA82dHN20gsVrj1De1EFnWyWn96xj5cZCXElT+NrjuUjK97Dm450UVLXiVhiJsqZiE4v4+P3VnCgv52IgnQdGpmDSf95jDf9cCOLNS8sAnm5a2tpoqqmmuccbnDkKcrRGA0rRRY/Di6BQow8zY7FaCFMFK6HoqOXUnm3sP9uBod9gcgdkEq+q4uCW3RS1akkZPp6xQ/oRJTvBz8ZM5aWTzXisj/Le6u+T1VPBuXM1+KOzGDRoABlxYSglAohu2qpKuVjVhtsfQJSoiUxOJ1HbSfn5y7S6/ARECZqoJFISLRh89Zzee70MGcSrqjm4dQ9FLRpSho9jzJB+GD11XLpY2fu+FJ0lhdQ4Dd0VFylv6sEXEJFoIklMSSLGqAxugfD10FRRSll9Jx6/iKAIw5acTJxJc5Or1L8en6ONts4uWmprrupckOmJslkwR5gI115xgSvibq2k7MJZzlxoQlSpkavNJKSkkpoc0+teWMTdVEpxeTsqWwb9YrTXDvv9VYh4Ohupraqips2JqAwn1mbDapbRVV9DVXUT3T4Z+uhY7DYr4WopEtFJS3UF1Q1tdLkDyDRhRNsTsZvU17YM+B00VV6mqrEdp1+K2hiFPcGGSSO/lseOBupra6hpceCXG7FEm4iIsgTTELzk/WoiU1928ODbr/FYRgQ6mYjXL8EQE48tQt3n9oRAzWK+8q1zzH3lh0xIMAa95IgeOhtrqaqqpc0ZQBkRS4zFQky4hJaLRZQ1e1FGxGCLs2HWSPF2fpZcn07vq8+eY87LP2RCvPHalypvHr++cyov9TzIW68+SqZJj0z04ZfoscTZMGlkSAjKVV1VS6szgCLcRmKijTA6aKiupKq5G59UT3SsjSRrBLLASX496QFe7p7Jm68+RlZfcV79EOamvbaK6oY2XIISlVyKVB1OjDUao0qKgIfOxjqqK2todYJCb0CnEPC7XXgENeExduyROuQSAW9HNWXlNbS5BJTGaOITTHgrz1PRKSXcnkxCeIC2hhqqalpxBpSEx1ixWc3IuhupraqmqduLRB+F1WYjUtZNY20VNa1OAspwYqxBW+turA3amleCPsqKzRaLztdCfU0VtUEB0Wvl4HHiJiifRe2iramOmoYuPIKGyFgbsREijZcraHQoiExMJiFShyzQTeOlMi41duENyDFE24mLt2BU3mJ72a0I1LH82bm8VTuA++dOZ2xGMA5BAF9PE5WlRRxat5Jt4izee+1J0pXtXL5UQ5vzOr1VXaCyQyDMnoxV7aS5D1309Oqi64ourGZkPU3UVtXQ6gygDI/BarVilvfQWFtFdVMXXomeKKuNJLOM1qbaYFmgQK/XIseDyw2q8BjsFhWutmbqahrp8oDGHIPVZkPrrOLS5Xp6FJEkJCcQpZMR6GnkUuklGru8BOR6omzxJMQYEVvKOHe5A6U1jX4W3S22Qf5lRE8XTXVVVNW04ggoCLcmkGALR+hsoKaqmqYuL1J9FLE2G7ERGmSSAI7mKiqqGmlz+JCqDETa47GZdSgEL11NdVRV1dLq8N+go6baKqqauvFKdERZrSTFmpDLJCB66Kiroqq+9VodUYVhsUVjVMqQeJspO1tOo1OC3ppESmwYck87TS1N1NU00+OVordYsUbq8LXXUVPXijOgQGvQosCLyy2iDLNgt0dhUEoR/A5a6upo7nLj9ThxuEQUhijsCbGEXznL0ytTdX0rzutlskZj7A3j7WqirrqSmlYnolyHQatACLhxeQTU4RZstkj0Cim+jhrKL9XQ6hRRGi3ExZvw1Vyksh2MtiSsGhctddXUtjrwK8KwxNqwRcrpaaqjqqqRbq8EbVQsNmss+kAbjTVV1LQ68MvDiE1IwB4u6W1Xg2F1UbFYrbGYtHIkoovWmkqqG1rpcvmRqo1E2ROwm7Sf014C1K/6Ho+8VUG/ybOYMS6bWKMq2Cf7emiqKqP40AZWbffxwJsv8kgytFTV0OoQURqjiYs3B/PeAUZrMgnh0NEUbLMcfjlhlmA9kzuaqauqpqnbg6CNJNZmJVLuoLmu+mreLVYbVrMcR3NdsM3yCGgjY6+9X11Lq1NErtWjUYDP5UFUGrHYLajdHbTU1wTvOtKYscTGYhaaqaxspEduIi4p6PJZ7GnicvklGjs9+GV6oqxxxMfcamvV7eDH0VxNZXUDbQ4fEqUBsy0Ou1n/BRZ5g3WuulfPcq0erVJCwO3CI6gIi7Zhi9Kj7F1BDLjaqK2qpr6lE7dfisoYiS3BjlmruDo5vhKmocODVKFAJpGjjbRiNetuU84r+WykzeEN5tMahy1Sj/LKNlFPJ00NddTUtATrcHQUERGRWMKDtuk9/RIz5rxI7bhf8dvHh2A3KRB9fiS6aGxWE7reCam3s5ZLl2podQRQGKKxx5vw15VR1S5iiE0iPkKgq6mWqtoWHD45RkssVmskCkcLddVVNHUFbSzGaiVK4aS5vpraFgc+uZGY+Hjs4VK6m2upqmqiyyOgjYwJvu9sob66lhaHD5nWiE4pQyoR8DtbqSk/x8l9G9lcGM97b36LcJ2PqtpWHAE5Wp0GheDD5QnWCZtFg7ezhfqaRjpcImqTBavNhlneweULFTSdWcwfTo/khe9PIcWq/5w28k+G+CXjd3WJbS1tYpfLJwaCT0RXZ6vY3NIhOr2B4DP3EfGnQ82iWoooS/iquK6uQ+zqahNbbnjvbyzDvzp+j+joaA3qzOkVA/8WmbpdPOKJX44RLWFDxef214td3tt7p+Sdx8VHXjgoVnd6/g424BFL3n1CfPSFA2LVzel5Toi/GmsRw4f+WNxX1ynelvh/MbkT4q/uiBHDh/5Y3Fv7JcUZ4vbxVYrvPftN8Z19RWJNh1P0+q8r8YBP9Djaxbqzy8Rvf+sNsaChI1Q+IUJ8afjEqg+/J3777d3i6cp20enxX9feBkS/xyl21J8TV3zv2+IbJ2vEtlDlC/E58Zx6Ubyvn0Uc8t0N4oVG17/OWDLgFz3OLrG54pj45nd+LjZU1HyBuNrEo3/8ofjLjwvE2s5/n8r0pTsBkih1hN3gkU+CUh/OjU76xGt7+EUREQlKrYGr3on/LjL8iyORozaE8wV2WP9LI/aeX/Nf52/iU/jrObLyE/K6TSRE1LB+m467fpFKxM2ODL4sbk5vq5Y7f57WR3pi0DdGIPAlemsJxknAT+BLPskW4jYQtKTeO5ukwclE61Tc4PpFkCJXG7GkTebB+4uJ1Cr+pveRhQjxn4WApt/dzIobTErsNWckV36TyFUYolO5a9Z9FH/Be3NC/IcjBkeuAf+/2FkZQYJcpcMUl8O9050Ywz7fYDvQepY9u45z2XQXM0YlfbGLtf/J+IfkxN9aSU27j4AIgc5aqlt9+KOuuEsMEeKzEPF2VXKuvBmPp5uLRZV0DI5Ap5d/eoLTfYo1b73Bx5Ue1LH9mfLMc0xKDr/qOelLp/s0a95+g9UVHlQx2Uz5Wh/piV66Kksob/Hg7bpIUWUHg006DF/E+EUvXVUllDe78XRdpLiqg1yzHnmoQv39kBgYNHYYao2SW3rnloSRO3oQcnVoMhQixJeHBEPOaIYoNdz6FgQJYYNGkSPX3OhlLkSI20T0dVNz4TLNDhcN5SVUtY0mzqQIHuf4l0GBbegQZOrPt4wuqCxkjJxAmtpMdJjmC1/6+89Enw4U/qYEmig+WESnPo6s3OEMz+1HhAw0Zjtm7V9wgR0ihLuK/L15VPnDSMzKJt4o4JWGk2AxIL/Z37DUgFGnQB8/jCkPPcKDkwZg1Sv+djYm1WPUKtAnDGPKQ4/y4KSBWPWKGw4Eu6vy2ZtXhS88gayseIwSD7LwBKINt3CXfBu4q/LZe+JKnAm9ccYTbVB8oSs7Qvw1SFAor10A3DcCcqUC6e3eERUiRIjbQqJQIJcIn/nFX5ArUEhv74LcECFuxE3N6UPkVzjR2tLJTIhA7pNitEdjVMn/pRa3pAoFwuesBIJMhc4YhlGj+MLn5P/Z6NuBwt8S0U1nUxs9vuvuv5HI0IaZMSgloYYqxGcTcNDW1InLf81+JKowIsPUfVROEW9PG+1OAY3RiEb+eQ+Y3i7XpWcwolF8Or2Ao42mThf+q/4sJajCIgnrwwHD7fK3iDNEiBAhQoQIARDA2d5Cp9OL/9rAA6PJiEb+Obz4hfin4+8/GQoRIkSIECFChAgRIkSIfwL+lb7uhQgRIkSIECFChAgRIsSXRmgyFCJEiBAhQoQIESJEiP9IQpOhECFChAgRIkSIECFC/Efyt58MiV48vr95KiFC3AI/bref0Mm4ECH+s/F7PPhDDUGIECFChLiJL/WeIWftaQ4dOUN5XQtdTg9er4fOBh8Dv/X/mJ6iRxn6DvVvhbf2JAerI8jNsaNXBD2qeGtPcaQ2gsEDbWj/kV5WfG1cPLSFtWs3cyb6KV56dgyROkXI68vnwFt3ikNVYQzKicNwXTkfrYsgp78NnSLkTSfEPyf+znKObl3P2k0FmB76JV8bbyNc9Y+W6l8Px6US6sITsRuUKEL9eIgQIf7N+JKaNR81u1/m209/je899wt+8/sXeemV13l7yQ4qzDn0NyuQhUZL/2b4qdnxJ37+g+d4P78Vp08EfxXrXvgRP/rNcs50uPD/A6VzVJ6luHg/a1dv4eC5Bty+0Irw58NP7c63ef7//YT3jjfR4w2W84aXfsKPf7OU021OQh9+Q/xz4qCiuJiifWtYvXkvhQ0ufP9iF8f/UxBoZPd7z/P62nO09IRqe4gQIf79+FK+DPkq1vDCCxtpSZjME9OSiQnXo9UbMIZFYElIJSXsxosnQ/w7IMGc2Z/o9pf58NX3iPvWnURWruTP+7pJmj8Uu1rBLS8D/zugjM5g1ORc7C+spDY0D/oCSDBlZBPV+TILXn+fuG9OIrpmNX/e20n8nCHEaf6x5RwixK1REp0+nEm5cbz8cXVoq+znxFe2hVWb97MrLIMHJiZg0oeh+EcLFSJEiBBfIl/CZMjBiWUf0zrm2zw3bzgp0QZUcjkymQyZ7G99yWWIfxwC2v4P8Zt3kzha1EBXRRk++TC++fJDZGZlEKOW/UPLXqqNIMoWi0ktC3kJ+UIIaLPn8eu3Ezla1EBPVRl18iF8/cU5ZGRmYNX+a92+HeI/CSna8Cissea/w4XL/644OLVhI4UtnTSWf8L6vIfIiTJiUoW0GSJEiH8fbnMy5MfjFpEpZJ++0b7rCBvPJjP3Z+MYmBSG1OvGJ5Mjkwqf2fkEvC68EiWKW4YT8brcoFAiv5qoH1e3A7f/sw/ESyQK9Ho1gnAt5r7S8zq7cHiuxCVBqtSgFJ04vdeeSRRqNBI3Trf/6uFbiUyNVivD23OdLBIJCrUGidt5wzOJIEOlUaO45acxP26HGxRqFLLrdOF30e1w4/eLBEWRodZqb9SX6MXtBrlSfkO5+N3dOFzXy6tCLfPhuj4PCg1amReH03ftmUSBWq9Gfp3eCHhxeSUoFVKuPva76XG48PkVRKUNZ2JMDwGZChkiMrUahdRDd6cPiUKNXi1HuCnrfncPDpfv0/p0OHD7PkOfSJCptagFNw6n9wa5byxvP16fgAzJdXoJ4PP6kcuk3Now/XjdItK+7PwKXi9eqQyZREDwe/Eiu2brV/UiIkgUqPRqFDdlPuDuocflwy8KSJUadCrZDXoNmoIC2XXv9aUvjVrA43DivWofEhQqDRLPzfrSoJX5cDjc+HrDSiQKdHo1ktsuZzmRqcOYENNDQKpEBr3l7KW7swuJQoVOLb8xvr6063UjShVIJZ/dNvSJ6CXYHMj6Tucv6C4gCgh9yhnA7ejB5Q0gChKUGjW4nHj8AcTr6o9Gq+yNN4C7pweX78rvEiQKBUrRi9sXIND7TKbSoJX5cThd+AIigvT6OG4QHHeP46b4rskp+nwEpFKkN7x3izbjr9UZIHpduFGglEk+VU+vJefFLUpRSG8Mc023IiISJBIBmUqNWn69TbvocbjxBcRrNqnUoFH11rGAm54e17XfJRIUKi0ynxOX139Nn0oNGrkf51V9KtFoVMhuWVGDcvsEGUgEgv8A0YfXL7upf/p0GcjUGjQyH87rZJdIFOh0aiT4cDiceP2BPvshiVSJWi3gcX5GvoMKDNavgIggKFDp1MhvqhsBj6O3rROQKNVoVde19X4PLreITKW4Tg8iXkcPzi+quyuxtRxk7WEj988YSsuS02xec4CnR8cSrtLeuAhyXV6CycpQa9QInhvLUaJQocKNy3ulrtykO5karUaB9DZ0rJT58Xj8vfYHEqkajVaGz+ns7UfEXnvSoQg4cbmDbehfCquWf0ZdCBEixL8lnzkZ8jefYt2yTRR2ypC7Gyi97CR29GyeevgOEnTBFWH3mX1UJkxgTvUGXltyGa9coLOqlHpFBvc+9iTTcqJQXZ0IuKk5tILley7R3t3E5Qt1SFIm8ujXH2dcgg65BPA1kr96GdvL3Qj+Vi6dq0Gd8yDPfOVe0ow9XDq+iRULFrO/UknK6GEk6ntX/r21nNx3hgZtf2Y8/DDPPJCLWumn5tBKVuwpp+1KeskTefQbjzEuQUVD4VYW//kjdlx0EjliLo/MnUqG+xibly9m/ekWNNnTmD9/OmP1Zez+ZBGL913Gbx3HvIfnMH18FLX7lvDWO5s426FlwMxHmD9jDPrS3Xy8YDH7KxUkjcrFLumkurQCZ/QI5n3jK9yVYkQhBXwNHFv2LqsKXBiMAo0XLtJlGc+T336c0VYNso5LHNu8ggWL91MRsDF+7sPMmTGB9HAFYnM+nyzaQGG3FIW7gbLqAAl3zOXJeaOwa2V0XjrO5hULWbz/Mr7YscydP5vJCW0c27iMRdtK6IoYypynn2J2v04ObVrOwvWnaNFkM+2hh5g5bRh2tRxvzWFWrthNeXs3zZcuUitJYsLDX+ex8Ynoei5xfPNKFizex2VfLGPnzmfu9AlE1e1i6W/fZePZdrT9Z/Dw/JlMy7WhlF/fbYpB+VYuYPG+K/LNZfqEKOr2LuXtdzdytl1L9oyHmT9jNLqLe/hk8RL2X/YRO2Y2D82dwWhtGbvXL2HRpiJadQOYPm8ez0wbgkYlpfHoR7z6/mGc9nSSY9up7PHgqjnC8vdr8NWfp1QYwhP/9QgjrFquiOVvOc2G5Zs50y5B5m6grMKJZcRMnpg/niSDAqngp+PSCfZs3cKWva0M+/E3iDuxmKWb8qh0aEgYPYdvfGMmA+SXOb51JQsX7+OSM4YZv32FrwyJRHullokt7PrDs7yypx5Nzkzmz53JlEExyFrzWPHeKk479BiEJi6WdhI19nGefXwMcTo5nZdOsGXVAhbvu4TXMoY58+cyfbSW0t0bWLZ4E4UtarKnzWf+jDHoyvaxdvFi9l3yYhkzh/lzpzMhup59y97h3Y3FtGmymT5/Ps9MG4JWJcdde4SPV+6htLWT5ssXqRMSGTf/azw2Pgm94xIntqxi4ZJ9lHssjJn9EHNmTMTSsIflv3+XDUVtwTry0CweGGpHLe9rktJCwcYVbD7ThiB101BeiTN6GDMen8/4ZCPKv7B/1td0irUrtlPqEPG1XaakRkn/6U/z9JRMTCoZ/sYTrHzvY071aNELTZSWdhI19jGefWwscXo5nZdPsHXlQhbvu4Qjehq/efkrDI3ScUVUsWU3L33nVXbXqBgwYx5zpo9Ee3Efa5csYd8lLzFjZnLfuLFMGpuGSSlDELupLNjH7rVLWJtXj7TfPcyeN5XhkkI2r1rF1uIm3IZcHv/xD5iT3Mr61/6PJSVhjJr1BE9MyyXm5i9pYieX87ayauES9pW5iRo9i5n3T+GeQTJOLXiVdzedoTPtcX7z3HTSDV2cXPU+H5/sRqsXaCoroytyNI986zHGxhuuOqjxNZ1i/aodXOgO4Gur4HytguwHnuLJKVlEqmUI+Gg6tZ5VOy7QHfDRVnGeWkU2Dzz1JFOyIlHLBMBPy5lNrNpcQAtS3I3lVDqiGDb9cR4an0KYSkJ3RX7QLvdeQhI/jMF2OT21ZVQ4zAx58BmenpxOuOsyeVs/vmpDo2dMYdzYSYxNM6GSSxC7qyjYv5t1S9aSVy8hefKDzJt1P/amvWxcsZythY24DIN59IffZ25KOxv/+DuWnNMzctYTPPFALjE6xae/TAaaOLHkDT480El0SiKxXZfpdLmoPfExHzYJNJeWQc58vvHwKOINSiRiFxV5W1m1aAl7y1xEjZzFvDkzmBjbxP7l7/LepiKaVZlMnTuPZ6YPw0ANpzYtZ+Gq82iykonUKJC6azh9uJgGXX+mzZ3L9JE6yg9uYMmSvZS5zAyfdj8Tx9/F2DQT6t6GR+yqIH/rxyxcspey7kju/+Uf+OrwGAyKq8bJnle+z2s7K5FnTWPu3Jncn2tF0X6K1R+uJr9ThU5ooby8i8jR8/n6I2NJMArUF25l1eLlbC9qxKkfxCP//X3mpnay+c3fs+SsluEzHueJaUOI7Ut3N1ZeKrd/Qol9Iv/zyFgaDpWwcs8n7Ci/mwSTFsN1o4dgXlaxcOk+ypyRjJgxhzkzx2KsOsTmZYvYVNCEMmMKs+dMY5iylOM7PmHF/nKwDyU3MRyVzE9PwwUKu4fxo+cfJdfYyunNy1m4qgR1RhKRWmVQx0fO0qjNZuqcB5mY4qJ46wqW7S3FGTmCmXPnMGNiLM0HV/Heexs506wg4765zJt1P6nuAvauXcSSPX8p7FSGxRtQhvb+hgjxH8Ut20Kx4wTv/Ph/Wd2ewV33TWXGnEd5eIzAoTd/zHf/bzOXur0ECFBXVImcg/z+1eNoR9zD/dNn8fAT00mpXcNvv/8cH+Q34/KLQIDGva/x+3U9ZNz5ALPnP83XHkykdsPrPPeT98lvc+H3N3Hg9R/x4jEtw+6awrRZDzEtro71b/8vP/3oFD1uFbb+I8lUVXEqrxrV4LuY8sB0pk+fzrQ7LXScyaPEm8DwnEQUcoHGva/z+3XdpE3sTW92EnWbXue5n3xAfpsXY8pwBhgaKcivRJ42lKy4cCypwxgV082Z/AJ6rMPJSYoiIn4AIzNVVJ/Kp1aTRW6GFb3cSPyggYS1FJBX4iN++EASzeHY+48kXVHBqbwqVIMmM3XOo3xlXjrNW9/h5y+spbzbTYAA1ev/wE9fPADDpzB15jwem2zi/OrX+cOS03S4fKCzMWBUP2SXT5Ffp2PAkHSsOhlC6xH+9ONfsdUzgHvun8GseU/y0BA3e/74Y77/8i6qur1orP0Zmami5nQ+teoshmTYMduyGJ4TRsuZk1wSUhiSakEf3Y9hY2JxFp2k0BHLsJwkzAopYuNe/vjCOrrTJjJ11nye+tqDJNVv5o3/+Qnv57XgUlrJHpmJuuY0+bVqMnMzsOrlGOMHMSCslTN5JXh8ww/jAAAgAElEQVTjhjEw0Yz8U54zBLTWbEZmqnvly7xOnwMIaz1DfomXuKEDSDRHED9gJFnqWgpO1qLKGkKG1YAmOpVhwy10F53kvMfOsIGJKORSAjWbeeX5NzgsG8nU+6YwKSMMEQFRbWXwhLuZ9tAUoorf41evbuZyl5sAIHbk8d7//JzVLSlMuPd+Zsx5jIfHyjj27k/5/m83UNrpJhBoo66mgbO7VrNu+362L3ybT0o8hFnN+C4fYu07z/Pj13ZSHYgka0QmmtZSio9u4KMVx2h1eLiysOmv3sm6TYfZf7AEf3wu2QkRKIRaNr70M17cHyD37vuYMe9RJptLWffmiyw52YbDCzprFiMyNdQVnKRWncHgdCsGTTRpw4YR3V3EqfNe7EMHkBgZQfyAEWRq6ig4WYs6YzDpVgMKYzw5A8JoK8rnvNfO0AGJKOVSAk37efPFdXQk38H9s+bz1DOzSW7axp9++j+8d7wJh9JK1ohM1LVnOFWjImNwBjaDAmNcDv3D2ig6eR6PbSgDEiP7/vIpdpD//k/5xcdNJI27h/unz+Gx+WORn3ifn/3gt2y40I7rM7xsBJoP8aefvsRhRQ4T7nmAWfOmkdi0jfef/xkfnmimx13Nppd/zkv7vAyePIWZ8x7l7shy1r/5EotPttDjBV1sNsMzNbSXFXN04wJWHm2mx3O1RKjetYHNh/dxsMRL3KBsEsxBHaYrayg8WYc6M5dBWXYMVzwjCmpi0oYwNs7HudOnaDflMijFhjVrNPc9eAem5rPkH86nwikSkDqoONeOffxU7hnRjwhlH173BB3WrBFkauopPF2LKn0w/ZPN+E9/zLITHYgCiAhIhAC1m1/hFy/txTvoLu6dOY9HJ0dSvuEtXlqcT0u3FxEINB/m7f99hUPS/oy7u1dnzTv44Jc/48PjjXR7/TQffpv/feUQ0v7juPuBWcyblkjzjg/45c8+5HhjN15RpPPkh/z8+Y+pjx/L3fdPZ+6jD3OH8iQf/Pz/8dv1JbQ5A2hiMxmepqK28CRV8v5MmDKbR77yEFmd+/jo13/gk/NtOFVWskako6ot5FSdiozBg8iKMyDvtRdBHUP6kLHE+c9TcKoN0+AcUmIMxKSP5L6Zd2BuLQnq0yHilzqoON+GbfxU7h6RSoSq76249dvf4DdvHCAw+B7umTKZzHABBD+KmIGMu+sBHpoSzYVFv+f1DaW0OvwgaInNGk6mpp6i0zUoU3NItxlRGePIGRBBx9lTnHfFMrh/ImqlDJRRpI/IIcIjIfGOSUyZNp0HxlnoPFdAmdfOwMwEzKZ4sodnoGko4nSNgrTBOWTFGW6oJ4I2lszhGeg6yjl3bCOLVh6hsdt9rb2o2cOmLYfYd6AEjy2HrAQzSkk9W1//JS/vcZI98Z5gexF1mc1vv8zivEa6PDLM/UZy/8yxmFpLOHnkJFUOEb/MSdX5Nqxj72PyiFRMt9DdDbiK2LCxlcw7BxOXfi+z7+qH3nGCTzYV0dp9rV27lpdMtA3FFNTISR2Yjj1MR3RKLsMsLs6fOY/TMojspBhi+g1mZKaWhuLTVMmyuOPuqUyfMYt5j81lkL+aOo8brzKKtBE5RHilJIy9kynTpjNtfAzdJQWUemwMyEgiLmkAIzK1NJ4toEbejwFpdsJUYcQN7E9EVwkFJS4sOdkkRmkIs2UyPOP2wspD+35DhPiP4xbV3sv5la/w1i4f2XePJqd/JhnZgxk355vMSmnm8KI/8P7hFlw+H421dRRsWERB2AgmDh1IdmYm/Yfdw1NfGYu6ZBN/fOUTLnZ7CHiLWfnGWqoVBgSvC6fTi8ySQbyykeJti1h3pouOvEW89EEpURMmkDsgk4yMAYyfM4sJKRHBVU9BgT7STnyUDqlEhSkumX6paaSlpZGaFI1OKkUdaSfOEobEf/ZqehJfb3rR6cQpGjm7bRHrCrqRGGKJjzYgleqJircTZVSjjbCSFBuOTKrGZI0nJlyDyhCFPS4anUyKMToBm9mAQgqt+fsoaHbjV5qJs1sIV6swRNqwR+mQSdSY4lNIyxzI0InDSZQ2czG/mDq3jwB+WssKKOkIJ2NwNhmZ2Qy5dwQJvnoKCspw+vyg0BNpS8CilyMzWkiwRaJXeClc+jJ/PiQh5+5RDBqYRWb/XCY89HXut9Vx8P0XWZjXjk8dia1XXoMlAWukAY3ejDUhBqNMii7Kjs2sQ6GNICbJRoRcitpkJS4mAo3Uz9lVf2JttRy94MXtcuKVRZMep6Tp3HaWrCvAGVARaYsjWi9DZogmwRqJQSmF1nz2FzTh9imJtMdhCVP3uT1HoQ/Kp5fJMEQH5Qu+vp+CJjdepZm4uBjCNWoMUXbionXIpEYsCVYiDUrk2ghiEmMJk8tQm+3YY8KRSgNc2PARa/JF+t83kdz+GaT1T8ailqE0xpKc1I+MQXcxdbCKc2sWsO5CJy6/lwurX+ftnW7S7hxFzoAsMrIHccfsrzMrtYMTS1/mg4ON9Hh12LKGMzhejRhwELDdxWNPf5Pv/ehX/PGVbzJUWc/xxQvYXiegj40jJnEMEwfKqdiymn31PbgDvXVqax5CvBmpQo/Zbic6TIVEbKPsTAkdxjRysjLJzB7CPSMS8TcWcqbcgdcPcn0kNnsUOvl1+pJriYhJJDZMjlRtxm63EKZRX7U/ucxAdK++pLRx8sAZmpw+FCY7dksYUqmfs6vfYl2lBK3gw+Ny4pVFkWZX0Vyyk6XrC+jxKa+Ws9QYTfyVcm47xYGCZpxeBWa7HUu4GmkfW268Fz7hj+/swpk6kZE5A8nKzGbQHQ/ytZmpdOYt5+UPD9LR7b5F0+SiYNlrfHQ+nNFjBjMwO4OMAeOZNXMCqWY1UgTwt1FeWEK7MfWq7u4ekUCgKag7jw/kejO2uBgSxkxgoKKSbZ/so67bRbBILrA9X8QeIUWhN2OzRxOuvqJDPTKZAUu8jZhIA4qr+ZOjM8WQaDOhkikIi40nJsKA3mwnbfSj/Oh700iTlbJ24Xo2vr+IymFf5WszxzMwwYS6zzOUcnRmG/ZoHXKpgeh4K9FhPRzeWkm/uc/ww9++zO+fnUSCXkZ7eSHn2w30G5hFZmY2Q+4eTmKgiaLCcno8XsDFmeWv89F5IyNG55KTnUHGgHHMmjGBtEhNcIue6wwrXv+I88YRjM7NITsjgwHjZjFjQhqRmt7tbb6LrHnzXXb2JDN+RA4DszLJGjSWWc/MIK37JCte/ZAD9V0EtOZeu5SijrCTnJrJwCETGJ4kp738NGdrnXikesw2O1F6BTJDNPHWGKIMymv2ItcSYUnAZlIiU4QRExdDhE6BzmQldfQj/PB708hQlLN+8Xo2fbCIytyneWbmeHJuqU/YtGQzJ7xpTJ6Qy8DMNPqnWNAqVITFJJGUmkHOnfczWHORjUs3UNLWg/dqGRhQyIxExVuJNKqQCu2cPnSGRocHudmG3RKBTCoBqRaTLQV7tAlrcjL90tJITYpCL5ehMdmwRYejURuItNmxGHrzbbsp3wByHWabnZjE0YwfoKRm51r213Ti7G0vLu44iRgbjlRlwGyzER2mRiq2UV54njZdCgOzssjKzuXuEYmIzcUUlvXg9kpQR1hJHf0w//3daWQoL7F+aVB3FYOe4CszJzAo0XxL3V1DpOPoWnZLh3FnVjQGTSTDZk1hYISfknXrOd7Qhev62ZBch9kWdzW/cdYojCoF2nALCbHhKGQaTDYbMRE6dBEW7HEWDAoZ6nAbiSmppKWlk5kzkYfnjcOuVSORaDBZU4iLNmNNTiYlLY1+idHoFTI0JivW6HCMYVHY7NEYFDIMUXFYI42oZALtBUcobOjBLTdhs1uI0MpR6s1YbyvsZ2yRDhEixL8tfU+GfBfYtuYAlfJ4suz6q2d2ZGEZ3D95IMqOQjZuL8Lj8eL1tlNdWo8hOZPIK4fVBTUxo+7njng/1bs2sr/WievyIXbktSNVeWlvqKOmppradi3DH/0BP/7eXIZESinbs5m8VjOZ2eberQQC6ozZ/PSVN3h+Tiba3gsOhM84cyAIwTCBykPszG9Dqvx0ej/63lyGRKmQCSCRSBDw4fdd25ssQnCPuXB9vME0BYkEBJGWox/x0RkzKVFy5FIJ1yQSrk0ARD/O5oscWLqaY+1GBk0eQ6JGjhQZSXN+x5LFP+M+Uw8Xdi7hzXd2UtbtpqfHcW0vtSBFIgGE3o7LW8TWtUepViaQGaO7urqqMA/ggTszkbbls3FXCW6376qOJILk+kzcoKMrzyQICFd6AH8lh3fm0SZR4G1vpK6mhuradrTDHuH7P/wec4dGo5IJIAjBMzoSCRIg0HqMBQvOYEqORC6XIvyF1TVBCOpXIpEAAVqPLWDBGRPJkfLg2YRrIXvPAvWWx5UfevN39ZyQ2MLJwwU0YSM91Rg8S6FUoZQISKSy4OBZ0JKWakfafpKDJ9twOy6wY+1BKiR2Muz6q1u2ZMZ0ptw1AHVXMZt3FuF0S9CFmzCHqZFIdNiyc8hKTSQuPpn+k55k3hgLstY8TpT04PEJCKoEpjw4BlPrXj7edolulx968th6MYZR/Yyo5NJrNiJLZPb/LWLRzx8g2l3K7qV/4t0dF+lydeNwBAgEbrS/GyeXwTNRwpUyvEFfvfvexVaOL1zAmbBEzHIFMokkaAf+Ko7syqeVG8tZM+QhvvvD7zJvmAWNXPKpchZbj7NoYQFhiSYUClnQPvvER+nO9RysAFu6HcOVryIyI+lTJjFA0825LTvxOF19v+69yN6t+TSHpZIZqQlORgQVGTN+xB9ef555AyNQqxKZ9euFLPz5NCzuMvYse4s/b79Ah7MHh+NafRYECar4KcwaY6btwCdsL+/E6QNH/jZKLSNINmo+ZXMSiYAgSBAEkT6OLMD1NnkFeQTZM7/Hd6bG0rzzVV48HMG9U8eSYdEgu436gCCAt5WSTe+xyTOYCQMzyMjIJD3ejFqmIHHWr/howS+YHuuhfM8y3vrzDs53OOlxOINthreUvdvyaDKmkBGpCdqzoCJ9xn/zwmvP81COCfnl/WzNb8KYkkGkRkkwSDoz/vsFXnv+IXJMGijdxYaDlxFj07AZVL3XIsgwpt3LnQO1OM5tZVdRBw6PeLX9AAi4Wig7tII1x1pQZ9/JqGQdatkVm+xtd25x2PNK/m9o1+URZE3/Lt+ZaqNl12u8eCicu+8bS4ZF+xn6FDla2IE/JpUUowqFRECpUiIVpMikwb1PgjaVfnY5nQWHOdXq7F2s4Go7IxEAsY28pYs5Y7AToVAi/1SDJu1zAUC44VmvfUgkCAGRWxgSgiqee2aMIbLzMGt2lNHe4wPHKXaURjE0yYhWIQ3KJACyBGY8/wEfPT8Tu/8y+1a8w5+3ldDm6Mbh8F9tL1CYyZ7xXb491Ubr7j/y0kEDd04ZS1aM7va+fARq2fVJPuax40gx65ELAvqsaUwdHo2segtr9lXR4bj5s+6V/N5YjsGyvUk3ffXhgor40aPJCNf03mUkQSKFGw95Clf7jt7IEa72uSJt+ctYekZLbLgClUJy4wDnrwkbIkSI/yj6PjPku0xJaRd+UYo0OCe5Gjy6XxIm2XbqquoI+AWMRg2BAEglUq5v3gRdGv1sCiiuobrFhydQQY3DTXrsEEaMikIr7w04ZiIIEpR6JYeqqnG4k/EGhKv9hqAyk5hp/qsz5m+opKbHTVpsLiNGRfeRng6FRCDCbidMeoodb72A+UwMKlHEWXCBbs+tLqQQcV34hEVbvAyZcQcVeUqkNX0Fq+XABy/j1LRQvGcv7fYRTBuTjkkhQ0BAF5dMZOFi3vhNAxH9RzJi0mD2vL2Wsj4GC4Ha/Xzwkoco+WU2nWnBHRPssK9pW4mtXyJhsv3UV9Xj93+ByzT8DVTWOnCnxDJ4xEhidFecqI5hIgISpR61Usr1l8uIrousXboFb+507qjIRymr/SsSFHFdXMvSLV5yp99BRb4SaV+vi3UcWvAqL2zXBM97OAoo6XRfu8so0E5js4OA0oBRdasDsAJqgx6F0ENTfQd+dwPnyzrxBSQ3HSaWEZWciEnup7K6rlefvY4XBDkqtfzqJExQWRmUbUO1sYiOTj+BgAjIiZ08j7tWHGP96o0Uz+5H2uldNKbdy+jWXdxwtEbQYU+KpGjpn/htXRhZI4YxcfA+3l1f+iW4AnZRunYBWzyDmHpHFSfVUq6aqr+BqloHrngLg4aPxG5U9v5wrZy1SinXXxYlui6ybuFW3Dn3M7bqFGpZX4Z/BR8VF8ro9AaQ3DRylUUlk2hS4L9cg+i7xb0l/joqa3pwxfi4Zs0CSnMCGVebAzn2JDPFS9/md3UGMocNZ0JuPH/eUPZp3cljmDz3LlYfX8cnm4p5MFWkeHcjKZOH07pb3vfiSqCWQwtfw7vBS0ttK0T35645DzNlQPQtF2NkYelMffx+Fmx+hWOFpTR6BQK36y4i0Ej+ypc5nXecttwf8VUJ19mxgM6WRGTRMt75XS36jGEMGz+Y+Pc2UCoGggNtfx1VNT24om/SmSmBdFPwL1d9JbU9LqKuv3BHUGJKSKc3CK6qC5R3evBLZDdeiSCLIjnBhCJQRk2dG9+1ykfd4YW85jHQeX4/exqjyX1oFBmR6uDAuzdcoO4Qi/7oZbO/jdoWkajsScx5eAoDo289DJWFpXHfo1NYsPlVjhSW0uDhL+gzQLML5DojKuktvn4IavQ6BRJHEw3tXvwBbloWdFG2cSVbHdncMzqcUxo51X3Gc3uOQMT6oyx98w/sCLRR2ywSlX0nsx+ewkCLrtdFtRzLpAeZtCGPdes2U/RgOsL5PTQkT2Bwy94bLzkVdNgSIzm7/D1eqNGSNmQo4wYn8OGmi5+yeVlYOvc9ch+LtrzC4cJSGtx/SXfX8J7fzCen2+ho/ZAXS1b2TqC8NLdJkPjq2bt6GxenJGHSGpDf9K5Yf5Qlb7zIAaMKCeAsKqT1Nu8nkmn1Nw1KbtfZioirfCNrtveQMWkUYQU6FH0W2l8bNkSIEP8J9N0LCRo0KgliSyWVnb5rq02AVKVCIUgxRUUiSOTY01OJkAs019fhDVw3chIUKOQCgjICc7gs+B5tFJ+pQhEWTmRUFFG9/yPVTjo6RZQqJYKnhBN5LXi817fsbi4cy8Pv9d52xgSFEoXQTvGZKuTGvtLzExAFTHf+iLf//AL/NWUQGVm5jJ08hbtzYoNfP/og0HqE9xdfJH7yfYzJiOo9bNyXAOGkT5jK7Me+xf/+7jnu1Z9l9Qv/x9KiDlx+F8WLfsoPXjmO4Y6p3DdpNLlZcYTLpf+fvfMMj6u6FvZ7zvSi0cxoRl2jZsm2LHcw7sZ0TO8pdBKSQAgpN8lN8oWUS5KbBimUJITqgg0YV0xxx0XNvciSbFka9T7SzGj6nPP9GNmWK6aE3MB5n0d/NGfOXmvtMnvtvdfaZ5zEi7ZRzL32Bm66cRbFVi10NdMUiBMfZiK1XodGUGF3Ood2Wz4iohadFvqr99OiTsbmPGG3VKeR0IAPWRpWsNRH2QsLqHNdxtUzRpFq/HCprKW+Ml5YUIfrsquZMSoV49mObwhWRs6Zx/U33cwtt9zCTfMmkTk8bbZgwqhXgSydeQH2GPE4EiJ6gx5BZcSgF5E9zTR5oyfZU6XXo1Wdjz1FDAYdoioFp1ODODR7VDlncMe1Y6B2BcvK97FqXYhJM1wk6U+JGwlVs+Bn/8WT5Samz7uay2deQKnLhlb1cdcpJTzlL7LwcA6XXDWDkjTjyZnMhup5oPoALWoL1lPr2etDGt7xJQ/lLy2iLmcuV84oId34QTEHAgZD4hhgc5OX6HDjinr0OhGV3YGgOkuksqDHoBOI1O5kV2+Ik9Ymwkeo2tVO2HuART/7AU+WGZh61Twum3kBpS77WTJUqnBMv41rSkUOr1pB+d6VrAtNYFpO8jn78MjZ87jx9ru5/9ZRDGx8nl/+8E+sa/Ee3004jVg7ZZs8XPDFK8gLbOfvT62m1hM4vwuIhWQKZ93EVeNMdGx4lqfXHMETPPbNEIcW/YIf/Gk7uouu4urLZ3Lh2FzsuuF9IGHXaO1OdvcGT5YxfIQdu9qJCFp0QpTanbvpDYY5+ZEd7GoPENEY0IngaWlmIDLcsVKh12kR1XYcTg0nqk7AWjyba265i4d+8mt+dK2do2/9id8u2kOP/8SYLdhGMvvqG7j9rvu5dbSPzS8+zn//aS1N3hBnXb6JdVC+2cPkOy4nP1zGc8+sprYvcI6LfgX0goxwzEE8IzLxuIQs6jGctnAi4alawJLadGZdNp2SDNPxHfhTBCOOiHgeDpFgLWLmVddz2133c/vYAFtf+RU/fOJd3P3B43qrHNO4dd5Y1PVrWFm2h1Xrg4ybko3VdIqjHqph8eP/zZPbVEy+/Eoun3UhY3Pt6M80bsbaqdjiYdJtl5IfruD5Z1ZxqHfwPC5J9lO14l3iFz/Et77xAPfefSd33nknd955H9/+xU+4Y5yd0K43Wb2vF3/4dCMn9L2WG2++hVtuuYl5k12YP1JGgviQjc+RAHQIaWAHi16rI3X6JUwvzcR8ju2vD/OsgoLC54MzjwKaMcyamok2vI8N77cTip74qQp1dTEg5nPxpaPRatUkTb2aOdk6uivf55A/SuzY2Bhrp60zhmXyZcxM1WEomMBYBzQse4Kn1h5h4NjsRuqjcsFitvbGKZgwDruqi7V/f56trYMkipUZ2LeYhWUDhM7fF0KVP5GxDpnG5U/y9FB58rDytvUGicqgdoxk5rzb+eKt13L5rKlMKi2hON1ylrSjEg3lezDOup5LJ7pIPufdFQacBaMoGTuRiy69jVsm6Wnb+xary7oIB/azev5qKgazmHpBCYUZycczQclnOk5hSCV/5GhKxl/FVdPS0Q/uZENZF8HjM0QZb2cXXnURcy4uRPsRfniOryqq8plQ6oTG5Tz5zFrq+iNDToJEX9UCFm/rJhg5IWC8oZy9xplcd8kkcq0flJ3oVOI0lO/FOPM6LpmUi1V7rm8bcOQVM6pkDCUlJZSMzDwR1A4gpjC21IUu3EvnQAzpjBOhOJ0d3YSFPErH2tEYS5l5USb6yH42bW0jMGz2GOruYkDIY/bc0ej16pPeEYsNr6MQzU2dxNOnMHO0Ed2xRwUL42+9iYtMrbz91O/YIF7IBekm9Ke0q+jBt1i4ugJfxhQuGDOCjGT90Jn1E6mdz4fTnow3ULHXwIxr5jIp13p6ggNVHuPHOBGaV/GXZ96jpi90op53LOK1rV2JY1BDSA3l7DNMZ97cSeSd1yXKGkpmTCHLEOXA5q20DYZOOAShbroGIHfWXNR6/Vm+XsT4Ugea3g08/9IW3N6hibvsZf/rr1LWG2fw4Nsseqscb/qFTB4zgkyrfkguOVH/pxhFSBrHLTdOIan9HZ75wwaYNIl0s/7sughDba50AlMuvZkZGYO07NxIRdMg4TN6NyHqlj7PJsOlfOHBn/DjW7PofO8p/rzsEH2B81gZF3TYcidww8P3MV3fwJqn/8mGpgFCEhA9xNuvrqZ8II0LJpdQlGlFP9TNj7d1TRHjx6Sg6dvECy9tobE/dNxmB5Yuoaw3RrxwAmMcGvo2vcBLWxrpDyXavOw9wNIlZfTGIqhLpnNhloHYwc1saxscluQiSHf3ALhmcvGoJIzHtzgFDI48ikePZeJFl3DLzZMxd1fz7poy2v0ndm8FvYO84tGUTriQS2+aTlaghV0bK3EPe+Y0e775Apv1c7n9qz/mR7fk0L3uGf687OA5dhpESrJEop5uBmKxMztZ8S46e0KQU8KYFP3xsTfxmZvKfTqmXHkxk/Pt6M+2KCH58MX06DmP+4v0KeQWDel98wyyg23s2VTBUX/oxO+lkETpTTcwxdLJur//kfXxcYxPt2A4ZSiPHXqHJW+V43FOYtKYYrJshhNt/hTbHV72Ips0s7j1Kz/iv2910bPhWf6y7AA9/nO3Ral9I29W2Jg9byYXTZnEhPHjGX/s74J53H3TZBzyYVYt206bL3i6jfUp5I4YRcmYEkpKShiZlTi2/KGRfPhjOvR80BG2OE2VB9BecBmzJxd+QHKI83w21E+3J0As/rG35xUUFP4DOPMYIzqY8+A3uDIvwNbnnuKtun4ikgzBw6xatQ/rvG9w37RE7IjonMNXvzoXh/tN/vLidloDiQQBPduXsmFgIvc+cjOjknWo7bO4554ZpPRX8tKPv86D33uMX//v4/zoG1/nibpURjt1ZF5xH1++0I5/5wv89zce4ceP/5rHf/wQX3lsC9aJIxG1iZlmMBhGkqMM3yiSg0FCskwslsiqJNhmcvc9M0kZqEqU993H+M2w8kY5tMfPTqv1ZpJtVixmAxoVhEJhJDlGbNhREjkYJCwLWEsuZ970YpwGFQJBgiEZKRYjKh+LLZAIhsOctD8hD9DSNkBMMpGSokcQIRwMEnVvY9W6SnZuX82Lz6zmkC9MuP0Aa998g03uAJF4mEhURo5FickyiBlc8eD9zM7wsvFvf2PdUW9ixTxQw6q3a0i75kG+fIETo1pI2EOSicaiHJ8VxuNIMsRisRPSSXFiyMSisYTMgo2Zd9/NDIeXHS//hG88+F0e+83/8viPHuIbf6zFUexApRFBDhIMSQjJJVw2bzrFzsSPcjCUqJtY9Nw/Ign5BJJLLjvJnqGwdNyeQ08SDIWR5Six2AlVCAQJSVKivmUAPWNvuo1pNjdlW5oIhOPE+3rxROIEe7vpj8eRQ4dZu6kW/YW3cmNpMgatg1lf+RpXFkQof/5Z3qrpTWQ+DB7hrdX7SbrsAe6ZnnE8Vi1hwzb2VDbgiyRsGDqykte2yUy/+25mZJjRCiGCgxGiEhiKruf2Oan013jIu2QCDqOGUDiEJEWIxhL3cQiECQYjuLevZl3FTratfolnV1fjDYVpP7CeZUs30egPE8vkotcAACAASURBVAuFCEsysfjwaWOMuARyOEz4ePuTE+1XSGb0pfOYVpzYbSMQJCxLxGKRhJMl2Jh+553MSPWza8FPefhr3+Wnv/4Nj//4IR764yFsI1JQa1WJeg5LkFzCJVdPZ2RqIv4lUScxYtGzxNQgkjLrfh68spBYxYs8+9YheoMxZILUr3mL/eZLuf/u6VjMujN+GzGVS+76AlOcIfa+8lO++a0f88tfPc5PHv4qP9tkpGSEBb0mSiAYpansLdZX7GDb6pd4ZtUBBoIh2g+uZ9nSjTT4w8SCQQYjUSQMjLjuNuak+aj15DJnnAOzNkQ4JCNFE33seB8OhY/f6wQQH6inoSuMlJSNy65GjkWIy/FhY4SMp+pF/l5p45KrpjG6oJTrHvk212V0sP7pP/Dqnm4Gz9onZELBMJIUJRoVSS65hYfvmYaxcQVPv7CF5oEwkiATDoaINpWxZn0FVdtW89KzqzngCRBqP8iG5UvZ6NYz7UtfYEpqmH0LHuNbjx6z2YM8tkHHqAILxqxLuPMLU0gN72PBY9/i0R//kl89/hMefvAxNuhGUWAxoHfO5L6vXskIaQcv//0tqrsDxGQI1b/Dmv0m5t5zF9OzEws4UihMWBp+F4zMQFs7/ZEYBlvCmRCkEOHIcOc+zsDRRjrDEubsHOxqmVgkjhyPJZwD+Zg9X+a5ymTmXDmN0YWlXPfIo1yX2cWGZ57g1T1d+M9iz+tvmkRKaxXb3X4CsTie3n4isUF6egaIxSVCRzawpVbDxBuvZ6z9WJr1Y/3GwqiLr2TqyHRMGhGCQcKSRCweQSZOz7Z/8svH/8bS5avYGbXj0KgT3w+HicgSsWjshJ5yiFB4uG0kBo666QzFMGZk49BqUBEiOBhOjBeF87hlTgaDRwbImVWKM0lHOBxGHjZeMDReNJe/zYbyKra99Qp/W72f3sEgHdUbWblsI0e9AXp2vMJz5UnMumIaowvHcd03H+G67B42Pfski3d34jtbW5T97Fm6iD32KUx12TCdmi5fSGL0NZdQahVpWfMKy/d144ucom80RowT40IwFEaKx4hFh8XlDo1nkWj0lDgyiZ7tz/M/v/obbyxfyY6onRSNJhG3dszGsRM2TrwHkkbN4Yqpo8gwaxCP/Y5Eh/8uf4hn46289btHuO/Ob/NcVTveD7EIq6Cg8J+J6uc///nPT/+3gMFRyJgiG/4j5ax7bxMVu3ZTtqWSNuflfOXBm7nINZRhSTDgHDGaPG0Huze8y3tbqthZsYWtB2OM/+I3uOuyRGIFQdTjLCoh3+zDvX8nFZW7OVDfg+C6hLu+egtTc5PRm9MZWZKDpvcIeyor2F3dSLeczZwvfoU75hRj1w5w8L1XeWn+MnY0ewhrHGTkFJDm38GKl15m8ft19PgFklOzuGBUAZmjSskz+3Af2EFl1bHy5nLXV29maq51WIaoIaQu9r67klcXvcammm78shlHZjbOgXLemL+A5VXN+NROiseOpSTFQ+Wyl3hx8Wbquv2QnEq2y4GnfCnzFyynqsVHIOSlZc8W1ry2hHUNOibc/m2+dduF5Fht2IUODuyqoHzHQRq9yYybO5Wk+m3sa4/huGgel+cOsnPVQhYur6LJE0aXkklWYSGu3FGMLUyiv2Y769ZuonLXLsq37aIr40q+8sANXOhKwn/oPRa/NJ/lVc30DfgZ7KimYvsWNr77Dmt3NNDj9RPsrqOqbCub3nmXtdtr6fJLmFOycI3MIS1zJGPyzfjdB9hZWcXuA0fowcWcLz/AzdPysAzWsHbJyyxYXkmTT4WzqJSxYxx4Kpfz8kuL2VzbjV+24MzOZWSmBfVJS+8SfQffY8nLC1he2YRP5aSodCxjHB4ql7/MS4s3U9vlB0sqWTkpeMrfZP6CZVQ29RJWp5CeXUD64C5WvvISizfX0uWTSXJmccGoLMyphRRYe6h6dx07auuodTdw4P0ddCZlY/NWs2HpEjYMjOWu7z7IlaOdGNQihpQCSkbYCRytYMPazZTv3EX51iraUuZy7wM3MzXPOpRYQaLt/Vd4tSyAPSXM0T1VVGxdz5q1B9FMv4eHvnQxhcJRNr72MvNf206bxkp6wQQmprVS1XMBD949ifj+Vcx/aQlbj3TjF6ykZuYysjgbTdchdleWs/NgAwNJpcy5yEJj+X7aoilceNVlFIR2s3rBApZVuun1BRnsOEjl9q1s2fgu77xXweEuP7IlleycFDwVy1iwYBmVTV7ElBGMHVuCs38HK155iVc319DlA0tqNpNHZmLJGElJfhKDTdXsqkrUc7eUzewvPcDN0/NJDtSy/rVXWLCsErdXxDGilLElDvp3rOSVlxazqaYTn2zBmeViZKYFzSmr6ILeQcHoQuzBBqo2rGVTxS52lW+lqs3OnLvv5+ZpBVhPPTZ4HBFjWjGjcrR4ju5lR8Uuqhu6iGfO5Lb77mDuKCcmqw2x8xC7K8vYebCB/qQxzL4oGXflAdrCdi646jIKw3tYvXABr21rRZWcTsGEiaS176B38gPcOUnm4JqFvLxkC4e7/ZDsJCvbSl/5chYuXE6lux//YD9Ne9azbPFqDsZGccPD9zIxVs3apa+xbn8H3rgRe0YmSUcX8/tfP8O7nVnMumI2xU4Dck81G9e8TcX+Q+w70k3UlMnIAifG4TuaUh/V61/nlfnLqHD3EtLasToKmDp9FNL+t1mzfgcNfrDmTqbE5uHw3krKdlTTMGBmzOyLsDRVcrAtjH3ylVx+4Qhc+aMpydHR37CPqopdHGzoJJ45g1vvvYO5o1Mx6UykFY0iR9dPw74qKnYdpKEzTuaMW7n3jrmMTjWhURlw5I+m0B6iccdG1m0qZ+fOMrZWtWKbfSf33TydArsWb80G3pg/n+UVbvoHQ3hb9rHt3Td4be0RVCU38fA3b2dKcjtbly1gwfIKGvv9DHqa2LNhBYvfOkC0+DoeuncSUs1alr6+jn1tA8QMNjKyi2D/i/z+10/zTnsGMy+fzchUA3JPDZvefpvy/dXsP9xFxJTByIJUTJqT25A9L49kz27WbaiiprYGd8NBtuzswJhhxV+3mWWvbaB31B186ytXU5puQkM/h9a/wSsLllHR0I9gL2RMaQlO725WL3yZxRuraR+QsTgyKfBt4Onn3mBjdYzSG77MvIkp9O1Zz9uvL+b1LXW0e8GamkWO3UPVyldZuKycxj4//oFm9m1cwZJVewkXXMPXH/0yMx09bF+2gAVLttIsJJGWP54J6R3s6pvIvV+cjFDzLoteXsL7tZ34BSvOTBfFI7LR9dWxt6qcHQeP4jGNZuaUZFp2VtMasjHpiktIb1vOX//3Gd5uT2P6ZbMZlWpE7q3j/XfepmzfkO2MGRTnOzFpT9hO7q/m3fl/5Y/PLGdXt4jFZCW9OBub/sTdWPG2Xbz91kpWrdtPa1czR9y9hMVkxjr62b4qoe/RrgAqaypZ+ekE97/NolcWs7G6DW/cTEpmBqa2baxcspgVlQ10B9TY0rIoOC6LTP/ORTz57BI2HoxSeu2XuHqSA8++Dbzz+qu8/n4NbV5IdqaTHD3E2tcWs7ysAQ82CsaUUpLqY8+ahbzy6gYOtnmRkhxkugoxtG1jxcKFLPvAZ4vItIQ48MbfeLU8xKh513KhyzLsrkQFBYXPIoJ8jrM4cthDS4ObNk8IlT6RccmQko0rIxmdePIEN9jj5qi7E29ci0GnQtRYSM/NwWEcnqry2HMd9PnCyBoj1vR8RuSlYDgW7BofpLOhnqbOfgKSGmNyGrmFuYn3EGGgowW3u5m+oIw+JRuXKweH2kt7UyNNXX5i6mQyclwU5dhRiZy5vNyzpGWVQ/R3dNLe2kynL4oqKZ1sVzZpGh8dzU009wWRdSm4Cgtx2WQ8bU00NnXhj6lJzsjBlZOK2ttOk7uFviDokq2YNRALBYmIJhxZubhSzWhEgYjHTd2RFjwhAb0tk4ICB+GGgzQMqEnJL6bQGqenvRl3Sy9BWU9KlgtXTjrJOhE52EtzYxMd/WHUBiMalQpjSiI1rE4FkYEOWtxuWvqCSJokbJbEbeNy2EefN4ikNmFLNg79r4+W+lr2bF3D6qocvrP0ca5NT0IT6qGpwU17r5+wrMZoTSdvqB6E6AAdLW7cLX0EJR0prkIKXDbwtNPsdtPli6GyZJDjyiE7xXhK1iX5ZPl0KbgKC0h8vRm3uwtfTIUlIwdXthO1r4MWdwu9QQl9ShY5OTk41b5E+V0+YioL6dkuinJSUKtEogMtHDnaSUhjwKjewW+v/y4bJ/6CBT+YhUUIEdamUTAiG9uwSbgc9tDS6Ka9L4yoN6BViejtWbgyrMN+BKPsePxSrvujn1uefpI7R9sxa2RiMRWWzDxcDiOqmJfOlibcrX60qVnk5GRhk1qpadNRkG8j1t9Oc2MT3f4Y6uRMsl3ZZNs1+FoOc6S5j6Cgx5aZT4EjQmN1AwNiCrkjC7DF+2hvdtPSG0DWWrAm6RLHOONBepoOU71zM6vfraHkhy/wrQnQ39FCb0BCZ8+hsDAXGx7am900dfmIqixkZLsYMWQvKdhDU0MTHb0+Qmeo587WJtzNvQQkHfacAgpz7TCkR5cvisqSTrbLRc5p9XzcuHha3TS19RESdei1KlR6O1muDJJ1qg9MYxsf7MLd0ERH3yBxtYHk1Fzyc52YNSICUfqb6jjS0kcQPdaMhO3chxoZEG3kFhdik/roaHbT4teSmplDTpYNqb2WNm0e+bY4/e3NNDZ1MxhTY8nIJifbgdrXSUtTC70B0FksmLQQCYTBYCczNxNDsJeutmY6vREEUyqZOdk46aS+oYOANo2C4gLSzGokfwdH6urp9EaRtBbSXfnkZ1pPPnolR/B2tuJ2J+pMb88kMzOTTLtIb91+DneF0aZk4sp1YY11cPRoM70B0FszyC9wEHHX0DggYHMVU5iehFYlDLNZgLhajyXVRYErFbP22JgXZ7DLTUNTB32BOGq9hVRXAa5U87AFIplwfytudzt9IQGdXotKpceemUO6NTGeRLydtLobaekNIuuSSDZrEeJhghEBoz2TXFcqZtlPV1vT0Dimw2wxoSNCwpyZ5GYYCHm6aWvuYCAsYErNJCcnB1OwifqjbQxq0ygoKiA1SY3s76C+7igdvgiSxkJ6Tj75WdYzHGWL4m09ytHOICq9Hs2uJ7nt++sY+YPn+P7cVDTREFpnPoXZtkSsjRzB29VKk7uF3sE4WnsOBQUu7MLQONfpI6pKIj07hxxdH7UN3QRFC9lFI8m2qQl7uujpbKO5209UbSEjO4dspxp/ZytNLb0EZA1mixktUUJhGb0tA1duOhZhkO7WJtytPjSOTLJzsrDL7dS1a8nNtSJ5OxP9zB9DbUknOyeHLLsGf1s99c29BNBhzcgj3xGludZNP1ZcRQVYQs3UH21nUOskv6iAtCQNsr+To4fr6fBGiGsspOXkUZCZ0P84kYHEONHmIaRKIjUtkyyXk6RhzqYc7KOttZnmNg/BmISgSyY1M4cRaRo8Xa2JsSKuxZaZQ06OE81gF63uJrp8EURzGlmubFIELz0drbT2BYhr7WTmJNL9H4t7Cncf5sCRToJCEllFxeTYNIQ93fR0ttLS4yeispCRlU1aUoz+9hZaegPEtVay8wtw2UW8nS24m7rwRUTMaVm4XFkkxT10Nrtp/sBns0kxSvTVH6S+V03GqGKyko9lVFRQUPisck5nSOFzgCwRiwQY6DrIgp+9TuZvHuO6VAv6z8LgH36bRybew5oL/symv9xMtlV3vnm9zsCQM/REiHuXr+TH09NJOnMuxk8RmXg0xKCng32v/Jo1Rb/gB1dmYP1MVJ6CwidD+L3vMu3+1ZQ8/hZP3j4Cp1HpHwoKCgoKJ/i3T+cU/s0IImqdmZSciVx/hwePSXcewfH/IUgxonEZWfqADHPnSSK5hXRSdsV/LwIqjQFLaj4X3ngbwWDS8aB6BQWFBHIsRlyW+Dg3DigoKCgofHZRckoqDKEle/p0Rhm1nw0POR6m98ABGvwRPE2HafQMnpze+UMhE/U1U3O0l0i0k8MHmxkIRj8RB+uTQpc7jakjTB8ta5OCwmeUeLiPgwcb8Ib6aDpylF7fsAxuCgoKCgoKnDWBgsLnEZVOh+Y8LxL8v42Mt76crXu7EVNHUDLCiSbqJWrOJd2i4UNf4RNuZtfmHTRFLbhGl5BrVRFV28hLTzotacC/DZUOnUY4y2WzCgqfQ2QfRyu3s68LHAUlFDp1xAejmHPSsGg/3H1oCgoKCgqfXZSYIYXPJFFfDz2+8LD7hgT01jRsxg8O2j+NeIC+7n6Cw3aWBL2VNNtZkgYoKCj8HyCKv6cXbzh+YhdX0JGcasOkPlsWQwUFBQWFzxuKM6SgoKCgoKCgoKCg8LlEOSmgoKCgoKCgoKCgoPC5RHGGFBQUFBQUFBQUFBQ+lyjOkIKCgoKCgoKCgoLC5xLFGVJQUFBQUFBQUFBQ+FyiOEMKCgoKCgoKCgoKCp9LPhP3awLIwUE2bW1jW1OIkM7E3EtdzE5ToxFPfqZsr5d4toOpmZqTPvtkhIhx9GA31VISs0pMWNSfhTt7Pp/IwUHe397GVneIoNbExZe4mJ2uRntKeyrf7yWe6WBKhgat6t8n778aOTRIxT4v0YwUpmRq0X2Gdf34yHiaeijrUFEy1kqOQeQ/01wynuYeytpVjB5rxfUfq4eCgoKCgsLZOYc7INNR28aSTd0cCUlIp34c97N80T6+v7CVwfBpn366yFG2rzzAY0saefeon9raTspa40RPESvW3cnfFx3imapBBs91DXncz4pX9/P9hS34Qx9Ct3iQ9atreXxlBw3BM9hM4cMR97NyyX5+sLCFgWD80ytXjlK2+iA/W+zmnSN+amo7KWuNUL21lh/9/RBvNEYISRDv6eK5RYd4usLPYPTfkaFepn57HT/++yHeaIgQ+heaKN7dxT9freGZikG8/ypdpRBVZS0s3efHf4Yy5KCf97e08PbhIMFz9d8zEfez6rUD/HBhC57Bf3Vbkqkrr+d/5zewoTdG+CyiSh4Paza1sqk5elLdyYN+tmxr5vW9fnwRmVhbO0/8cz+/3jTAwNle9i8hocfvFjSwoSdGSLmEQUFBQUHhM8g5nCGJA1sP87tX3Wz3Spw294gNUrathde29hI+38mRFGbDG3v45vxWDgc+QWch0s+aLT0cNqTyrS+M4qf3jOYLRZrTV6/DEZra/DT1x4mdq/BY4LhuoVM9qnMhx+ntGqS+M0wgLvOpzB2kMBuX7uWR+a3UDX7GHLBYgPLtrby2tZdg5FOciUUHeGdrD3V6Jw/fkWhPXyxS013bztJNbWzviBORQA5HaG4fTLSnf8tEUaLpUBtLN7exbUimj4dM954jfP+vh3jdHSU47H1yJEJzu5+m/ti5+87HITrAijfr+O3aXnpC0mn9R+rr4ZWldfx1mw//h20PsQCVZS28vrXnxOKNFGbz8n08Or+Fal+cT85FkvH3B2hoC9AbkYdd/HsyUXc7T79Ry8v7Qyec6ViA95Yd5Kfzj7K2LUpYgmhXH29tbWHZgUECn6rTLTPYH+Boa4DesHRWPRQUFBQUFP6TOccxORm/J4C7Q6Q/Jp8+ydZYufdrk5grGzHrz/O8mRzl0N52Vg6o+cL16eTzyQQtyYEAjX1xksbZmVqYTLZR/HjH0zTJ3PvgRObKRiyG/+MHQ+QoNfvaWelRcet1aRQgfnYCwTRW7v7KBOZIRqzGT68e5MFEezKX2JhSYCE/SYWAjO3KUp6aIJM1QotRxafj7J4TkXFXlPLXcUMyfexDrzLe5h7WlAXRzMjjyiwNhk+zMUkxuroCNGqiRM8w85ajEdq7Bmn+KA6ZxsqdD0xkVlxPill17IXU7u9gdbfAdVenUZSk+lSPgUnBMM2dg0R9EnE5Ic/+DXX8YV0v/lFF3D7WRJJWQF3g4pePOIjZk7HplYO3CgoKCgoKnyQfffokqjHrBNSoOOF5yAx29bF2Zx+HemKIRgMlY9O4tFCP3u9ja00vB3ti+Ab9bN/RQZ9JRVaBk/EOFeozTrpkBtp6Wb/Hw+G+GDG1hpx8B5ePTyZNLyAi09fUS1Wdh+aQTMzn4/2qDuxOCzOLTZjPGrMjE+zq5c39fdR6ZCwZdq64KIUCk4hKSOhm0ouo5eG6JWJEtlV1UdUcIqQ3UJCmxaQSEEQNI0vt5GuHPRsOULG1lwp3iJjRxJQpGczIODVOScbT3M3avf3U98dRmYyMH5fGnDwdepVw/JnBrj7W7eyjujeGaDAwemwqlxYaMPh9bKvt5UB3FJ/fR/mODgbMajLzHYx3qs8ZEyUHB9le1UXl2XQxSrQe7qNJa2GSNcS6rV0c9KmZNDOHuVkatCJIg37KdvewszmENy5gTU1mxmQHY+1q1Ke0iXU7+zjUG0MYJr9JJYAco7mmi3XVXloDAhZnEtMnpTLeoUYjqjDrEvUgHHtfKMDOmgD6XBt5so9Nld0c6JEwpdu44iIHheahOhwq29fey3u7PNR54hjsJvKsCdlUliSmjzw1rkvG0zzUnoISMZ+PrTs7qXVamDHShFGvQqOSMeoEBOFMzlCMpsMemjRJTE6TObirg/fdYeRkC5dOS6PUpkLu7+fdim4O9snYsh3Mm2IlU3/CgZVDAap2dVHWGMQnqMl2pXDpJCtZhjM5ucJpMkGM5sMe3JokJqdB7d4ONjeECOuNXHhhOjMytSfFPR1HClNz0EN5QxBPIMzhQ128G9RicViYU2g8yUkIdvWy/JCHml4Jc7qNyy9yMOIkuwNShLoDXWyu9dMVFrCkJjN7spMxdtWwtvEJEAqwqzaALsdGHj42V/WwvyeOKS0hV6FZTJQnqjDpBNSSCgQByeulrLaP/V1RBgb8VOzsZDBZTVaeg3GpQ7FhUoTDB7rYXOenMyRgcSYz6wInY2yq02MRdwz1JYOJiy5wEo5/WFdZpmNvA79d3k5rhouf35zNtAwNOhHQqzGqBOJ6FeJQRwh0eajqFBlZZEJu7WHtvgFawipyi9O4qtSMXXuiXcvBQcp3dlPZFCKg1ZGXpsOsFhBFDUUldgqGbJR4rouKpjAhg5EpFzjPcvRSxtvex6a9Hmp7o0RUGrJzU7h0fDIZxhNxRYEuDzs6RYqKTMSbulm730tHXEvJxHQuy9djIsy+nZ1sOhokajYzc0oaE52aM7dPBQUFBQWFfxEf3RmKB3hvRQ0vxrNZ/e08tAYV4dZWfvGPI2zzaclN1cBgN2v2hUn53ggmNLfzl8XN7G6PEY738vISPwaVmhl3WPj1DOMZnKE4jRWH+eWbbezqA2uyGnkwTO/6Jt4YX8DP7nIxwQL1FUf43SYPNUGJUG0Tf+hpx5ifx9++mUeJ+cwrvf6GJn7ylJfGmIgqFKIj2MJbdSP5492ZjDSJiPEAa1cc4oVYNisfzcNuVCEPenjhhWpeqo3hSDdijHSzoiNMUBbQ6izc++1k7s9JvF8Oeln4/F4OdkpoxDidfTFeq/Dwg2+UcEPO0ASHOPVldfzPmx3Ui3pybSKB7nbe2NzO1beV8l9TTCRpBMKtrfzyuSNs9Z6w6dv7wti/O4JJLe38dUkLO9tihOJ9vLxkEKNazfTbp/CrmWd3huRBDy++WM2LNTFS0o2YTtXlUQv354ZZt+IQiw3pXBHsYlWLhBAX8ORmMD1dg9zVwZ/mH2FFXQjJpMFMjG5vM4s2O/jqXaP5YpEOvQrCra38z3P1bPFqyE1VD8kfwvadEUy1CrjfP8SPlvfQazKSYwLv3nbe92h59iY7Tk2AtatqeDGSydJH8nGaVcS6O3l2fgvGizIQq9vZ55MhGKI92MyaupH8/u5MRplVqJDxHnHzs5cbqRjUkutUEd7dxiveOLIoonfl8tQj+UywDG8jMvVV9fxhQx/VAYlgXTNP9HZgzM/j6RwX+p1H+dU7cW745gQeKNSiOa3JBlm/8hCLtenMo5c1DVHi8Qht/TKra0I8fpWa91a62dorE/cF6Yy1srF9DH+4wUGmXkSI+lm24ABP7QuTlGogWY7xfkUPneaJPDxGj/m03irTvPMov34nzvUPjef+Qh0mgqxbeYjF2jSuEft4qz6CJJ9og9/7Wgk35Wo4bTM37mfNijqW1PjwhiXK1tZRrxcxlxQx8X49tmN9p7GJnz3roykqIoZDdASaeauumN/dlUXJsZ2ViJ81r9fw1wo/st1ImiZGW3krb5Sl8e37irk6+wzlf0Ri3V38fUEzugvSEWs62O+VkUJDctUOyWVRoYoHWL+6lhdDGbz6UB4prR0881ozFS1RArFeFrwxiEmtZuotF/A/s0xohUHWvFHDUxV+JKuBNG08oUN5Ko/eW8y8HC16EeTBfua/Us0/dw0yaNCQJMVZXtZJQTTMYFz7wQoMEWhq5ZkljVSKqXzn9jwuz9djHPIuY11d/GNRA/6LxvPkPCsOA7TsbuA3GwQumSKwo2qA3hgE+kP4NrVTdetYfjormRSdgBzoZ/7Lh3ixOoIl1YA5GmJlZ4SABBptEnd9M4n7i3WYQ/3Mn3+I53f58es0mOWEHvnREIPx4S09jntHPb9Z1kplt0xSkhoCYfpiTbwxNp8ffzmHC+xqNIJM65CMF18gsGOnl/6YRF9vmHhZL+335mHZ08ii/QFCsSgd/RJv7h7k518rYHaqBp2yAaagoKCg8Cnx0Z0hKUZnu4+aWJi4BCCxb2sDy2pFbnmomNtdWjTRKG0egTy9iNaVyffvNTD/73tZOJjCV+/Oo9SsxpmlO2NmqnhHO08sbmT9oI2Hv5THzAwtqkiAbatreGLLYZ7ItfL0lRYKpxfzs9QWHvtLI02j8/jptTZSbGZc+rMfF2s51EvWxfl8b6aNdDHE26/u45nNDayYncqjo7QYpDid7T5qoyHicQCZtp2N/GO7hc27KAAAHbFJREFUn6zrx/K9C81YpADvLNzD72pNPPjFfC5NUx1f0ZS6e9nmyObB27OYZBdor6jlhytbeX5bFlfckoJOJxDvaOfPS9zsMrn40a0ZlNpE4r4BXn6hmkVLG5k6chSXpYjs39rIslqRm76esKk2FqXdI5BvENDmZPFfdxuY/9xeFvpS+MrdeYxLStj07Kf7ZNp3NvLcNj8Z14/lexeYscgB3lm0l9/VGHnwC/lcmq5GKwTo6vCzp7WBzsw0vvHFbMYlqbBlaDGIgyxbWsuLO6NMvn4k944zYVVJtB1s4PHXW/nTG0lM+FYe4ywC+7c1srxO4IYHi7k994T8BQYRVWyAFe+0sUPI5He3ZzPaIhIZDNEtJnb1kON0tfuoCYeJDa20y+Ew7tZ+aldHmTA1l2/daCVDFeLdxft5ZksjK2alkleiwiSEWPdOAytbdHzlgWKuzNJATwe/ebqOqrR8fn1NKvmn7bYIFF5UzE8dzfzsr424R+byk2vtpNrM5BtEGvoHqWuO0xlMHGs6zRmS43R3+NnTdBRfUSZ335LBeFuc3asO8HjFEb7v1uAcmcMjV9tIl7y8/PxBVrzbzJZZNm7KEBEb2nhpqwdhainfmWvBqZHx9oVQZZ5ttVwm2D9IXVOcjuDQUdbjMgTwjkjnzptHMDFFpKOqlh+tbOXFbZlcnp6C/tTzb+okrrt1NBnrDvBf68LMuHo0d4/QkWQ1kTzMc2mt6SNjTh6PzrSTpQ7x3pIDPLOlkZUzUskvVWFWyTSV1/PEOg+GWcU8Ot1Khk7G09DEz19q5i/v2Jj45XRyTR/zKOsxC0TCuFsHqO6MMv4iFw9fb0vI9doBnt3ayIqZqeSNUZFEnK4OH7UBG9G4jDo7k2/fpWfh8/tZ2G/nvi/nMdGqITVTj1kDTVvreXKtB/2sYr4zzUqmXqa/oYmfv9zCX9+xM/HOdPJMcHhbPX/f6iE+sZj/d6mdDFWYyo1HeX5blPB5BpLJ/l7+ubiRld1m7rynkJtKTFg1w3Z2wiEaW/wMFJ04PhjqH+TwES9HfcnMu3wEXy82oPN08od/1rPinTZuGG9iplNNz243z2/3Yb+ihG9flISdIGuX7OMP1XruvDefy7I0GESJI9vq+ceWPmITivnJZXYyVWEqNx3lhW1RQsP0iHd28NTrjbznsXD/rXnMydGijYYof6eWP5cd4U/ZFv58tZ10g0xwIMDh+gHqfVauvaKQh4r0ROsb+enCTp7+h49kq43brx/FZAfUrT3Iz7e5WbIvk0mz1egUb0hBQUFB4VPiE0ytLdPXHcQbM2BPtzDapcUgwuiYhKgWELVJXFQK25ME1HEjE8Y6mJmsPosAMnUVTbzTCFPvKeJLU21kGQQEOZkiU5DtB6vZvLWLhouTGJdlZ6amnxSNQE9KMtPHOUkznHuiZS/J5b+uz2FGlg6dIJE+q4UF1d3sdEeJFmsxnEGeo4c9NMtJ3DXdweQcLXrRjHGihb9WR1A5LOQYRVRDcQxikp17bi/kjlIzKVqBsN3P0vW9bK7zEY3ZQCdSX9XMe80aLvtODleWmrFpBATZhGZaM0tf62SDewSzbBr6eoL4Yjrs6UmMztVhPG5TEVFrZkqpTFmSiDpqYEKpg1k29emT9FN0qT+S0OXL0xxMcmkxiGaME5J46uDpusTDGmZfW8BNEy2k6hITtFhTJ69VepFGjeabl2ZwYWri6FkkW0NrdS8/39fG+vZsRprV9PUE8UZ12NKTGO3SYVQNkz8aobUnSsSqJTfHwmibChUWojFQqwWInVUFdHlZPHJtNrOydegFiYxZrSw61M0ud5TISC0mYZDdtQHiWdlcN9ZGSbIKMUfFXFc95QMCmS4jFs2pxygFbFk2Zmj7cWpFulOSmTbWSZZJREA671gsSWPh5hvzuXWcmRQtFPk6ebnKTbsph59ek83FLj0GkghNbGT1Gi/7u+Jck6ZB6wvRGohjTzIxymUh3SBArkRUEM9yjPQctayxcPONBdw2PgmnViBiz2T5hl42HvYRido5rZELWopGpUC1Fp0qTnZBCjPHG0ge6qDRocdso1185zoXs106DIJERlsbrx7qYldTlPAoHWb8rH2/k0M6J3+6JJ2ZLh16EaR0ges2tvL7Xd1U3+gk0yii/aTmu7KMLjeLh6/JZo5Lj0GQyGxvY/GhLna7o0RG6Th1i1i0mLlwDFRYRDQhA+PGOJjj1KAFiPtYt6WLQ7oU/jg3nVm5x3QQuW5TK7/f3U31TU6ydCE2l/fSINj44dVZXDbKSJIoMdKpIdC9kz/uPx8FZVp2ujnSNojjkmJuGZuEU3d+KfllWaRkViFfuTiV0VYVYkzPzduaqdzVz6FBiSkOmYb6fpolEzdMdTC5UI9ZTMI8wcLfDoZQp5jJNoqoJR+bKxJ6fP/qLC4bbcQypEewexd/3HdC1iM7WnivQWLSbYV8cXoK+WYRUZYoNoeoqqnm/bJu6mdbcBxbjZFFRs8s4P45CRnl7Chr13byco+GW7+cx22TkknTQ2k0lfkVDRxoCBCYZiJFcYYUFBQUFD4lPkFnSGTMBCf5W9qY/899+Gdlcv3UVCY41B8+oF+OsL/Gi0c0M3OiGYd+aHIgiNhdqVyUWcOGpgHqIjJjPoISKdk2Sp3aoeNqIukZRqwqiX5fHEmSz5jVQaMSEGISkfixWBEZfzCGFAeV+qTQIgSLhcn5BqxD5/b1NiPZJoGwP4IsA8SoPuylLybQsr+ZZ5qOxVHIhN1hQqEAjV0S8bhIyXgH+VvaWPD8PvwzM7l+ahoTz8OmsdYOntnYR1f4WFYugbzJBXypVItWJUJcInw8HuCELuIpnpToTOGqUtOwGASZgQYPB3wCI8Y6KbaeiAHRJiUxZ5QJ/S4/+1riRAu0lIxPtImFz+9jcNYp8quTmDPexJtbm/h//4hy08xMrplkJfsDnFkAe7aNUuex41YiaRkGrKo4A74YkgSoBDQixKKJTIgygBzDH5KJwic3ET8DoiWJSXkGkodsZk0zYFcLRLKsjE3VDsmsIcehQ42f/oCMJIEm18HsjBaWbTjAf4eyuHFGBpeOMGA+OXTtvBAsSUzKN2IbkkFnM5FtEogMRpDlj5764TS7pxuwqiUGfPGE3cM+djdGiMQDbN9wlCPH6lKOU+OJM9gdoCUqEwPO/xDZ+chlpdSpPS5XaroBq0piwH+sPXyIlw3pEI4FKdt4lKNn0KE1IhGLDlLdEkVOszMjI5FUA0RsGTYmZGrQVZ9PYQL2Agep4QC7D3WwrcNBXpIK0/nIK2gpKkomO0mViNfS6MhzatDEonjCiSx2GlGAY+NWohPgD8WIx0E81nGH9JDSbEzP0A6VPVyPoefkKAfrvPTKJu4an0SacWhnVRCx5Ti4MFPFuqMDHA5LTJRVJ2QcMUxGs5GsZBF12MTEfCN2nYAImFMNpKgEev1RYlIiE6fiDikoKCgofBp8gs6QQMbEIn57v5YX17fz5pse3tvczNzLi/jOxbbzXu0EQIrR44sja7U4TaccZVJpcZgFhHAUvyTzUeZ1KvXJ7xTUAhqBhCN0RkRGjUvBtbqFxa8exjgtGXtwgGWbfKgL8pl97IjcsQxXqsT7ThSgQquG48LKcfp8cSRZoK/DS7VnmDxRPZNLTUzJUKEREzb93/u0vLC+g+XL+ln7fjMXX1bMd+baju/UnJFwmOZ2Py3H7zsSUY+UkGSRkWNTyF3dzJLFhzFNTcYeSuiiKshnTurJugg6DVYtJxIYAL6BMEFZxJ6sQS2epCiOZC0qYviDMrIskDFhBL+5L9Emhsv/7YttpOkNXHzzWH5pbuTVijaePtzFmxucfOnWIu4o1mM8Rx2qVSLDXSZBnQgCl47VgTqJmWOMPLexhd+/qeaaEVoCR9t4rVGg9BonLv2/8AJJVWIn57h0opBI2qBOlHns/+qhmJBjMot2J996YAzWd5pYs72ePTtbWTLexaO3ZjPZrj65TX2gDIk2ePwrgohWLfBx8yOrVQKicKLdCWoBDSf6jhyKDE3EIzQ2e+keJnTEamV6up0Cg3jmgeeYvNJZ0tLLnDV1vFolIg7TV1CdaA8fOpXBMR2kCO5mLz3DdUi2Mi3NTr5BhRiN0B+WUaVrSVYJw8YUAY1aOKnPnAtTZgaPjpH45aJWnl3cSOE3RjArVX0eDruAWnXyGKBRiQhDY5ksCxSX2slb08zS149gnmrFGfGyaqMX2ZXLzHQ1BhXIgQgDYRlVmharilP0GJ4fJ0avL46k0eIwCZzU9VVaUswCYiSGPz7c5gLqkypbSPQNUUQjDhtXhvqIJH/4+lJQUFBQUPg4fILOEKhMZmbMKiS7KJ0jR7pYtLKRV1+rJc01ma8Xa9Gf74sEEb1GQI7G8cdOmRjJUXwhwKDBInwIB+tjEafF7afXoKc45GHVu31EJNDn5fLYvFwmJ6tOzqT1QQgieq2AIBqZM6+IG53qkwOGBRX2VC16FYgmM9NnFZJVlE59fTeLVjaw5PUaUl2T+fpI3VkdBlVGGl+7w0boeFYrAaNNj0EtUdvko9egZ0TQw6r3TtZlkvWDs33ptCpEJAIhaWiX4UTmO28ghiSosZgSk0GVycz0WQVkFaVRf6SbV1cNyZ8zma+P0pGcmcJN1xuYdJGfPbua+NvbzTzxqo5R3y3kQtOHsOmpxELUtEYwpZjwH25n/iGJGCpKrhzNA1fYSNV9MjErnyiihvwxWXzdYeWqtgE2bDjKi5vr+K3VzPM3pGD/D0irLGhU6EUBld3J/TdnkWs+ZeFBoyXbojqzYyeqMOmBQISeGBRw8gAl+aP44mA0qk+eiJ9RkI++s5DQAdR2B/felEV+kup0HZJVaCMiWhFi4Rihj7ObodIwckoh3+/28701bn6/IonsL6ZTdEq5Hx6J1mY/PTod2aF+3l7nISqBLjuHH12Vy5QhB1tQq9CqBGLhGMEh5/HMeiTGLWJxBqOnOi0x/CGQ9Ros4idzZYKCgoKCgsKnwSfqDAGojXoKC/TkZprJDXvZ9nwPlc1xHhgBelFAHDq2ETrXiq2oZWS2Hu0uL5V1Ee5waNANSRrr7qO8NY7eZWWkXvhk0/SeDSlM5f4B/PYsHrgji0wRJEHEbDGQm6oj6awpvM+GiuIsA1ohTG/MQLHLSNI5amK4TV3hAbY/30NVU8KmqAREkeM2PYZg0DPCdQb3UwpQud+Lz5bJ/XdkkaX6sLoI2LLNZKo7qanx0HOxEYt2aFU8HqTskJ+Qxsy4bDWaoa0XtUFPYb6e3IxEm9j+fDdVzTHuL9JhVAkk2U2U2o0UZBoJuv9/e2ceHOV5HvDfd+3x7S1pJe1Ki66VQIAEAoPBGB+x69ZH3HZ8u3XqxtNJO5OZJB7Hnhw97YbG9viYiZ3W9REfbeNrjO04hpB0gm8XBAIhELqQEAIdIO2u9v529+sfu0gCJMzpo/1+/0qj73me930/fc/7XOP8eEe+O2DLWThD2fFxPujXKF1dzT1rVRR0BFmmqESlyvMlbt8ryZT5XZSV2akry7K7Yxeb906S0jxgOd9TcAQEUQBy+UHKZ3JFb7FT5xURxtOki+3M951GZzDJzgKfjLhnnM0HNZrdMkdHAqFr7Ng1wbCmsKbGinJaYbI8s+1sUQQ9kyOVKwRuhRk6HMnr0OA3MbsfaqO6WEQfDtMezVHvBosA+mSY1v1pkpmTV+8do7pq49JrGvjW/jYefa+LRwIqD3zNTcnZ1M7oKVo7IkScpXzjxkqqzQK6IGJzWKgqs0zXzJlUqopF9OEI7dEcDR6wHqNH4eUkKtT7LZi3TLK1J8UtPhO2gnyZsXG2DGVQ/E4arHM4uwYGBgYGBl9CPtsZ0tPsbj3EW+7pf3CizcHVjcd9KeVi/Gr9EKFAKZcssOPJpOgbTpLAhNddSKkQFUqdInpXmPf3xqir0MlYHTQUSUjHfJyKLF7lo/m3PWx6fS+/UGq4us6MPh7m7bf7+GDSwh9cVkrAnL91Pt35i6eNoFBVacWyZ5ifvZwg4JSxKBJW1URgXhF/tNrLfOfpDGyUmL/Sz/JNXWxa380yaw3XLlBxk2HkYISt/TpNF3sJmhJsePMgE5Xegk3TUzYtcRecIFHB65CgM8wHXVGClZC1OqgvmmN2k6BQVVHQ5ZUE885AF3NNOdfW7efxbb08vFHirgvdlJFixye9PNWextvSwJVlEmbivLN+iIkKL2sX2CkqyB/HRIlLhLFD/OzjNPXNXlYEFDKRKP1HMuh2E17l7G6XRZtKsFjmky29PDym4lUlTIqIw6nSuKic65Y4KDZ9XpHFUyHH/k/38UbExsVNRcx35jhyKMZwCtxuc/4S4bwj4HaZsJBm564JeiuzSLpMY4Xl1O0kO7hqlZsXXx7lX98YxHGNjwt9JsRkkr7+ELszDq5tduCcLQdMUrnyslKe23OIl/5jL46vB7giqGLPpOjcMcgTvwujVVVxQ6MF27n42hYVShwSQiTCR11R5qdEdNVO0OPgqlUeXnp5jKfeOIDzGh+r/AUdBkLs1go6KA4uW+Lg6fWHeebtIXxXewlok7y7oZfX9mkkZp3RMzdqSTG33VzP7sd285v1XSzwN/FXi1TMZ6qfoDDPb8W6a5R/ey3JPJeC1SRhUU0EAkVctcpLo1tClhxc2uzgmfWHee7tIfzXeJmnTbJhYx+v9mnEp/SQWLiinCW/62bzW108b67hugYrYijMu7/ex+YJE5dcX0q1Ld/a3sDAwMDA4KvASZwhAZtNRsrFeOe1Tj6YUcQtlgW49AdlKJKANJ2lT+LQCE/+dohnVBlFzzA6kqJ2bT23BpV8+2xBYdWqMmq3H+SXz27jfYvIkj9Zwbq1Knbx2Gc7g1X88OYE//jmCE88G+JVu4SeSjMcFVn9x418b6Ud59GwkJTPP1dO6A52nEaSgCKJIIvH5vNLIoogYD4aFRGFvG56ofBDkPD7VOzpGOGcQI0AWU1jdH+I9z49yMbuBh79ZmU+UiWDrIvIx6Tw5f+ePMM7sdcGuO+WOA+8OcxjT43znw4ZEzqJeIZMsZ91K0uoMwkkDg3z5KYDPK3KmPQMo6MpqtcEubXelG+fLZi4cFUptdsP8spz2/M2vf4C1l2i4pjtg1OQ8PutONJRIrl8ZG2mLhu6G3j0LytZYC3YQBaQOa5BhOrmjtsbOPB8Lxve3E3bZgULWcYn0lgW1PDjG33U2/IOVfLQMD/fdICnrdPyV60JcmuDgjWbZd/WPl7a3I/DIpJLJRkMq1z/pwGW2fM1U4osIGenc54ESUQWBUzycWlukogiiJgKNQ6C2UKtVyY5pJGTBQRdJ5VIc7DvMO9+MkLrDc3cf6kT92w2EvN1DcfvJ0kWkUQdRTq6LYQpGfMNPgRkKd8Jb2ZMQJBElFlkFmURWRQxSSAIAmI6xqa3B3jl1zI2GeKhOIdL/Xz7cg8O8+yuoSyJSJI+pTdCwWaFGqoZT0ORQFZOnh7obiznSv8or2/ew7d3SSh1tbx6VyVFYv7snGB3+eh6HLWBzOLL53PPSCdPbunhh52DFFlFyGaZTOj41izi8oX22Z0hROZdUM/f3qDzyMZhnvjFOL+0Sch6lnBYQyjzc+9N1VxcNl1PI4hC3oaycGzkp7BPlBl2kWWQZtbyCCZWriylbtsQr7/QxkdWkebrlvHApXYWXdbA3SOd/HxLDz/aO4jHKiJM6bCwoIPMkiuD3NXXwdMfdHPvngGseg7d7eHrK7IMf3TyCIkoi5hEcfq9g0hpnZ/v3jJJ/7ODPPfWQdbMq6a5UF+Tt70A6Pm9KEn5vThdGIYsC4iF5iGCIFHus+LQJonkBKTCWR8bDPPh/xxiY1cdD94ZYLFLZskVdXyzbzdPf9jNvZ0DqAU9rluRZeTj/FkUAHvtPO65McEDbw7z7y9EeMMmIaTTjMZEll49n++sclJsFhDQ83VckpRvPsO0jIosICkC0oyXsCAKKBKFWqsvzxWFgYGBgcH/fQR9ztZSOuMHJmgfy6AdF3oRzFYuWWBhqC/EgK5yUVBFEXXGDoRo7Q6x51CSiK7gD7hoqXexuNw8NWQxMxlly84xPt6XJG62cNFFAdb6Zh8QmorE6OwPs6NvksFIDlG10FDrYlG1k6BHnvrY07UE7Z1R4m4XyypMc6ZA6Yk427tj6F43zWXK1DNzsRitPXHkcg9NXhlZyDDQHaJft7I6qGJKH+En/7SNF/UKfnpngEaHCLqOlkry7outPNjlZt1Dy7ndJzDSG6I/Z6WlTp1OOdM1+rpCDIo2VtdaMRUKjNLROF39Ydr7JtkXypCVFLylKvWVLlrqbXgkncNDIbZ1h9h9MEVEl/FXOmmpd7PYN8Om0Rhbd4zyUcGmq1dXsnau2TSJw6y7fxsv5ipYd2eAhbPo8pOHlvNnM3RZWqfiPC59TtfSDOyP0N4XpnMkRVJU8FU4aap2sqjSgk0SEMgxduBE+ZfWu2nymTBn03T3TLC9Z5LeCQ3daqGh1kNL0EmNU0Iiw0BPXoZVdSpmWUBPxGnriZEtya/hUR31WIzW3jhSmYfFXpnUrk5uf3wAbc1i/uFyF8UmyOVyJI4M88+P7mVL3SI23l1F0D5LXYaWoH1vlJjLSYvfhLmwXtGRENuHdSqCLqpUETFZkKXYzZJyBUXIyzuQs7Kkdrp1t55KsLMrSrrIxZJyE6ZC2C15OMzWoSzeajd1TpFcJEpb9wQ7+mMMx3VsRQ6agm5aamxTXbeOJzYSYtsMmSQy7C/YbKYM6Br7usMMCioX1lgxz5VfmtXY1zXG7zsiHEiK+Bt93NpsR80kaOuJky120VSmTM0G0+MxtvXGEb0eFpcePcc5QqNR9vSHad8fYySuI1tMVPodNFS7WepTpmx6IoX5NIMROvZN0h/KkJEVfH4HjZVOFgamuzQChf1wcrkWlcqYhAz7e0P0Zy2srLVhKXgpmWiM1vYxPu5LEFMsrFxdwSV+E2apoMNAmPaBaR0q/HYaqt20+Ar7Qs8wPBhma+cEu8cyyG4HLQ1uGh0aPWMwL+ikwjp7s45cZJIt/SnM5W4WlsjTc8oScTr6YhwRrTTV2fBkE+zsiZEpLux5CWKj+b3oq3VRZZt2fCPDE+wchcqgi4AwziP/0sYLyXL+7o4AzR4JsXDWf/Nf23l4j5MfPdDCN6rM2IQMw4MRWjsn6BjTkN12ltZ7WOjM0DumE5ihR3oyzt6B/Ht5fyiLoFoIVjvz7+Wi6TMZGw3RNqxTPlNGPcuBfSH60mYW1drwHE2x1RLs6ooSdThZ4jdh/Vzynw0MDAwMDE7qDJ0ZmbTGZCKHhoCqKthmidbktAyhWJasJOGyySev39BzxOMZYpqOIEs41c/4/fNAbqSPm77bQeeKZWz4ax+VauF2PBvj2Z+8z30dbh56fDm3ncnkdF0nkdCIpXVygoDFImM3iccUiM+0qVVVsM9l03iWrHhym+ZG+rj5ex3sWb6Md//GR2BKlzjPrXuP+3a5efCx5dxapsxRJ3EsWkpjMpkji4hVlWdd70w6w2QiO7v8uk4yoRFN6+iShLMg+9l9CukMvPMpX3smwhXfWcNDF9lwFUI1mZF+/uLedj6sa+K/7w5QY5fO8lnnFj2bJRrPkMiCYlZwWsTTa85xToTIEY1qJHL59ZptTU/pz8zQRZREVKuM9VTr62acC12Ye2+dC3JahnA8S0Y8cf+dqg7ppMZkKodo+oLWbBZyo/3c8f0Odixu4o1vVRB0SlNn/YWHPuQHO+z8/U+X8ecBM2pBXi2pETkVPQrv5bimgyThOCfn1sDAwMDA4PNnTmfotvs/JRLXZvvR/zv0ZJy2vTESHhfLK0xTt8/oWQZ7J+hNmFgw30Gpafbb+y8TejJBW1eUpMvJskrzV1qXkxEfDdF6MEtJtYd61/TNuZ5MsLM7yqTdwQXzLOe/J4GBwRdEPiIZI+50sLTCjPVoUnQhOtMbk6lvcFI+R9Txi+aZ719AedEp9yA1MDAwMDA4I+Z0hvw3/Yoj4fTnLY+BgYGBgQGdz/8hNb6z6a9vYGBgYGDw2czpDP2+bQwtc977tBkYGBgYGJzAxU0lWM1G6NbAwMDA4PxyzmuGDAwMDAwMDAwMDAwMvgp8GVPFDQwMDAwMDAwMDAwMzjv/CwGKJhOcnu9oAAAAAElFTkSuQmCC)"
      ],
      "metadata": {
        "id": "G3lcXxoUIWqO"
      }
    },
    {
      "cell_type": "code",
      "source": [
        "from numpy import mean\n",
        "from numpy import std\n",
        "\n",
        "#importing the libraries\n",
        "import requests\n",
        "import pandas as pd\n",
        "import seaborn as sns\n",
        "import matplotlib.pyplot as plt\n",
        "#Importing the data from the webpage into a DataFrame\n",
        "url='https://en.wikipedia.org/wiki/List_of_highest-grossing_films_in_the_United_Kingdom'\n",
        "req=requests.get(url)\n",
        "data=pd.read_html(req.text)\n",
        "df=data[3]\n",
        "df"
      ],
      "metadata": {
        "colab": {
          "base_uri": "https://localhost:8080/",
          "height": 1000
        },
        "id": "S-wIPMu04-Cb",
        "outputId": "d1ccd870-960a-47bb-dc9f-f557e8050435"
      },
      "execution_count": null,
      "outputs": [
        {
          "output_type": "execute_result",
          "data": {
            "text/plain": [
              "                                                 Rank  \\\n",
              "0                                                  01   \n",
              "1                                                  02   \n",
              "2                                                  03   \n",
              "3                                                  04   \n",
              "4                                                  05   \n",
              "5                                                  06   \n",
              "6                                                  07   \n",
              "7                                                  08   \n",
              "8                                                  09   \n",
              "9                                                  10   \n",
              "10                                                 11   \n",
              "11                                                 12   \n",
              "12                                                 13   \n",
              "13                                                 14   \n",
              "14                                                 15   \n",
              "15                                                 16   \n",
              "16                                                 17   \n",
              "17                                                 18   \n",
              "18                                                 19   \n",
              "19                                                 20   \n",
              "20                                                 21   \n",
              "21                                                 22   \n",
              "22                                                 23   \n",
              "23                                                 24   \n",
              "24                                                 25   \n",
              "25                                                 26   \n",
              "26                                                 27   \n",
              "27                                                 28   \n",
              "28                                                 29   \n",
              "29                                                 30   \n",
              "30                                                 31   \n",
              "31                                                 32   \n",
              "32                                                 33   \n",
              "33                                                 34   \n",
              "34                                                 35   \n",
              "35                                                 36   \n",
              "36                                                 37   \n",
              "37                                                 38   \n",
              "38                                                 39   \n",
              "39                                                 40   \n",
              "40                                                 41   \n",
              "41  Films marked as are classified as British by t...   \n",
              "\n",
              "                                                Title  \\\n",
              "0                        Star Wars: The Force Awakens   \n",
              "1                                             Skyfall   \n",
              "2                                      No Time to Die   \n",
              "3                                             Spectre   \n",
              "4                                   Avengers: Endgame   \n",
              "5                            Star Wars: The Last Jedi   \n",
              "6                                       The Lion King   \n",
              "7       Harry Potter and the Deathly Hallows – Part 2   \n",
              "8                                Beauty and the Beast   \n",
              "9                              Avengers: Infinity War   \n",
              "10                                         Mamma Mia!   \n",
              "11           Harry Potter and the Philosopher's Stone   \n",
              "12                                          Rogue One   \n",
              "13                        Mamma Mia! Here We Go Again   \n",
              "14                                      Casino Royale   \n",
              "15                   Star Wars: The Rise of Skywalker   \n",
              "16                                            Dunkirk   \n",
              "17                              The Dark Knight Rises   \n",
              "18                                  Bohemian Rhapsody   \n",
              "19            Harry Potter and the Chamber of Secrets   \n",
              "20            Fantastic Beasts and Where to Find Them   \n",
              "21      Harry Potter and the Deathly Hallows – Part 1   \n",
              "22                                     The Full Monty   \n",
              "23                                  Quantum of Solace   \n",
              "24             Harry Potter and the Half-Blood Prince   \n",
              "25          Harry Potter and the Order of the Phoenix   \n",
              "26                                    The Dark Knight   \n",
              "27                Harry Potter and the Goblet of Fire   \n",
              "28                            Avengers: Age of Ultron   \n",
              "29                               Bridget Jones's Baby   \n",
              "30                                    The Jungle Book   \n",
              "31           Harry Potter and the Prisoner of Azkaban   \n",
              "32                                  The King's Speech   \n",
              "33                             The Inbetweeners Movie   \n",
              "34                               Mary Poppins Returns   \n",
              "35                                               1917   \n",
              "36                                       Paddington 2   \n",
              "37                              Bridget Jones's Diary   \n",
              "38                     Jurassic World: Fallen Kingdom   \n",
              "39                                     Les Misérables   \n",
              "40                                         The Batman   \n",
              "41  Films marked as are classified as British by t...   \n",
              "\n",
              "                                     Gross(£ million)  \\\n",
              "0                                               123.2   \n",
              "1                                               103.2   \n",
              "2                                          96.7[3][4]   \n",
              "3                                                95.2   \n",
              "4                                                88.7   \n",
              "5                                                82.7   \n",
              "6                                             76.0[6]   \n",
              "7                                             73.1[7]   \n",
              "8                                                72.4   \n",
              "9                                                70.8   \n",
              "10                                            68.9[8]   \n",
              "11                                         67.4[nb 1]   \n",
              "12                                            66.0[9]   \n",
              "13                                           65.6[10]   \n",
              "14                                         64.0[nb 2]   \n",
              "15                                           58.3[11]   \n",
              "16                                           56.8[13]   \n",
              "17                                           56.4[14]   \n",
              "18                                           55.4[15]   \n",
              "19                                           55.0[16]   \n",
              "20                                           54.7[17]   \n",
              "21                                            52.6[7]   \n",
              "22                                               52.2   \n",
              "23                                               51.2   \n",
              "24                                            50.9[7]   \n",
              "25                                            50.0[7]   \n",
              "26                                           49.3[14]   \n",
              "27                                           49.3[16]   \n",
              "28                                               48.3   \n",
              "29                                               48.2   \n",
              "30                                           46.2[11]   \n",
              "31                                           46.3[16]   \n",
              "32                                               45.7   \n",
              "33                                               45.0   \n",
              "34                                           44.5[31]   \n",
              "35                                           44.1[10]   \n",
              "36                                            42.6[5]   \n",
              "37                                               42.0   \n",
              "38                                               41.6   \n",
              "39                                               40.8   \n",
              "40                                           40.1[32]   \n",
              "41  Films marked as are classified as British by t...   \n",
              "\n",
              "                                                 Year  \n",
              "0                                                2015  \n",
              "1                                                2012  \n",
              "2                                                2021  \n",
              "3                                                2015  \n",
              "4                                                2019  \n",
              "5                                                2017  \n",
              "6                                                2019  \n",
              "7                                                2011  \n",
              "8                                                2017  \n",
              "9                                                2018  \n",
              "10                                               2008  \n",
              "11                                               2001  \n",
              "12                                               2016  \n",
              "13                                               2018  \n",
              "14                                               2006  \n",
              "15                                               2019  \n",
              "16                                               2017  \n",
              "17                                               2012  \n",
              "18                                               2018  \n",
              "19                                               2002  \n",
              "20                                               2016  \n",
              "21                                               2011  \n",
              "22                                               1997  \n",
              "23                                               2008  \n",
              "24                                               2009  \n",
              "25                                               2007  \n",
              "26                                               2008  \n",
              "27                                               2005  \n",
              "28                                               2015  \n",
              "29                                               2016  \n",
              "30                                               2016  \n",
              "31                                               2004  \n",
              "32                                               2011  \n",
              "33                                               2011  \n",
              "34                                               2018  \n",
              "35                                               2019  \n",
              "36                                               2017  \n",
              "37                                               2001  \n",
              "38                                               2018  \n",
              "39                                               2013  \n",
              "40                                               2022  \n",
              "41  Films marked as are classified as British by t...  "
            ],
            "text/html": [
              "\n",
              "  <div id=\"df-0cd62535-cd9e-4b8f-abf5-738a9dd7846e\">\n",
              "    <div class=\"colab-df-container\">\n",
              "      <div>\n",
              "<style scoped>\n",
              "    .dataframe tbody tr th:only-of-type {\n",
              "        vertical-align: middle;\n",
              "    }\n",
              "\n",
              "    .dataframe tbody tr th {\n",
              "        vertical-align: top;\n",
              "    }\n",
              "\n",
              "    .dataframe thead th {\n",
              "        text-align: right;\n",
              "    }\n",
              "</style>\n",
              "<table border=\"1\" class=\"dataframe\">\n",
              "  <thead>\n",
              "    <tr style=\"text-align: right;\">\n",
              "      <th></th>\n",
              "      <th>Rank</th>\n",
              "      <th>Title</th>\n",
              "      <th>Gross(£ million)</th>\n",
              "      <th>Year</th>\n",
              "    </tr>\n",
              "  </thead>\n",
              "  <tbody>\n",
              "    <tr>\n",
              "      <th>0</th>\n",
              "      <td>01</td>\n",
              "      <td>Star Wars: The Force Awakens</td>\n",
              "      <td>123.2</td>\n",
              "      <td>2015</td>\n",
              "    </tr>\n",
              "    <tr>\n",
              "      <th>1</th>\n",
              "      <td>02</td>\n",
              "      <td>Skyfall</td>\n",
              "      <td>103.2</td>\n",
              "      <td>2012</td>\n",
              "    </tr>\n",
              "    <tr>\n",
              "      <th>2</th>\n",
              "      <td>03</td>\n",
              "      <td>No Time to Die</td>\n",
              "      <td>96.7[3][4]</td>\n",
              "      <td>2021</td>\n",
              "    </tr>\n",
              "    <tr>\n",
              "      <th>3</th>\n",
              "      <td>04</td>\n",
              "      <td>Spectre</td>\n",
              "      <td>95.2</td>\n",
              "      <td>2015</td>\n",
              "    </tr>\n",
              "    <tr>\n",
              "      <th>4</th>\n",
              "      <td>05</td>\n",
              "      <td>Avengers: Endgame</td>\n",
              "      <td>88.7</td>\n",
              "      <td>2019</td>\n",
              "    </tr>\n",
              "    <tr>\n",
              "      <th>5</th>\n",
              "      <td>06</td>\n",
              "      <td>Star Wars: The Last Jedi</td>\n",
              "      <td>82.7</td>\n",
              "      <td>2017</td>\n",
              "    </tr>\n",
              "    <tr>\n",
              "      <th>6</th>\n",
              "      <td>07</td>\n",
              "      <td>The Lion King</td>\n",
              "      <td>76.0[6]</td>\n",
              "      <td>2019</td>\n",
              "    </tr>\n",
              "    <tr>\n",
              "      <th>7</th>\n",
              "      <td>08</td>\n",
              "      <td>Harry Potter and the Deathly Hallows – Part 2</td>\n",
              "      <td>73.1[7]</td>\n",
              "      <td>2011</td>\n",
              "    </tr>\n",
              "    <tr>\n",
              "      <th>8</th>\n",
              "      <td>09</td>\n",
              "      <td>Beauty and the Beast</td>\n",
              "      <td>72.4</td>\n",
              "      <td>2017</td>\n",
              "    </tr>\n",
              "    <tr>\n",
              "      <th>9</th>\n",
              "      <td>10</td>\n",
              "      <td>Avengers: Infinity War</td>\n",
              "      <td>70.8</td>\n",
              "      <td>2018</td>\n",
              "    </tr>\n",
              "    <tr>\n",
              "      <th>10</th>\n",
              "      <td>11</td>\n",
              "      <td>Mamma Mia!</td>\n",
              "      <td>68.9[8]</td>\n",
              "      <td>2008</td>\n",
              "    </tr>\n",
              "    <tr>\n",
              "      <th>11</th>\n",
              "      <td>12</td>\n",
              "      <td>Harry Potter and the Philosopher's Stone</td>\n",
              "      <td>67.4[nb 1]</td>\n",
              "      <td>2001</td>\n",
              "    </tr>\n",
              "    <tr>\n",
              "      <th>12</th>\n",
              "      <td>13</td>\n",
              "      <td>Rogue One</td>\n",
              "      <td>66.0[9]</td>\n",
              "      <td>2016</td>\n",
              "    </tr>\n",
              "    <tr>\n",
              "      <th>13</th>\n",
              "      <td>14</td>\n",
              "      <td>Mamma Mia! Here We Go Again</td>\n",
              "      <td>65.6[10]</td>\n",
              "      <td>2018</td>\n",
              "    </tr>\n",
              "    <tr>\n",
              "      <th>14</th>\n",
              "      <td>15</td>\n",
              "      <td>Casino Royale</td>\n",
              "      <td>64.0[nb 2]</td>\n",
              "      <td>2006</td>\n",
              "    </tr>\n",
              "    <tr>\n",
              "      <th>15</th>\n",
              "      <td>16</td>\n",
              "      <td>Star Wars: The Rise of Skywalker</td>\n",
              "      <td>58.3[11]</td>\n",
              "      <td>2019</td>\n",
              "    </tr>\n",
              "    <tr>\n",
              "      <th>16</th>\n",
              "      <td>17</td>\n",
              "      <td>Dunkirk</td>\n",
              "      <td>56.8[13]</td>\n",
              "      <td>2017</td>\n",
              "    </tr>\n",
              "    <tr>\n",
              "      <th>17</th>\n",
              "      <td>18</td>\n",
              "      <td>The Dark Knight Rises</td>\n",
              "      <td>56.4[14]</td>\n",
              "      <td>2012</td>\n",
              "    </tr>\n",
              "    <tr>\n",
              "      <th>18</th>\n",
              "      <td>19</td>\n",
              "      <td>Bohemian Rhapsody</td>\n",
              "      <td>55.4[15]</td>\n",
              "      <td>2018</td>\n",
              "    </tr>\n",
              "    <tr>\n",
              "      <th>19</th>\n",
              "      <td>20</td>\n",
              "      <td>Harry Potter and the Chamber of Secrets</td>\n",
              "      <td>55.0[16]</td>\n",
              "      <td>2002</td>\n",
              "    </tr>\n",
              "    <tr>\n",
              "      <th>20</th>\n",
              "      <td>21</td>\n",
              "      <td>Fantastic Beasts and Where to Find Them</td>\n",
              "      <td>54.7[17]</td>\n",
              "      <td>2016</td>\n",
              "    </tr>\n",
              "    <tr>\n",
              "      <th>21</th>\n",
              "      <td>22</td>\n",
              "      <td>Harry Potter and the Deathly Hallows – Part 1</td>\n",
              "      <td>52.6[7]</td>\n",
              "      <td>2011</td>\n",
              "    </tr>\n",
              "    <tr>\n",
              "      <th>22</th>\n",
              "      <td>23</td>\n",
              "      <td>The Full Monty</td>\n",
              "      <td>52.2</td>\n",
              "      <td>1997</td>\n",
              "    </tr>\n",
              "    <tr>\n",
              "      <th>23</th>\n",
              "      <td>24</td>\n",
              "      <td>Quantum of Solace</td>\n",
              "      <td>51.2</td>\n",
              "      <td>2008</td>\n",
              "    </tr>\n",
              "    <tr>\n",
              "      <th>24</th>\n",
              "      <td>25</td>\n",
              "      <td>Harry Potter and the Half-Blood Prince</td>\n",
              "      <td>50.9[7]</td>\n",
              "      <td>2009</td>\n",
              "    </tr>\n",
              "    <tr>\n",
              "      <th>25</th>\n",
              "      <td>26</td>\n",
              "      <td>Harry Potter and the Order of the Phoenix</td>\n",
              "      <td>50.0[7]</td>\n",
              "      <td>2007</td>\n",
              "    </tr>\n",
              "    <tr>\n",
              "      <th>26</th>\n",
              "      <td>27</td>\n",
              "      <td>The Dark Knight</td>\n",
              "      <td>49.3[14]</td>\n",
              "      <td>2008</td>\n",
              "    </tr>\n",
              "    <tr>\n",
              "      <th>27</th>\n",
              "      <td>28</td>\n",
              "      <td>Harry Potter and the Goblet of Fire</td>\n",
              "      <td>49.3[16]</td>\n",
              "      <td>2005</td>\n",
              "    </tr>\n",
              "    <tr>\n",
              "      <th>28</th>\n",
              "      <td>29</td>\n",
              "      <td>Avengers: Age of Ultron</td>\n",
              "      <td>48.3</td>\n",
              "      <td>2015</td>\n",
              "    </tr>\n",
              "    <tr>\n",
              "      <th>29</th>\n",
              "      <td>30</td>\n",
              "      <td>Bridget Jones's Baby</td>\n",
              "      <td>48.2</td>\n",
              "      <td>2016</td>\n",
              "    </tr>\n",
              "    <tr>\n",
              "      <th>30</th>\n",
              "      <td>31</td>\n",
              "      <td>The Jungle Book</td>\n",
              "      <td>46.2[11]</td>\n",
              "      <td>2016</td>\n",
              "    </tr>\n",
              "    <tr>\n",
              "      <th>31</th>\n",
              "      <td>32</td>\n",
              "      <td>Harry Potter and the Prisoner of Azkaban</td>\n",
              "      <td>46.3[16]</td>\n",
              "      <td>2004</td>\n",
              "    </tr>\n",
              "    <tr>\n",
              "      <th>32</th>\n",
              "      <td>33</td>\n",
              "      <td>The King's Speech</td>\n",
              "      <td>45.7</td>\n",
              "      <td>2011</td>\n",
              "    </tr>\n",
              "    <tr>\n",
              "      <th>33</th>\n",
              "      <td>34</td>\n",
              "      <td>The Inbetweeners Movie</td>\n",
              "      <td>45.0</td>\n",
              "      <td>2011</td>\n",
              "    </tr>\n",
              "    <tr>\n",
              "      <th>34</th>\n",
              "      <td>35</td>\n",
              "      <td>Mary Poppins Returns</td>\n",
              "      <td>44.5[31]</td>\n",
              "      <td>2018</td>\n",
              "    </tr>\n",
              "    <tr>\n",
              "      <th>35</th>\n",
              "      <td>36</td>\n",
              "      <td>1917</td>\n",
              "      <td>44.1[10]</td>\n",
              "      <td>2019</td>\n",
              "    </tr>\n",
              "    <tr>\n",
              "      <th>36</th>\n",
              "      <td>37</td>\n",
              "      <td>Paddington 2</td>\n",
              "      <td>42.6[5]</td>\n",
              "      <td>2017</td>\n",
              "    </tr>\n",
              "    <tr>\n",
              "      <th>37</th>\n",
              "      <td>38</td>\n",
              "      <td>Bridget Jones's Diary</td>\n",
              "      <td>42.0</td>\n",
              "      <td>2001</td>\n",
              "    </tr>\n",
              "    <tr>\n",
              "      <th>38</th>\n",
              "      <td>39</td>\n",
              "      <td>Jurassic World: Fallen Kingdom</td>\n",
              "      <td>41.6</td>\n",
              "      <td>2018</td>\n",
              "    </tr>\n",
              "    <tr>\n",
              "      <th>39</th>\n",
              "      <td>40</td>\n",
              "      <td>Les Misérables</td>\n",
              "      <td>40.8</td>\n",
              "      <td>2013</td>\n",
              "    </tr>\n",
              "    <tr>\n",
              "      <th>40</th>\n",
              "      <td>41</td>\n",
              "      <td>The Batman</td>\n",
              "      <td>40.1[32]</td>\n",
              "      <td>2022</td>\n",
              "    </tr>\n",
              "    <tr>\n",
              "      <th>41</th>\n",
              "      <td>Films marked as are classified as British by t...</td>\n",
              "      <td>Films marked as are classified as British by t...</td>\n",
              "      <td>Films marked as are classified as British by t...</td>\n",
              "      <td>Films marked as are classified as British by t...</td>\n",
              "    </tr>\n",
              "  </tbody>\n",
              "</table>\n",
              "</div>\n",
              "      <button class=\"colab-df-convert\" onclick=\"convertToInteractive('df-0cd62535-cd9e-4b8f-abf5-738a9dd7846e')\"\n",
              "              title=\"Convert this dataframe to an interactive table.\"\n",
              "              style=\"display:none;\">\n",
              "        \n",
              "  <svg xmlns=\"http://www.w3.org/2000/svg\" height=\"24px\"viewBox=\"0 0 24 24\"\n",
              "       width=\"24px\">\n",
              "    <path d=\"M0 0h24v24H0V0z\" fill=\"none\"/>\n",
              "    <path d=\"M18.56 5.44l.94 2.06.94-2.06 2.06-.94-2.06-.94-.94-2.06-.94 2.06-2.06.94zm-11 1L8.5 8.5l.94-2.06 2.06-.94-2.06-.94L8.5 2.5l-.94 2.06-2.06.94zm10 10l.94 2.06.94-2.06 2.06-.94-2.06-.94-.94-2.06-.94 2.06-2.06.94z\"/><path d=\"M17.41 7.96l-1.37-1.37c-.4-.4-.92-.59-1.43-.59-.52 0-1.04.2-1.43.59L10.3 9.45l-7.72 7.72c-.78.78-.78 2.05 0 2.83L4 21.41c.39.39.9.59 1.41.59.51 0 1.02-.2 1.41-.59l7.78-7.78 2.81-2.81c.8-.78.8-2.07 0-2.86zM5.41 20L4 18.59l7.72-7.72 1.47 1.35L5.41 20z\"/>\n",
              "  </svg>\n",
              "      </button>\n",
              "      \n",
              "  <style>\n",
              "    .colab-df-container {\n",
              "      display:flex;\n",
              "      flex-wrap:wrap;\n",
              "      gap: 12px;\n",
              "    }\n",
              "\n",
              "    .colab-df-convert {\n",
              "      background-color: #E8F0FE;\n",
              "      border: none;\n",
              "      border-radius: 50%;\n",
              "      cursor: pointer;\n",
              "      display: none;\n",
              "      fill: #1967D2;\n",
              "      height: 32px;\n",
              "      padding: 0 0 0 0;\n",
              "      width: 32px;\n",
              "    }\n",
              "\n",
              "    .colab-df-convert:hover {\n",
              "      background-color: #E2EBFA;\n",
              "      box-shadow: 0px 1px 2px rgba(60, 64, 67, 0.3), 0px 1px 3px 1px rgba(60, 64, 67, 0.15);\n",
              "      fill: #174EA6;\n",
              "    }\n",
              "\n",
              "    [theme=dark] .colab-df-convert {\n",
              "      background-color: #3B4455;\n",
              "      fill: #D2E3FC;\n",
              "    }\n",
              "\n",
              "    [theme=dark] .colab-df-convert:hover {\n",
              "      background-color: #434B5C;\n",
              "      box-shadow: 0px 1px 3px 1px rgba(0, 0, 0, 0.15);\n",
              "      filter: drop-shadow(0px 1px 2px rgba(0, 0, 0, 0.3));\n",
              "      fill: #FFFFFF;\n",
              "    }\n",
              "  </style>\n",
              "\n",
              "      <script>\n",
              "        const buttonEl =\n",
              "          document.querySelector('#df-0cd62535-cd9e-4b8f-abf5-738a9dd7846e button.colab-df-convert');\n",
              "        buttonEl.style.display =\n",
              "          google.colab.kernel.accessAllowed ? 'block' : 'none';\n",
              "\n",
              "        async function convertToInteractive(key) {\n",
              "          const element = document.querySelector('#df-0cd62535-cd9e-4b8f-abf5-738a9dd7846e');\n",
              "          const dataTable =\n",
              "            await google.colab.kernel.invokeFunction('convertToInteractive',\n",
              "                                                     [key], {});\n",
              "          if (!dataTable) return;\n",
              "\n",
              "          const docLinkHtml = 'Like what you see? Visit the ' +\n",
              "            '<a target=\"_blank\" href=https://colab.research.google.com/notebooks/data_table.ipynb>data table notebook</a>'\n",
              "            + ' to learn more about interactive tables.';\n",
              "          element.innerHTML = '';\n",
              "          dataTable['output_type'] = 'display_data';\n",
              "          await google.colab.output.renderOutput(dataTable, element);\n",
              "          const docLink = document.createElement('div');\n",
              "          docLink.innerHTML = docLinkHtml;\n",
              "          element.appendChild(docLink);\n",
              "        }\n",
              "      </script>\n",
              "    </div>\n",
              "  </div>\n",
              "  "
            ]
          },
          "metadata": {},
          "execution_count": 7
        }
      ]
    },
    {
      "cell_type": "code",
      "source": [
        "df['Rank']=df['Rank'].str.replace(r\"*\",\"\")"
      ],
      "metadata": {
        "id": "WUS6wWCYHEgO",
        "outputId": "74093d4d-3f8a-4928-a491-2e55067e547e",
        "colab": {
          "base_uri": "https://localhost:8080/"
        }
      },
      "execution_count": 37,
      "outputs": [
        {
          "output_type": "stream",
          "name": "stderr",
          "text": [
            "/usr/local/lib/python3.7/dist-packages/ipykernel_launcher.py:1: FutureWarning: The default value of regex will change from True to False in a future version. In addition, single character regular expressions will *not* be treated as literal strings when regex=True.\n",
            "  \"\"\"Entry point for launching an IPython kernel.\n"
          ]
        }
      ]
    },
    {
      "cell_type": "code",
      "source": [
        "df.head()"
      ],
      "metadata": {
        "colab": {
          "base_uri": "https://localhost:8080/",
          "height": 206
        },
        "id": "smUZ9KviHMNP",
        "outputId": "154dcf01-b01f-4a0b-f20a-1c924b790226"
      },
      "execution_count": 38,
      "outputs": [
        {
          "output_type": "execute_result",
          "data": {
            "text/plain": [
              "  Rank                         Title Gross(£ million)  Year\n",
              "0   01  Star Wars: The Force Awakens            123.2  2015\n",
              "1   02                       Skyfall            103.2  2012\n",
              "2   03                No Time to Die       96.7[3][4]  2021\n",
              "3   04                       Spectre             95.2  2015\n",
              "4   05             Avengers: Endgame             88.7  2019"
            ],
            "text/html": [
              "\n",
              "  <div id=\"df-61de1be9-71e2-4628-91cb-9dab6a9ae071\">\n",
              "    <div class=\"colab-df-container\">\n",
              "      <div>\n",
              "<style scoped>\n",
              "    .dataframe tbody tr th:only-of-type {\n",
              "        vertical-align: middle;\n",
              "    }\n",
              "\n",
              "    .dataframe tbody tr th {\n",
              "        vertical-align: top;\n",
              "    }\n",
              "\n",
              "    .dataframe thead th {\n",
              "        text-align: right;\n",
              "    }\n",
              "</style>\n",
              "<table border=\"1\" class=\"dataframe\">\n",
              "  <thead>\n",
              "    <tr style=\"text-align: right;\">\n",
              "      <th></th>\n",
              "      <th>Rank</th>\n",
              "      <th>Title</th>\n",
              "      <th>Gross(£ million)</th>\n",
              "      <th>Year</th>\n",
              "    </tr>\n",
              "  </thead>\n",
              "  <tbody>\n",
              "    <tr>\n",
              "      <th>0</th>\n",
              "      <td>01</td>\n",
              "      <td>Star Wars: The Force Awakens</td>\n",
              "      <td>123.2</td>\n",
              "      <td>2015</td>\n",
              "    </tr>\n",
              "    <tr>\n",
              "      <th>1</th>\n",
              "      <td>02</td>\n",
              "      <td>Skyfall</td>\n",
              "      <td>103.2</td>\n",
              "      <td>2012</td>\n",
              "    </tr>\n",
              "    <tr>\n",
              "      <th>2</th>\n",
              "      <td>03</td>\n",
              "      <td>No Time to Die</td>\n",
              "      <td>96.7[3][4]</td>\n",
              "      <td>2021</td>\n",
              "    </tr>\n",
              "    <tr>\n",
              "      <th>3</th>\n",
              "      <td>04</td>\n",
              "      <td>Spectre</td>\n",
              "      <td>95.2</td>\n",
              "      <td>2015</td>\n",
              "    </tr>\n",
              "    <tr>\n",
              "      <th>4</th>\n",
              "      <td>05</td>\n",
              "      <td>Avengers: Endgame</td>\n",
              "      <td>88.7</td>\n",
              "      <td>2019</td>\n",
              "    </tr>\n",
              "  </tbody>\n",
              "</table>\n",
              "</div>\n",
              "      <button class=\"colab-df-convert\" onclick=\"convertToInteractive('df-61de1be9-71e2-4628-91cb-9dab6a9ae071')\"\n",
              "              title=\"Convert this dataframe to an interactive table.\"\n",
              "              style=\"display:none;\">\n",
              "        \n",
              "  <svg xmlns=\"http://www.w3.org/2000/svg\" height=\"24px\"viewBox=\"0 0 24 24\"\n",
              "       width=\"24px\">\n",
              "    <path d=\"M0 0h24v24H0V0z\" fill=\"none\"/>\n",
              "    <path d=\"M18.56 5.44l.94 2.06.94-2.06 2.06-.94-2.06-.94-.94-2.06-.94 2.06-2.06.94zm-11 1L8.5 8.5l.94-2.06 2.06-.94-2.06-.94L8.5 2.5l-.94 2.06-2.06.94zm10 10l.94 2.06.94-2.06 2.06-.94-2.06-.94-.94-2.06-.94 2.06-2.06.94z\"/><path d=\"M17.41 7.96l-1.37-1.37c-.4-.4-.92-.59-1.43-.59-.52 0-1.04.2-1.43.59L10.3 9.45l-7.72 7.72c-.78.78-.78 2.05 0 2.83L4 21.41c.39.39.9.59 1.41.59.51 0 1.02-.2 1.41-.59l7.78-7.78 2.81-2.81c.8-.78.8-2.07 0-2.86zM5.41 20L4 18.59l7.72-7.72 1.47 1.35L5.41 20z\"/>\n",
              "  </svg>\n",
              "      </button>\n",
              "      \n",
              "  <style>\n",
              "    .colab-df-container {\n",
              "      display:flex;\n",
              "      flex-wrap:wrap;\n",
              "      gap: 12px;\n",
              "    }\n",
              "\n",
              "    .colab-df-convert {\n",
              "      background-color: #E8F0FE;\n",
              "      border: none;\n",
              "      border-radius: 50%;\n",
              "      cursor: pointer;\n",
              "      display: none;\n",
              "      fill: #1967D2;\n",
              "      height: 32px;\n",
              "      padding: 0 0 0 0;\n",
              "      width: 32px;\n",
              "    }\n",
              "\n",
              "    .colab-df-convert:hover {\n",
              "      background-color: #E2EBFA;\n",
              "      box-shadow: 0px 1px 2px rgba(60, 64, 67, 0.3), 0px 1px 3px 1px rgba(60, 64, 67, 0.15);\n",
              "      fill: #174EA6;\n",
              "    }\n",
              "\n",
              "    [theme=dark] .colab-df-convert {\n",
              "      background-color: #3B4455;\n",
              "      fill: #D2E3FC;\n",
              "    }\n",
              "\n",
              "    [theme=dark] .colab-df-convert:hover {\n",
              "      background-color: #434B5C;\n",
              "      box-shadow: 0px 1px 3px 1px rgba(0, 0, 0, 0.15);\n",
              "      filter: drop-shadow(0px 1px 2px rgba(0, 0, 0, 0.3));\n",
              "      fill: #FFFFFF;\n",
              "    }\n",
              "  </style>\n",
              "\n",
              "      <script>\n",
              "        const buttonEl =\n",
              "          document.querySelector('#df-61de1be9-71e2-4628-91cb-9dab6a9ae071 button.colab-df-convert');\n",
              "        buttonEl.style.display =\n",
              "          google.colab.kernel.accessAllowed ? 'block' : 'none';\n",
              "\n",
              "        async function convertToInteractive(key) {\n",
              "          const element = document.querySelector('#df-61de1be9-71e2-4628-91cb-9dab6a9ae071');\n",
              "          const dataTable =\n",
              "            await google.colab.kernel.invokeFunction('convertToInteractive',\n",
              "                                                     [key], {});\n",
              "          if (!dataTable) return;\n",
              "\n",
              "          const docLinkHtml = 'Like what you see? Visit the ' +\n",
              "            '<a target=\"_blank\" href=https://colab.research.google.com/notebooks/data_table.ipynb>data table notebook</a>'\n",
              "            + ' to learn more about interactive tables.';\n",
              "          element.innerHTML = '';\n",
              "          dataTable['output_type'] = 'display_data';\n",
              "          await google.colab.output.renderOutput(dataTable, element);\n",
              "          const docLink = document.createElement('div');\n",
              "          docLink.innerHTML = docLinkHtml;\n",
              "          element.appendChild(docLink);\n",
              "        }\n",
              "      </script>\n",
              "    </div>\n",
              "  </div>\n",
              "  "
            ]
          },
          "metadata": {},
          "execution_count": 38
        }
      ]
    },
    {
      "cell_type": "code",
      "source": [
        "df['Gross(£ million)']=df['Gross(£ million)'].str.replace(r\"\\[[^\\]]+\\]\",\"\").str.replace(r\".\",\"\")"
      ],
      "metadata": {
        "colab": {
          "base_uri": "https://localhost:8080/"
        },
        "id": "BTKQ4qxhHN92",
        "outputId": "9e7281c8-004f-41b4-cd04-02e7288a4a7a"
      },
      "execution_count": 39,
      "outputs": [
        {
          "output_type": "stream",
          "name": "stderr",
          "text": [
            "/usr/local/lib/python3.7/dist-packages/ipykernel_launcher.py:1: FutureWarning: The default value of regex will change from True to False in a future version.\n",
            "  \"\"\"Entry point for launching an IPython kernel.\n",
            "/usr/local/lib/python3.7/dist-packages/ipykernel_launcher.py:1: FutureWarning: The default value of regex will change from True to False in a future version. In addition, single character regular expressions will *not* be treated as literal strings when regex=True.\n",
            "  \"\"\"Entry point for launching an IPython kernel.\n"
          ]
        }
      ]
    },
    {
      "cell_type": "code",
      "source": [
        "df.head()"
      ],
      "metadata": {
        "colab": {
          "base_uri": "https://localhost:8080/",
          "height": 206
        },
        "id": "TpVJd9k6HQB3",
        "outputId": "5847110f-80f4-477b-ccbb-b7ae6510183e"
      },
      "execution_count": 40,
      "outputs": [
        {
          "output_type": "execute_result",
          "data": {
            "text/plain": [
              "  Rank                         Title Gross(£ million)  Year\n",
              "0   01  Star Wars: The Force Awakens             1232  2015\n",
              "1   02                       Skyfall             1032  2012\n",
              "2   03                No Time to Die              967  2021\n",
              "3   04                       Spectre              952  2015\n",
              "4   05             Avengers: Endgame              887  2019"
            ],
            "text/html": [
              "\n",
              "  <div id=\"df-d3db5a53-946e-48df-9454-2a0dd3467ce7\">\n",
              "    <div class=\"colab-df-container\">\n",
              "      <div>\n",
              "<style scoped>\n",
              "    .dataframe tbody tr th:only-of-type {\n",
              "        vertical-align: middle;\n",
              "    }\n",
              "\n",
              "    .dataframe tbody tr th {\n",
              "        vertical-align: top;\n",
              "    }\n",
              "\n",
              "    .dataframe thead th {\n",
              "        text-align: right;\n",
              "    }\n",
              "</style>\n",
              "<table border=\"1\" class=\"dataframe\">\n",
              "  <thead>\n",
              "    <tr style=\"text-align: right;\">\n",
              "      <th></th>\n",
              "      <th>Rank</th>\n",
              "      <th>Title</th>\n",
              "      <th>Gross(£ million)</th>\n",
              "      <th>Year</th>\n",
              "    </tr>\n",
              "  </thead>\n",
              "  <tbody>\n",
              "    <tr>\n",
              "      <th>0</th>\n",
              "      <td>01</td>\n",
              "      <td>Star Wars: The Force Awakens</td>\n",
              "      <td>1232</td>\n",
              "      <td>2015</td>\n",
              "    </tr>\n",
              "    <tr>\n",
              "      <th>1</th>\n",
              "      <td>02</td>\n",
              "      <td>Skyfall</td>\n",
              "      <td>1032</td>\n",
              "      <td>2012</td>\n",
              "    </tr>\n",
              "    <tr>\n",
              "      <th>2</th>\n",
              "      <td>03</td>\n",
              "      <td>No Time to Die</td>\n",
              "      <td>967</td>\n",
              "      <td>2021</td>\n",
              "    </tr>\n",
              "    <tr>\n",
              "      <th>3</th>\n",
              "      <td>04</td>\n",
              "      <td>Spectre</td>\n",
              "      <td>952</td>\n",
              "      <td>2015</td>\n",
              "    </tr>\n",
              "    <tr>\n",
              "      <th>4</th>\n",
              "      <td>05</td>\n",
              "      <td>Avengers: Endgame</td>\n",
              "      <td>887</td>\n",
              "      <td>2019</td>\n",
              "    </tr>\n",
              "  </tbody>\n",
              "</table>\n",
              "</div>\n",
              "      <button class=\"colab-df-convert\" onclick=\"convertToInteractive('df-d3db5a53-946e-48df-9454-2a0dd3467ce7')\"\n",
              "              title=\"Convert this dataframe to an interactive table.\"\n",
              "              style=\"display:none;\">\n",
              "        \n",
              "  <svg xmlns=\"http://www.w3.org/2000/svg\" height=\"24px\"viewBox=\"0 0 24 24\"\n",
              "       width=\"24px\">\n",
              "    <path d=\"M0 0h24v24H0V0z\" fill=\"none\"/>\n",
              "    <path d=\"M18.56 5.44l.94 2.06.94-2.06 2.06-.94-2.06-.94-.94-2.06-.94 2.06-2.06.94zm-11 1L8.5 8.5l.94-2.06 2.06-.94-2.06-.94L8.5 2.5l-.94 2.06-2.06.94zm10 10l.94 2.06.94-2.06 2.06-.94-2.06-.94-.94-2.06-.94 2.06-2.06.94z\"/><path d=\"M17.41 7.96l-1.37-1.37c-.4-.4-.92-.59-1.43-.59-.52 0-1.04.2-1.43.59L10.3 9.45l-7.72 7.72c-.78.78-.78 2.05 0 2.83L4 21.41c.39.39.9.59 1.41.59.51 0 1.02-.2 1.41-.59l7.78-7.78 2.81-2.81c.8-.78.8-2.07 0-2.86zM5.41 20L4 18.59l7.72-7.72 1.47 1.35L5.41 20z\"/>\n",
              "  </svg>\n",
              "      </button>\n",
              "      \n",
              "  <style>\n",
              "    .colab-df-container {\n",
              "      display:flex;\n",
              "      flex-wrap:wrap;\n",
              "      gap: 12px;\n",
              "    }\n",
              "\n",
              "    .colab-df-convert {\n",
              "      background-color: #E8F0FE;\n",
              "      border: none;\n",
              "      border-radius: 50%;\n",
              "      cursor: pointer;\n",
              "      display: none;\n",
              "      fill: #1967D2;\n",
              "      height: 32px;\n",
              "      padding: 0 0 0 0;\n",
              "      width: 32px;\n",
              "    }\n",
              "\n",
              "    .colab-df-convert:hover {\n",
              "      background-color: #E2EBFA;\n",
              "      box-shadow: 0px 1px 2px rgba(60, 64, 67, 0.3), 0px 1px 3px 1px rgba(60, 64, 67, 0.15);\n",
              "      fill: #174EA6;\n",
              "    }\n",
              "\n",
              "    [theme=dark] .colab-df-convert {\n",
              "      background-color: #3B4455;\n",
              "      fill: #D2E3FC;\n",
              "    }\n",
              "\n",
              "    [theme=dark] .colab-df-convert:hover {\n",
              "      background-color: #434B5C;\n",
              "      box-shadow: 0px 1px 3px 1px rgba(0, 0, 0, 0.15);\n",
              "      filter: drop-shadow(0px 1px 2px rgba(0, 0, 0, 0.3));\n",
              "      fill: #FFFFFF;\n",
              "    }\n",
              "  </style>\n",
              "\n",
              "      <script>\n",
              "        const buttonEl =\n",
              "          document.querySelector('#df-d3db5a53-946e-48df-9454-2a0dd3467ce7 button.colab-df-convert');\n",
              "        buttonEl.style.display =\n",
              "          google.colab.kernel.accessAllowed ? 'block' : 'none';\n",
              "\n",
              "        async function convertToInteractive(key) {\n",
              "          const element = document.querySelector('#df-d3db5a53-946e-48df-9454-2a0dd3467ce7');\n",
              "          const dataTable =\n",
              "            await google.colab.kernel.invokeFunction('convertToInteractive',\n",
              "                                                     [key], {});\n",
              "          if (!dataTable) return;\n",
              "\n",
              "          const docLinkHtml = 'Like what you see? Visit the ' +\n",
              "            '<a target=\"_blank\" href=https://colab.research.google.com/notebooks/data_table.ipynb>data table notebook</a>'\n",
              "            + ' to learn more about interactive tables.';\n",
              "          element.innerHTML = '';\n",
              "          dataTable['output_type'] = 'display_data';\n",
              "          await google.colab.output.renderOutput(dataTable, element);\n",
              "          const docLink = document.createElement('div');\n",
              "          docLink.innerHTML = docLinkHtml;\n",
              "          element.appendChild(docLink);\n",
              "        }\n",
              "      </script>\n",
              "    </div>\n",
              "  </div>\n",
              "  "
            ]
          },
          "metadata": {},
          "execution_count": 40
        }
      ]
    },
    {
      "cell_type": "code",
      "source": [
        "df.drop(['Rank'],axis=1,inplace=True)"
      ],
      "metadata": {
        "id": "ooAfFW0NHSQ2"
      },
      "execution_count": 41,
      "outputs": []
    },
    {
      "cell_type": "code",
      "source": [
        "df.info()"
      ],
      "metadata": {
        "colab": {
          "base_uri": "https://localhost:8080/"
        },
        "id": "uHWt1PXfHUeF",
        "outputId": "c5c2cdf2-c8c5-4378-8040-17036e57ce90"
      },
      "execution_count": 42,
      "outputs": [
        {
          "output_type": "stream",
          "name": "stdout",
          "text": [
            "<class 'pandas.core.frame.DataFrame'>\n",
            "RangeIndex: 42 entries, 0 to 41\n",
            "Data columns (total 3 columns):\n",
            " #   Column            Non-Null Count  Dtype \n",
            "---  ------            --------------  ----- \n",
            " 0   Title             42 non-null     object\n",
            " 1   Gross(£ million)  42 non-null     object\n",
            " 2   Year              42 non-null     object\n",
            "dtypes: object(3)\n",
            "memory usage: 1.1+ KB\n"
          ]
        }
      ]
    },
    {
      "cell_type": "code",
      "source": [
        "df"
      ],
      "metadata": {
        "colab": {
          "base_uri": "https://localhost:8080/",
          "height": 1000
        },
        "id": "I9KyjDXFHWde",
        "outputId": "9c041d84-668c-4a9f-a12e-14e90e73a29d"
      },
      "execution_count": 43,
      "outputs": [
        {
          "output_type": "execute_result",
          "data": {
            "text/plain": [
              "                                                Title  \\\n",
              "0                        Star Wars: The Force Awakens   \n",
              "1                                             Skyfall   \n",
              "2                                      No Time to Die   \n",
              "3                                             Spectre   \n",
              "4                                   Avengers: Endgame   \n",
              "5                            Star Wars: The Last Jedi   \n",
              "6                                       The Lion King   \n",
              "7       Harry Potter and the Deathly Hallows – Part 2   \n",
              "8                                Beauty and the Beast   \n",
              "9                              Avengers: Infinity War   \n",
              "10                                         Mamma Mia!   \n",
              "11           Harry Potter and the Philosopher's Stone   \n",
              "12                                          Rogue One   \n",
              "13                        Mamma Mia! Here We Go Again   \n",
              "14                                      Casino Royale   \n",
              "15                   Star Wars: The Rise of Skywalker   \n",
              "16                                            Dunkirk   \n",
              "17                              The Dark Knight Rises   \n",
              "18                                  Bohemian Rhapsody   \n",
              "19            Harry Potter and the Chamber of Secrets   \n",
              "20            Fantastic Beasts and Where to Find Them   \n",
              "21      Harry Potter and the Deathly Hallows – Part 1   \n",
              "22                                     The Full Monty   \n",
              "23                                  Quantum of Solace   \n",
              "24             Harry Potter and the Half-Blood Prince   \n",
              "25          Harry Potter and the Order of the Phoenix   \n",
              "26                                    The Dark Knight   \n",
              "27                Harry Potter and the Goblet of Fire   \n",
              "28                            Avengers: Age of Ultron   \n",
              "29                               Bridget Jones's Baby   \n",
              "30                                    The Jungle Book   \n",
              "31           Harry Potter and the Prisoner of Azkaban   \n",
              "32                                  The King's Speech   \n",
              "33                             The Inbetweeners Movie   \n",
              "34                               Mary Poppins Returns   \n",
              "35                                               1917   \n",
              "36                                       Paddington 2   \n",
              "37                              Bridget Jones's Diary   \n",
              "38                     Jurassic World: Fallen Kingdom   \n",
              "39                                     Les Misérables   \n",
              "40                                         The Batman   \n",
              "41  Films marked as are classified as British by t...   \n",
              "\n",
              "                                     Gross(£ million)  \\\n",
              "0                                                1232   \n",
              "1                                                1032   \n",
              "2                                                 967   \n",
              "3                                                 952   \n",
              "4                                                 887   \n",
              "5                                                 827   \n",
              "6                                                 760   \n",
              "7                                                 731   \n",
              "8                                                 724   \n",
              "9                                                 708   \n",
              "10                                                689   \n",
              "11                                                674   \n",
              "12                                                660   \n",
              "13                                                656   \n",
              "14                                                640   \n",
              "15                                                583   \n",
              "16                                                568   \n",
              "17                                                564   \n",
              "18                                                554   \n",
              "19                                                550   \n",
              "20                                                547   \n",
              "21                                                526   \n",
              "22                                                522   \n",
              "23                                                512   \n",
              "24                                                509   \n",
              "25                                                500   \n",
              "26                                                493   \n",
              "27                                                493   \n",
              "28                                                483   \n",
              "29                                                482   \n",
              "30                                                462   \n",
              "31                                                463   \n",
              "32                                                457   \n",
              "33                                                450   \n",
              "34                                                445   \n",
              "35                                                441   \n",
              "36                                                426   \n",
              "37                                                420   \n",
              "38                                                416   \n",
              "39                                                408   \n",
              "40                                                401   \n",
              "41  Films marked as are classified as British by t...   \n",
              "\n",
              "                                                 Year  \n",
              "0                                                2015  \n",
              "1                                                2012  \n",
              "2                                                2021  \n",
              "3                                                2015  \n",
              "4                                                2019  \n",
              "5                                                2017  \n",
              "6                                                2019  \n",
              "7                                                2011  \n",
              "8                                                2017  \n",
              "9                                                2018  \n",
              "10                                               2008  \n",
              "11                                               2001  \n",
              "12                                               2016  \n",
              "13                                               2018  \n",
              "14                                               2006  \n",
              "15                                               2019  \n",
              "16                                               2017  \n",
              "17                                               2012  \n",
              "18                                               2018  \n",
              "19                                               2002  \n",
              "20                                               2016  \n",
              "21                                               2011  \n",
              "22                                               1997  \n",
              "23                                               2008  \n",
              "24                                               2009  \n",
              "25                                               2007  \n",
              "26                                               2008  \n",
              "27                                               2005  \n",
              "28                                               2015  \n",
              "29                                               2016  \n",
              "30                                               2016  \n",
              "31                                               2004  \n",
              "32                                               2011  \n",
              "33                                               2011  \n",
              "34                                               2018  \n",
              "35                                               2019  \n",
              "36                                               2017  \n",
              "37                                               2001  \n",
              "38                                               2018  \n",
              "39                                               2013  \n",
              "40                                               2022  \n",
              "41  Films marked as are classified as British by t...  "
            ],
            "text/html": [
              "\n",
              "  <div id=\"df-d4759f5e-1fb9-4801-938a-74ab341d6aeb\">\n",
              "    <div class=\"colab-df-container\">\n",
              "      <div>\n",
              "<style scoped>\n",
              "    .dataframe tbody tr th:only-of-type {\n",
              "        vertical-align: middle;\n",
              "    }\n",
              "\n",
              "    .dataframe tbody tr th {\n",
              "        vertical-align: top;\n",
              "    }\n",
              "\n",
              "    .dataframe thead th {\n",
              "        text-align: right;\n",
              "    }\n",
              "</style>\n",
              "<table border=\"1\" class=\"dataframe\">\n",
              "  <thead>\n",
              "    <tr style=\"text-align: right;\">\n",
              "      <th></th>\n",
              "      <th>Title</th>\n",
              "      <th>Gross(£ million)</th>\n",
              "      <th>Year</th>\n",
              "    </tr>\n",
              "  </thead>\n",
              "  <tbody>\n",
              "    <tr>\n",
              "      <th>0</th>\n",
              "      <td>Star Wars: The Force Awakens</td>\n",
              "      <td>1232</td>\n",
              "      <td>2015</td>\n",
              "    </tr>\n",
              "    <tr>\n",
              "      <th>1</th>\n",
              "      <td>Skyfall</td>\n",
              "      <td>1032</td>\n",
              "      <td>2012</td>\n",
              "    </tr>\n",
              "    <tr>\n",
              "      <th>2</th>\n",
              "      <td>No Time to Die</td>\n",
              "      <td>967</td>\n",
              "      <td>2021</td>\n",
              "    </tr>\n",
              "    <tr>\n",
              "      <th>3</th>\n",
              "      <td>Spectre</td>\n",
              "      <td>952</td>\n",
              "      <td>2015</td>\n",
              "    </tr>\n",
              "    <tr>\n",
              "      <th>4</th>\n",
              "      <td>Avengers: Endgame</td>\n",
              "      <td>887</td>\n",
              "      <td>2019</td>\n",
              "    </tr>\n",
              "    <tr>\n",
              "      <th>5</th>\n",
              "      <td>Star Wars: The Last Jedi</td>\n",
              "      <td>827</td>\n",
              "      <td>2017</td>\n",
              "    </tr>\n",
              "    <tr>\n",
              "      <th>6</th>\n",
              "      <td>The Lion King</td>\n",
              "      <td>760</td>\n",
              "      <td>2019</td>\n",
              "    </tr>\n",
              "    <tr>\n",
              "      <th>7</th>\n",
              "      <td>Harry Potter and the Deathly Hallows – Part 2</td>\n",
              "      <td>731</td>\n",
              "      <td>2011</td>\n",
              "    </tr>\n",
              "    <tr>\n",
              "      <th>8</th>\n",
              "      <td>Beauty and the Beast</td>\n",
              "      <td>724</td>\n",
              "      <td>2017</td>\n",
              "    </tr>\n",
              "    <tr>\n",
              "      <th>9</th>\n",
              "      <td>Avengers: Infinity War</td>\n",
              "      <td>708</td>\n",
              "      <td>2018</td>\n",
              "    </tr>\n",
              "    <tr>\n",
              "      <th>10</th>\n",
              "      <td>Mamma Mia!</td>\n",
              "      <td>689</td>\n",
              "      <td>2008</td>\n",
              "    </tr>\n",
              "    <tr>\n",
              "      <th>11</th>\n",
              "      <td>Harry Potter and the Philosopher's Stone</td>\n",
              "      <td>674</td>\n",
              "      <td>2001</td>\n",
              "    </tr>\n",
              "    <tr>\n",
              "      <th>12</th>\n",
              "      <td>Rogue One</td>\n",
              "      <td>660</td>\n",
              "      <td>2016</td>\n",
              "    </tr>\n",
              "    <tr>\n",
              "      <th>13</th>\n",
              "      <td>Mamma Mia! Here We Go Again</td>\n",
              "      <td>656</td>\n",
              "      <td>2018</td>\n",
              "    </tr>\n",
              "    <tr>\n",
              "      <th>14</th>\n",
              "      <td>Casino Royale</td>\n",
              "      <td>640</td>\n",
              "      <td>2006</td>\n",
              "    </tr>\n",
              "    <tr>\n",
              "      <th>15</th>\n",
              "      <td>Star Wars: The Rise of Skywalker</td>\n",
              "      <td>583</td>\n",
              "      <td>2019</td>\n",
              "    </tr>\n",
              "    <tr>\n",
              "      <th>16</th>\n",
              "      <td>Dunkirk</td>\n",
              "      <td>568</td>\n",
              "      <td>2017</td>\n",
              "    </tr>\n",
              "    <tr>\n",
              "      <th>17</th>\n",
              "      <td>The Dark Knight Rises</td>\n",
              "      <td>564</td>\n",
              "      <td>2012</td>\n",
              "    </tr>\n",
              "    <tr>\n",
              "      <th>18</th>\n",
              "      <td>Bohemian Rhapsody</td>\n",
              "      <td>554</td>\n",
              "      <td>2018</td>\n",
              "    </tr>\n",
              "    <tr>\n",
              "      <th>19</th>\n",
              "      <td>Harry Potter and the Chamber of Secrets</td>\n",
              "      <td>550</td>\n",
              "      <td>2002</td>\n",
              "    </tr>\n",
              "    <tr>\n",
              "      <th>20</th>\n",
              "      <td>Fantastic Beasts and Where to Find Them</td>\n",
              "      <td>547</td>\n",
              "      <td>2016</td>\n",
              "    </tr>\n",
              "    <tr>\n",
              "      <th>21</th>\n",
              "      <td>Harry Potter and the Deathly Hallows – Part 1</td>\n",
              "      <td>526</td>\n",
              "      <td>2011</td>\n",
              "    </tr>\n",
              "    <tr>\n",
              "      <th>22</th>\n",
              "      <td>The Full Monty</td>\n",
              "      <td>522</td>\n",
              "      <td>1997</td>\n",
              "    </tr>\n",
              "    <tr>\n",
              "      <th>23</th>\n",
              "      <td>Quantum of Solace</td>\n",
              "      <td>512</td>\n",
              "      <td>2008</td>\n",
              "    </tr>\n",
              "    <tr>\n",
              "      <th>24</th>\n",
              "      <td>Harry Potter and the Half-Blood Prince</td>\n",
              "      <td>509</td>\n",
              "      <td>2009</td>\n",
              "    </tr>\n",
              "    <tr>\n",
              "      <th>25</th>\n",
              "      <td>Harry Potter and the Order of the Phoenix</td>\n",
              "      <td>500</td>\n",
              "      <td>2007</td>\n",
              "    </tr>\n",
              "    <tr>\n",
              "      <th>26</th>\n",
              "      <td>The Dark Knight</td>\n",
              "      <td>493</td>\n",
              "      <td>2008</td>\n",
              "    </tr>\n",
              "    <tr>\n",
              "      <th>27</th>\n",
              "      <td>Harry Potter and the Goblet of Fire</td>\n",
              "      <td>493</td>\n",
              "      <td>2005</td>\n",
              "    </tr>\n",
              "    <tr>\n",
              "      <th>28</th>\n",
              "      <td>Avengers: Age of Ultron</td>\n",
              "      <td>483</td>\n",
              "      <td>2015</td>\n",
              "    </tr>\n",
              "    <tr>\n",
              "      <th>29</th>\n",
              "      <td>Bridget Jones's Baby</td>\n",
              "      <td>482</td>\n",
              "      <td>2016</td>\n",
              "    </tr>\n",
              "    <tr>\n",
              "      <th>30</th>\n",
              "      <td>The Jungle Book</td>\n",
              "      <td>462</td>\n",
              "      <td>2016</td>\n",
              "    </tr>\n",
              "    <tr>\n",
              "      <th>31</th>\n",
              "      <td>Harry Potter and the Prisoner of Azkaban</td>\n",
              "      <td>463</td>\n",
              "      <td>2004</td>\n",
              "    </tr>\n",
              "    <tr>\n",
              "      <th>32</th>\n",
              "      <td>The King's Speech</td>\n",
              "      <td>457</td>\n",
              "      <td>2011</td>\n",
              "    </tr>\n",
              "    <tr>\n",
              "      <th>33</th>\n",
              "      <td>The Inbetweeners Movie</td>\n",
              "      <td>450</td>\n",
              "      <td>2011</td>\n",
              "    </tr>\n",
              "    <tr>\n",
              "      <th>34</th>\n",
              "      <td>Mary Poppins Returns</td>\n",
              "      <td>445</td>\n",
              "      <td>2018</td>\n",
              "    </tr>\n",
              "    <tr>\n",
              "      <th>35</th>\n",
              "      <td>1917</td>\n",
              "      <td>441</td>\n",
              "      <td>2019</td>\n",
              "    </tr>\n",
              "    <tr>\n",
              "      <th>36</th>\n",
              "      <td>Paddington 2</td>\n",
              "      <td>426</td>\n",
              "      <td>2017</td>\n",
              "    </tr>\n",
              "    <tr>\n",
              "      <th>37</th>\n",
              "      <td>Bridget Jones's Diary</td>\n",
              "      <td>420</td>\n",
              "      <td>2001</td>\n",
              "    </tr>\n",
              "    <tr>\n",
              "      <th>38</th>\n",
              "      <td>Jurassic World: Fallen Kingdom</td>\n",
              "      <td>416</td>\n",
              "      <td>2018</td>\n",
              "    </tr>\n",
              "    <tr>\n",
              "      <th>39</th>\n",
              "      <td>Les Misérables</td>\n",
              "      <td>408</td>\n",
              "      <td>2013</td>\n",
              "    </tr>\n",
              "    <tr>\n",
              "      <th>40</th>\n",
              "      <td>The Batman</td>\n",
              "      <td>401</td>\n",
              "      <td>2022</td>\n",
              "    </tr>\n",
              "    <tr>\n",
              "      <th>41</th>\n",
              "      <td>Films marked as are classified as British by t...</td>\n",
              "      <td>Films marked as are classified as British by t...</td>\n",
              "      <td>Films marked as are classified as British by t...</td>\n",
              "    </tr>\n",
              "  </tbody>\n",
              "</table>\n",
              "</div>\n",
              "      <button class=\"colab-df-convert\" onclick=\"convertToInteractive('df-d4759f5e-1fb9-4801-938a-74ab341d6aeb')\"\n",
              "              title=\"Convert this dataframe to an interactive table.\"\n",
              "              style=\"display:none;\">\n",
              "        \n",
              "  <svg xmlns=\"http://www.w3.org/2000/svg\" height=\"24px\"viewBox=\"0 0 24 24\"\n",
              "       width=\"24px\">\n",
              "    <path d=\"M0 0h24v24H0V0z\" fill=\"none\"/>\n",
              "    <path d=\"M18.56 5.44l.94 2.06.94-2.06 2.06-.94-2.06-.94-.94-2.06-.94 2.06-2.06.94zm-11 1L8.5 8.5l.94-2.06 2.06-.94-2.06-.94L8.5 2.5l-.94 2.06-2.06.94zm10 10l.94 2.06.94-2.06 2.06-.94-2.06-.94-.94-2.06-.94 2.06-2.06.94z\"/><path d=\"M17.41 7.96l-1.37-1.37c-.4-.4-.92-.59-1.43-.59-.52 0-1.04.2-1.43.59L10.3 9.45l-7.72 7.72c-.78.78-.78 2.05 0 2.83L4 21.41c.39.39.9.59 1.41.59.51 0 1.02-.2 1.41-.59l7.78-7.78 2.81-2.81c.8-.78.8-2.07 0-2.86zM5.41 20L4 18.59l7.72-7.72 1.47 1.35L5.41 20z\"/>\n",
              "  </svg>\n",
              "      </button>\n",
              "      \n",
              "  <style>\n",
              "    .colab-df-container {\n",
              "      display:flex;\n",
              "      flex-wrap:wrap;\n",
              "      gap: 12px;\n",
              "    }\n",
              "\n",
              "    .colab-df-convert {\n",
              "      background-color: #E8F0FE;\n",
              "      border: none;\n",
              "      border-radius: 50%;\n",
              "      cursor: pointer;\n",
              "      display: none;\n",
              "      fill: #1967D2;\n",
              "      height: 32px;\n",
              "      padding: 0 0 0 0;\n",
              "      width: 32px;\n",
              "    }\n",
              "\n",
              "    .colab-df-convert:hover {\n",
              "      background-color: #E2EBFA;\n",
              "      box-shadow: 0px 1px 2px rgba(60, 64, 67, 0.3), 0px 1px 3px 1px rgba(60, 64, 67, 0.15);\n",
              "      fill: #174EA6;\n",
              "    }\n",
              "\n",
              "    [theme=dark] .colab-df-convert {\n",
              "      background-color: #3B4455;\n",
              "      fill: #D2E3FC;\n",
              "    }\n",
              "\n",
              "    [theme=dark] .colab-df-convert:hover {\n",
              "      background-color: #434B5C;\n",
              "      box-shadow: 0px 1px 3px 1px rgba(0, 0, 0, 0.15);\n",
              "      filter: drop-shadow(0px 1px 2px rgba(0, 0, 0, 0.3));\n",
              "      fill: #FFFFFF;\n",
              "    }\n",
              "  </style>\n",
              "\n",
              "      <script>\n",
              "        const buttonEl =\n",
              "          document.querySelector('#df-d4759f5e-1fb9-4801-938a-74ab341d6aeb button.colab-df-convert');\n",
              "        buttonEl.style.display =\n",
              "          google.colab.kernel.accessAllowed ? 'block' : 'none';\n",
              "\n",
              "        async function convertToInteractive(key) {\n",
              "          const element = document.querySelector('#df-d4759f5e-1fb9-4801-938a-74ab341d6aeb');\n",
              "          const dataTable =\n",
              "            await google.colab.kernel.invokeFunction('convertToInteractive',\n",
              "                                                     [key], {});\n",
              "          if (!dataTable) return;\n",
              "\n",
              "          const docLinkHtml = 'Like what you see? Visit the ' +\n",
              "            '<a target=\"_blank\" href=https://colab.research.google.com/notebooks/data_table.ipynb>data table notebook</a>'\n",
              "            + ' to learn more about interactive tables.';\n",
              "          element.innerHTML = '';\n",
              "          dataTable['output_type'] = 'display_data';\n",
              "          await google.colab.output.renderOutput(dataTable, element);\n",
              "          const docLink = document.createElement('div');\n",
              "          docLink.innerHTML = docLinkHtml;\n",
              "          element.appendChild(docLink);\n",
              "        }\n",
              "      </script>\n",
              "    </div>\n",
              "  </div>\n",
              "  "
            ]
          },
          "metadata": {},
          "execution_count": 43
        }
      ]
    },
    {
      "cell_type": "code",
      "source": [
        "df.drop(labels = [41],axis = 0, inplace=True)"
      ],
      "metadata": {
        "id": "nzAZB7I4HYNG"
      },
      "execution_count": 44,
      "outputs": []
    },
    {
      "cell_type": "code",
      "source": [
        "df.rename(columns={'Gross(£ million)':'Gross'}, inplace=True)"
      ],
      "metadata": {
        "id": "PXAMgcogHbrI"
      },
      "execution_count": 45,
      "outputs": []
    },
    {
      "cell_type": "code",
      "source": [
        "df['Gross']=df['Gross'].astype('int64')"
      ],
      "metadata": {
        "id": "G-_ABV5eHde2"
      },
      "execution_count": 46,
      "outputs": []
    },
    {
      "cell_type": "code",
      "source": [
        "df1=df[['Title','Gross']].sort_values(ascending=False,by='Gross')"
      ],
      "metadata": {
        "id": "5C6872wCHfRO"
      },
      "execution_count": 47,
      "outputs": []
    },
    {
      "cell_type": "code",
      "source": [
        "df1"
      ],
      "metadata": {
        "colab": {
          "base_uri": "https://localhost:8080/",
          "height": 1000
        },
        "id": "vjUpb2YvHhB-",
        "outputId": "3273f3ec-f5b4-4102-b541-e30e429db699"
      },
      "execution_count": 48,
      "outputs": [
        {
          "output_type": "execute_result",
          "data": {
            "text/plain": [
              "                                            Title  Gross\n",
              "0                    Star Wars: The Force Awakens   1232\n",
              "1                                         Skyfall   1032\n",
              "2                                  No Time to Die    967\n",
              "3                                         Spectre    952\n",
              "4                               Avengers: Endgame    887\n",
              "5                        Star Wars: The Last Jedi    827\n",
              "6                                   The Lion King    760\n",
              "7   Harry Potter and the Deathly Hallows – Part 2    731\n",
              "8                            Beauty and the Beast    724\n",
              "9                          Avengers: Infinity War    708\n",
              "10                                     Mamma Mia!    689\n",
              "11       Harry Potter and the Philosopher's Stone    674\n",
              "12                                      Rogue One    660\n",
              "13                    Mamma Mia! Here We Go Again    656\n",
              "14                                  Casino Royale    640\n",
              "15               Star Wars: The Rise of Skywalker    583\n",
              "16                                        Dunkirk    568\n",
              "17                          The Dark Knight Rises    564\n",
              "18                              Bohemian Rhapsody    554\n",
              "19        Harry Potter and the Chamber of Secrets    550\n",
              "20        Fantastic Beasts and Where to Find Them    547\n",
              "21  Harry Potter and the Deathly Hallows – Part 1    526\n",
              "22                                 The Full Monty    522\n",
              "23                              Quantum of Solace    512\n",
              "24         Harry Potter and the Half-Blood Prince    509\n",
              "25      Harry Potter and the Order of the Phoenix    500\n",
              "26                                The Dark Knight    493\n",
              "27            Harry Potter and the Goblet of Fire    493\n",
              "28                        Avengers: Age of Ultron    483\n",
              "29                           Bridget Jones's Baby    482\n",
              "31       Harry Potter and the Prisoner of Azkaban    463\n",
              "30                                The Jungle Book    462\n",
              "32                              The King's Speech    457\n",
              "33                         The Inbetweeners Movie    450\n",
              "34                           Mary Poppins Returns    445\n",
              "35                                           1917    441\n",
              "36                                   Paddington 2    426\n",
              "37                          Bridget Jones's Diary    420\n",
              "38                 Jurassic World: Fallen Kingdom    416\n",
              "39                                 Les Misérables    408\n",
              "40                                     The Batman    401"
            ],
            "text/html": [
              "\n",
              "  <div id=\"df-3cbd557e-ef49-4380-bb04-7bc0632c8073\">\n",
              "    <div class=\"colab-df-container\">\n",
              "      <div>\n",
              "<style scoped>\n",
              "    .dataframe tbody tr th:only-of-type {\n",
              "        vertical-align: middle;\n",
              "    }\n",
              "\n",
              "    .dataframe tbody tr th {\n",
              "        vertical-align: top;\n",
              "    }\n",
              "\n",
              "    .dataframe thead th {\n",
              "        text-align: right;\n",
              "    }\n",
              "</style>\n",
              "<table border=\"1\" class=\"dataframe\">\n",
              "  <thead>\n",
              "    <tr style=\"text-align: right;\">\n",
              "      <th></th>\n",
              "      <th>Title</th>\n",
              "      <th>Gross</th>\n",
              "    </tr>\n",
              "  </thead>\n",
              "  <tbody>\n",
              "    <tr>\n",
              "      <th>0</th>\n",
              "      <td>Star Wars: The Force Awakens</td>\n",
              "      <td>1232</td>\n",
              "    </tr>\n",
              "    <tr>\n",
              "      <th>1</th>\n",
              "      <td>Skyfall</td>\n",
              "      <td>1032</td>\n",
              "    </tr>\n",
              "    <tr>\n",
              "      <th>2</th>\n",
              "      <td>No Time to Die</td>\n",
              "      <td>967</td>\n",
              "    </tr>\n",
              "    <tr>\n",
              "      <th>3</th>\n",
              "      <td>Spectre</td>\n",
              "      <td>952</td>\n",
              "    </tr>\n",
              "    <tr>\n",
              "      <th>4</th>\n",
              "      <td>Avengers: Endgame</td>\n",
              "      <td>887</td>\n",
              "    </tr>\n",
              "    <tr>\n",
              "      <th>5</th>\n",
              "      <td>Star Wars: The Last Jedi</td>\n",
              "      <td>827</td>\n",
              "    </tr>\n",
              "    <tr>\n",
              "      <th>6</th>\n",
              "      <td>The Lion King</td>\n",
              "      <td>760</td>\n",
              "    </tr>\n",
              "    <tr>\n",
              "      <th>7</th>\n",
              "      <td>Harry Potter and the Deathly Hallows – Part 2</td>\n",
              "      <td>731</td>\n",
              "    </tr>\n",
              "    <tr>\n",
              "      <th>8</th>\n",
              "      <td>Beauty and the Beast</td>\n",
              "      <td>724</td>\n",
              "    </tr>\n",
              "    <tr>\n",
              "      <th>9</th>\n",
              "      <td>Avengers: Infinity War</td>\n",
              "      <td>708</td>\n",
              "    </tr>\n",
              "    <tr>\n",
              "      <th>10</th>\n",
              "      <td>Mamma Mia!</td>\n",
              "      <td>689</td>\n",
              "    </tr>\n",
              "    <tr>\n",
              "      <th>11</th>\n",
              "      <td>Harry Potter and the Philosopher's Stone</td>\n",
              "      <td>674</td>\n",
              "    </tr>\n",
              "    <tr>\n",
              "      <th>12</th>\n",
              "      <td>Rogue One</td>\n",
              "      <td>660</td>\n",
              "    </tr>\n",
              "    <tr>\n",
              "      <th>13</th>\n",
              "      <td>Mamma Mia! Here We Go Again</td>\n",
              "      <td>656</td>\n",
              "    </tr>\n",
              "    <tr>\n",
              "      <th>14</th>\n",
              "      <td>Casino Royale</td>\n",
              "      <td>640</td>\n",
              "    </tr>\n",
              "    <tr>\n",
              "      <th>15</th>\n",
              "      <td>Star Wars: The Rise of Skywalker</td>\n",
              "      <td>583</td>\n",
              "    </tr>\n",
              "    <tr>\n",
              "      <th>16</th>\n",
              "      <td>Dunkirk</td>\n",
              "      <td>568</td>\n",
              "    </tr>\n",
              "    <tr>\n",
              "      <th>17</th>\n",
              "      <td>The Dark Knight Rises</td>\n",
              "      <td>564</td>\n",
              "    </tr>\n",
              "    <tr>\n",
              "      <th>18</th>\n",
              "      <td>Bohemian Rhapsody</td>\n",
              "      <td>554</td>\n",
              "    </tr>\n",
              "    <tr>\n",
              "      <th>19</th>\n",
              "      <td>Harry Potter and the Chamber of Secrets</td>\n",
              "      <td>550</td>\n",
              "    </tr>\n",
              "    <tr>\n",
              "      <th>20</th>\n",
              "      <td>Fantastic Beasts and Where to Find Them</td>\n",
              "      <td>547</td>\n",
              "    </tr>\n",
              "    <tr>\n",
              "      <th>21</th>\n",
              "      <td>Harry Potter and the Deathly Hallows – Part 1</td>\n",
              "      <td>526</td>\n",
              "    </tr>\n",
              "    <tr>\n",
              "      <th>22</th>\n",
              "      <td>The Full Monty</td>\n",
              "      <td>522</td>\n",
              "    </tr>\n",
              "    <tr>\n",
              "      <th>23</th>\n",
              "      <td>Quantum of Solace</td>\n",
              "      <td>512</td>\n",
              "    </tr>\n",
              "    <tr>\n",
              "      <th>24</th>\n",
              "      <td>Harry Potter and the Half-Blood Prince</td>\n",
              "      <td>509</td>\n",
              "    </tr>\n",
              "    <tr>\n",
              "      <th>25</th>\n",
              "      <td>Harry Potter and the Order of the Phoenix</td>\n",
              "      <td>500</td>\n",
              "    </tr>\n",
              "    <tr>\n",
              "      <th>26</th>\n",
              "      <td>The Dark Knight</td>\n",
              "      <td>493</td>\n",
              "    </tr>\n",
              "    <tr>\n",
              "      <th>27</th>\n",
              "      <td>Harry Potter and the Goblet of Fire</td>\n",
              "      <td>493</td>\n",
              "    </tr>\n",
              "    <tr>\n",
              "      <th>28</th>\n",
              "      <td>Avengers: Age of Ultron</td>\n",
              "      <td>483</td>\n",
              "    </tr>\n",
              "    <tr>\n",
              "      <th>29</th>\n",
              "      <td>Bridget Jones's Baby</td>\n",
              "      <td>482</td>\n",
              "    </tr>\n",
              "    <tr>\n",
              "      <th>31</th>\n",
              "      <td>Harry Potter and the Prisoner of Azkaban</td>\n",
              "      <td>463</td>\n",
              "    </tr>\n",
              "    <tr>\n",
              "      <th>30</th>\n",
              "      <td>The Jungle Book</td>\n",
              "      <td>462</td>\n",
              "    </tr>\n",
              "    <tr>\n",
              "      <th>32</th>\n",
              "      <td>The King's Speech</td>\n",
              "      <td>457</td>\n",
              "    </tr>\n",
              "    <tr>\n",
              "      <th>33</th>\n",
              "      <td>The Inbetweeners Movie</td>\n",
              "      <td>450</td>\n",
              "    </tr>\n",
              "    <tr>\n",
              "      <th>34</th>\n",
              "      <td>Mary Poppins Returns</td>\n",
              "      <td>445</td>\n",
              "    </tr>\n",
              "    <tr>\n",
              "      <th>35</th>\n",
              "      <td>1917</td>\n",
              "      <td>441</td>\n",
              "    </tr>\n",
              "    <tr>\n",
              "      <th>36</th>\n",
              "      <td>Paddington 2</td>\n",
              "      <td>426</td>\n",
              "    </tr>\n",
              "    <tr>\n",
              "      <th>37</th>\n",
              "      <td>Bridget Jones's Diary</td>\n",
              "      <td>420</td>\n",
              "    </tr>\n",
              "    <tr>\n",
              "      <th>38</th>\n",
              "      <td>Jurassic World: Fallen Kingdom</td>\n",
              "      <td>416</td>\n",
              "    </tr>\n",
              "    <tr>\n",
              "      <th>39</th>\n",
              "      <td>Les Misérables</td>\n",
              "      <td>408</td>\n",
              "    </tr>\n",
              "    <tr>\n",
              "      <th>40</th>\n",
              "      <td>The Batman</td>\n",
              "      <td>401</td>\n",
              "    </tr>\n",
              "  </tbody>\n",
              "</table>\n",
              "</div>\n",
              "      <button class=\"colab-df-convert\" onclick=\"convertToInteractive('df-3cbd557e-ef49-4380-bb04-7bc0632c8073')\"\n",
              "              title=\"Convert this dataframe to an interactive table.\"\n",
              "              style=\"display:none;\">\n",
              "        \n",
              "  <svg xmlns=\"http://www.w3.org/2000/svg\" height=\"24px\"viewBox=\"0 0 24 24\"\n",
              "       width=\"24px\">\n",
              "    <path d=\"M0 0h24v24H0V0z\" fill=\"none\"/>\n",
              "    <path d=\"M18.56 5.44l.94 2.06.94-2.06 2.06-.94-2.06-.94-.94-2.06-.94 2.06-2.06.94zm-11 1L8.5 8.5l.94-2.06 2.06-.94-2.06-.94L8.5 2.5l-.94 2.06-2.06.94zm10 10l.94 2.06.94-2.06 2.06-.94-2.06-.94-.94-2.06-.94 2.06-2.06.94z\"/><path d=\"M17.41 7.96l-1.37-1.37c-.4-.4-.92-.59-1.43-.59-.52 0-1.04.2-1.43.59L10.3 9.45l-7.72 7.72c-.78.78-.78 2.05 0 2.83L4 21.41c.39.39.9.59 1.41.59.51 0 1.02-.2 1.41-.59l7.78-7.78 2.81-2.81c.8-.78.8-2.07 0-2.86zM5.41 20L4 18.59l7.72-7.72 1.47 1.35L5.41 20z\"/>\n",
              "  </svg>\n",
              "      </button>\n",
              "      \n",
              "  <style>\n",
              "    .colab-df-container {\n",
              "      display:flex;\n",
              "      flex-wrap:wrap;\n",
              "      gap: 12px;\n",
              "    }\n",
              "\n",
              "    .colab-df-convert {\n",
              "      background-color: #E8F0FE;\n",
              "      border: none;\n",
              "      border-radius: 50%;\n",
              "      cursor: pointer;\n",
              "      display: none;\n",
              "      fill: #1967D2;\n",
              "      height: 32px;\n",
              "      padding: 0 0 0 0;\n",
              "      width: 32px;\n",
              "    }\n",
              "\n",
              "    .colab-df-convert:hover {\n",
              "      background-color: #E2EBFA;\n",
              "      box-shadow: 0px 1px 2px rgba(60, 64, 67, 0.3), 0px 1px 3px 1px rgba(60, 64, 67, 0.15);\n",
              "      fill: #174EA6;\n",
              "    }\n",
              "\n",
              "    [theme=dark] .colab-df-convert {\n",
              "      background-color: #3B4455;\n",
              "      fill: #D2E3FC;\n",
              "    }\n",
              "\n",
              "    [theme=dark] .colab-df-convert:hover {\n",
              "      background-color: #434B5C;\n",
              "      box-shadow: 0px 1px 3px 1px rgba(0, 0, 0, 0.15);\n",
              "      filter: drop-shadow(0px 1px 2px rgba(0, 0, 0, 0.3));\n",
              "      fill: #FFFFFF;\n",
              "    }\n",
              "  </style>\n",
              "\n",
              "      <script>\n",
              "        const buttonEl =\n",
              "          document.querySelector('#df-3cbd557e-ef49-4380-bb04-7bc0632c8073 button.colab-df-convert');\n",
              "        buttonEl.style.display =\n",
              "          google.colab.kernel.accessAllowed ? 'block' : 'none';\n",
              "\n",
              "        async function convertToInteractive(key) {\n",
              "          const element = document.querySelector('#df-3cbd557e-ef49-4380-bb04-7bc0632c8073');\n",
              "          const dataTable =\n",
              "            await google.colab.kernel.invokeFunction('convertToInteractive',\n",
              "                                                     [key], {});\n",
              "          if (!dataTable) return;\n",
              "\n",
              "          const docLinkHtml = 'Like what you see? Visit the ' +\n",
              "            '<a target=\"_blank\" href=https://colab.research.google.com/notebooks/data_table.ipynb>data table notebook</a>'\n",
              "            + ' to learn more about interactive tables.';\n",
              "          element.innerHTML = '';\n",
              "          dataTable['output_type'] = 'display_data';\n",
              "          await google.colab.output.renderOutput(dataTable, element);\n",
              "          const docLink = document.createElement('div');\n",
              "          docLink.innerHTML = docLinkHtml;\n",
              "          element.appendChild(docLink);\n",
              "        }\n",
              "      </script>\n",
              "    </div>\n",
              "  </div>\n",
              "  "
            ]
          },
          "metadata": {},
          "execution_count": 48
        }
      ]
    },
    {
      "cell_type": "code",
      "source": [
        "data = df1['Gross']\n",
        "print('mean=%.3f stdv=%.3f' %(mean(data), std(data)))"
      ],
      "metadata": {
        "colab": {
          "base_uri": "https://localhost:8080/"
        },
        "id": "eChdnHzD6j7D",
        "outputId": "baecb0ae-6a1a-4860-db83-8632763db862"
      },
      "execution_count": 49,
      "outputs": [
        {
          "output_type": "stream",
          "name": "stdout",
          "text": [
            "mean=605.220 stdv=189.360\n"
          ]
        }
      ]
    },
    {
      "cell_type": "markdown",
      "source": [
        "# **Визуальные проверки нормальности**"
      ],
      "metadata": {
        "id": "GShcYiPt6TpD"
      }
    },
    {
      "cell_type": "markdown",
      "source": [
        "**График гистограммы**"
      ],
      "metadata": {
        "id": "NI0CnCrc6bJ3"
      }
    },
    {
      "cell_type": "code",
      "source": [
        "from matplotlib import pyplot\n",
        "\n",
        "pyplot.hist(data)\n",
        "pyplot.show()"
      ],
      "metadata": {
        "colab": {
          "base_uri": "https://localhost:8080/",
          "height": 0
        },
        "id": "_AZLfCmm6WvG",
        "outputId": "7757951e-e121-4df2-8d26-4c85ab78e69d"
      },
      "execution_count": 50,
      "outputs": [
        {
          "output_type": "display_data",
          "data": {
            "text/plain": [
              "<Figure size 432x288 with 1 Axes>"
            ],
            "image/png": "[encoded data removed]"
          },
          "metadata": {
            "needs_background": "light"
          }
        }
      ]
    },
    {
      "cell_type": "markdown",
      "source": [
        "*При выполнении примера создается график гистограммы, показывающий количество наблюдений в каждом бине. Мы можем видеть гауссовидную форму данных, которая, хотя и не сильно знакома в форме колокола, является грубым приближением.*"
      ],
      "metadata": {
        "id": "HWkaibxZJBOT"
      }
    },
    {
      "cell_type": "markdown",
      "source": [
        "**Квантиль-Квантиль Участок**"
      ],
      "metadata": {
        "id": "I2jdiRfT6q5T"
      }
    },
    {
      "cell_type": "code",
      "source": [
        "from statsmodels.graphics.gofplots import qqplot\n",
        "\n",
        "qqplot(data, line='s')\n",
        "pyplot.show()"
      ],
      "metadata": {
        "colab": {
          "base_uri": "https://localhost:8080/",
          "height": 0
        },
        "id": "AYzIVwm-6r9D",
        "outputId": "35cd4a05-b433-47b3-f5f5-a85bf0c56d4e"
      },
      "execution_count": 51,
      "outputs": [
        {
          "output_type": "display_data",
          "data": {
            "text/plain": [
              "<Figure size 432x288 with 1 Axes>"
            ],
            "image/png": "[encoded data removed]"
          },
          "metadata": {
            "needs_background": "light"
          }
        }
      ]
    },
    {
      "cell_type": "markdown",
      "source": [
        "*При выполнении примера создается график QQ, показывающий график рассеяния точек в диагональной линии, который точно соответствует ожидаемому диагональному шаблону для выборки из распределения Гаусса. Есть несколько небольших отклонений, особенно в нижней части графика, что и следовало ожидать, учитывая небольшую выборку данных.*"
      ],
      "metadata": {
        "id": "jRUuAY7UJFgf"
      }
    },
    {
      "cell_type": "markdown",
      "source": [
        "# **Статистические тесты нормальности**"
      ],
      "metadata": {
        "id": "lHebx_nB6wVo"
      }
    },
    {
      "cell_type": "markdown",
      "source": [
        "**Тест Шапиро-Вилка**"
      ],
      "metadata": {
        "id": "7N9PSD2N64PJ"
      }
    },
    {
      "cell_type": "code",
      "source": [
        "from scipy.stats import shapiro\n",
        "\n",
        "stat, p = shapiro(data)\n",
        "print('Statistics=%.3f, p=%.3f' % (stat, p))\n",
        "alpha = 0.05\n",
        "if p > alpha:\n",
        "  print('Sample looks Gaussian (fail to reject H0)')\n",
        "else:\n",
        "  print('Sample doesnt look Gaussian (regect H0)')"
      ],
      "metadata": {
        "colab": {
          "base_uri": "https://localhost:8080/"
        },
        "id": "d-3IhltG6yb6",
        "outputId": "b8ce1bed-ca12-46b5-b59f-4fa42d0799d3"
      },
      "execution_count": 52,
      "outputs": [
        {
          "output_type": "stream",
          "name": "stdout",
          "text": [
            "Statistics=0.854, p=0.000\n",
            "Sample doesnt look Gaussian (regect H0)\n"
          ]
        }
      ]
    },
    {
      "cell_type": "markdown",
      "source": [
        "*При выполнении примера сначала вычисляется тест для выборки данных, затем выводится статистика и вычисленное значение p. Значение p интересует и находит, что данные, скорее всего, взяты из гауссовского распределения.*"
      ],
      "metadata": {
        "id": "TqlAqoDzJMpy"
      }
    },
    {
      "cell_type": "markdown",
      "source": [
        "**Тест д'Агостино на K ^ 2**"
      ],
      "metadata": {
        "id": "j5R92ohL69PQ"
      }
    },
    {
      "cell_type": "code",
      "source": [
        "from scipy.stats import normaltest\n",
        "\n",
        "stat, p = normaltest(data)\n",
        "print('Statistics=%.3f, p=%.3f' % (stat, p))\n",
        "alpha = 0.05\n",
        "if p > alpha:\n",
        "  print('Sample looks Gaussian (fail to reject H0)')\n",
        "else:\n",
        "  print('Sample doesnt look Gaussian (regect H0)')"
      ],
      "metadata": {
        "colab": {
          "base_uri": "https://localhost:8080/"
        },
        "id": "Rq-cQ2bG6_Nb",
        "outputId": "0f83c9df-e2f0-4ecc-b0b0-e9b00cfddf01"
      },
      "execution_count": 53,
      "outputs": [
        {
          "output_type": "stream",
          "name": "stdout",
          "text": [
            "Statistics=15.707, p=0.000\n",
            "Sample doesnt look Gaussian (regect H0)\n"
          ]
        }
      ]
    },
    {
      "cell_type": "markdown",
      "source": [
        "*При выполнении примера вычисляется статистика и печатается статистика и значение p. Значение p интерпретируется по отношению к альфа 5% и обнаруживает, что тестовый набор данных не отличается значительно от нормального.*"
      ],
      "metadata": {
        "id": "HC4MuRQWJT2h"
      }
    },
    {
      "cell_type": "markdown",
      "source": [
        "**Тест Андерсона-Дарлинга**"
      ],
      "metadata": {
        "id": "Gy7sG1Ap7B8I"
      }
    },
    {
      "cell_type": "code",
      "source": [
        "from scipy.stats import anderson\n",
        "\n",
        "result = anderson(data)\n",
        "print('Statistics=%.3f' % result.statistic)\n",
        "p = 0\n",
        "for i in range(len(result.critical_values)):\n",
        "  sl, cv = result.significance_level[1], result.critical_values[1]\n",
        "  if result.statistic < result.critical_values[1]:\n",
        "    print('%.3f: %.3f, data looks normal (fail to reject H0)' % (sl, cv))\n",
        "  else:\n",
        "    print('%.3f: %.3f, data doestn look normal (reject H0)' % (sl, cv))"
      ],
      "metadata": {
        "colab": {
          "base_uri": "https://localhost:8080/"
        },
        "id": "xFE--9Pg7EIK",
        "outputId": "962ec2a5-929a-45ff-e816-657e8e1aab3d"
      },
      "execution_count": 54,
      "outputs": [
        {
          "output_type": "stream",
          "name": "stdout",
          "text": [
            "Statistics=1.907\n",
            "10.000: 0.606, data doestn look normal (reject H0)\n",
            "10.000: 0.606, data doestn look normal (reject H0)\n",
            "10.000: 0.606, data doestn look normal (reject H0)\n",
            "10.000: 0.606, data doestn look normal (reject H0)\n",
            "10.000: 0.606, data doestn look normal (reject H0)\n"
          ]
        }
      ]
    },
    {
      "cell_type": "markdown",
      "source": [
        "*При выполнении примера вычисляется статистика по набору тестовых данных и выводятся критические значения. Критические значения в статистическом тесте - это диапазон предварительно определенных границ значимости, при которых H0 может быть отклонен, если расчетная статистика меньше критического значения. Вместо простого значения p тест возвращает критическое значение для диапазона различных обычно используемых уровней значимости. Существует возможность интерпретировать результаты, не сумев отвергнуть нулевую гипотезу о том, что данные являются нормальными, если рассчитанная статистика теста меньше критического значения на выбранном уровне значимости. На каждом уровне значимости тест обнаружил, что данные соответствуют нормальному распределению*"
      ],
      "metadata": {
        "id": "eaEssbjxJW1f"
      }
    },
    {
      "cell_type": "markdown",
      "source": [
        "# **Итог**"
      ],
      "metadata": {
        "id": "wUo0I455LfJg"
      }
    },
    {
      "cell_type": "markdown",
      "source": [
        "![image.png](data:image/png;base64,iVBORw0KGgoAAAANSUhEUgAABAsAAAEaCAYAAAB3iN4uAAAgAElEQVR4nOzdz28Tx/8/8Je/6v9AEggCOydfIt4RFbihhx7YBMUI8+7n24QTWkUV9kpf9f19o3DAUhSxHBzx+bYXY4SKxQm7fVMixRHJ9tAD8TtvVJQiDviE/alI4zR/xX4P7mxmZmft9cZ2nOT5kCLw7nh2dnZmf8zOjEO2bdsEAAAAAAAAAPCX/3XQCQAAAAAAAACA/oLGAgAAAAAAAAAQoLEAAAAAAAAAAARoLAAAAAAAAAAAARoLAAAAAAAAAECAxgIAAAAAAAAAEKCxAAAAAAAAAAAEaCwAAAAAAAAAAAEaCwAAAAAAAABA8ImfQKFQqNvpAAAAAAAAAIAusG277e/4aiwIGjn0XigUwrGCrkIZax/yDKA7ULcA1FA3AIAX9OU/hiEAAAAAAAAAgACNBQAAAAAAAAAgQGMBAAAAAAAAAAi60lgwMjJCoVDI+SsWi0RElEqlhOWLi4vd2Dy0QT5W/F+5XD7o5MERNDExIZSzWq1GqVTqoJPVdxYXFz3rZigU6kmeqY5VuVxWnt/lc8lhIu8T/zcyMnLQyYMO87pHKRaLrmWsHsr3K4fpWtnsOs+nv1XdXVxcRH044vrhuiOr1WqHop4dJPn5Sv7D8xbsi+2Dz2CCQqFgRyIR1/L19XWbiOxqtdp2nNBap45VMpm0icguFAqdShocEUHKmG3bdrVatYnI1jRNWB6JRI78OSFInmUyGaf+sbxjebS+vm4nk8mOptFLoVBwpZ+lZ319XViuaZqdyWR6kq5uUKWfiAKXeei+oMdGdd1T3bMwfLngw2UymUNx/ioUCsI+ZDIZ5f4WCgXPfWF1Qa730J8O83WHx+5HD2Lbh0m1WhXur/C8BbKg10sMQwClhw8fEhHRq1evDjglcFSkUimKRCK0trYmLP/w4QNlMhmq1+sHlLL+NT09rVw+Pj5OZ86c6UkaTp061ZPt9KtCoUBEhLdaR9zi4iKZpulazt5qfvnll0TUKAc///yzs35ubo6IiH799dfeJDQgVT2WewmkUil69eoVhcNhV9hisUiFQoEikQg9e/asa+mEg9cP1x1erVajTCZDuVyu59s+TFT1ttlyAL/6orFA7j5Tq9Wc5XyXKLmrnFc3QLnrLCOH57vmyV2vVOuJ3N1VjyrWBfPGjRtEJHZNm5iYELprsmPGuijyXXf5YyEPR2F5yuczf/Pi1TV4YmLCdbxYmeHjZ13m+LAsftXxVn0fXbg6o1wuk2VZ9PXXXyvXz83N0fj4uFBeWHdHr27v7CaeHVM5jNx9mIWXy4yqi+7ExES3s6Ql9hDiZz2fb826S7O8k8+R3epuL+c5O6aturry55eRkRFXGeDPN6qu46p9D1qHnz59SpFIhMbHx4lILC/FYlFZZr26ff/444+u6wf7PjsHeZ0PoXvK5TI9fvxY+ZAUDofJtm3nhnt8fNx18x2JRJo2qrWqb/I1i6e6D/HqctzK6dOnm65/+PCh86JA9urVK5qenqavv/5a+dDmVY+J3OcBuZ6qrtFe13+5zi0uLgr5MTEx4eseQE4zrvEN/XbdKRaLlE6nnca6ZmVHdW/KvqMqS6yued0bsDLIl0W5fqrO/6o84POHX+71rBH0fqRVw4DX9YXlEb+vfJq9zjnFYrHlNbHVelW58LpXQKP9AelWtwXWddXrj3WLYd2cmEgk4nQ14ruEJpNJoXsNcV3h+O506+vrQtc6IhK63pHUhS4Sifhev76+LqRB0zRXl+qD1sljJctkMsL+8t2T5e5qxA1hSCaTQvexarXq5GmhUHDiZHHwQx/W19ed4yGXATk9PHmbcpdLPq38cZTTIJcP2F8Z89N9VdM059jJ3ehU8VSrVed48ceOP27ValU4/slk0o5EIkJZ5Lfb6WMeJM94cv3iaZrm5AfLL/bZ6zzJ9pOvU17dj1mcqvS0GoaQTCaFus7vQ7PzCfvMHzO+LPDnLP6Y8fFHIhGnLLDvtjqumqa5zoOqrq983Ox7cjj+usGni89P/vzG9rnZ+RDcgtYt+boXtKuu3PVXpVl9SyaTrm7f/PWH/Z+vH3yZ5+99mp1fC4WCsL7Z9VO1j6w8e9V923bfP7F08svZfvDnafnejg2ZqFarru3x52v5XMPH0+oeIMj54bA5zNcdhj+GqvMs20azawlbxtLEx9Ps3oCdG/g6xpddvgzK5/lW5avZs0Ymk3HdA/m5d+LrKf9dPg9U1xcWjrhhoqp7LTn9/LWp1TWx1XpVfWbbUd2rQzBBzwld7VkQiUTItm3hb319XQjDWu2Zy5cvO/9fW1tzWjFrtZpni9nvv//utJCNj4/Thw8fnHWapgVO/+LiIlWrVefzs2fPyLIsp4XLsiyyLCtw/P1EPlaZTKZla/vMzIzzf/7tC2uVZW9abt++TblczmkRfP78udNKPD097XRLD4fDFIlEurJ/Mpt7U/TFF18I+0FE9PHjx56kA5p79uwZJZNJ57hMT0+TpmlCd+FwOExPnz4Vvre4uEixWMz5/Pz5c6pWq07dzeVyTt1WvUlp9XalX9RqNbIsiy5dukShUIguXbpEREQbGxtULBZJ0zTnjfjc3JxzblS9PZyenu54d8WHDx86efnpp5/uK66bN286/5+enqZMJkORSMTZF747OHv7xN4Uj4+PUzKZpMePH7fcTiaTEc6FP//8s/C2SVYsFgNfB0zTdI4PS+9BnA+PK3bdI2qcI4J48OCB59t4pll9y+VyNDMzQ6FQyDner169cq6XrAxPT087aVXFNz4+LpQl2cePH2loaMjfTkkePHjgXLPD4TBpmuZrKMLDhw9pcXFROA+xczg7Zz9+/JjS6bTzHdu2aXp6mubm5pTnI9W5uVwut9VFfT/nB+jddadcLgvDHm7evBl4KIJXz59m9wbseYUNOxofHydN0+jVq1dOHrDyOD4+7txX7rd8zc3NOXnVrE7L6vV6095DXteX8fFxZ7gdWz89PU2RSIQ2NjZ8b5/ZzzWRYfvvda8OvdUXwxCI9roByScC1iUmnU67TjTsRHXmzBnXOGj2PVWBZd8LhUJCYwCPdV+Sb9aSyaSrAeQompubo2QySXfu3HGtY92C2MmFl0ql6PLly2TbtnOSC4fDlEwmnZuL33//3XVxYF2gvI6HF77xRu7OlsvlnHWq/SAi5TrbtumXX34JlB5QYxfqP/74w1d4duxUNwaqG4uHDx86dZY1YskXWU3TXHX3qIzlq1arwn7Nzc31VYMXm68iCHZuUI0nl7FtqPb9888/d+pzO7/cwG50Hzx44Fo3MjJCr169CtQoHQqFhAYQXtDzIQSzvr5Od+7ccXVxbqVYLNLnn38unEdUvyDiZ/t8/X348KHvc6VfquuuX7lcjiKRiPCixO9D2++//+5a9sUXXzj1ar9lfGJigkzTpGQyqUy36h6g1fkB/On2defZs2d0584d5xiya7uqnvL3gvyLLOaPP/7wfPBu596ALW82x5Lf8tXqWYTdazPycAl5eMLGxoavRnm/15cgw+CaXRNZo6jXs1kzze7jofv6orEgFAo5D5jyCZ+11pmm6Sq47ALL4qjVak5lMk2TbNtWFlj+wqy6gb106ZJz4pPJF/7j8JNv/D6zCu7VSPLw4UPnTRzfK+HGjRuUy+WcmyuGNeq8evXK83g0w5/kq9WqsE2+YSeTyQjfYw8LqnWsxbhareLNXoeMj49TJBIR3iDxisWicAPAjp2macJkYgx/IV9cXHTOH0R7E9LJ5wu+xxH7np8b+cOAv3Fh4/lPnz7t2udeYzc7QW/Eq9Wqc27wO9HiqVOn6PTp01StVl3Hl9XnDx8+tN3gK8c1MzNDP//8c8u3yl5s26Z0Oi1cQ/Z7PoRgxsfHKZPJKB8yvJTLZWccP29tba3tBkm5YSCVStGpU6c69vBaq9UCT0xXLBZdjRksXX4aV86cOaN8MGDn50gkErhh5M6dO5ROp10vixive4BW5wfwpxfXHfkhnu+VwuPvBVUvspo1YrR7b3DmzBmnl44qnN/y5fUswh7micR7bdaDl/3J5b5Vg2CQ60ureU54ra6JhUJBOI5+NLtXh9458MaCYrFIkUhEWVn5VrMvvvjC88LJCnO9Xqfnz5+TpmmuStTOGwPViYao8cBrWZbwQHpUHjZkxWKRcrkcaZomnHwikYiyEWVxcdHJY9a9iX+jwLpvzczMCDdXrJu5fHJhk5788ccfgbtOeimXy06LOI+fgDGTyRyZt8794unTp1StVl0P8cViUXnTTdTodig3AuVyOWfiTaLGDaP81nlubo6q1apzTL/88kuqVqvCg9kvv/xy6I8x6xLMuoESNbpVxmIxmp6eduVdrxtIHj9+TIVCwXVs2zkfN3sY52/IWJzj4+PO9vjj/fTpU1+9E2TsOiT3AvA6R4yMjPjO46dPn1Iul3PCe50P233jDe2bm5sjTdN8vU0rl8tkmqZwnIK+OEgmkzQzMyOU488//9xpYOXjLRaLgSb4ev78eeChVU+fPnW9kWW9Bf00rrDhC/x+8EMPvv76a1c8fvMymUy21U2b6eT54TjqxXUnlUrR7du3XcvT6TRZltXWObFYLArDEnl+7g3YL53UajXK5XL05ZdfOnkgN/YWi8V9l6+nT59SJpNx1dlm+1wsFpX5xfNzfWHnFzYp9fT0NKVSKV/53en75lb36tBDfiY28BnMwX43nf3xE93xy9lkFvwy9t1MJiNMusHHwy+T4+InJeHjkyczYhMh8t9vtd623ZMi9Zv9Hiv+T55MkF+uygf5+MoKhYJrchr5GPPHn08DHzebCMUrvXxYNsEaH7+83+z/bHIzVZijNvHRfuy33MtlTp7kRl6uqrv8cna85HOFXIbkssZPqsRvt9lvrQe1nzyT65XXhHuqsiqfD+UJhFqdy1QT/vn9s23bVfdU51vV+YT/HIlElMeOTZzFx6vKd/n6oSLHL//JEznxy+Uyy9ZXq1VXvD/88IMrj9j3k8mk5/kQv2vvLUjd8rpH4euL10RaqmuPn2tEs/qmOu/x+6daJ6dDNUlcq4mmm32XL4vyOVHettc5mpHPQ/J6r7zxOn/x+cUmg+OPm597ADlvj+JEoof1usPHK09mzH9XvhdUXUvk7an2yevegC3ny5tcdvm0yucMr/Il1wU5H+V94K8pMjlPvP7kiQzl6wvbJr+vbHssD1XPYGwiYv6z1zXRa71cn73yl/1fVRbBn6DnhNBfX26KdQGB/tfPx6pYLNKpU6cCvQmA/tHPZaxfIc86b3FxkR4/fnzgQy3gYKFueSsWizQzM6Ps3UPUePPJJnQ77L2swA11o1HGz5w543pLv7i4SL///nvTnmvlcpkuXbrU1/WjVqtRJBJR9hggan0OkMMd9/Jy1AU9Jxz4MAQ4PlTdGQEAAKA7ksmk50PCw4cPMU4fjrzD/ItHfvC/CiSbnp5WTv4J0A40FkBXsYlaQqFQ4InAAAB4i4uLdOfOHeUcGACwh5/fReXrr7/uUUoAeq/ZfaefXgVEjYfxfp6frFUdbnUOYL0KiEj49QUABsMQjhgcK+g2lLH2Ic8AugN1C0ANdQMAeBiGAAAAAAAAAAAdgcYCAAAAAAAAABCgsQAAAAAAAAAABGgsAAAAAAAAAAABGgt6LBQKUblcJqLG779OTEwccIoAemtiYsL5hYxQKESpVKojYQEAAAAAoHM+OegEHDfJZNL5ORYiwky1cKyEQiFKJpNCuR8ZGaGRkRH68OFD4LAAAAAAANBZ+OnEIwbHCrotaBljvWjW1taUcSaTSed3j9sJexigXgJ0B+oWgBrqBgDw+uqnE1OplNB1mP8bGRlxwo2MjDjLi8Wis5x9Zuv578jxs27Ji4uLFAqFXN36y+WyE5Z1/+eXhUIhIiKq1WrCMvlzsVgUPpfLZSH9i4uLyrjZNvnvj4yMuMLVarUOHwV//ByriYkJSqVSQlg+vX72WXX8ifaOm3zsmm1TLjdsO3JZkNMDB6dcLpNlWXTz5k3l+mQySblcru2wAAAAAADQJbYPPoMJksmknUwmnc+ZTMaORCLO50gkYlerVdu2bbtQKNhEZFerVTsSidhE5Hxm22dxJZNJu1Ao2LZt29Vq1SYi5zPbxvr6urBdInKWra+v25qmOes1TXM+s/jYdtm2WfzsMx9/JBKxM5mM8vvytguFgpAH6+vrru3tV6ePVTKZdI4HywdN05z17e4zn1+ZTMb5P0t7JpNpuU0WD3/c5Txg6eGPL3RGkDLG6jhfd3h8uWkn7GERJM8AoDXULQA11A0A4AU9JxzIBIflcpmq1SpFIhEKhUI0MzNDRES//vqrMxa5UChQOBwmIqJMJkM///wzERHlcjmamZmhUChEkUiEiIhevXrlxG2aJpmm6bntZ8+ekWVZzltny7LIsqyO7NeDBw8omUw66Z6bm6NIJELPnj1Thvd6c9pPHj58SJqmUTKZpOnpaSIiSqfTVK1WqVartb3P1WqVTp8+TUREjx8/pjt37gg9PH755ZeW2+QVi0UnPsa2bSc9X3zxRYdyAgAAAAAA4Pg40F9DsG1b+GMPhjL5YXB9fV34Hj92eXp6mj58+EC1Wo2KxSJ9+eWXrvjYpGn8H481YrAHWNmlS5ec9dVq1VmuGkpw+fJl5QNuKBRq2qjRz4aGhpz/+9nnarUq5Bd/nAuFgnAcVGPU5W0yMzMz9PTpU89yEwqF6M6dO773C7rn1KlTRET0xx9/KNf//vvvRNQ4zu2EBQAAAACA7jjQxgJ53Ds/b4GMH+suP0TIP6dmmiY9ePCAPn786Lxh9tqu6vvValXZiMDwjRWsdwMRUTgcdnpA8Pg0VKtVevXqFdm27TwUHVbhcNjXPkciESe/Ll++LMxN8PHjR+F7rX4aj4+3UCjQF1984WrUYXMa2LZNmUymrX2C7hgfH6dIJELpdFq5PpfLOT1U2gkLAAAAAADdcSCNBexh4PLly86yZ8+e0aeffup85ocWpNNpp8t+MpmkmZkZ54G/WCzS559/LsQ/PT1NuVzO1SOBiOjGjRtkWZYzISGR+u14EDdu3KBqtSrEncvl6Pbt20K4wzSLO8M3CLChB0T+95nhf/bu66+/pjt37ggTT545c6blNnls2AM/wSRr7OE1a4iC3nj69ClVq1XXJKSsIZCvF+2EBQAAAACALujGhAj8BHXJZNKZkIyIhEnq2DJSTCKoaZqzTp7Ajl/HJubjt8E+y9vgJ93jl9v23kR97E/+LH9nfX1dmIyRbY9NWsjHI2+TTcKoCrdf3ThWbJJAtlyeMNDPPnvtK7991cSTqnV8vhcKBWE78nr2f34CR9ifdsuY6vv8X7MJKNsJ28/2m2cAoIa6BaCGugEAvKDnhNBfX26q17/VGgqFqFAoeI5FB2/dOFYTExMUDod7+jb3ILYJ/nSijBWLRWdi01ZxtRO2X+H3rgG6A3ULQA11AwB4Qc8JBzpnAQAcT9PT087koKFQyBmKst+wAAAAAADQGZ8cdAJkbLI69iYRvQsO1sTEhPDTkr14038Q24TeC4fDZNs21Wo1Z6LQarWqnLiwnbAAAAAAALB/fTkMAYLDsYJuQxlrH/IMoDtQtwDUUDcAgIdhCAAAAAAAAADQEWgsAAAAAAAAAAABGgsAAAAAAAAAQIDGAgAAAAAAAAAQoLEAAAAAAAAAAARoLAAAAAAAAAAAARoLjrlUKkWhUIhCoRClUilaXFx0Po+MjDjhRkZGhHBMrVajUChE5XLZWT8xMUFERMVi0RUP/51QKETFYpGIiCYmJpxloVBIGZb/GxkZEdIaCoWoVqs53+PXTUxMOGmR4+e3y9LN8PvEx69Kj5x3zbYJAAAAAADQ7z456ATAwXr48KHy/48fP6YPHz4QUeOB+uuvv6a5uTmq1WoUiUSc8Oz/ly5dItu2nfWLi4s0NzdHRETpdJqKxSJNT08TEdHz588pEomQaZo0PT1N5XKZPnz44Pz2ZygUcr4fDoepWq3Sr7/+StPT07S4uCikjYjol19+obW1NWG/2LbldTMzM852UqkUhcNhYbsTExO0trZG5XLZ2SeWBw8ePKAbN25QoVCg6elpGhkZcfKF399m2wQAAAAAADgM0FgATZXLZbIsy3n4DYfDlMlk6M6dO/Tw4UOqVqsUiURofX3dWZ9MJumXX35xHp5N06R0Ou00FsjGx8eFh39N07q8V40eC7lcjqrVqrOsUCjQzMwM1Wo1evbsGWUyGWed3BghY/sqm5mZ6UyCAQAAAAAAegjDEICIiHK5nNNd/s6dO87yP/74wxU2FosREQnd/nlnzpwRPn/66ac0MjJC5XKZyuWy830Z6/ZvWVZbabcsSzl0Ql7HP7jX63VXPJ9++qmzzmvf/GJDEgqFwr7iAQAAAAAAOAhoLAAiIkomk2TbNtm2LbxRP3XqFBE1HuRl4XDYMz55XTqdJtM0aWNjg8bHx4V1bF4C0zTJtu22exZomuakvVqt0uLionId/+A+NDRERES//vqrK76hoSEKh8P0+++/t5UOhjV2YOgBAAAAAAAcVmgsgKbGx8cpEonQzZs3nWVyF30ioo2NDef/d+7coRs3brji4Yca8J4/f06aprm6+i8uLtLIyAjV63Wn0aJTwuEwaZom9DZ4/vw5JZNJCofDdOPGDcrlckIjCT+xYzORSMRzWAIAAAAAAMChYPvgMxj0gXaPVTKZtInIJiI7mUzamUzG+RyJRJxwkUjEWZ7JZJzl1WrVJiJb0zRnfaFQsG3btguFgrOsWq3ahULBrlarQlxsGfvMtsu2w6dDThv/mf1pmuYKq2makBY+j/h0J5NJIW/k76yvryvzo91tHnZHaV96BXkG0B2oWwBqqBsAwAt6Tgj99eWmQqEQulQfEr0+VuzXD9bX113DC+BowvmgfcgzgO5A3QJQQ90AAF7QcwKGIQAAAAAAAACAAI0FEBjrVUBEdOnSJeUkiAAAAAAAAHD4YBjCEYNjBd2GMtY+5BlAd6BuAaihbgAAD8MQAAAAAAAAAKAj0FgAAAAAAAAAAAI0FgAAAAAAAACAAI0FAAAAAAAAACBAYwEAAAAAAAAACNBYAAAAAAAAAAACNBYAAAAAAAAAgACNBUCpVIpCoZDrr1gsEhHRyMiIs2xkZISIiGq1mhBW/lwsFoXP5XJZiGdxcVFYn0qlnPQ0C0dEzv8nJiZ6n1kAAAAAAADHABoLgB4+fEjJZJJs2ybbtomIqFAo0PT0NBWLRRoZGSHbtqlarVK1WqVisUjhcJiq1SoREVWrVQqHw67vss/r6+s0Pj5OHz58oEgkQplMhubm5oT1Dx8+dNKjCheJREjTNCIiSiaTlMlkaG1trWd5BAAAAAAAcJygsQCIiOjMmTPK5dPT085DeTgcpkgk0stkOT58+ECWZVEoFKIzZ87Q3NzcgaQDAAAAAADgOEBjARAR0enTp5uuZ8MKWG8CXiQSEYYJyC5duuSsV32fX8+GPqisr6+32AsAAAAAAADoBDQWABERffz4Ubm8XC5TKBSiV69eOcMBZNVqVRjCIFtfX3fWq77P1mcyGZqZmVHGUavV6ObNm7S+vk537txp2qgAAAAAAAAA+4PGAqBUKuXZrf/Zs2eUTCaFOQWIqOcP65cvX6YPHz7Q+Pg4FQoFmpmZoXK53NM0AAAAAAAAHBch2+t1MB8oFPJ8awz9pd1jNTIyohwaQNSYqPDUqVN06dIlZ1kkEqFqtUo//PADffXVV87yarUq9BpgD/TM+vo63bx509lWJpOhO3fuuLapCvf48WOqVqvOhIf8cAc2mSL0Ds4H7UOeAXQH6haAGuoGAPCCnhPQWHDEBGksePr0KY2PjwvLJyYm6ObNm3gQBxecD9qHPAPoDtQtADXUDQDgBT0nYBjCMXf58mVXQwERUTqdPoDUAAAAAAAAQD9Az4IjBscKug1lrH3IM4DuQN0CUEPdAABe14chAAAAAAAAAMDhE6Sx4JNuRg69h5Zk6DaUsfYhzwC6A3ULQA11AwB4QV/+Y84CAAAAAAAAABCgsQAAAAAAAAAABEejseD2baLTp73Xj483wgQxPd34vpdQiOinn4LFDQAdUSwWKRQKUa1WO+ikHBuJRILy+XxPtpXP5ymRSPRkWwAHDXULQA11A6D3utNYMD7eeIgOhRoP8b/9tvc5FBIfvk+f3lv+22/tb+u774j++7+bp+Xf/24/XqZYJCqX1esw8SPAgSsWizQzM3PQyYBjJJFIUDgcpnA4vK8bVz4e0zRd603TdNb72V4ikaBYLBY4PQAHzbIsCofDZFmWcr1hGK464RW21TbkP8MwXGHz+byzXvXgqIoHdRC6oVXd8Iu/7qjKPJF47ZHDVCoVZblHw8rR1Z3GgnKZ6J//bPz/40eiv/2NyLaJhoeJPvtMfPj++LGxbHOzEa5d33yzty2vtHz2Wfvx+oGJYwAO3PT0NK2vrx90MrqGv1llD4vyxduyLOXDZrsqlYrnzYNsaWmJdF3f1/b83lzouk5LS0v72lanGIZB8XicarUa1Wo1KpVKVKlU9h3Pzs6OsiEgnU47YWq1mmeem6ZJQ0NDbafjOEPd6p+6xR5AFhYWaHJysmnYXC4n1AlN09re3uTkpBBHLpejwcFBIYxlWVQqlZww8XjcVRYGBgaEeGq1Gp04caLt9PQb1I3DWTdaMU2TxsbGnLI6ODjoOob5fJ52dnaEMPK1aXR0VCjzKysruP4cYd0bhvDgQeNfvrfA//2/jbf8/LLffiM6dSpYQwEAwBEm36zWajX6/vvvDzpZR47Xm0avt/n8zer9+/fpxYsXbW+zXq8L8RiGQZubm4HSX6lU6OXLl5TNZgN9/zhC3eoNv3UrGo1SrVajjY2NrqdJ0zRXXXnz5g2dP39eWLa8vCw8LOq6Tjs7O0IYOb2WZdHY2FiHU9xbqBu9cRB1Y3Nzk9LptPM5nU67yjIPswYAACAASURBVPTm5qZQP9LptHBtikajrkaU169fH/pyD966O2fBZ58RPXu293l4uPEvv+zZM6L/+i/xe9PT4jAGXii0t77VPAXykAd+OMT4uPszUWNuA7YNFg/7P5+GUEg9DwL7vrztPpVKpSgUCgl/ExMTzhjwUChEIyMjVC6XhTBsbDj//YmJCSIi4bv8X/mvHiVyXGy51/f4dfx3FxcXnf1YXFxUxjkxMeEKK4fn45TJ25LzC2Pk/fEqZ2zdxMSE65gwIyMjQlnkseN78+ZNIiKKRCLC8VKVW/7zjz/+6FrP0losFnuUO+2Rb9pisRglk0nXmyC5q2IsFmv6AJxIJGhqaopWV1dbhvPTJV7ulsu/zWFpfffuXdNujK26ADNyd33VWFO5+7JhGE76NU1zvR1Uvc2vVCqut49E5LrZ8mNsbEzokfD69Wu6evVq033z6t48OztL8/PzbacBRKhbbr2qW+1IJpMd7/q8ubnpq4dCvV5vun55eZmuX7/ekTT1E9QNt36sG62MjY0JPQny+Tytrq627B3XqtyXSqWupBf6hO2Dz2Bu335r28PDe5+/+sq2P/us8cfw/7dt2/7nP8Vlw8N7cQwP2zaR+jv8dj77rLHMtm37+fPGd9jnxg41lvPb4Nez/3/1VSPsV1+pv/vPf7o/y9vhP/dAkGOVTCbtZDIpfLZt2y4UCnYkEnGWr6+v20RkV6tV1/eq1apNRPb6+rqzTA6fyWSccPwy9j3VNguFgp3NZm0isonI1jTNWc5/j49T0zQnHEunnC+apgnL1tfX7UgkYmcyGWHb/DKWdiYSiQj5dlwEPR+oyhk7/kTk5DN/vAqFgnMsWf4XCgXbthtlh5UVVh6q1aqrjLFyyPBllf/Mvsvi76TA51Dbtp88eWKfPXvW+bt3754rzNramnK5HIZ37do117L379/bqVTKV7ru3btnP3nyRLkulUrZ79+/F7Z99uxZV7hr16752tb79+89w967d8+V5mvXrgnhVflz8eJFz/R7WVtbc22rWdpa4Y+rnzjW1tZc4VKplLBvFy9eDJSWwwp162jULV4qlXLln5cnT574zlcvXsdYVZeuXbsm5L9qfb9A3TjedcPLtWvXhOuOnG+qct/sutLO8YODFfSc0N2eBZ9/TrS1Jf5awJdf7g1FYEMQeP/930T/+Mfe52+/3Yvj48e9OLz89lsjfjYM4u9/d89Z8NVXRP/6197nrS2iH39s/P+nn/bSVCyK3/3uu8bnv/+98Zltg/nxx0b6Wc8CIqLXr73T2qcePnyoXM7e3jK5XI5u/9W7IhwOk23bND4+7vn9ubk5evDggfNWgC2LRCL0jO9twpmenqZUKkWFQoGIiNbW1pzlkUjE6ZZl27YT5xdffCHEcebMGUomk8LbZjkMUaOV+M6dO87njx8/Cm+y2T4yly9fVqYZ/Hn48CHNzc1RMpkkTdNobm6OiMgpU+Vymaanp51jHg6HKRKJON//5Zdf6OuvvyYiolPceYSFe/78uXK7qVTKM00PHjygTz/9dH871mG6rgtvG3Z2dnyP7+Q9evRIeMPx7t27LqS24erVqzQ1NeVsK5lMUi6X68q25C6TRI1xrXw3SU3T6OXLl8L+nzt3znkT4rc76DDrHScJMlYzkUjQyspK0/HQMtWbz7dv3wpvwv78809MNOUT6lZzvaxbQem63vKtZyuqIQhE5Dn3QDQaVS4/CkMQGNSN5g5D3fCytLTkHNelpSVX/VGV+2bzcGAIwtHX3caCv/2t8XD9r381HsIvXGg0IBARvXrV+OOHIKh+DYE9mG9t+dvmq1d7wx28XLhAxMb+fPcd0fPnew0S//lPY9JEldev3Y0bsm+/bUx8yP68fknhEGFDAPgb2aDd71Xfu3z5cqD45C7pRI1hA/wDP3P79m16/PgxETXGGKq68546dYqSySQVi0Wq1Wp02mOYC+vK3q2L0HHHGn14rAxWq1Vn2YcPHzzjGBkZod9//11YxoYkyI1eTCQSoTNnzii3f1AMw3B1D8xms23fHMuT6XWriyOj6l6ZTCa7tj0/NjY2hPQQUdvdQaPRqCvvt7a2lEMTWhkaGhIeOlTjoVV2d3eb7tfAwEBfTMrV71C3OqcTdWs/5DrRLq8hCENDQ21NXnpUhiCgbnTOQdeNVizLot3dXc8GMD8wBOHo625jAdHeg/l//tNoKGANCM+fNx6+WWMA0d4kh//5jzueVg0AvFYNC998s9c48Mcfe70PVNuV/fFHe+vl+Q4OmWq1Sq9evSLbtl1vb4laj2OShcNh+vnnn5XLg2AP9Gxcu23blMlklPFfvny55Tj027dvUzqdpufPn9O04tiFQiG6fPky2bZ94Beho25oaMh5wGdlkO9ZoGos4p05c0b4bJom2bbt2XOgWq3SL7/84syl0C9mZ2eFz15vr/gHTfbGgqnX63ThwgVhvddbC75Os1mY253tX9UYNzAwoAzLx51IJNqeXXtoaMj1HXn/DcNwjaUN8oBP5J5r4NGjR8oHBJYGr3kG5HOnZVlCmlR5bxgGnTt3LlC6W6XnOELdaq7XdasVedtEjf26cuWKKyz/826t4vR6K2oYhjB5aT6fb/oGtV6vez50+U1Pv0DdaK7f6oacBj/n+UqlQslk0jUfxa1bt4TjZJomxeNxzzjwKwhH3ydd38KNG42u+T/+uNdt/8KFxjLVTx5+9VVj3Y0bjcYDuet/K9980xjGMD7eeKvPhiX8+9+N9SwNrMcDO5E1SxPzX//VGAJx+3Yjnu++ayz/8stG48f//t+NOC5ebKSXH9JwiHkNK0gmk3Tz5k3nDW+tVqPnz5873clVbty4QblcjhYXF51wuVxOeGPcTLlcpvHxcSqXy2RZFq2trVG5XKZqtSoMESBqvI3mH/hv3LhBly5domq16tnIEQ6HlW+lWXyRSMT1RlveDrSPv6AuLi6SpmkUDoedYStyGSwWi/TFF1/Q48ePXeWtVquRZVmu73iVYzlMJBJxylk/mJ2dFW5ABgYGXLMia5rmdPdkYfjeOvfv36epqSkhDl3XKZlMUjqdFt6cDw0NCdvj47Esy9VIxm6YVlZWnBvlP//803VTrOqJc+vWLSFdfFqIGjd/f/75p/OZxanrujOjczabdSaR4vdP7q0kp3tyclKYFdqvdDotbCudTisfELa3t4nIu/vm/fv3mx5XNgM2H2ZyctLzFw9M03Ru8BKJhKt3wZs3b4jIPVHZcYa61T91q1KpCOldXV0losZPtLGyrGkaraysCOnh08vb+uulkdfDIrO8vKycWJSoccyy2ayzPT4tslYNCa//GpJ6WHokom4crrrBtLruGIbhfJ9I3dtX0zShAaVZml+8eIEhCMdBNydEcMgTCG5uuicZ5LGJBeXJDPkO/t9+21jGJhkk2pvkkMXPlvETHjLffttY3yxNn322Fw+b5JB9jy2Tv+OV9h5p91ixyeSISJh8jk0YR0R2JBJxJoljf/xkgnw4Rg7PTxrnFZe8TR5bx2+Pfc+2G5MN8t9l+8PCs0nyMpmMa/v85/X1deeP3xabfI//HtsOPynicRDkfOBVztg6v+WI5TmbnJD/Hv/HjomqrPGff/jhB9d6llZ+ksz92vc5FGCfLl68eCQnoULdgsNAnvyuF1A3AIAX9JwQ+uvLTbHu3dD/juqxKhaLNDMzcyT37bDpdBlLpVJUq9WciQyDKJfLTq+RfuzmeVTrJRwO7M3UUfypV9QtOAzC4bDwFrwXUDcAgBf0nND9YQgAAABwYNiQBgA4GKh/AHBYdX+CQ4B9Yr0KiBqtYnB0pFIpyuVyZFlW4IkFWa8CosYvGrSaxBIAAAAAAFrDMIQjBscKug1lrH3IM4DuQN0CUEPdAABe0HMCehYAAAAAAAAAgACNBQAAAAAAAAAgQGMBAAAAAAAAAAjQWAAAcEwYhkHhcJjC4TCZphk4HtM0nXgMw1CGyefzTphEIqEMY1mWEyYWiwVOD8BBQ92Co4aVs0ql4hkmkUg45Syfzwfelp/606m60SmVSsXZVid+spnfP1Xa/eY1X/d79VPSLG3Nykq/YfnkVZZgDxoLAACOAdM0aXBwkGq1GtVqNdrZ2SHLstqOJ5/P087OjhPP4OCg68bFsiwqlUpOmHg87roBrFQqtLCw4ISZn5/HRRsOJdQtOErYQ1SpVKLR0VHPcIZhUDwed8pZqVQK9LDop/50qm500tTUlLOtlZWVfTVOxGIxYf+WlpaE9X7z2jAMoe736ic7l5aWaHJyMtB3DcM4kEYGTdNoZWWl59uVdbtRqxPQWAAAcEjJbzbkP/5GaWdnh9LptPM5m83S8vJy29vc3NykbDbrfE6n07S5uSmEWV5eFm52dF2nnZ0dIcyLFy/o+++/dz5rmtZ2WgC6BXULjitN05QPrCq6rjv/v3//Pr148aLt7fmpP52qG52Sz+cpl8s5n6PRKI2NjQVuLLly5Yqwfyqt8tqyLKrX67SxsdF2GgCa+eSgEwAAAG6GYdDq6irlcjlaWFigP//8k4iIBgYGnJuBaDS6rzcH9Xq9I2n1E48cZmdnh6LRqCtcpVJRLgfoFNQtgP2pVCo0ODjoWt6ph/Mg5b6dMKx7/srKSqA6Ua/X6cKFC67lW1tbbce3ubnZtGHGb14vLy/T/fv329p2UJVKhaamppzPfGMPY5qm0PtjdHRU2E/LsiiZTBIR0erqqrOcPw/L4Zig52Z27mfb4RtVvbYnp1uOxyuMnEeslw4Lx8fBDxfRdd3JTxZG13UhL4OW26C617Pgt9+IQiH332+/Ef30U+P/09N7/xIRffedOyzD1k1PE92+vbfu9u3G8tu39+IBADjkstks6bpOCwsLND8/L3QpbncMcqVSUd407e7utp2ut2/ftoxHFYalg6nX68q3MFtbW22nCaAdqFsA+7O1taVsGGi3kcxv/elU3WAGBgbaSabLzs6Osj5tb28Hio/vySSfg/zmdb1ep2g0SrFYzImrG9372UMwP9ShVCoJD89EROfPnxfCxONxYTgU68EyOTlJKysrTji5Z8Tw8LCwfmVlJdA8LIZhCMNd5ufnhYd5okaPEXkYRzweF4YK5PN5IR5VGCKiu3fvusLwZTabzVKtVqPR0VEhnNzLRtd1evnypbM+l8vR3bt3297//ehez4Jr14i+/Zbom28aD/r/+AcR6zL05ZeNf0+dIrLtxv9/+qkRhn2eniYaG2t8529/I/p//6+xjsV140ajweD168by27eJfviBqFjs2i4BAPTalStXhG7EmqbRmzdvyLIsGh4edl3seKyF2qsF+sSJE22nR/UdeZlXvHw6hoaGlGGGh4fbThNAEKhbAMF4lSWvsufFb/3pVN1g9ttVX/Wmn4jo5MmTbcXDHuZnZ2edt+WWZZFhGM6wBL95vbu7S4Zh0Pz8vHNei8ViHR+WkM1mXWP9l5aWXA/L29vbrgkWg85rIJ+L223sYfnMP4hrmka5XE4Y8lIqlVz5pes61et1siyLNE2jUqlE7969U04yyffeisfjrv0POkfC/Py8kO6FhYVA8QTVvcaCrS0iVsC/+abxgP8//0P0978TPX/eaDC4cWMv/LffEv3zn3ufi8XGw/+zZ43Ggq2tRkPBN980/ogajQX//nejoeHBg8YfAMARcv78ec91++kqXalU2r6x82toaKhll+fBwUFXl032ZgSgF1C3AIKJRqOuN9tbW1ueD9HtCFp//NSNThkaGnL1ItjZ2Wm7QS4ajdLu7q7rYfDRo0dCGD95fe7cORocHBQaQM+dO9fTPGH4ySaZSqXScl4GFdaLgdepSQGDNKAODQ3R/fv3W+apruvCPBOVSoVmZ2cP5ZwS3RuG8NVXRP/6V+P/P/3U+Pfvf/cO//Gje9lnnxH98Ufj/99+22hw4Ict/O1vjQaGL7/cG4oAAHCEyGP1iBpjHNudtCwejwszTGezWbp69aorHJsJ26ub361bt4QWddM0KR6PC2EMwxAmX8rn8zQ2NiaESafTQou+ZVlde8ACUEHdAghOntDv0aNHdP36dVe4VuXeT/3pVN1g9ttNX9d1YYJFNpxC9QDJfhbS65cZZmdnhfqqaizxk9eGYdDLly+FZao0sZ9oDPoLKXyvB8ayLGEYwvb2tivvZ2dnPePkh3QYhuGkrVKpuH6RwzCMtod5sTyQj7fcnd/rFzT468LVq1eVwwBisZgTf6VScTVoeDUuyPsSDocD/ZpON3WvZ8HcXGMYwQ8/ND4/f948/OnTjSEFslOnGv+yHgU//dRoHDh1aq83wYMHe8MTTp3a63kAAHDIpdNpV1c2fhZmv3Rdp1gs5jwg6bqufChib0u8unRqmkaJRMK5oE5OTromN4pGo5TNZp10qyb/IWq8AWVh5EmNALoNdQvATZ7gjXUBn5ycdP0iAV9/vIbltCr3fupPJ+tGp4yNjQn779UTifUK8GqwY93cm8XlJ6+j0SjNz88L4VTns83NTRoYGAj0lp9thz+/EDXOMZOTkzQ1NUW5XI50XadEIuFKs2malEgkhONiGIYwzICf4I/9yoQ8AeDbt28pHA631fuLLxt8XPl83kmTrutO4w6PHz6gaZpyiEUulxOOybt373wNQ7hy5YoQjp+8kE1wmM/nKZ1O04ULF5y8anf/9yNk22ySgCaBQiHyEUx0+rS6twDR3gM/m4+AaO9hn81z8NtvjcYGtl0+PtaD4MYNov/zf4jK5cbn6WmiCxeOdWNBoGMF0AaUsfYFzTPTNOn8+fP46TMAD6hbAGq4VoOMTU6YTqeFLvJwPAQ9J3SvZ8Hp042hAbzPPms0CLAJDvkJDNkD/j/+0fgj2msokOMbHm40HLBfRGDLP/vsWDcUAAAAAAAAyF6/fk2jo6NoKIC2dK9nwe3b7gkHv/uO6PPP93oTQMehJRm6DWWsfUHyTP4d31wuh7egABLULQA1XKsBgBf0nNCdxoLbtxvzD7DhAcz0NH7asMtwcYBuQxlrH/IMoDtQtwDUUDcAgNdfjQVEjWED3OyWRCTOUQBdgYsDdBvKWPuQZwDdgboFoIa6AQC8/mssgAOBYwXdhjLWPuQZQHegbgGooW4AAC/oOeF/dSEtAAAAAAAAAHCIobEAAAAAAAAA2hIOh6lSqRx0MqCL0FgAAAAAAABE1HgAZH/dZFkWhcNhMgyjq9vpZ93K60QigYf4gBKJhHNM8vm8a71pmsrlRxUaCwAAAAAAgIiIarUa1Wo1GhgY6Op2NE2jlZWVrm6j33Ujry3LoqGhIYpGox2L00utVuv6dkzTJMuy9hUHe/hPJBJE1PgJXbaMb1QxDIPi8bhzXEqlkqvRJZ1Ok2ma+0rPYYLGAgAAAAAAgCPg0aNHdPXq1YNORl9ZWVmhyclJWlpaIiKibDZLuq5TLpdzNXbouu78//79+/TixQtXfLquH5veBWgsAAAAAAAA39gQAvmNLa9SqQhhYrGYZ3ymaTaNqxn2lpiPw2ssPd/FPBwOu95Ys7hYN34+bD6fd4ZN8EMHVF3W5fzp9pAOplKp0O7uLmma5lrHp5PPK34YiJyH8jGT88TreKn2X3U85O3l83knPratfD5PyWSy63lZqVRocHDQtXxnZ8e17Pz581QqlbqSjn7zyUEnAAAAAAAADod8Pk/ff/891Wo1YVkikXDe3FqWRclkUghjWRbFYjHa2NhwxTk0NESjo6PO99uRzWbJNE16+fKlsz3Lsuju3btCfLFYjGZnZ13LiMh5uM5ms1SpVGhqaoqmpqaE9BMRnTx50tkv9kDMhlLcvXvXeSs9PDxMKysrzlvrSqXiue+dtLW1RSdOnFCuq9VqZJommaZJk5OTrn2zLIt2dnaaHrNoNCqsr1QqdPfuXde2FhYWXPGzvGJ5Ypqma3t8wwPblmmadP78eWUDSDtWV1ddDQ3nz593/r+1taVsGKjX665lmqZRMpncV3oOCzQWAAAAAACAL6VSyfXQq+s61et1siyLNE2j5eVl13wEmqbR9vY25fN5oav36uoqra6u7nv+gvn5eWFbCwsLzmfLsujKlSvCdomINjY2KJFIuB5EmzVc8A0Ck5OTnmP2p6amhM/dngOCiGh7e7tlmHQ67coHIqLl5WXlAzUROcfVj3w+T3/++acynhcvXjj5tbm56crjII1Ffk1OTlI2m3U+y/MODA8PK783NDTkGWelUunJ3BAHCY0FAAAAAABwINhDXDgcdr2NPqxUvRLaHV4RxMmTJwN/d3BwkHK53L7f4J88eZJ0Xad0Or2veHotGo26ehFsbW0phybw3znqMGcBAAAAAAD4Eo/HlbPBb25uOg+aV69eFd7iMqVSSflWm6gxCV2zeQ32Q9M0evnypWu5aZp069atjm6rUqnQ6OiosMwwDNrd3e3odlSGh4cDb+f69etCbwwmkUi09WsELK/lOQrYEAhmaGjIVY7Y0A4Z32PCNM2uNbyMjY0J6X706BFdv37dFc6yLNcxPqrQswAAAAAAAMgwDFpdXXU+swc3vlu+ruvOJH88fhiBpmn05s0bV5hcLuf8n81rMDk5SUREr1+/drqvtzN/AUtzPp+ndDpNFy5ccIYA8L0Vvv/+e1d6JicnhTfp/Hr2/4GBAdrY2HAmBiRqTHrHtsvmanj37p0zvn9sbEyIS9d1evv2rZAeP3ndrmg0SidOnHANG+DTTrTXBZ/vARCNRml+ft6VR+l0uu3eBhsbG8q85huQstmsqxwNDAy4emSk02lnAksWTzv5w8oZETnHSi4zrAGLbYvftqr3wJs3bygej/tOw2EWsm3bbhkoFCIfwaAP4FhBt6GMtQ95BtAdqFsAaqgbx5dlWbS8vKzs2dEN/MSWx8VhHDIT9JyAYQgAAAAAAABHgKZpVK/XlT9V2GmWZTWdAPAoMk3z0M3HsB/oWXDE4FhBt6GMtQ95BtAdqFsAaqgb0A3sZyUZNkQD+l/QcwIaC44YHCvoNpSx9iHPALoDdQtADXUDAHgYhgAAAAAAAAAAHYHGAgAAAAAAAAAQoLEAAAAAAAAAAARoLAAAAAAAAAAAARoLAAAAAAAAAECAxgIAAPDNMAwKh8MUDocpn8/3dNumaR7Idg9KL/M6kUhQOBzuye9ygxrqVu+gbrWWz+dbppvt237zkT8epmkqw7AyGg6HyTCMpmkOh8OUSCQCp8ePSqXibCscDu87Pn7/VGn3m9eWZXU0XX4cxjLO8smrLMEeNBYAAPQx/uaH3SQc5MUtm81SrVYjXdd7vu10Ok3pdLrn221XpVLpyDHqZV4vLS3R5ORk17fTT1C39qBudc9hq1vsIapUKtHo6KhnOMMwKB6PU61Wo1qtRqVSKdDDommaNDg46MSzs7NDlmUJYfL5PO3s7DhhBgcHXQ/MlmVRqVRywsTjcc+Gh06YmppytrWysrKvxolYLCbs39LSkrDeb14bhkELCwtOuFqtFjhN7dhPGTcM40AaGTRNo5WVlZ5vV9btRq1OQGMBAECfkm9+arUaff/99wedLIBDD3ULQE3TNOUDqwrf2HL//n168eJF29vb2dkRGqqy2SwtLy8LYTY3NymbzTqf0+k0bW5uCmGWl5eFNOu6Tjs7O22nx498Pk+5XM75HI1GaWxsLHBjyZUrV4T9U2mV15ZlUb1ep42NjbbTANAMGgsAAA4R1QMN/3Y0HA4Lb2VisZjT1Y518WTdHWOxGBHtvWE1TVPoDhq0W6H8xnY/XSFZ+pt1F5TTrOqiKadHFYbvBsq2x7+ZYnnGb09+K5BIJGhqaopWV1dbbq9T+DzyOmZ8F1a5jMj8hjtqULfcULdQt1QqlQoNDg66lnfq4bxer3c1zH7qIIt3eHjYtXxra6vtuDY3N5v26vGb18vLy3T//v22tx+EPATDT52X6zPrwbK6ukpTU1NOOHbulMN14pzHn1/k7XhtT/XmXz4vqsLIeZRIJIRwLI53794J4fjzIn9t2e+1Yz/QWAAA0Kc0TaN4PC5cJF68eOF6A5HL5YQ3pAsLC87FZGNjg0ZHR51unpubm053x3PnzpFlWaTrOuVyOXr58qXQHbRWq9HU1FRbF6ZKpeJ6Y7uyshLoAh+LxWh+fl7oeip3K00kEq40l0ol4eYlkUjQyspK0zCVSkXoBlqr1Vw3mqxLJ7+9oaEhIZ6lpSVaWVmhyclJIa5udXcOh8NCHqmOWSwWE7qwsjLi9bAyMDDglClN07qS7oOGuoW61QrqlretrS1lw4CfB3hepVJRfmd3d1f4/Pbt20Bh2DZkAwMD7STTZWdnR9kwsL29HSg+/sFSfoj1m9f1ep2i0ajQwNWNh8pKpSIMwWB1fnV1VQh3/vx5IUw8HhcaJVkPlsnJSeEcIveMGB4eFtavrKx4Pug3YxiGcH6Zn5+nqakpIUw+n3cN44jH48JDfj6fd50X5TBERHfv3nWF4cssGwo1OjoqhJN72ei6Ti9fvnTW53I5unv3btv7vx+f9HRrAADQFl3XhZthwzDIMAzhoWZhYYGSyWTTeNgFaGhoyLlgy28rTpw44XrDkcvl6MWLFxSNRn2l98WLF05LuSyfz/u+sc/n8zQ7OyvcUMtpq1QqNDQ05Fq+tLREiUSCdF2nSqVC7969c90UMCw90WiU6vW6kO7R0VFX3HIejY2NtX2D3Cn5fJ7S6bTroWNlZYWy2Sxls1myLIuuXLniyveNjQ1KJBKu705NTdHk5OShfpDxC3ULdcsL6lZzqrfqRI060A6vsn/ixImmn/2G8drGfrvqq970ExGdPHmyrXjYw/zs7KzTYGZZlnAe8pvXu7u7ZBgGzc/PO2UsFot1fFhCNpt1jfVn5wXe9va261wVdF4D+RzTbmMPy2f+/KJpGuVyOWHIS6lUcuWXrutUr9fJsizSNI1KpRK9e/dO2ZuiUqk45Y01RvOCzpEwPz8vpHthYSFQPEGhZwEA2iW7vQAAIABJREFUQJ9STfyTzWaFG+hEIuF6+xX0gjw2Nrav9BKR84DBp6eTbwCD3IzKLfdek0gtLS0J68fGxro6QVY/WllZUb5lPmpQt9TxtwN1qz1HqW6xBiDe1taW50N0O1hDVbuGhoZ61j17aGjI1YtgZ2fH88HeSzQapd3dXdfDIJ+3fvP63LlzNDg4KDRGnTt3rqd5wqjmhAn6oCz3YqjVap4NQ+1q93gRNfZT7k3F/viGKV3XXfs/OzvbkXT3GhoLAAD6mHxxsSxLePDY3d0Vbg7y+byrO6Bf+Xze1X12eXmZrl+/7jsOXdeVN8OGYbQ1tljXdSqVSq7lfNzsJkq+Gcrn8xSPx53PcndmokY+8m9CTNN0hQlyw8rwN3esi2mnb9p0XVeOs89ms84bbk3T6OXLl64wpmnSrVu3lPGm02na2dk58j+jh7olQt3ag7rVmjyh36NHj5TlmY0B9+o6Ho/HhbqRzWbp6tWrQphbt24JeWaaplAOiRr1gJ/0L5/PezbS7bebvq7rwgSLbDiFqhcDP+5cZXZ2Vni7rWos8ZPXhmG4yqMqTWz8e9BfFZF7XxE1jjF/btze3nblfbMHZX5IB+vhRdTIC/kXOQzDcA1BaYXlgXy85e78Xr+gsbm56VwLrl69qhwGEIvFnPgrlYqrp4VXLxp5X/pyPhPbB5/BoA/gWEG3oYy1L2iepVIp+8mTJ/bZs2edv4sXLwph1tbWhPXXrl2zU6mUffbsWXttbc2+ePGis+79+/fCunv37tlnz561nzx54nzmw589e9a+d++e57b4v/fv3zvh3r9/71rPx+OXansszXx8cphr16654rp27VrTfGTxNouHXyd/J5VKCWFZPvPh97vvqrz2yiOe6njI6WX5w+Lmy8Ha2lrb6e8V1C3UrU7s+1GsW0Hrhlf+yPtl2+Jxe/LkiTI+Vs9UZYfh88SrPPPlTJUW2xbLRrPtqY53u+TzhxeWbq/8sW13HWmW5mZxycdOVb6uXbvmqqPtktN78eJF4fzHtiOnWXVc5DokH395W/y5tF1e5zw+TfL5RVVO5GMv57XqvOBV3uT948PwaXny5Ikr3nYFPSeE/vpyU6FQiHwEgz6AYwXdhjLWvsOQZ5Zl0Zs3bw7Fb60DMKhbAGqHoW5Ab7HJCdPpdNcmBoX+FfScgGEIAAAAAAAAR9jr169pdHQUDQXQFvQsOGJwrKDbUMba1+95ls/nhXF6uq7jLSgcCqhbAGr9XjcAoLeCnhPQWHDE4FhBt6GMtQ95BtAdqFsAaqgbAMDDMAQAAAAAAAAA6Ag0FgAAAAAAAACAAI0FAAAAAAAAACBAYwEAAHSFYRjC5G4A0BmoWwDQD8LhMFUqlYNOBnQRGgsAAOBYqVQqlEgkDjoZh1Y4HHb+VDeJsVjsAFIF/QB162jg63g3WZZF4XCYDMPo6nb6WbfyOpFI4CE+oEQi4RyTfD7vWm+apnL5UYXGAgCAPsZupvgL12G5Gc9ms335M3HZbJZu3bp10MnomP2WB76MsbfVsViMwuGw68E/FovRysoK1Wo1qtVqNDs764pvdnb2UNz8o251HurW0cDq98DAQFe3o2karaysdHUb/a4beW1ZFg0NDVE0Gu1YnF5qtVrXt2OaJlmWta842Hme1WnDMJSN3oZhUDwed45LqVRyNbqk0+lj1bMLjQUAAH0qn8/TwsKCc9FiF653794ddNIOrUqlQm/fviVN0w46KX1D0zRKp9POHxHRxsYGjY6O0sbGhhPOsiyanZ0VbgxnZ2ddN3G6rtPbt297k/iAULc6D3ULoD88evSIrl69etDJ6CsrKys0OTlJS0tLRNRo2NR1nXK5nKuxQ9d15//379+nFy9euOLTdf3Y9C5AYwEAQJ8qlUrCwxoR0dLSEtVqNWEZ/3Y0HA4LD2+VSkVoTSfa62Inv/2V37QahuF6s8bi41vp5TB8i71X67tpmq54ePl83vm+/PZ3P168eEFXrlxxLWfbY11B2Zt1OT/57ole3Wf5uBKJhLAvXvvv1XWfTwfbf5YHLI537961TFMnbG9v08mTJ5XLZefOnevrGynULdStfqpbh5FcplW9MOQy3WyIEn/c2u3RweqFfOxV3fDlciY3drK4WDd+uYywcsCXaVUdkvOn08MMvFQqFdrd3VU22vHp5POKL9et6o+cJ17HS7X/quOhOg+x+Ni28vk8JZPJrudlpVKhwcFB1/KdnR3XsvPnz1OpVOpKOvqO7YPPYNAHcKyg21DG2hckz96/f29fu3bNV9i1tTXh88WLF+33798Ly+S41tbW7FQq1TTMvXv3XMvkz0+ePLEvXryoTNeTJ0/se/fu+UrzkydPXOlZW1uzz549K+zL2bNnlfH5lUql7CdPnniuv3jxon327FlX+my7kR/yd+/duyek+8mTJ0IePXnyxD579qzwPVXer62tufLx4sWLQjrev3/visu23cckCJZO+Y+n2n+vY6w6nt2AutU6zahbB1u3DkonrtXNyp+8Tj4+rIzxVMfi/fv3TtnZT37fu3dPiHttbc0V38WLF13HWC4LLE2qcyCLly3n65F8XmHL+M9e+cnS0Qmq/ebdu3fPPnv2rPL87Lf+8LzOp6rvyOccuY7bdqPOqc6XqvNGO/hjyv/x8ar2v9n1Yr/nzF4Lek745ADbKQAAwCf2JoCZnJykbDZLREQLCwuUTCb3vY2xsTFXi738pjUej7vCBBlzur297YpncnLSFU7XdaGL4OjoKFUqlcBjJOv1Oo2NjTUNI+8z8/LlS/rzzz+bjlUslUpON0eiRvrr9boQZnl5mVZXV5VvRyzLIk3TKJ/P0+zsrPB2KBqNeqatE9LptND9Un5bNDQ0pPye13J5v/sV6lYD6lb36tZRo+qZw44Hy+fl5WVX+dU0jba3tymfzwvnmtXVVVpdXd33/AXz8/PCthYWFpzPlmXRlStXhO0SNYZcJRIJ15v40dFRobzxWBzDw8M0OTnpWWempqaEz92eA4JI3dNLJp/rGT/1x498Pk9//vmnMp4XL144+bW5uenKY6887wT+3E5ErvPN8PCw8nte1zgi2tc587BAYwEAQB+KRqO0u7vrfNZ13bm4x2Ix54KXSCRofn5euIgH7SrLj1knatwcJBIJ1w06f5NRqVRodnbWdePYjGVZVCqVhJvzSqUiXMS7pdlFv5UTJ060tZ9e2xwcHKRcLnfoxnafPHmS3rx5Iyyr1+t0/vx5Zfj95HU3oW51B+oWBMUe4sLh8JFptJmamnLtSy8mzFQNFfOrU/Xn5MmTpOt6X07C2kw0GnU1QG5tbSmHJvDfOeowZwEAQJ+6cuVKyxl35bGJ+XyeVldXXeH4idsqlYrrballWa4HIbmVXfWzaEEulNvb2643kKpZ9bthcHAw8BvveDyufFjk357E43HXMZM/X79+XXjjxSQSCWf8rK7rZJqma4ynYRiuNPAPvkSNB95uzBegaZpr7ObLly+VN5abm5st3zIfJNStzkPdOj5Ux4KoUe9Znbl69aqykapUKinfahM1etJ066dXNU2jly9fupabptnxX/CoVCo0OjoqLDMMw1WeumF4eDjwdvzUHz9YXst1zDRNodwMDQ25yhGb60DG95gwTbNrDS9jY2NCuh89ekTXr193hbMsy3WMj6xujnGA3sOxgm5DGWvffvIslUq1HGPHr7t27ZrzHT4cG6fIx8HCq+JRjdf0GvMnj8tUhZHTc+3aNWEdG3/M0sOPoWdjCNmYZ69xz354jRuV06PaN1U+qsLIx0w1HluV36rx3nIYr/kBvPLZD36fWPx8XvP7J6db3nemU+NvW0HdQt3q57p1kILWDVW94MtPs3B+jqmqjrFyyOd3O/MX8Gl58uSJq64wqjokj1FX7Tsr13LdYfGxtPJh5X1ncyrw6fGb1+26du2acu4S1bbkcu+3/jCtxvQ3y2vbdueB17WjVTzN8PvE0iqXGa9tee276tzT74KeE0J/fbmpUChEPoJBH8Cxgm5DGWsf8qy/GIZBV69e7VlXZfYm0utt2lGTz+dpc3OzJ13fUbf6C+pW/0DdOL4sy6Ll5eWenIOJyDWk6jg4jENmgp4TMAwBAACOFcMw6NGjRz3bXqlU2tc40sPm+++/79lNKvQX1C2Ag6dpGtXrdeVPFXaaZVl9Oz9Nt5imeejmY9gP9Cw4YnCsoNtQxtqHPDte5Nn1vWaehv1D3TpeULf8Q92AbqhUKsKvPAwMDASanBR6L+g5AY0FRwyOFXQbylj7kGcA3YG6BaCGugEAPAxDAAAAAAAAAICOQGMBAAAAAAAAAAjQWAAAAAAAAAAAAjQWAAAAAAAAAIAAjQUAAAAAHhKJBIXDYQqHw5TP513rTdNULgc4zPL5PIXD4aY/v9eqbvhlGIYTD/9rFzzTNJ0whmE0TXM4HKZEIhE4PX5UKhVnW+FweN/x8funSrvfvLYsq6Pp8oOlrRc/1dgpLJ+8yhLsQWMBAAAAHCvyTTn/sMLf8BqGQfF4nGq1GtVqNSqVSq4b4nQ67fmAA3DYsIeoUqlEo6OjnuH81A0/TNOkwcFBJ56dnR2yLEsIk8/naWdnxwkzODjoemC2LItKpZITJh6Pd7VeTk1NOdtaWVnZV+NELBYT9m9paUlY7zevDcOghYUFJ1ytVgucpnYsLS3R5ORkoO8ahnEgjQyaptHKykrPtyvrdqNWJ6CxAAAAAI6VlZUVmpycdG7Ks9ks6bpOuVyOotGoEFbXdef/9+/fpxcvXrji03UdvQvgSNA0TfnAquKnbrSys7ND6XTa+ZzNZml5eVkIs7m5Sdls1vmcTqdpc3NTCLO8vCykWdd12tnZaTs9fuTzecrlcs7naDRKY2NjgRtLrly5IuyfSqu8tiyL6vU6bWxstJ0GgGbQWAAAAAAgqVQqNDg46FquegA5f/48lUqlXiQL4MC1UzeCqNfrXQ2j6kXUjnq9TsPDw67lW1tbbce1ubkpNJbI/Ob18vIy3b9/v+3tByEPwfAansWHkd+gsx4sq6urNDU15YSLxWLKcJ0YWsH3IJO347U91Zt/Ph6vMHIeJRIJIRyL4927d0I4vjcMCyPnZa97YqCxAAAAAI6d1dXVpje8W1tbyocf1QOIpmn07t27rqUVoJ+0UzeaqVQqyu/s7u4Kn9++fRsoDNuGbGBgoJ1kuuzs7CgbBra3twPFxz9Yyg+xfvO6Xq9TNBqlWCzW1YfKSqUiDMFgwyJWV1eFcOfPnxfCxONxYX4A1oNlcnKSVlZWnHByz4jh4WFh/crKiueDfjOGYQjDXebn52lqakoIk8/nXcM44vG48JCfz+eFeFRhiIju3r3rCsOX2Ww2S7VajUZHR4Vwci8bXdfp5cuXzvpcLkd3795te//345Oebg0AAACgD0xOTgpdf+Xxzao3h0REQ0NDnnFWKhXXMAaAoyZI3VDxqisnTpxo+tlvGK9t7LervupNPxHRyZMn24qHPczPzs468wtYlkWGYTjnJr95vbu7S4Zh0Pz8PGmaRkSNuRA6PSwhm826xvovLS25Hpa3t7ddvQCCzmsgP9S329jD8pl/ENc0jXK5nDDkpVQqufJL13Wq1+tkWRZpmkalUonevXun7E3Bn//j8bhr/4POkTA/Py+ke2FhIVA8QaFnAQAAAIAkGo263t5tbW15Piiw7wAcdUHqhl+VSqXtRgeixsNzr7pnDw0NuXoR7OzseD7Ye4lGo7S7u+t6GOTz1m9enzt3jgYHB52GArasl3nCyJNNsh4BQci9GGq1mmfDULvaPV5Ejf3kezrwf/z5X9d11/7Pzs52JN29hsYCAAAAAAV50rJHjx7R9evXXeEsy2o6czzAUdNO3Wg2Rjwejwu/fpDNZunq1atCmFu3bglvck3TpHg8LoQxDEOY9C+fz9PY2Jhym/vtpq/rujDBIhtOoWos5Medq8zOzgpvt1WNJX7y2jAMevnypbBMlSY2/j3oTwbyvR4Yy7KEYQjb29uuvG/2oMwP6TAMw0lbpVJxnVcNw3ANQWmF5YF8vOXu/F6/oLG5uek0wly9elU5DCAWiznxVyoVV08Lr4ZkeV/C4bDr10AOGoYhAAAAwLFhWRYlk0kiavxs1dLSEhmGQaurq5TP5ymdTjszj6fTaaEraTqdVt70vXnzxvXwAnAY8fWDaK8LuDxsx2/dYG/gvd4G67pOsVjM2aau68LbcaLG2/ZEIuE8yE1OTromBYxGo5TNZp00jY6O+vpFh6DGxsaE/ff6mULWK8CrtwTr5t4sLj95HY1GaX5+XgjH/2IDs7m5SQMDAy1/fcFLNBqlwcFBYTsDAwM0OTlJU1NTlMvlSNd1SiQSrjSbpumccxnDMIRhBrquO8eW/coEH4+u6/T27VsKh8Nt/TQkXzb4uPL5vJMmXdedxh0e3ytC0zTlEAv5l3TYxIVe8TBXrlwRwq2srDjxyNelCxcuOHnV7v7vR8i2bbtloFCIfASDPoBjBd2GMtY+5BlAd/RL3erljRuAH/1SN6B/sMkJ+QZROD6CnhMwDAEAAAAgINM0m/70GQBAP3j9+jWNjo6ioQDagp4FRwyOFXQbylj7kGcA3YG6BaCGugEAPPQsgP/f3h2tJs60ARx/Fr57qFo8yWFO5KUUFm8gpGghvYTQgy25hAakkF5CsAdLLqEFlcrcgCwsUnqSQ0+k+vYq+h0skzdjYldt0227/x8s1DjOjJO4ME+emQAAAAAA8CoIFgAAAAAAAAPBAgAAAAAAYCBYAAAAAAAADAQLAAAAAABbsSxL0jT9091AhQgWAAAAABCRXxNA/a9KSimxLEuCIKi0nfesqrH2PI9J/I48z8vOSZIkhfejKCo9/lkRLAAAAAAgIiKz2Uxms5nUarVK23EcR0ajUaVtvHdVjLVSShqNhti2/Wp1rjObzSpvJ4oiUUq9qA49+fc8T0REgiDIjuWDKkEQSLfbzc7LcDgsBF3CMJQoil7Un4+EYAEAAAAAfAJXV1dyfHz8p7vxroxGI3FdV25ubkREJI5j8X1f+v1+Idjh+3729+XlpVxfXxfq833/r8kuIFgAAAAAYGN6CcHqHdu8NE2NMu12e219URQ9W9dz9F3ifB3r1tLnU8wtyyrcsdZ16TT+fNkkSbJlE/mlA2Up66vjU/WSDi1NU3l8fBTHcQrv5fuZH6v8MpDVMVw9Z6tjsu58lX3/svOx2l6SJFl9uq0kSeTs7KzysUzTVOr1euH4crksHDs8PJThcFhJP96b//3pDgAAAAD4GJIkke/fv8tsNjOOeZ6X3blVSsnZ2ZlRRikl7XZbJpNJoc5GoyGtViv7/DbiOJYoiuT29jZrTykl5+fnRn3tdltOT08Lx0Qkm1zHcSxpmkqn05FOp2P0X0Rkf38/+156QqyXUpyfn2d3pZvNpoxGo+yudZqma7/7a5rP57K3t1f63mw2kyiKJIoicV238N2UUrJcLp89Z7ZtG++naSrn5+eFti4uLgr167HSYxJFUaG9fOBBtxVFkRweHpYGQLYxHo8LgYbDw8Ps7/l8XhoYWCwWhWOO48jZ2dmL+vNRECwAAAAAsJHhcFiY9Pq+L4vFQpRS4jiODAaDwn4EjuPIw8ODJElipHqPx2MZj8cv3r+g1+sZbV1cXGSvlVJydHRktCsiMplMxPO8wkT0ucBFPiDguu7aNfudTsd4XfUeECIiDw8Pvy0ThmFhHEREBoNB6YRaRLLzuokkSeTff/8tref6+jobr+l0WhjjXYJFm3JdV+I4zl6v7jvQbDZLP9doNNbWmabpm+wN8ScRLAAAAADwR+hJnGVZhbvRH1VZVsK2yyt2sb+/v/Nn6/W69Pv9F9/B39/fF9/3JQzDF9Xz1mzbLmQRzOfz0qUJ+c98duxZAAAAAGAj3W63dDf46XSaTTSPj4+Nu7jacDgsvast8msTuuf2NXgJx3Hk9va2cDyKIvn27durtpWmqbRaLeNYEATy+Pj4qu2UaTabO7dzcnJiZGNonudt9TQCPdarexToJRBao9EoXEd6aceqfMZEFEWVBV4ODg6Mfl9dXcnJyUmhnFKqcI4/KzILAAAAAEgQBDIej7PXeuKWT8v3fT/b5C8vv4zAcRz5+fNnoUy/38/+1vsauK4rIiI/fvzI0te32b9A9zlJEgnDUL5+/ZotAchnK3z//r3QH9d1jTvp+ff137VaTSaTSbYxoMivTe90u3qvhvv7+2x9/8HBgVGX7/tyd3dn9GeTsd6Wbduyt7dXWDaQ77vIfyn4+QwA27al1+sVxigMw62zDSaTSelY5wNIcRwXrqNarVbIyAjDMNvAUtezzfjo60xEsnO1es3oAJZuK992WfbAz58/pdvtbtyHj+zL09PT028LffkiGxTDO8C5QtW4xrbHmAHV4LcFlOO38fdSSslgMCjN7KhCfmPLv8VHXDKz6/8JLEMAAAAAgE/AcRxZLBaljyp8bUqpZzcA/IyiKPpw+zG8BJkFnwznClXjGtseYwZUg98WUI7fBqqgHyup6SUaeP92/T+BYMEnw7lC1bjGtseYAdXgtwWU47cBII9lCAAAAAAA4FUQLAAAAAAAAAaCBQAAAAAAwECwAAAAAAAAGAgWAAAAAMgkSSKWZT37+D3P88SyLLEsS5Ik2bmtIAiyeqIoKi0TRVFWJgiCZ/tsWZZ4nrdzfzaRpmnWlmVZL64v//3K+r7pWCulXrVfm9B9e4tHNb4WPU7rriX8h2ABAAAAgGwSNRwOpdVqrS0XBIF0u12ZzWYym81kOBzuNFmMokjq9XpWz3K5FKWUUSZJElkul1mZer1emDArpWQ4HGZlut3u2sDDa+h0Ollbo9HoRcGJdrttfL+bmxvj/U3HOggCubi4yMrNZrOd+7SNm5sbcV13p88GQfBHggyO48hoNHrzdldVHdR6DQQLAAAAAIjjOKUT1jK+72d/X15eyvX19dbtLZdLCcMwex3HsQwGA6PMdDqVOI6z12EYynQ6NcoMBgOjz77vy3K53Lo/m0iSRPr9fvbatm05ODjYOVhydHRkfL8yvxtrpZQsFguZTCZb9wF4DsECAAAAABtJ01Tq9Xrh+GtNzheLRaVldIr+rne0F4uFNJvNwvH5fL51XdPp1AiWrNp0rAeDgVxeXm7d/i5Wl2CULYvIL6soW1qhM1jG47F0Op2sXLvdLi33Gksr8stdVttZ117Znf98PevKrI6R53lGOV3H/f29US6fDaPLrI7lW2diECwAAAAAsJH5fF4aGNhkAp+XpmnpZx4fH43Xd3d3O5XRbayq1WrbdLNguVyWBgYeHh52qi8/sVydxG461ovFQmzblna7XemkMk1TYwmGXhYxHo+NcoeHh0aZbrdr7A+gM1hc15XRaJSVW82MaDabxvuj0WjtRP85QRAYy116vZ50Oh2jTJIkhWUc3W7XmOQnSWLUU1ZGROT8/LxQJn/NxnEss9lMWq2WUW41y8b3fbm9vc3e7/f7cn5+vvX3f4n/vWlrAAAAAD6ssrvqIiKNRmOremzbLj2+t7f37OtNy6xr46Wp+mV3+kVE9vf3t6pHT+ZPT0+z/QWUUhIEQbYsYdOxfnx8lCAIpNfrieM4IvJrL4TXXpYQx3Fhrf/NzU1hsvzw8FDIAth1X4PVSf22wR49zvmJuOM40u/3jSUvw+GwMF6+78tisRCllDiOI8PhUO7v70uzKdI0za63brdb+P677pHQ6/WMfl9cXOxUz67ILAAAAACwEdu2C3e25/P52kn0NtI03TroIPJr8vxW6dmNRqOQRbBcLtdO7NexbVseHx8Lk8H82G461v/884/U6/UsUKCPveWYaKubTeqMgF2sZjHMZrO1gaFtbXu+RH59z3ymQ/5fPjDl+37h+5+enr5Kv98awQIAAAAAG1vd0O/q6kpOTk4K5fQa8HWp491u13j6QRzHcnx8bJT59u2bcSc3iiLpdrtGmSAIjE3/kiSRg4OD0jZfmqbv+76xwaJeTlGWxZBfd17m9PTUuLtdFizZZKyDIJDb21vjWFmf9Pr3XR8ZmM960JRSxjKEh4eHwtg/N1HOL+kIgiDrW5qmhSdyBEFQWILyO3oMVs/3ajr/uidoTKfTLAhzfHxcugyg3W5n9adpWsi0WJdFs/pdLMsqPA3kT2MZAgAAAABRSsnZ2Vn2WqeAu65beCJBPs06DMPSCZG+A7/ubrDv+9Jut7M2fd837o6L/Lrb7nleNpFzXbewKaBt2xLHcdanVqu10RMddnVwcGB8/3WPKdRZAeuyJXSa+3N1bTLWtm1Lr9czyuWf2KBNp1Op1Wq/ffrCOrZtS71eN9qp1Wriuq50Oh3p9/vi+754nlfocxRF4nmecV6CIDCWGfi+n51b/ZSJfD2+78vd3Z1YlrXVoyHz10a+riRJsj75vp8Fd/LyWRGO45Qusej3+8Y50RsXrqtHOzo6MsqNRqOsniAIZDweS5IkEoahfP36NRurbb//S3x5enp6+m2hL19kg2J4BzhXqBrX2PYYM6Aa/LaAcvw2sEpvThiGofEoRvwddv0/gWUIAAAAAPCJ/fjxQ1qtFoECbIXMgk+Gc4WqcY1tjzEDqsFvCyjHbwNAHpkFAAAAAADgVRAsAAAAAAAABoIFAAAAAADAQLAAAAAAAAAYCBYAAAAAALZiWZakafqnu4EKESwAAAAAICK/JoD6X5WUUmJZlgRBUGk771lVY+15HpP4HXmel52TJEkK70dRVHr8syJYAAAAAEBERGazmcxmM6nVapW24ziOjEajStt476oYa6WUNBoNsW371epcZzabVd5OFEWilHpRHXry73meiIgEQZAdywdVgiCQbrebnZfhcFgIuoRhKFEUvag/HwnBAgAAAAD4BK6uruT4+PhPd+NdGY1G4rqu3NzciIhIHMfi+770+/1CsMP3/ezvy8tLub6+LtTn+/5fk13l1P2FAAAQL0lEQVRAsAAAAADAxvQSgtU7tnlpmhpl2u322vqiKHq2rufou8T5Otatpc+nmFuWVbhjrevSafz5skmSZMsm8ksHylLWV8en6iUdWpqm8vj4KI7jFN7L9zM/VvllIKtjuHrOVsdk3fkq+/5l52O1vSRJsvp0W0mSyNnZWeVjmaap1Ov1wvHlclk4dnh4KMPhsJJ+vDf/+9MdAAAAAPAxJEki379/l9lsZhzzPC+7c6uUkrOzM6OMUkra7bZMJpNCnY1GQ1qtVvb5bcRxLFEUye3tbdaeUkrOz8+N+trttpyenhaOiUg2uY7jWNI0lU6nI51Ox+i/iMj+/n72vfSEWC+lOD8/z+5KN5tNGY1G2V3rNE3XfvfXNJ/PZW9vr/S92WwmURRJFEXium7huymlZLlcPnvObNs23k/TVM7PzwttXVxcFOrXY6XHJIqiQnv5wINuK4oiOTw8LA2AbGM8HhcCDYeHh9nf8/m8NDCwWCwKxxzHkbOzsxf156MgWAAAAABgI8PhsDDp9X1fFouFKKXEcRwZDAaF/Qgcx5GHhwdJksRI9R6PxzIej1+8f0Gv1zPauri4yF4rpeTo6MhoV0RkMpmI53mFiehzgYt8QMB13bVr9judjvG66j0gREQeHh5+WyYMw8I4iIgMBoPSCbWIZOd1E0mSyL///ltaz/X1dTZe0+m0MMa7BIs25bquxHGcvV7dd6DZbJZ+rtForK0zTdM32RviTyJYAAAAAOCP0JM4y7IKd6M/qrKshG2XV+xif39/58/W63Xp9/svvoO/v78vvu9LGIYvquet2bZdyCKYz+elSxPyn/ns2LMAAAAAwEa63W7pbvDT6TSbaB4fHxt3cbXhcFh6V1vk1yZ0z+1r8BKO48jt7W3heBRF8u3bt1dtK01TabVaxrEgCOTx8fFV2ynTbDZ3bufk5MTIxtA8z9vqaQR6rFf3KNBLILRGo1G4jvTSjlX5jIkoiioLvBwcHBj9vrq6kpOTk0I5pVThHH9WZBYAAAAAkCAIZDweZ6/1xC2flu/7frbJX15+GYHjOPLz589CmX6/n/2t9zVwXVdERH78+JGlr2+zf4Huc5IkEoahfP36NVsCkM9W+P79e6E/rusad9Lz7+u/a7WaTCaTbGNAkV+b3ul29V4N9/f32fr+g4MDoy7f9+Xu7s7ozyZjvS3btmVvb6+wbCDfd5H/UvDzGQC2bUuv1yuMURiGW2cbTCaT0rHOB5DiOC5cR7VarZCREYZhtoGlrmeb8dHXmYhk52r1mtEBLN1Wvu2y7IGfP39Kt9vduA8f2Zenp6en3xb68kU2KIZ3gHOFqnGNbY8xA6rBbwsox2/j76WUksFgUJrZUYX8xpZ/i4+4ZGbX/xNYhgAAAAAAn4DjOLJYLEofVfjalFLPbgD4GUVR9OH2Y3gJMgs+Gc4VqsY1tj3GDKgGvy2gHL8NVEE/VlLTSzTw/u36fwLBgk+Gc4WqcY1tjzEDqsFvCyjHbwNAHssQAAAAAADAqyBYAAAAAAAADAQLAAAAAACAgWABAAAAAAAwECwAAAAAAAAGggUAAAAAMkmSiGVZkqbp2jKe54llWWJZliRJsnNbQRBk9URRVFomiqKsTBAEz/bZsizxPG/n/mwiTdOsLcuyXlxf/vuV9X3TsVZKvWq/NqH79ty18t7ocVp3LeE/BAsAAAAAZJOo4XAorVZrbbkgCKTb7cpsNpPZbCbD4XCnyWIURVKv17N6lsulKKWMMkmSyHK5zMrU6/XChFkpJcPhMCvT7XbXBh5eQ6fTydoajUYvCk60223j+93c3BjvbzrWQRDIxcVFVm42m+3cp23c3NyI67o7fTYIgj8SZHAcR0aj0Zu3u6rqoNZrIFgAAAAAQBzHKZ2wlvF9P/v78vJSrq+vt25vuVxKGIbZ6ziOZTAYGGWm06nEcZy9DsNQptOpUWYwGBh99n1flsvl1v3ZRJIk0u/3s9e2bcvBwcHOwZKjoyPj+5X53VgrpWSxWMhkMtm6D8BzCBYAAAAA2EiaplKv1wvHX2tyvlgsKi2jU/R3vaO9WCyk2WwWjs/n863rmk6nRrBk1aZjPRgM5PLycuv2d7G6BKNsWUR+WUXZ0gqdwTIej6XT6WTl2u12abnXWFqRX+6y2s669sru/OfrWVdmdYw8zzPK6Tru7++NcvlsGF1mdSzfOhODYAEAAACAjczn89LAwCYT+Lw0TUs/8/j4aLy+u7vbqYxuY1WtVtummwXL5bI0MPDw8LBTffmJ5eokdtOxXiwWYtu2tNvtSieVaZoaSzD0sojxeGyUOzw8NMp0u11jfwCdweK6roxGo6zcamZEs9k03h+NRmsn+s8JgsBY7tLr9aTT6RhlkiQpLOPodrvGJD9JEqOesjIiIufn54Uy+Ws2jmOZzWbSarWMcqtZNr7vy+3tbfZ+v9+X8/Pzrb//S/zvTVsDAAAA8GGV3VUXEWk0GlvVY9t26fG9vb1nX29aZl0bL03VL7vTLyKyv7+/VT16Mn96eprtL6CUkiAIsmUJm4714+OjBEEgvV5PHMcRkV97Ibz2soQ4jgtr/W9ubgqT5YeHh0IWwK77GqxO6rcN9uhxzk/EHceRfr9vLHkZDoeF8fJ9XxaLhSilxHEcGQ6Hcn9/X5pNkaZpdr11u93C9991j4Rer2f0++LiYqd6dkVmAQAAAICN2LZduLM9n8/XTqK3kabp1kEHkV+T57dKz240GoUsguVyuXZiv45t2/L4+FiYDObHdtOx/ueff6Rer2eBAn3sLcdEW91sUmcE7GI1i2E2m60NDG1r2/Ml8ut75jMd8v/ygSnf9wvf//T09FX6/dYIFgAAAADY2OqGfldXV3JyclIop9eAr0sd73a7xtMP4jiW4+Njo8y3b9+MO7lRFEm32zXKBEFgbPqXJIkcHByUtvnSNH3f940NFvVyirIshvy68zKnp6fG3e2yYMkmYx0Egdze3hrHyvqk17/v+sjAfNaDppQyliE8PDwUxv65iXJ+SUcQBFnf0jQtPJEjCILCEpTf0WOwer5X0/nXPUFjOp1mQZjj4+PSZQDtdjurP03TQqbFuiya1e9iWVbhaSB/GssQAAAAAIhSSs7OzrLXOgXcdd3CEwnyadZhGJZOiPQd+HV3g33fl3a7nbXp+75xd1zk1912z/OyiZzruoVNAW3bljiOsz61Wq2Nnuiwq4ODA+P7r3tMoc4KWJctodPcn6trk7G2bVt6vZ5RLv/EBm06nUqtVvvt0xfWsW1b6vW60U6tVhPXdaXT6Ui/3xff98XzvEKfoygSz/OM8xIEgbHMwPf97Nzqp0zk6/F9X+7u7sSyrK0eDZm/NvJ1JUmS9cn3/Sy4k5fPinAcp3SJRb/fN86J3rhwXT3a0dGRUW40GmX1BEEg4/FYkiSRMAzl69ev2Vht+/1f4svT09PTbwt9+SIbFMM7wLlC1bjGtseYAdXgtwWU47eBVXpzwjAMjUcx4u+w6/8JLEMAAAAAgE/sx48f0mq1CBRgK2QWfDKcK1SNa2x7jBlQDX5bQDl+GwDyyCwAAAAAAACvgmABAAAAAAAwECwAAAAAAAAGggUAAAAAAMBAsAAAAAAAsBXLsiRN0z/dDVSIYAEAAAAAEfk1AdT/qqSUEsuyJAiCStt5z6oaa8/zmMTvyPO87JwkSVJ4P4qi0uOfFcECAAAAACIiMpvNZDabSa1Wq7Qdx3FkNBpV2sZ7V8VYK6Wk0WiIbduvVuc6s9ms8naiKBKl1Ivq0JN/z/NERCQIguxYPqgSBIF0u93svAyHw0LQJQxDiaLoRf35SAgWAAAAAMAncHV1JcfHx3+6G+/KaDQS13Xl5uZGRETiOBbf96Xf7xeCHb7vZ39fXl7K9fV1oT7f9/+a7AKCBQAAAAA2ppcQrN6xzUvT1CjTbrfX1hdF0bN1PUffJc7XsW4tfT7F3LKswh1rXZdO48+XTZIkWzaRXzpQlrK+Oj5VL+nQ0jSVx8dHcRyn8F6+n/mxyi8DWR3D1XO2OibrzlfZ9y87H6vtJUmS1afbSpJEzs7OKh/LNE2lXq8Xji+Xy8Kxw8NDGQ6HlfTjvfnfn+4AAAAAgI8hSRL5/v27zGYz45jnedmdW6WUnJ2dGWWUUtJut2UymRTqbDQa0mq1ss9vI45jiaJIbm9vs/aUUnJ+fm7U12635fT0tHBMRLLJdRzHkqapdDod6XQ6Rv9FRPb397PvpSfEeinF+fl5dle62WzKaDTK7lqnabr2u7+m+Xwue3t7pe/NZjOJokiiKBLXdQvfTSkly+Xy2XNm27bxfpqmcn5+Xmjr4uKiUL8eKz0mURQV2ssHHnRbURTJ4eFhaQBkG+PxuBBoODw8zP6ez+elgYHFYlE45jiOnJ2dvag/HwXBAgAAAAAbGQ6HhUmv7/uyWCxEKSWO48hgMCjsR+A4jjw8PEiSJEaq93g8lvF4/OL9C3q9ntHWxcVF9lopJUdHR0a7IiKTyUQ8zytMRJ8LXOQDAq7rrl2z3+l0jNdV7wEhIvLw8PDbMmEYFsZBRGQwGJROqEUkO6+bSJJE/v3339J6rq+vs/GaTqeFMd4lWLQp13UljuPs9eq+A81ms/RzjUZjbZ1pmr7J3hB/EsECAAAAAH+EnsRZllW4G/1RlWUlbLu8Yhf7+/s7f7Zer0u/33/xHfz9/X3xfV/CMHxRPW/Ntu1CFsF8Pi9dmpD/zGfHngUAAAAANtLtdkt3g59Op9lE8/j42LiLqw2Hw9K72iK/NqF7bl+Dl3AcR25vbwvHoyiSb9++vWpbaZpKq9UyjgVBII+Pj6/aTplms7lzOycnJ0Y2huZ53lZPI9BjvbpHgV4CoTUajcJ1pJd2rMpnTERRVFng5eDgwOj31dWVnJycFMoppQrn+LMiswAAAACABEEg4/E4e60nbvm0fN/3s03+8vLLCBzHkZ8/fxbK9Pv97G+9r4HruiIi8uPHjyx9fZv9C3SfkySRMAzl69ev2RKAfLbC9+/fC/1xXde4k55/X/9dq9VkMplkGwOK/Nr0Trer92q4v7/P1vcfHBwYdfm+L3d3d0Z/Nhnrbdm2LXt7e4VlA/m+i/yXgp/PALBtW3q9XmGMwjDcOttgMpmUjnU+gBTHceE6qtVqhYyMMAyzDSx1PduMj77ORCQ7V6vXjA5g6bbybZdlD/z8+VO63e7GffjIvjw9PT39ttCXL7JBMbwDnCtUjWtse4wZUA1+W0A5fht/L6WUDAaD0syOKuQ3tvxbfMQlM7v+n8AyBAAAAAD4BBzHkcViUfqowtemlHp2A8DPKIqiD7cfw0uQWfDJcK5QNa6x7TFmQDX4bQHl+G2gCvqxkppeooH3b9f/EwgWfDKcK1SNa2x7jBlQDX5bQDl+GwDyKg8WAAAAAACAj2eXYMFGT0MgMgkAAAAAwN+DDQ4BAAAAAICBYAEAAAAAADAQLAAAAAAAAAaCBQAAAAAAwECwAAAAAAAAGAgWAAAAAAAAA8ECAAAAAABgIFgAAAAAAAAMBAsAAAAAAIDh/0VxIXW7OYsxAAAAAElFTkSuQmCC)"
      ],
      "metadata": {
        "id": "8ouzBbqbLi5P"
      }
    }
  ]
}