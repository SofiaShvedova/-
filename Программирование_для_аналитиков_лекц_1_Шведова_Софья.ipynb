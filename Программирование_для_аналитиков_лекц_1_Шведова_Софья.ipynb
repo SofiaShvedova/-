{
  "nbformat": 4,
  "nbformat_minor": 0,
  "metadata": {
    "colab": {
      "name": "Программирование для аналитиков лекц 1 Шведова Софья.ipynb",
      "provenance": [],
      "authorship_tag": "ABX9TyMUYiq+TFq3pPnkS2V0dTNk",
      "include_colab_link": true
    },
    "kernelspec": {
      "name": "python3",
      "display_name": "Python 3"
    },
    "language_info": {
      "name": "python"
    }
  },
  "cells": [
    {
      "cell_type": "markdown",
      "metadata": {
        "id": "view-in-github",
        "colab_type": "text"
      },
      "source": [
        "<a href=\"https://colab.research.google.com/github/SofiaShvedova/Programming-for-analysts/blob/main/%D0%9F%D1%80%D0%BE%D0%B3%D1%80%D0%B0%D0%BC%D0%BC%D0%B8%D1%80%D0%BE%D0%B2%D0%B0%D0%BD%D0%B8%D0%B5_%D0%B4%D0%BB%D1%8F_%D0%B0%D0%BD%D0%B0%D0%BB%D0%B8%D1%82%D0%B8%D0%BA%D0%BE%D0%B2_%D0%BB%D0%B5%D0%BA%D1%86_1_%D0%A8%D0%B2%D0%B5%D0%B4%D0%BE%D0%B2%D0%B0_%D0%A1%D0%BE%D1%84%D1%8C%D1%8F.ipynb\" target=\"_parent\"><img src=\"https://colab.research.google.com/assets/colab-badge.svg\" alt=\"Open In Colab\"/></a>"
      ]
    },
    {
      "cell_type": "markdown",
      "source": [
        "![image.png](data:image/png;base64,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)\n",
        "---\n",
        "\n"
      ],
      "metadata": {
        "id": "fQyZRX4PjcrX"
      }
    },
    {
      "cell_type": "code",
      "source": [
        "import numpy as np"
      ],
      "metadata": {
        "id": "0h0ZrJgE36c9"
      },
      "execution_count": 2,
      "outputs": []
    },
    {
      "cell_type": "code",
      "execution_count": 4,
      "metadata": {
        "colab": {
          "base_uri": "https://localhost:8080/"
        },
        "id": "6IbvYySu3y4O",
        "outputId": "3d0526de-c6d8-49cb-f074-bc7becf5f8aa"
      },
      "outputs": [
        {
          "output_type": "stream",
          "name": "stdout",
          "text": [
            "[1 2 3 4 5]\n"
          ]
        },
        {
          "output_type": "execute_result",
          "data": {
            "text/plain": [
              "numpy.ndarray"
            ]
          },
          "metadata": {},
          "execution_count": 4
        }
      ],
      "source": [
        "arr = np.array([1,2,3,4,5])\n",
        "print(arr)\n",
        "type(arr)"
      ]
    },
    {
      "cell_type": "code",
      "source": [
        "print(arr.dtype) # int64"
      ],
      "metadata": {
        "id": "LjeXxE584oBd",
        "outputId": "3707f881-8c1e-4ab8-d262-5b20cd34d1e4",
        "colab": {
          "base_uri": "https://localhost:8080/"
        }
      },
      "execution_count": 5,
      "outputs": [
        {
          "output_type": "stream",
          "name": "stdout",
          "text": [
            "int64\n"
          ]
        }
      ]
    },
    {
      "cell_type": "code",
      "source": [
        "arr = np.array([1, 2, 3.14])\n",
        "print(arr.dtype) # float64"
      ],
      "metadata": {
        "id": "voZO12O7i6LZ",
        "outputId": "ed9d418e-6b2a-4ca3-83c9-b5833a307c1e",
        "colab": {
          "base_uri": "https://localhost:8080/"
        }
      },
      "execution_count": 6,
      "outputs": [
        {
          "output_type": "stream",
          "name": "stdout",
          "text": [
            "float64\n"
          ]
        }
      ]
    },
    {
      "cell_type": "code",
      "source": [
        "arr = np.array([1, 2, 3])\n",
        "print(arr.shape) # (3,)"
      ],
      "metadata": {
        "id": "zQ_EvDhGi_Mt",
        "outputId": "5048dcca-5023-4cf2-af64-6ac9fd3e2088",
        "colab": {
          "base_uri": "https://localhost:8080/"
        }
      },
      "execution_count": 7,
      "outputs": [
        {
          "output_type": "stream",
          "name": "stdout",
          "text": [
            "(3,)\n"
          ]
        }
      ]
    },
    {
      "cell_type": "code",
      "source": [
        "b = np.array([[1.5, 2, 3], [4, 5, 6]], dtype=np.complex)\n",
        "b"
      ],
      "metadata": {
        "id": "lnzC12kbjBPN",
        "outputId": "62d8c089-034a-4c8d-91bc-9e7f40befd25",
        "colab": {
          "base_uri": "https://localhost:8080/"
        }
      },
      "execution_count": 8,
      "outputs": [
        {
          "output_type": "execute_result",
          "data": {
            "text/plain": [
              "array([[1.5+0.j, 2. +0.j, 3. +0.j],\n",
              "       [4. +0.j, 5. +0.j, 6. +0.j]])"
            ]
          },
          "metadata": {},
          "execution_count": 8
        }
      ]
    },
    {
      "cell_type": "code",
      "source": [
        "np.zeros((3, 5))\n",
        "np.ones((2, 2, 2))"
      ],
      "metadata": {
        "id": "HM3Cn85LjDTq",
        "outputId": "f0aaf2b1-513e-4772-9d92-0c393a11faa2",
        "colab": {
          "base_uri": "https://localhost:8080/"
        }
      },
      "execution_count": 9,
      "outputs": [
        {
          "output_type": "execute_result",
          "data": {
            "text/plain": [
              "array([[[1., 1.],\n",
              "        [1., 1.]],\n",
              "\n",
              "       [[1., 1.],\n",
              "        [1., 1.]]])"
            ]
          },
          "metadata": {},
          "execution_count": 9
        }
      ]
    },
    {
      "cell_type": "code",
      "source": [
        "np.eye(5)"
      ],
      "metadata": {
        "id": "e_8NZRuHjFey",
        "outputId": "3e478129-8901-49ec-9e73-9b88c2074926",
        "colab": {
          "base_uri": "https://localhost:8080/"
        }
      },
      "execution_count": 10,
      "outputs": [
        {
          "output_type": "execute_result",
          "data": {
            "text/plain": [
              "array([[1., 0., 0., 0., 0.],\n",
              "       [0., 1., 0., 0., 0.],\n",
              "       [0., 0., 1., 0., 0.],\n",
              "       [0., 0., 0., 1., 0.],\n",
              "       [0., 0., 0., 0., 1.]])"
            ]
          },
          "metadata": {},
          "execution_count": 10
        }
      ]
    },
    {
      "cell_type": "code",
      "source": [
        "np.empty((3, 3))\n",
        "np.empty((3, 3))"
      ],
      "metadata": {
        "id": "lpNgTeahjG9K",
        "outputId": "8d9d086e-8cc3-44c1-952f-5e845ec4cda5",
        "colab": {
          "base_uri": "https://localhost:8080/"
        }
      },
      "execution_count": 11,
      "outputs": [
        {
          "output_type": "execute_result",
          "data": {
            "text/plain": [
              "array([[4.66750958e-310, 3.60739284e-313, 1.38338381e-322],\n",
              "       [4.66750958e-310, 0.00000000e+000, 0.00000000e+000],\n",
              "       [4.94065646e-323, 0.00000000e+000, 0.00000000e+000]])"
            ]
          },
          "metadata": {},
          "execution_count": 11
        }
      ]
    },
    {
      "cell_type": "code",
      "source": [
        "np.linspace(0, 2, 9)  # 9 чисел от 0 до 2 включительно"
      ],
      "metadata": {
        "id": "0GSeP7f4jIuS",
        "outputId": "ff55fe33-d2e7-4d8c-866a-2f0fb6549c82",
        "colab": {
          "base_uri": "https://localhost:8080/"
        }
      },
      "execution_count": 12,
      "outputs": [
        {
          "output_type": "execute_result",
          "data": {
            "text/plain": [
              "array([0.  , 0.25, 0.5 , 0.75, 1.  , 1.25, 1.5 , 1.75, 2.  ])"
            ]
          },
          "metadata": {},
          "execution_count": 12
        }
      ]
    },
    {
      "cell_type": "code",
      "source": [
        "def f1(i, j):\n",
        "    return 3 * i + j\n",
        "\n",
        "print(np.fromfunction(f1, (3, 4)))\n",
        "print(np.fromfunction(f1, (3, 3)))"
      ],
      "metadata": {
        "id": "Cp5M0V7rjKiz",
        "outputId": "a78d171f-0a63-47d3-81a4-a4fbf61e0066",
        "colab": {
          "base_uri": "https://localhost:8080/"
        }
      },
      "execution_count": 13,
      "outputs": [
        {
          "output_type": "stream",
          "name": "stdout",
          "text": [
            "[[0. 1. 2. 3.]\n",
            " [3. 4. 5. 6.]\n",
            " [6. 7. 8. 9.]]\n",
            "[[0. 1. 2.]\n",
            " [3. 4. 5.]\n",
            " [6. 7. 8.]]\n"
          ]
        }
      ]
    },
    {
      "cell_type": "code",
      "source": [
        "a = np.array([[1, 2], [3, 4], [5, 6]])\n",
        "print(a.shape) # (3, 2)"
      ],
      "metadata": {
        "id": "WA5Jnf-sjLga",
        "outputId": "8425c5d0-1ba5-4f3d-97d2-a1f2b5db6742",
        "colab": {
          "base_uri": "https://localhost:8080/"
        }
      },
      "execution_count": 14,
      "outputs": [
        {
          "output_type": "stream",
          "name": "stdout",
          "text": [
            "(3, 2)\n"
          ]
        }
      ]
    },
    {
      "cell_type": "code",
      "source": [
        "a = np.array([[1, 2], [3, 4], [5, 6]])\n",
        "print(a.size) # 6"
      ],
      "metadata": {
        "id": "7UHQ8xgVjNpq",
        "outputId": "eb40de3c-266c-4042-cb35-1eacb7b95b81",
        "colab": {
          "base_uri": "https://localhost:8080/"
        }
      },
      "execution_count": 15,
      "outputs": [
        {
          "output_type": "stream",
          "name": "stdout",
          "text": [
            "6\n"
          ]
        }
      ]
    },
    {
      "cell_type": "markdown",
      "source": [
        "![image.png](data:image/png;base64,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)"
      ],
      "metadata": {
        "id": "4PSPXbQXjhT0"
      }
    },
    {
      "cell_type": "code",
      "source": [
        "print(np.arange(0, 3000, 1))"
      ],
      "metadata": {
        "id": "65s-iESvjQJp",
        "outputId": "7cd43fda-2fca-48f6-8126-f8a0eb097cbe",
        "colab": {
          "base_uri": "https://localhost:8080/"
        }
      },
      "execution_count": 16,
      "outputs": [
        {
          "output_type": "stream",
          "name": "stdout",
          "text": [
            "[   0    1    2 ... 2997 2998 2999]\n"
          ]
        }
      ]
    },
    {
      "cell_type": "markdown",
      "source": [
        "![image.png](data:image/png;base64,iVBORw0KGgoAAAANSUhEUgAAAYIAAAA6CAYAAAC9FF4lAAAVD0lEQVR4nO2dfWxb13XAf50HMEgBBh5Ko1tFqItZBxXjDKLjec9wUQrGTEWIqThR2bSy3MGmsqqya2lEbE1JqqlxFSUpa6UWqzZmhMSq2oRVIZvuVNGGKxoV9FJ4pro01FCXzio8BQn8gAUmUCMEanh/WB/k49cjRclyeX+AEOfy8bzD+3XuPffcez9x69atWwgEAoGgbPmrO62AQCAQCO4swhAIBAJBmSMMgUAgEJQ5whAIBAJBmSMMgUAgEJQ5whAIBAJBmSMMgUAgEJQ5whAIBAJBmSMMgUAgEJQ5whAIBAJBmSMMgUAgEJQ5whAIBAJBmSMMgUAgEJQ5whAIBAJBmSMMgUAgEJQ5f13wNz4M0rK9jVDRr3TQNzWA89NFCxAIBAJBCREzAoFAIChzhCEQCASCMkcYAoFAIChzCl8jyIDjld8wsNtUClECgUAgWGXEjEAgEAjKHGEIBAKBoMwRhkAgEAjKnJKsEawMCdQZGfnSFFMXosQUmcjs/EcmC9IDNqzOWlw77VjW5xITR7kaYXpejnIthnxFXfzYXC1RsdFK/c56auxWTIZCdQwzEZpiYjrKzGQEZUHFTRKWh6zUfqEGaYeUW8d5Iifup+G4vjcvyK+vc1H7BQvGdQXIrevjN/1OilvVUQke3EbbWFJS+wjvHbLl/+pNlcjYOOO/Hidyaak8zdUS0tZ6apw1OKpWdq0p8WGU8OQ4U+EI0WiGOrVzOzU77EgbjXllqWdb2Ha4+B01C3h+/h6t1ToejCuEzwWYCEeQL8nEVAATFsmG9MVHqHXYkSpz652us4eR91pZKL34bJjxn45zJjyx2E4Wyqf2K7XY88hfJKESlWUib08xPhNjLkPb0FN3M+1byp9fEXz3N+BNTspVR9PeoWOvUyKK76u78U4nJ6bm5arJLwFr0BDEiY704/X5Cc9meUSNIasx5MkAfsy4XnqN7gYL6X14BN/nNRVCgzIto0zLyCN+MEm4v91Lp8OcV0tV9vOd7pMEk4xKyudXZNQr83Ix4+jo5dsHJEy5Kn0BJMvvqHTR6+/GtbEgK7aKJIid9dJ1zI+cIbsWyiDwKpjrOjn+vBubDsNZEKqM/1gXJ8/GyFhiKXXqth69XW6kNREDESfy6lHae0OLnekSKjE5REwOMdRrQtr/DN3/5sRyb4GvuKkQeqGDbw3KafmzVD5epP0v0vusnawt5KMogR958b0azqDrvMZ3Vd3NRILoYJemk76b5Kez9lxDH4bpP5LDCKShEDjSyNGz2apdAagy/pYGui7EczwURz7eyKONPVmNQCYdQ72NPLrPR+TG8tVMYzZAx1d7CH+0ArKXTRz55UZ2Hc5sBLQoYz00PN5BaK6EGkx6aXy0kZ5sRiCLHo2PNuKbTpROkWK4ESPg+WcaMhoBLSryYBuNzYXWM4XgkQZaMhiBdPn7afAEs3fyk/105DACacwG6PjqUYIlLO8VZ2aIrpcjd6/8DKzBGUEyZmwNDmr/cQvWz8xPSeMKE2d9+MeSq5pK8Jifx3Z0Y88wkjRtkqix12C1WrB8amHkkUC9MsUvX/cTSjE6KkNvjOPe6cow6kkQObGfxhPphbTwDsvfAH9SmAqNE9YYClX20vKcmRGvM/uIKhlHL+derGWDJvn6nEzoBz30JOeBOoR31IV9v1WP5FViPr8GUvPLtMnJvtbHsH3KAMRRLp7G92pSRzcboKV3Oxf7deZTLg2mfezf5yOtxEwWpC/aqbFsAK6jXAoxfkFjKFQZ79ePYv55H84KPW9z0T1cjyXXI++dofG5gE7tFYLPNdIxmlqPzPYm3F+uxWLktgvm3FucfHOpE1dlL10/khhpt2WYJWu5jjzQjnf+HaZNdmod2zF/Eq7FJghfXHBBLaGOttGzo5qBPXlKp9KGy1GLrdqKeaH5vj/BaZ+mzalBvvOjx7A/b0en4+kOEsX/XE96fbpr5GemJIYgdHgb9x/O8mGlDclqxWavoT6fP38RM46ObjqftC9WoCUkJIeLptE2GjzBpYarDnFaPoi9Lnkub6Xp8v/Quj5Lc5DsOPc2ETzSQFtyY5uMcjVO2rsTk15ajmuKyGTH0/cirRofgru9m/hMgJ7WDgJJlV4dbaNLqmawQUcXt+4e7jMa0xqHscqBu78CHt1Nz8xSevR/VeKwZhpTpvyytY8weMiWoqMkOXDtDdL2RBvBhWIY+w5Dkw46dyzDZXBDxvt1r6ZRmbA/3ceLT2ncdE956P4oSuCFb9Axkmxgg7R9azvVg5kGBlrMWCUptw/3Hv1NXHmzK7VeYsLpHaFP0wFLdieux33sdy391uiJfs48PoirMt9b/HhfBipd9Po6cVUll4ybzpsKoWPttLyRqneoN4Bc50HKVDyVDjq7OnHZzRnqooRjT3qbU4dPI3/TjmNNuOKyEx3somcFXTYrLT8bK+8amo0gjw3hO7KfXVu20XgshHIzx/PrNrLv/DkGnspkBJYw72mmuSo1Lfh77YTUgDGbEVh8nxnJrmf5ReHMoF8zdbbh+eFAmhFYwFjloneoD6fm4/DrIaI63pibDWz4rCbpkwYdI8DVIj2/THv6OK4xAotUOPE8bU9KUPEHw+Ry0uXVYOwkfs1o1tY+wEBLlrWa9VZcL/2Yvj3aAhsiNJPh+ZUkIRM4Hk5JsrUP8GKWUbjxYTeelmS9wwyFdNYyk5O+oV6NEZhnnRlH1/H0PFF9jE9mKJ3P7uPcfw7gzmgElmQ6DzSTOncN8q5ud/AdYsZP17Elg2iy25HuJvk5WOU1AhV5sIWGXL5ykxVJ18KRBesOTdLVOd0+4CUSKDGNg9JuJS1oZCbEUGq7xNrRTWt1Hl0rnDQf0LhrZk4SXrbVv8a1P6amOKyZFszvEGn5ZaX5QG5Xj/mfHsORnDBymWjRLvooodc1BVbVSfehfO6STJ1UlJMXVneyHp8cx5dSmV00782luwGpxpWSEp2M6vLV29s9eVxfZpzf9GDXpA69E0t70rRZ0rdQvdGa1snFPii89a4eWpeNHc/+x0o4+15p+bkpiWvIuqeV+gfuS0m7Fpsg+r5KTE5foFNlLy0vWDmvyyeYIB5PcH0uypyiEJ1VUN6JEIvFkK8sQ+kbcdQPIoy/dpL+N5NHTjY87fVpHZbyzoRmFC/R5NDnj7c6mpB6O5AXU1Smfq/QWl2cBzwxF+HMaz0pbiGqPTTv1DmvHmtj2/1tmT+rtCFttVFf10RtrlFdHtLyy1SLVJXt6XkqKngQksLsoigfgpTXvZGB2SgTmlG8tNeBrhKrctC0o4eOyaUk9VIMBduy1yz0kSB6aSg1aU9N/kiqis/hICn/JmPMJcCc0/I5eMyu41dVStTugHBSnnBlLn+eJOLEE9dRonPMvR9FURQuT8e4+nuZdDOydtG6bGxPe6i3XGXiLpGfj5IYggr7PtxpZw25b/8noSIPHqXt5XCKQVCHvQS+YsedsXOIo4TP4B8eSl/AK5ZpH/c/kSuQFEySm2e+7cGZYUaifiBrUrZj0dtBVVqwAckSZFWFfN1Krg47icWQy0JDBjMxG0GejSCP+PFKrfT1e5CKCOVMyy/Vy+77c+d/OjLq/wHFGAJVIa3EHtDbjZuxVAPJnd6kio4SKxHXULVuktEWto0WKkdB/QjIeffHg1TouhtkA+YqUvMkpGTOk7hCeNTPqZ+mB0zclWhcNlR76PyaFUP86t0hXwcrHzVkMCG1DDDwcQMNJ5LHiFHOvB3FXaUZo82F6Tl6FL+eWMNSsdFO64GD1DttWaa1KnPaMnGYC9qQdU/x2uXAhuOQi33O2tLH3QOq7KPRfQ9nf9KKtSCfU4b8WmXUD7TjTQfmQgrsjsbTqSjL36dWYgwYPpn/KeVCDx2d+kKF7w60LhsbnmfnB13LWcBaNfn6WKXqbsD2eBPSiY6UUVpalMuNCL7D+/Fr/Ofmagf2HVuwWCxYPmWiwmrmPoOR2Kv6d+Lm5GoYX2cYX2cBG3LWrVTnXggRQicihE50YK7r5gc9TVj1+HIyhaXGFSLTYd76njc1tG/ai/esU1+U01pnjQdLr3n+nPvjxLSP9ma/JkrLjK3OjvSQhc9tsmDaUIG14j4Mxhh+7e7fNUiay6a9E3e+dcE1JF8vq9c0MrhH+ChO8lpg9Mea3XTVTfS94MG5qQRLJg+5+e1vm5b+P64QjUaZGPNzZnGj0e0NObumFc0o2IBRO+IeU1BA96zg42J0zrKPgMQ1ohcD9L+8NPJSxrrYfcPART1hjpnCUo1W7BVW7Dtt9NQ0pkTbhIMySoO5ALdIhvza2c1Zb/raS15JOkahGb93rzbXQigfkMdNkkSeTm9lMWCoApLXOJ4a5LffKPxwAUPJVhsV5rRrcimz4ihDz6WG6tq+1kdvu/P2foe7kUwumwN69masEfkFsHpRQ4kEuQNAooRfS12ObTrUmcMIxIlfK+D96wwYjcalvworksNF5yvnOB/wpMZ+T3vxpuxUNmL6e+0y4xQxveFus7G0DSLOjQXsI9D+mSxIDZ0Met2phijsJbjcaKR7JWqf1KTN+8f1Y8T0dxoTeeEaiUy/Jc+focgjOYx/a05bGJ5KCy/OhkJMm497LKu0PgCwAfMDmqTZONeLyb+879I5REnM8a7WXVVpWhqk/C7MyZTF+SYOPp3DCMTjFNJ8V50/a102Vlr/vUTrcKshv0BWzxBcjaYt3pmsG5c6sg+v8m5Kb+NgiyVHNU5EuXyuNKoZH3axry41LfzfV1NcdJbP2zWjf5nABX1x2oo8rvntEtuty985Y9haQ31Kisq7cyVwzpZgnmjZXK9JCTAhr+JxDRut2DVZLP9M5/6NWZnxydQkaWtVkYf0FYOJqq2a4MrQaeQVibMPE9GxRyIePoNfk9a01bpoaNQ/vps6WHBsYWOOTi0Rvcx4YYquKspof4rLxnqom4MPl26svtLyC2WVDIFC8LWTaY2wfnOuzfgRlBx9mjJ2ShNnvRw+Bu0mN43bymCrYZ8mwilyrJ9AvjNS5oJ4NRuDsNcXFxKpJe8sqyihJP60fCmGh7bTlJKi4vuuf2XOWsqogI2avZo5wXQP/SP5ZgUKwe97SS0xO/XS6q6RmB+q0cxowni/n/2Mn+KJ0vPdQG65NyKcPKE9FsPFdlsOn09EyTGLVAgN+0oTDbgihPAeT5r+VLXS/a+ldNmstPzCWXFDkPhQxn9wr2arPFDloXZr0k9fb9JMvVVO/TiYcReyEuqi3aMjrEJnRxn/ryCnNOJSZisABhuub2iPbg7R8cR+fFlCJOJXAnQ0JR2bAGTbp1AM8UsTmlGViQcrljlunQvxljZMsRi3iFGivl3bEXtpOezLE1GSQJ0O4jsRWmZHYcD2pYNpu7pDRxrYPyCjZtrdHo8ROJJeV21Pe6gvheEuhKp6mjWzVHW0jfbuILFc0SQ348TCQ3QMF7B3PdzB3iOBzHLVMN7mFnyaWYO13ZVyrpdxvaaGqKc4NZrBvNxUCHW3px5jvqax0vofB1fQZbPS8vVRksXiiK+Nxp9l+EBz9v8SJtwdbmzJJtBgZUsD+EeWktTRNhqiv6Le/Qg1nzESf3+KqbEgQ2EFTE6cW4MEc1Qo9Vwb276n4tghseUfHlw6uG6BuMLUxTME3tSeumij+YvpW49MdR6e2SOndhRqGG/jNk5pDp27PBkmNJ3eEGztnbg367T9Nz/mejyePlKIK8hj/fT0ajrL6mbses61zyQ3OWooRaiJpjqpCLeIAduBbjzhhpQAAPWCl8Ztp7DsrMWx1cqDm80YSaBeifGH2GXkydDtOwLq+nBlla2TTzvwPOtEPpx0JhUq4Zcb2fa65tC5d2TCY5H0kfFCTPdydSkYE86OPn51KXUgEXmjjV1veG8fxmh9EMsmEwbiKL9TiCUfEtc+Qq+u91ixVkWJjnSw66If+y4H2823N4dei40TGsmQJ1WtdGsWNQ3WLbjwszRvUAl6GpgJ1+Ouq8FsjKO8PcV4cIjwLJj2OLGNBikmSlaZkZFzLm3E0nX+IIq84JrcYNV13wSsvMvmTruEFiiJIbh9vrjep004e4bxpB0mZsTxL53YRlJP3lOvBPEfCWr8kyacz3rY98fchgCA2Qih2Qih4QL0e+V4lo1uZpwvjcC6vbRpXAzqFZnAFe0qSKpc6ekBBlsKmAKGOtgV6tD5sA3Ps036ds4WINe05xncO4sM+7jXRusrffzhCe2sSCV2YYjYheLEFoJ5dx8j3MPewxr3hxpDHomlrVslY5I8DJxsvXOjtQonL/5QYe4J7cF5CpERP5GRLN8riFo8z9fS/4SXiBojPBzTuMU0mJz0vpJhBLveQdOzNgLHUlovsbN+Os5qVhdMTp5p34dSpCEIPNeI3vNbF3mzi8Y35/+t9yKllXbZrAGX0AKre9ZQpYPOwHn6nsxyJk6Vm8FTrXkuA7HRNDBC3+4V8Nku6JdL9jozzpfOcu6VAi4tqXTQOfwLhgsxAoVQ6aD7zGD+c48KxNzQy/DzyzwKusJJ3/gInXUFSDFZcEobS3bOinl3L2fH+3DrLjAzjo5hfnHqDhqBeQzVrQyfL0R3oNKOe7P+/DZWtzIY8OStzybJzcDP+7JeImPdP8jwoTyzx+omBnQf630nKQ+X0AIrvI/AhEWyYNt8+xpCe5Upb0do3OFheLyW0M8CnA4tuVfM1RKS/cu4nnRi09kmTLte5NzwI8hvX2ZqOoaafN0lzF9PuBFLdQ3bHfr0m9cSy+5OhusOEvv1OGcuTBCZmUFedAUV/rsLx4xth0TNl1y46mwlu/mMShuOHbU88ng9zuoSxcmst+Huv4jrqkz4wji/nEy91pNKG5LZdLsc7Dakh/JcX1gExk1OOoedHLwaZjw4kfVq0eKuLF1ZDBuddA47aJ4JMxGc4MzvIilneJk2SVg2mLHu3M72rRJSEfXN+HArw+edhEf9vBVcanemTRK2rTU88ng9jup8co1I7cOcd4QI/PQ04wtuvpWqqytIubiEFvjErVu3bt1pJQQCweqQ787iv0i0dwbrdQ2VEWvvqkqBQCAQrCrCEAgEAkGZIwyBQCAQlDnCEAgEAkGZIw7mFQgEf9l82snAe847rcWaRswIBAKBoMwRhkAgEAjKHGEIBAKBoMwRG8oEAoGgzBEzAoFAIChzhCEQCASCMkcYAoFAIChzhCEQCASCMuf/AewmOqrl29TBAAAAAElFTkSuQmCC)"
      ],
      "metadata": {
        "id": "8kqzQ-KZjkxz"
      }
    },
    {
      "cell_type": "code",
      "source": [
        "import sys\n",
        "import numpy as np\n",
        "\n",
        "a = np.array([20, 30, 40, 50])\n",
        "b = np.arange(4)\n",
        "print(a + b)\n",
        "print(a - b)\n",
        "print(a * b)\n",
        "print(a / b)  # При делении на 0 возвращается inf (бесконечность)\n",
        "print(a ** b)\n",
        "print(a % b)  # При взятии остатка от деления на 0 возвращается 0"
      ],
      "metadata": {
        "id": "8gi4DWNxjTZk",
        "outputId": "0be8dca4-c570-4a55-92e3-c15da5241232",
        "colab": {
          "base_uri": "https://localhost:8080/"
        }
      },
      "execution_count": 17,
      "outputs": [
        {
          "output_type": "stream",
          "name": "stdout",
          "text": [
            "[20 31 42 53]\n",
            "[20 29 38 47]\n",
            "[  0  30  80 150]\n",
            "[        inf 30.         20.         16.66666667]\n",
            "[     1     30   1600 125000]\n",
            "[0 0 0 2]\n"
          ]
        },
        {
          "output_type": "stream",
          "name": "stderr",
          "text": [
            "/usr/local/lib/python3.7/dist-packages/ipykernel_launcher.py:9: RuntimeWarning: divide by zero encountered in true_divide\n",
            "  if __name__ == '__main__':\n",
            "/usr/local/lib/python3.7/dist-packages/ipykernel_launcher.py:11: RuntimeWarning: divide by zero encountered in remainder\n",
            "  # This is added back by InteractiveShellApp.init_path()\n"
          ]
        }
      ]
    },
    {
      "cell_type": "code",
      "source": [
        "print(a + 1)\n",
        "print(a ** 3)\n",
        "print(a < 35)"
      ],
      "metadata": {
        "id": "n3ZuYRxxjUWU",
        "outputId": "562432e6-3c7b-4e9f-fe34-1a9c94c30edc",
        "colab": {
          "base_uri": "https://localhost:8080/"
        }
      },
      "execution_count": 18,
      "outputs": [
        {
          "output_type": "stream",
          "name": "stdout",
          "text": [
            "[21 31 41 51]\n",
            "[  8000  27000  64000 125000]\n",
            "[ True  True False False]\n"
          ]
        }
      ]
    },
    {
      "cell_type": "code",
      "source": [
        "print(np.cos(a))\n",
        "print(np.arctan(a))\n",
        "print(np.sinh(a))"
      ],
      "metadata": {
        "id": "eGYY_t1hjV-0",
        "outputId": "4d910257-4cb3-4f4b-afac-c3f5be7d015e",
        "colab": {
          "base_uri": "https://localhost:8080/"
        }
      },
      "execution_count": 19,
      "outputs": [
        {
          "output_type": "stream",
          "name": "stdout",
          "text": [
            "[ 0.40808206  0.15425145 -0.66693806  0.96496603]\n",
            "[1.52083793 1.53747533 1.54580153 1.55079899]\n",
            "[2.42582598e+08 5.34323729e+12 1.17692633e+17 2.59235276e+21]\n"
          ]
        }
      ]
    },
    {
      "cell_type": "code",
      "source": [
        "a = np.array([[1, 2, 3], [4, 5, 6]])\n",
        "print(np.sum(a))\n",
        "print(a.sum())\n",
        "print(a.min())\n",
        "print(a.max())"
      ],
      "metadata": {
        "id": "HzthIQtgjY0c",
        "outputId": "af2f3961-8a65-4efe-c632-f685fb01c399",
        "colab": {
          "base_uri": "https://localhost:8080/"
        }
      },
      "execution_count": 20,
      "outputs": [
        {
          "output_type": "stream",
          "name": "stdout",
          "text": [
            "21\n",
            "21\n",
            "1\n",
            "6\n"
          ]
        }
      ]
    },
    {
      "cell_type": "markdown",
      "source": [
        "![image.png](data:image/png;base64,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)"
      ],
      "metadata": {
        "id": "zTB8QGK2jqB7"
      }
    },
    {
      "cell_type": "code",
      "source": [
        "a = np.arange(10) ** 3\n",
        "print(a)\n",
        "print(a[1])\n",
        "print(a[3:7])\n",
        "a[3:7] = 8\n",
        "print(a)\n",
        "print(a[::-1])\n",
        "\n",
        "\n",
        "for i in a:\n",
        "    print(i ** (1/3))"
      ],
      "metadata": {
        "id": "CPX2yVnLjr08",
        "outputId": "09fa0aff-00b3-4bba-a96e-99add9b26cc4",
        "colab": {
          "base_uri": "https://localhost:8080/"
        }
      },
      "execution_count": 21,
      "outputs": [
        {
          "output_type": "stream",
          "name": "stdout",
          "text": [
            "[  0   1   8  27  64 125 216 343 512 729]\n",
            "1\n",
            "[ 27  64 125 216]\n",
            "[  0   1   8   8   8   8   8 343 512 729]\n",
            "[729 512 343   8   8   8   8   8   1   0]\n",
            "0.0\n",
            "1.0\n",
            "2.0\n",
            "2.0\n",
            "2.0\n",
            "2.0\n",
            "2.0\n",
            "6.999999999999999\n",
            "7.999999999999999\n",
            "8.999999999999998\n"
          ]
        }
      ]
    },
    {
      "cell_type": "code",
      "source": [
        "b = np.array([[  0, 1, 2, 3],\n",
        "              [10, 11, 12, 13],\n",
        "              [20, 21, 22, 23],\n",
        "              [30, 31, 32, 33],\n",
        "              [40, 41, 42, 43]])\n",
        "\n",
        "print(b[2,3])  # Вторая строка, третий столбец\n",
        "print(b[(2,3)])\n",
        "print(b[2][3]) # Можно и так\n",
        "print(b[:,2])  # Третий столбец\n",
        "print(b[:2])  # Первые две строки\n",
        "print(b[1:3, : : ])  # Вторая и третья строки"
      ],
      "metadata": {
        "id": "GhVV7bRpjs8j",
        "outputId": "68e7c8fc-8cad-4bcd-c707-843b9e830449",
        "colab": {
          "base_uri": "https://localhost:8080/"
        }
      },
      "execution_count": 22,
      "outputs": [
        {
          "output_type": "stream",
          "name": "stdout",
          "text": [
            "23\n",
            "23\n",
            "23\n",
            "[ 2 12 22 32 42]\n",
            "[[ 0  1  2  3]\n",
            " [10 11 12 13]]\n",
            "[[10 11 12 13]\n",
            " [20 21 22 23]]\n"
          ]
        }
      ]
    },
    {
      "cell_type": "markdown",
      "source": [
        "![image.png](data:image/png;base64,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)"
      ],
      "metadata": {
        "id": "sy_hMlYDjy-z"
      }
    },
    {
      "cell_type": "code",
      "source": [
        "a\n",
        "a.shape"
      ],
      "metadata": {
        "id": "R5sp2Fytj3P7",
        "outputId": "f663d567-a023-42a8-c0b8-a34f082f34e3",
        "colab": {
          "base_uri": "https://localhost:8080/"
        }
      },
      "execution_count": 23,
      "outputs": [
        {
          "output_type": "execute_result",
          "data": {
            "text/plain": [
              "(10,)"
            ]
          },
          "metadata": {},
          "execution_count": 23
        }
      ]
    },
    {
      "cell_type": "code",
      "source": [
        "a = np.array(([[0, 1, 2], [10, 12, 13]], [[100, 101, 102], [110, 112, 113]]))\n",
        "print(a.ravel())  # Делает массив плоским\n",
        "a.shape = (6, 2)  # Изменение формы\n",
        "print(a)\n",
        "print(a.transpose())  # Транспонирование\n",
        "print(a.reshape((3, 4)))  # Изменение формы"
      ],
      "metadata": {
        "id": "Y0H0qfVyj5vz",
        "outputId": "fdc2d8f0-f314-49b1-fe93-c6d9fb7617fa",
        "colab": {
          "base_uri": "https://localhost:8080/"
        }
      },
      "execution_count": 24,
      "outputs": [
        {
          "output_type": "stream",
          "name": "stdout",
          "text": [
            "[  0   1   2  10  12  13 100 101 102 110 112 113]\n",
            "[[  0   1]\n",
            " [  2  10]\n",
            " [ 12  13]\n",
            " [100 101]\n",
            " [102 110]\n",
            " [112 113]]\n",
            "[[  0   2  12 100 102 112]\n",
            " [  1  10  13 101 110 113]]\n",
            "[[  0   1   2  10]\n",
            " [ 12  13 100 101]\n",
            " [102 110 112 113]]\n"
          ]
        }
      ]
    },
    {
      "cell_type": "code",
      "source": [
        "a = np.array([[1, 2], [3, 4]])\n",
        "b = np.array([[5, 6], [7, 8]])\n",
        "print(np.vstack((a, b)))\n",
        "print(np.hstack((a, b)))"
      ],
      "metadata": {
        "id": "qRnLs6x6j7pj",
        "outputId": "45e11c45-1ace-4abf-c5ea-73a032ce2878",
        "colab": {
          "base_uri": "https://localhost:8080/"
        }
      },
      "execution_count": 25,
      "outputs": [
        {
          "output_type": "stream",
          "name": "stdout",
          "text": [
            "[[1 2]\n",
            " [3 4]\n",
            " [5 6]\n",
            " [7 8]]\n",
            "[[1 2 5 6]\n",
            " [3 4 7 8]]\n"
          ]
        }
      ]
    },
    {
      "cell_type": "code",
      "source": [
        "np.column_stack((a, b))"
      ],
      "metadata": {
        "id": "ZvY_WXgxj9Yj",
        "outputId": "d021eec4-d69f-4e3a-b558-c1411b33227a",
        "colab": {
          "base_uri": "https://localhost:8080/"
        }
      },
      "execution_count": 26,
      "outputs": [
        {
          "output_type": "execute_result",
          "data": {
            "text/plain": [
              "array([[1, 2, 5, 6],\n",
              "       [3, 4, 7, 8]])"
            ]
          },
          "metadata": {},
          "execution_count": 26
        }
      ]
    },
    {
      "cell_type": "code",
      "source": [
        "np.row_stack((a, b))"
      ],
      "metadata": {
        "id": "QuD_JtrBj-Fk",
        "outputId": "73809de2-b53d-4be7-a687-3df75607cf4b",
        "colab": {
          "base_uri": "https://localhost:8080/"
        }
      },
      "execution_count": 27,
      "outputs": [
        {
          "output_type": "execute_result",
          "data": {
            "text/plain": [
              "array([[1, 2],\n",
              "       [3, 4],\n",
              "       [5, 6],\n",
              "       [7, 8]])"
            ]
          },
          "metadata": {},
          "execution_count": 27
        }
      ]
    },
    {
      "cell_type": "markdown",
      "source": [
        "![image.png](data:image/png;base64,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)"
      ],
      "metadata": {
        "id": "zgvA5q3ekDEc"
      }
    },
    {
      "cell_type": "code",
      "source": [
        "a = np.arange(12).reshape((2, 6))\n",
        "a\n",
        "np.hsplit(a, 3)  # Разбить на 3 части\n",
        "np.hsplit(a, (3, 4))  # Разрезать a после третьего и четвёртого столбца"
      ],
      "metadata": {
        "id": "tWUe5i7FkFjL",
        "outputId": "1aa0a798-7aa6-4b3a-aafb-f80c01e29115",
        "colab": {
          "base_uri": "https://localhost:8080/"
        }
      },
      "execution_count": 28,
      "outputs": [
        {
          "output_type": "execute_result",
          "data": {
            "text/plain": [
              "[array([[0, 1, 2],\n",
              "        [6, 7, 8]]), array([[3],\n",
              "        [9]]), array([[ 4,  5],\n",
              "        [10, 11]])]"
            ]
          },
          "metadata": {},
          "execution_count": 28
        }
      ]
    },
    {
      "cell_type": "markdown",
      "source": [
        "![image.png](data:image/png;base64,iVBORw0KGgoAAAANSUhEUgAAAT8AAAA/CAYAAACW0c8fAAASCUlEQVR4nO2df2wb53nHP10KMHAAGf7jjAQw4cBhnE1sgolxkp6hwSS8mZxbUVGj0kkVpa1CpVPlNNI41xrjRZGTEEpaTkptRautOLEZoTWnTJC8qaJXT0wr6NZ6PgGbZSAGndWggQU5IEE0xAiBBd4fkuW74w+dbFI/wvcDGLBf8u59fffwe+/7PM/73FeuXbt2DYFAICgz/milByAQCAQrgRA/gUBQlgjxEwgEZYkQP4FAUJYI8RMIBGWJED+BQFCWCPETCARliRA/gUBQlgjxEwgEZYkQP4FAUJYI8RMIBGWJED+BQFCWCPETCNYA2qkWtmzZovvTh7rSg1rjCPETCARlyVeLdqYPR2nZ3kbC1OyNvkd/nX2JJ1Pp21JPVN/UPsQHz7pubYxrnhzXJQ/2KplN9zjx/ZkHuVrGsaHkgxMI1hQln/kluqOMXil1LwIz6WkFZWiAzuca2PXgIzS8PEpqdqVHJRCsHkq/7NVGeaUngVbyjgT50VCOtbGrtkM8iASCeYq37C2ANvwCh3fLdO2sWI7uyovNLmS7zdCUSSuol3N893KctsdsVIx34RbLYEGZsyziBxqxcBSP+NEVn2+FGczlC72aRh0bIPLjmDEqqMXYP+DjN/tkbNlHCQRlQwmXvRKSpPunFmP/zxUypetQoGedHVd9F4PvhjBLo9Y/jiL8f4Iyp4Ti56L5B40Y9O9IG9FJIX/Lia0qSKhFMrXGOHdxRYYjEKwaShrw2LgrSMitb9EY6D6MerWUvQqM2HDJtVmtqf8RIShBeVNCn1+CtNZPa2c348kOktebL/QRedPD4LOuovic1ENbqO/Rt4QY+qA1a6lnYLqPLY8Zs+VC735Aa1XW2bPy6ryv/47+mvmZlKYy+ss4J/9lAuWiBthx7XZTWx+k1m0nK7zzhYY6Fif+jxMokyppmAtYPORhzxMB/FXmGVpxsN2xPs8naeJNO+hI6tsC9J/rxmvBN6seeoT6Hp2Iurt571iApWZ1LnadNWWA6E9jxKfTIDkIvjpE2J0jePZJCvX3KhOTE6gfXCKlpBayDOxVMpWVHv7yW7V4q6SCtqedauGR5/QZq3qbyqBNJ4j/4iQTZ68Hlubuu6+mkYDXkX3fCzGbJnk6xvioesMmJAfyQzK+fHa0VD5JoUwqTPx2nJn/TM3b6vy4qytxVnnY7vXgrix8XYCc+bz6387s5SQjAycZmUzMXRvJgbyjNr99z6ZJDg9w8rSCOn+/pK0yrod87AnW4t5cuiBp6QMemwN0RcbZEb7xC1N7Igy4B2m9f6263DPMHG/jh12JOWNdII06FkMdi3F4Z5hjrwdxrps/4lKczmAHcXMU9rKKcllFGYpy4rvH6Ol034R43Cx2fHsCdCTjurY4E78P4/UuZnQqyjvG2aO3zlPksc+iHmqivkcXstFSpP/X6DrJXEkS+0mEo6dSeVOq0tMK6WmFxGAESW6l93AIeanBt9kZBkJNRM6Ye7lx349aPneG1FAnT/84brIhQEuhjKVQdHa0cYlDnRtvitE3IkSPJLP7uD7uyTTqZILYIZDkIM937sW/9WYEJ03y5Q72H1OM90BLoQxFc9r37GSUllAfiulyahcVEhcVEoOHcR84Rn+TsyTBuWXZ3mZ/PETYMKtSib44wMyadP99inqogZos4TOinYnQ9HejpIHMdB9N38khfCbU4020H5sp5mABSL8/ldVm3zBn4BXuWlpND+T4GYVF4yHTCicMRhvg0epizlw/J33qBVp6Ft/BOjPcRKSA8JnRlD4agn1Lc79cVen7fk0O4ctx7lAOQTOQQT3UwK5cwmc+33U7+r8ljJW5h21H7S7a8gpfjr6UAdp8NXSMWT1ini/SjIbqaTILnwn1eBPth1QyQHqsg5qnsoXPNCKSLzcROVOa6Nwypbo4Cb4UZvybkRtpF9NROgfdDDU5l2cIRWI2EaVzbO5/YXc34v+6nfUfpxhPxLNy67ThV4jvlrj9jej8Tbbjqvfic2zk0/QUidNJUqabr74cI1FnbdlpjRkS7yimtgAPOuefpTYZ39NO+rp1ojs0hXrAS66V5RwZlF+fMBi61FJb3DSmzxTiPaNLTo6XtrrxeT08WOVAsgFk0P5rnJNvxo0/tOkokV9atb+PGP9ZCwPToL+HfJZmKjFO8qJplMkO+hI+uvPMntOn9ucW9c0uvNUyD9rXg86mtOE2WiaX8GC5Msr+73QwmnXx5pbn8gN21gMfpcZJDKlZq5f43nbs7w7SWmVtvnX+7QjRMQ2QcNTUEnAWsO+ew4xs28NUV3xhie/e5WW7fX2e8WjEeuIEdgYptlIsk/gBlY107Run5ic3brr6cicDXx8iWLlso7hllLEE4CIUP0brthvGHdzXSuLldlqO641ao6+5Ye6vkp/ed3vxb1o4gtA+lb7v1xOd1vcQZ0oN4y1KQvgsyk86iVwwtkoNPsOyzFldi5MZbshfjImzIdz5xpBRmRoySB9P/Xlx8wavvBMjoQGbvYQjYRoftmO7DTIfKiT/O/v7khwk9DfNBHL5lWQ3/scDWdda/XmSmSanhR9VjIEjIMmtvNobwq3rItgeyl6aA/FTSUJeP1mj+XCUyHNmUZfwR45x8NtOKm7Tnbuji3QiQntLDFWz+hhIE3+hLUv4XN/tpbvdj8NwS4OEX9JIvtHG/kP6WZtK9K8O4/pNCNnCTU2MJfLYdy43QZKOhnkXWFWIobdacVXcOCb8o1HaHjON/8IIyoUgziLrxDJWdbHhbOoiZFr+Rn66+NR/teGN9hiED4Db7Hj3hQjmfEC7CP3DqzrDmKfCRetL4awfX+xC6pbGl5lNM5OI0dHwFzT0m2cYbkJBt9GJXuml0W38Viyp5l36ZtQp4nrjrGzGnRUsujVmLsxAZSuDI/0E5TnhA7DdKeOVjRe5Ytsg/zoYzi18C19y0fhMwNimneeS1e1+la30HzUK3/yJcT3bQ7fp+jF2jpkcF3Bm9GiO4h9D9D5uFL45bNi9XfS8nkNE85BR4kSTxjaprpeeTrPwXe9Cwt1+jP52U4hQ62MkaXW56aS1L5d9OwkeCGG+NHOD8tP7ul745tnk5+BB031ihnOXip+dsLwlrWxOgi+akm6THUSG15D8SSGa81WpWSfjezKHmdY305hvCVEp4zMf8v4V68u9nnpTnbct/Mmf7qCmpZN4lkNFwv96F4HN5pPMBT4MDE6g5rT9DOpk3DA+9/e8RV+SgESwYy+yhQmwQ5YtRUQr/tiFbGhJkLZ4oQPPNuNal+9TO/Iu2dSW4qNPzN+bQRk1+XQrw+xdpOqRvSZkShnLxyzKWJ/JdgIcPOBfJBBlw/VkM2bJiZ9KWrPD3c08tS2PfW/28Oju7Gbn083ZYjlPhcuD39SW+EPxNWLZ6/nZ7g8SNj1lEqHI2tlw/7hcMI3Gfnf2p43eQj/OjTiqizCuRXHReHSI3prcP4PswEeMibM51C+jMtFvkD58D5UgPl3ZTG31TS6kr84yq6VQlSSjxwcY6O6g4al6dng6MHs/reHHkzVFMWK/b7upRUH72NR05RLnTC4I+UkrD45c4pqDzAxTg6a2Zyz6Yje4qX3G1DZ2npSFoKR3Z1WBmanEpvvMbU5qqwv8r6VN3FuarC8Dy+fzW8CG6+kwrYl6+hYMIcErPaNURRd7Qq083rsL3xVp09fAsLCRceZcbywcgXR3MUaW//yOmma6DgSRCw3dJuN5UqJPl7cXOztDeKfRl5c5O8GA/rj6PfiyZpJFYKdrabPJ+ZzLE/+UHXi6de41btW8WbR01pJ3+33WLP72OyzMbTUty4XkdTos+mJtbLrPi9F202ifAHcWPtJhX2Tmerf5vDLOewodsRH7Q8BY4X5vlRUQP2Cdi70vtpIM9C042bXhV4julOndvQySfyt89fYlHlDB7aVMZ8xR1YUKB64HHNy71UXVw07seZdrRlw7m3H2RG4EPo5MoLbLOqd3BnVSL30SrXXuW0/CzcFiD5kb5Mu5XH1oV86bWrzYi2nuOcTVcZf1Dm6/STW4PctXuRjrsa2CFN+VET/Atm0v4WfiNBy5PtPQGO06zKNyF+4Nduy7KbnyfynIV9XlZqj00uiO6HZ8DDBxNoR8ffmZUZk4ovu+FGC7q0RWbPEhkz61n6YuU71IyYG8w43H4cB+vx1powOHVEHF1UTOauMrSol/gUsXpvJhBd/hYUP+Ua8xOqrF2P/3ycUTbAUlIjvwMTCpLlTimZ0cNyx5nU/7LKVClIxPEvQZ0kYk3PsG+d3UaQZfCxN8JoBXlnHdI1FRsQqmGreZx6BaDrhYwmbLchWcv2K9g8+XmEi91lnZFxitkwlFg8bKL4P7OTz5qeVT2O4w3+7PFz0m85n185cbFe5agvqGIxOoGYBZ1GRM94GbRu/KJqhryq/Qb8yjei/hFhkp32zn449YybiadNe9phaN83+wIk4ZUjMW5qubHFnBuMRMymIZuQxX3jf1IX2Nexbx961lVvztbbbqvbzaYJA/BkJRfvWFteM3SuZ4uUqqoMM7g6qMLG2Q5YTNhcdQAmuEKTUDsyoT+kii24dcikDHEkhfGjU2VDlxFPr+hSmKv3lwCdxlx2tqSvw2fz7lAldVJoYtnL/iHpzmlJjhcZSslBuLfdS5Cl7Ptc6Kix9U4P7rV2k06F+ChEXHjHSX+fYoxBIFTPzyCEf7i58w+eXBhvyNZt3ySSM+qaKdnUA/7wvs8a2+yPylAvmRV1Xibyfzfbo83FmFx5zWNPQChwvWuMygvhllwJLJ2vHUmeRVixF9e7G92rn6kGjdUZzKS6uVVSB+wAY3ezutZ7Eb2Pogjaamme5Ooslsa5m9GKfje7ryWoLcmHZ8aO+pxM/qpS9Ibf6Nv8uGJJly38ZOEP+PHD/z2RkGnmvRpVatFHY83zbP/TQGQk057ZUvNJI9TZaKO1xH2rXXtIsKZg410NSV5+19efqQ6g7y1Io6dEvPikV7zUi7n+dgnULL8BJnZRUyvhaJmGE2p9LX9AijVQG8Xgcb+ZT02QTjZ+Yqf7jdbpJJIYH5MZW6uhAlqhMOqcVDqYK8S8H+gAcnim4pqxIN1HCuoZFHdzqR0Ej9+78RGx4lpYGrzo9tePQmE52Lg1Szl/DbCSL6/dyaQl/TI8S3uvF5t2O/A2NhAMlP6PEM0UMWlkO2uS1lE49FDe9uUY+3set41FTYYILke0pW8QEkP8+3e29uMrKGWDXiBxLefQfxT7bkqEZRCBty40H8Q9nHpafj85U4dL3U9dL1RJodQvwKUvGwhwBxY0ABACfN31glLz+qDBBqOErToP7Gp0kORkiadzpUhQj/0M7RYZOfcNlxEny9l/PmzfuAdjFJ7KLZLu0EOkP4v4hYelk9gK2qlWNxaGmNmkpGXa87WODgzQH6Y91482w9+zKxOpa917nTS+jATSx/7/Ty6ltdeBdxwNt3d3HsJT92kfu0OBvc1Ga9+wOobsS7aqrwVOD+20G66wt7H6WdYU691YrrjmUa1mJs8tP7bj/BgltuAEmm9cQpunfbWXJq/bZWBv95kPBuq55ZCbmpl9Mj5SF8sKpmfnPYa0I8nxilbYkJzrbKRvp/7csuEz+f8Fpb10ytbKFMt2Ce+cBHf8QQIXX75dUV6FjnIPDaaTx1IxwdHrmxjMtVCn41vTtmk5fwoExjcpzYmG7c2HFVy7j8Php3ubHfimtVkgkefo/GD1USiXGmzsygvq9b5m52ITudeLw+3NUyjjJ7rexXrl27dm2lByFYpVwYoOabevGz/n4PgWC1s7qWvYJVxCyJt42zPssVQgSCNYAQP0FuLo9zckjf8OXP+xKUF0L8BDnIoPwiasyHrGrG9yXP+xKUF0L8BEa+0FD6W2g7os+RkAi2N5agWrNAsHKsumivYJn5MEFH6ATc76Hi4wnUhRdx38D5bD+hm62qLBCsUoT4lT0ZPlUUEkrufQ9SXTc9PxC+PsGXD7HsFeRBQm7qZ+i1AA6LlaAFgrWEmPmVO7dVYK+yw/RcEXhpq4zHXYvvCR/uzStfvEAgKBUiyVkgEJQlYtkrEAjKEiF+AoGgLBHiJxAIyhIhfgKBoCwR4icQCMoSIX4CgaAsEeInEAjKEiF+AoGgLBHiJxAIyhIhfgKBoCz5fyz9Un6H/fgQAAAAAElFTkSuQmCC)"
      ],
      "metadata": {
        "id": "IG3I2U5xkJPj"
      }
    },
    {
      "cell_type": "code",
      "source": [
        "import numpy as np\n",
        "import random\n",
        "np.array([random.random() for i in range(10)])"
      ],
      "metadata": {
        "id": "Bvq-sJPGkKG0",
        "outputId": "70d9213c-8fe9-4208-bc12-fbb5533f3dca",
        "colab": {
          "base_uri": "https://localhost:8080/"
        }
      },
      "execution_count": 29,
      "outputs": [
        {
          "output_type": "execute_result",
          "data": {
            "text/plain": [
              "array([0.80078406, 0.14003433, 0.52005092, 0.92588625, 0.07361015,\n",
              "       0.17736208, 0.47801708, 0.62946694, 0.79268306, 0.18027952])"
            ]
          },
          "metadata": {},
          "execution_count": 29
        }
      ]
    },
    {
      "cell_type": "code",
      "source": [
        "import numpy as np  # Импортировать numpy и писать np.random\n",
        "np.random\n",
        "import numpy.random as rand  # Можно и присвоить отдельное имя. Вопрос вкуса\n",
        "rand\n",
        "print(np.random.sample())\n",
        "print(np.random.sample(3))\n",
        "print(np.random.sample((2, 3)))"
      ],
      "metadata": {
        "id": "M64q9AxLkL_E",
        "outputId": "1c010e95-b82d-4a7c-d4a6-5b3f2e3b9146",
        "colab": {
          "base_uri": "https://localhost:8080/"
        }
      },
      "execution_count": 30,
      "outputs": [
        {
          "output_type": "stream",
          "name": "stdout",
          "text": [
            "0.39493230105932586\n",
            "[0.05327095 0.7081274  0.31924741]\n",
            "[[0.48159672 0.2695379  0.62292093]\n",
            " [0.78262036 0.16271294 0.38685546]]\n"
          ]
        }
      ]
    },
    {
      "cell_type": "code",
      "source": [
        "print(np.random.randint(0, 3, 10))\n",
        "print(np.random.random_integers(0, 3, 10))\n",
        "print(np.random.randint(0, 3, (2, 10)))"
      ],
      "metadata": {
        "id": "wsfYoQgOkQBa",
        "outputId": "9bf087e2-c75b-461b-ad00-bb5a3c618df7",
        "colab": {
          "base_uri": "https://localhost:8080/"
        }
      },
      "execution_count": 31,
      "outputs": [
        {
          "output_type": "stream",
          "name": "stdout",
          "text": [
            "[0 1 1 0 2 0 0 0 0 0]\n",
            "[2 3 1 3 3 1 2 0 1 1]\n",
            "[[0 0 1 0 2 1 0 2 2 0]\n",
            " [1 0 0 1 2 2 2 0 0 1]]\n"
          ]
        },
        {
          "output_type": "stream",
          "name": "stderr",
          "text": [
            "/usr/local/lib/python3.7/dist-packages/ipykernel_launcher.py:2: DeprecationWarning: This function is deprecated. Please call randint(0, 3 + 1) instead\n",
            "  \n"
          ]
        }
      ]
    }
  ]
}